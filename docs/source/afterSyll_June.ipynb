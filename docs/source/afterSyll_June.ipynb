{
 "cells": [
  {
   "cell_type": "code",
   "execution_count": 35,
   "metadata": {},
   "outputs": [],
   "source": [
    "import sys\n",
    "sys.path.insert(0, 'C:/Users/MyPC/Desktop/git/AVATAR_motionMap')\n",
    "import FileManager.csvload as acl\n",
    "sys.path.insert(0, 'C:/Users/MyPC/Desktop/git/kp_moseq/keypoint-moseq/project')\n",
    "import SDSBD_trainset2.params as params\n",
    "\n",
    "import copy\n",
    "import pandas as pd\n",
    "import numpy as np\n",
    "import seaborn as sns\n",
    "import matplotlib\n",
    "import time\n",
    "from datetime import date\n",
    "import os\n",
    "import keypoint_moseq as kpms\n",
    "import keypoint_moseq .analysis as kpmsa\n",
    "preSD_extrR = params.preSD_extrR\n",
    "preSD_extrS = params.preSD_extrS\n",
    "postSD_extrR = params.postSD_extrR\n",
    "postSD_extrS = params.postSD_extrS\n",
    "postSD_defeated = params.postSD_defeated\n",
    "postSD_control = params.postSD_control\n",
    "\n",
    "# parameters setting\n",
    "start = params.start    # analysis start frame of the video\n",
    "end = params.end        # analysis end frame of the video\n",
    "syllable_analyzed = 10 #params.core_syllable_num\n",
    "filelist_group1 = acl.get_csv_paths(params.postSD_defeated)    #[]\n",
    "filelist_group2 = acl.get_csv_paths(params.postSD_control)\n",
    "dataset = filelist_group1 + filelist_group2\n",
    "dataset_class = [0]*len(filelist_group1) + [1]*len(filelist_group2)\n",
    "if len(dataset) != len(dataset_class):\n",
    "    print('Error: dataset and dataset_class should have the same length')\n",
    "    sys.exit()\n",
    "\n",
    "\n",
    "# read \"sylable reindexed\" column from each csv file and store it in a dictionary\n",
    "data_moseq = {}  # Initialize an empty dictionary\n",
    "for file, group in zip(dataset, dataset_class):\n",
    "    file_name = os.path.splitext(os.path.basename(file))[0]\n",
    "    data_moseq[file_name] = {}  # Create a new dictionary for each file with the file as the key\n",
    "    data_moseq[file_name]['class'] = group  # Store the class of the file in the dictionary\n",
    "    \n",
    "    # Read the csv file\n",
    "    df = pd.read_csv(file)\n",
    "    df = df[start:end]\n",
    "    \n",
    "    # Convert the 'syllables reindexed' column to a numpy array, wrap it in a list, and store it in the dictionary\n",
    "    data_moseq[file_name]['syllables reindexed'] = [df['syllables reindexed'].to_numpy(dtype=int)]\n",
    "    frequencies, durations = kpmsa.get_syllable_statistics(data_moseq[file_name]['syllables reindexed'], max_syllable=100, count='frequency')\n",
    "\n",
    "    # Calculate the relative frequencies\n",
    "    total_frequency = sum(frequencies.values())\n",
    "    relative_frequencies = {k: v / total_frequency for k, v in frequencies.items()}\n",
    "    relative_frequencies = {key: value for key, value in relative_frequencies.items() if key in range(syllable_analyzed)}\n",
    "\n",
    "    # Store relative frequencies in the dictionary\n",
    "    data_moseq[file_name]['syllables relative frequency'] = relative_frequencies\n",
    "    data_moseq[file_name]['syllables durations'] = durations"
   ]
  },
  {
   "cell_type": "markdown",
   "metadata": {},
   "source": [
    "QDA (Quadratic Discriminant Analysis) model training"
   ]
  },
  {
   "cell_type": "code",
   "execution_count": 45,
   "metadata": {},
   "outputs": [
    {
     "name": "stdout",
     "output_type": "stream",
     "text": [
      "Average accuracy:  0.7446285714285714\n"
     ]
    }
   ],
   "source": [
    "from sklearn.model_selection import RepeatedStratifiedKFold\n",
    "from sklearn.discriminant_analysis import QuadraticDiscriminantAnalysis\n",
    "from sklearn.model_selection import permutation_test_score\n",
    "from sklearn.metrics import accuracy_score\n",
    "\n",
    "# Prepare data\n",
    "X = []  # Features\n",
    "y = []  # Response\n",
    "for file_name, data in data_moseq.items():\n",
    "    relative_frequency_values = list(data['syllables relative frequency'].values())\n",
    "    X.append(relative_frequency_values)\n",
    "    response_value = data['class']\n",
    "    y.append(response_value)\n",
    "\n",
    "# Convert to NumPy arrays\n",
    "X = np.array(X)\n",
    "y = np.array(y)\n",
    "\n",
    "# 분석기 초기화\n",
    "qda = QuadraticDiscriminantAnalysis()\n",
    "\n",
    "# Repeated Stratified K-Fold 객체 생성\n",
    "cv = RepeatedStratifiedKFold(n_splits=5, n_repeats=1000, random_state=42)\n",
    "\n",
    "# 결과 저장을 위한 리스트\n",
    "scores = []\n",
    "\n",
    "# 교차 검증 수행\n",
    "for train_index, test_index in rskf.split(X, y):\n",
    "    X_train, X_test = X[train_index], X[test_index]\n",
    "    y_train, y_test = y[train_index], y[test_index]\n",
    "\n",
    "    qda.fit(X_train, y_train) # 모델 훈련\n",
    "    predictions = qda.predict(X_test) # 예측\n",
    "    score = accuracy_score(y_test, predictions) # 정확도 계산\n",
    "    scores.append(score)\n",
    "\n",
    "# 평균 정확도 출력\n",
    "print(\"Average accuracy: \", np.mean(scores))"
   ]
  },
  {
   "cell_type": "code",
   "execution_count": 46,
   "metadata": {},
   "outputs": [
    {
     "name": "stdout",
     "output_type": "stream",
     "text": [
      "Model score: 0.7446285714285714\n",
      "Permutation test p-value: 0.0297029702970297\n"
     ]
    }
   ],
   "source": [
    "# 분석기 초기화\n",
    "qda = QuadraticDiscriminantAnalysis()\n",
    "\n",
    "# 순열 테스트 수행\n",
    "score, permutation_scores, pvalue = permutation_test_score(qda, X, y, scoring=\"accuracy\", cv=cv, n_permutations=100, n_jobs=1)\n",
    "\n",
    "# 결과 출력\n",
    "print(\"Model score: %s\" % score)\n",
    "print(\"Permutation test p-value: %s\" % pvalue)\n",
    "\n"
   ]
  },
  {
   "cell_type": "code",
   "execution_count": 49,
   "metadata": {},
   "outputs": [
    {
     "data": {
      "image/png": "[encoded data removed]",
      "text/plain": [
       "<Figure size 640x480 with 1 Axes>"
      ]
     },
     "metadata": {},
     "output_type": "display_data"
    }
   ],
   "source": [
    "import matplotlib.pyplot as plt\n",
    "fig, ax = plt.subplots()\n",
    "\n",
    "ax.hist(permutation_scores, bins=20, density=True)\n",
    "ax.axvline(score, ls=\"--\", color=\"r\")\n",
    "score_label = f\"Score on original\\ndata: {score:.2f}\\n(p-value: {pvalue:.3f})\"\n",
    "ax.text(0.7, 10, score_label, fontsize=12)\n",
    "ax.set_xlabel(\"Accuracy score\")\n",
    "_ = ax.set_ylabel(\"Probability density\")"
   ]
  }
 ],
 "metadata": {
  "kernelspec": {
   "display_name": "keypoint_moseq",
   "language": "python",
   "name": "python3"
  },
  "language_info": {
   "codemirror_mode": {
    "name": "ipython",
    "version": 3
   },
   "file_extension": ".py",
   "mimetype": "text/x-python",
   "name": "python",
   "nbconvert_exporter": "python",
   "pygments_lexer": "ipython3",
   "version": "3.9.16"
  },
  "orig_nbformat": 4
 },
 "nbformat": 4,
 "nbformat_minor": 2
}
