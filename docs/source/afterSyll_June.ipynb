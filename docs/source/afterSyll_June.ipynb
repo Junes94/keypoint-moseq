{
 "cells": [
  {
   "cell_type": "markdown",
   "metadata": {},
   "source": [
    "### Data parameter setup"
   ]
  },
  {
   "cell_type": "code",
   "execution_count": 13,
   "metadata": {},
   "outputs": [
    {
     "name": "stdout",
     "output_type": "stream",
     "text": [
      "filelist_group1:  58\n",
      "filelist_group2:  0\n",
      "syllable_analyzed:  32\n"
     ]
    }
   ],
   "source": [
    "import sys\n",
    "sys.path.insert(0, 'C:/Users/MyPC/Desktop/git/AVATAR_motionMap')\n",
    "import FileManager.csvload as acl\n",
    "sys.path.insert(0, 'C:/Users/MyPC/Desktop/git/kp_moseq/keypoint-moseq/project')\n",
    "import SDSBD_trainset2.params as params\n",
    "\n",
    "import copy\n",
    "import pandas as pd\n",
    "import numpy as np\n",
    "import seaborn as sns\n",
    "import matplotlib\n",
    "import time\n",
    "from datetime import date\n",
    "import os\n",
    "import keypoint_moseq as kpms\n",
    "import keypoint_moseq .analysis as kpmsa\n",
    "from collections import OrderedDict\n",
    "preSD_defeated = params.preSD_defeated\n",
    "preSD_extrR = params.preSD_extrR\n",
    "preSD_extrS = params.preSD_extrS\n",
    "postSD_extrR = params.postSD_extrR\n",
    "postSD_extrS = params.postSD_extrS\n",
    "postSD_defeated = params.postSD_defeated\n",
    "postSD_control = params.postSD_control\n",
    "\n",
    "# parameters setting\n",
    "start = params.start    # analysis start frame of the video\n",
    "end = params.end        # analysis end frame of the video\n",
    "middle = round((end - start) / 2)  # middle frame of the video data\n",
    "syllable_analyzed = params.core_syllable_num\n",
    "\n",
    "filelist_group1 = acl.get_csv_paths(preSD_defeated)    #[]\n",
    "filelist_group2 = [] #acl.get_csv_paths()\n",
    "dataset = filelist_group1 + filelist_group2\n",
    "SIT_params = acl.import_SIT_params(r'C:\\Users\\MyPC\\Desktop\\실험실\\2.실험데이터\\AVATAR-SDSBD\\AVATAR_SDSBD총정리.xlsx')\n",
    "\n",
    "#\n",
    "if filelist_group2 == []:\n",
    "    dataset_class = [0]*len(filelist_group1)\n",
    "else:\n",
    "    dataset_class = [0]*len(filelist_group1) + [1]*len(filelist_group2)\n",
    "    if len(dataset) != len(dataset_class):\n",
    "        print('Error: dataset and dataset_class should have the same length')\n",
    "        sys.exit()\n",
    "print('filelist_group1: ', len(filelist_group1))\n",
    "print('filelist_group2: ', len(filelist_group2))\n",
    "print('syllable_analyzed: ', syllable_analyzed)\n"
   ]
  },
  {
   "cell_type": "markdown",
   "metadata": {},
   "source": [
    "0-1. Total recording time에 대한 syllable 빈도수 계산 및 SI ratio 등 dictionary에 저장."
   ]
  },
  {
   "cell_type": "code",
   "execution_count": 14,
   "metadata": {},
   "outputs": [],
   "source": [
    "# read \"sylable reindexed\" column from each csv file and store it in a dictionary\n",
    "data_moseq = {}  # Initialize an empty dictionary\n",
    "for file, group in zip(dataset, dataset_class):\n",
    "    file_name = os.path.splitext(os.path.basename(file))[0]\n",
    "    data_moseq[file_name] = {}  # Create a new dictionary for each file with the file as the key\n",
    "    data_moseq[file_name]['class'] = group  # Store the class of the file in the dictionary\n",
    "    \n",
    "    # Read the csv file\n",
    "    df = pd.read_csv(file)\n",
    "    df = df[start:end]\n",
    "    \n",
    "    # Convert the 'syllables reindexed' column to a numpy array, wrap it in a list, and store it in the dictionary\n",
    "    data_moseq[file_name]['syllables reindexed'] = [df['syllables reindexed'].to_numpy(dtype=int)]\n",
    "    frequencies, durations_raw = kpmsa.get_syllable_statistics(data_moseq[file_name]['syllables reindexed'], max_syllable=100, count='frequency')\n",
    "    durations = OrderedDict()\n",
    "    for key, value in durations_raw.items():\n",
    "        durations[key] = sum(value)\n",
    "    # Calculate the relative values\n",
    "    total_frequency = sum(frequencies.values())\n",
    "    relative_frequencies = {k: v / total_frequency for k, v in frequencies.items()}\n",
    "    total_duration = sum(durations.values())\n",
    "    relative_durations = {k: v / total_duration for k, v in durations.items()}\n",
    "\n",
    "    # Remove syllables that are not in the range of syllables analyzed\n",
    "    frequencies = {key: value for key, value in frequencies.items() if key in range(syllable_analyzed)}\n",
    "    relative_frequencies = {key: value for key, value in relative_frequencies.items() if key in range(syllable_analyzed)}\n",
    "    durations = {key: value for key, value in durations.items() if key in range(syllable_analyzed)}\n",
    "    relative_durations = {key: value for key, value in relative_durations.items() if key in range(syllable_analyzed)}\n",
    "    \n",
    "    # Store relative frequencies in the dictionary\n",
    "    data_moseq[file_name]['syllables frequency'] = frequencies\n",
    "    data_moseq[file_name]['syllables relative frequency'] = relative_frequencies\n",
    "    data_moseq[file_name]['syllables durations'] = durations\n",
    "    data_moseq[file_name]['syllables relative durations'] = relative_durations\n",
    "\n",
    "\n",
    "for key in data_moseq.keys():\n",
    "    last_three_digits_str = key[-3:]\n",
    "    \n",
    "    # 마지막 세 자리가 숫자인지 확인\n",
    "    if not last_three_digits_str.isdigit():\n",
    "        raise ValueError(f\"Key {key} does not end with three digits\")\n",
    "\n",
    "    # 마지막 세 자리를 정수로 변환\n",
    "    last_three_digits = int(last_three_digits_str)\n",
    "    if last_three_digits not in SIT_params:\n",
    "        raise KeyError(f\"No matching key in SIT_params for {last_three_digits}\")\n",
    "    data_moseq[key]['SI ratio'] = round(SIT_params[last_three_digits],3)\n"
   ]
  },
  {
   "cell_type": "markdown",
   "metadata": {},
   "source": [
    "0-2. Total recording time을 first, second half로 각각 나눠서 syllable 계산."
   ]
  },
  {
   "cell_type": "code",
   "execution_count": 30,
   "metadata": {},
   "outputs": [],
   "source": [
    "dataset = filelist_group1 + filelist_group2\n",
    "\n",
    "# read \"sylable reindexed\" column from each csv file and store it in a dictionary\n",
    "data_moseq = {}  # Initialize an empty dictionary\n",
    "for file, group in zip(dataset, dataset_class):\n",
    "    file_name = os.path.splitext(os.path.basename(file))[0]\n",
    "    data_moseq[file_name] = {}  # Create a new dictionary for each file with the file as the key\n",
    "    data_moseq[file_name]['class'] = group  # Store the class of the file in the dictionary\n",
    "    \n",
    "    # Read the csv file\n",
    "    df = pd.read_csv(file)\n",
    "    df = df[start:end]\n",
    "\n",
    "    data_moseq[file_name]['syllables reindexed'] = [df['syllables reindexed'].to_numpy(dtype=int)]\n",
    "    values_total = df['syllables reindexed'].to_numpy(dtype=int)\n",
    "    # 전반, 후반 나눠서 feature processing. (ie. 기존 12000frame*20syllables -> 6000frame*(20syllables*2))\n",
    "\n",
    "    # 앞의 6000개와 뒤의 6000개로 나누기\n",
    "    first_half = [values_total[:middle]]\n",
    "    second_half = [values_total[middle:]]\n",
    "\n",
    "    # kpmsa.get_syllable_statistics 모듈에 각 부분을 넣고 결과 가져오기\n",
    "    freq_first_half, dur_first_half_raw = kpmsa.get_syllable_statistics(first_half, max_syllable=100, count='frequency')\n",
    "    freq_second_half, dur_second_half_raw = kpmsa.get_syllable_statistics(second_half, max_syllable=100, count='frequency')\n",
    "    dur_first_half = OrderedDict()\n",
    "    dur_second_half = OrderedDict()\n",
    "    for key, value in dur_first_half_raw.items():\n",
    "        dur_first_half[key] = sum(value)\n",
    "    for key, value in dur_second_half_raw.items():\n",
    "        dur_second_half[key] = sum(value)\n",
    "    \n",
    "    # Calculate the relative frequencies\n",
    "    total_frequency = sum(freq_first_half.values()) + sum(freq_second_half.values())\n",
    "    relative_freq_first_half = {k: v / total_frequency for k, v in freq_first_half.items()}\n",
    "    relative_freq_second_half = {k: v / total_frequency for k, v in freq_second_half.items()}\n",
    "    total_duration = sum(dur_first_half.values()) + sum(dur_second_half.values())\n",
    "    relative_dur_first_half = {k: v / total_duration for k, v in dur_first_half.items()}\n",
    "    relative_dur_second_half = {k: v / total_duration for k, v in dur_second_half.items()}\n",
    "\n",
    "    # Remove syllables that are not in the range of syllables analyzed\n",
    "    freq_first_half = {key: value for key, value in freq_first_half.items() if key in range(syllable_analyzed)}\n",
    "    freq_second_half = {key: value for key, value in freq_second_half.items() if key in range(syllable_analyzed)}\n",
    "    relative_freq_first_half = {key: value for key, value in relative_freq_first_half.items() if key in range(syllable_analyzed)}\n",
    "    relative_freq_second_half = {key: value for key, value in relative_freq_second_half.items() if key in range(syllable_analyzed)}\n",
    "    dur_first_half = {key: value for key, value in dur_first_half.items() if key in range(syllable_analyzed)}\n",
    "    dur_second_half = {key: value for key, value in dur_second_half.items() if key in range(syllable_analyzed)}\n",
    "    relative_dur_first_half = {key: value for key, value in relative_dur_first_half.items() if key in range(syllable_analyzed)}\n",
    "    relative_dur_second_half = {key: value for key, value in relative_dur_second_half.items() if key in range(syllable_analyzed)}\n",
    "\n",
    "    # 두 결과를 가로로 합치기\n",
    "    frequencies = {}\n",
    "    relative_frequencies = {}\n",
    "    durations = {}\n",
    "    relative_durations = {}\n",
    "\n",
    "    for key in relative_freq_first_half.keys():\n",
    "        frequencies[str(key) + \"_first_half\"] = freq_first_half[key]\n",
    "        frequencies[str(key) + \"_second_half\"] = freq_second_half[key]\n",
    "        relative_frequencies[str(key) + \"_first_half\"] = relative_freq_first_half[key]\n",
    "        relative_frequencies[str(key) + \"_second_half\"] = relative_freq_second_half[key]\n",
    "        durations[str(key) + \"_first_half\"] = dur_first_half[key]\n",
    "        durations[str(key) + \"_second_half\"] = dur_second_half[key]\n",
    "        relative_durations[str(key) + \"_first_half\"] = relative_dur_first_half[key]\n",
    "        relative_durations[str(key) + \"_second_half\"] = relative_dur_second_half[key]\n",
    "\n",
    "    # Store relative frequencies in the dictionary\n",
    "    data_moseq[file_name]['syllables frequency'] = frequencies\n",
    "    data_moseq[file_name]['syllables relative frequency'] = relative_frequencies\n",
    "    data_moseq[file_name]['syllables durations'] = durations\n",
    "    data_moseq[file_name]['syllables relative durations'] = relative_durations\n",
    "\n",
    "for key in data_moseq.keys():\n",
    "    last_three_digits_str = key[-3:]\n",
    "    \n",
    "    # 마지막 세 자리가 숫자인지 확인\n",
    "    if not last_three_digits_str.isdigit():\n",
    "        raise ValueError(f\"Key {key} does not end with three digits\")\n",
    "\n",
    "    # 마지막 세 자리를 정수로 변환\n",
    "    last_three_digits = int(last_three_digits_str)\n",
    "    if last_three_digits not in SIT_params:\n",
    "        raise KeyError(f\"No matching key in SIT_params for {last_three_digits}\")\n",
    "    data_moseq[key]['SI ratio'] = round(SIT_params[last_three_digits],3)\n",
    "\n"
   ]
  },
  {
   "cell_type": "code",
   "execution_count": 31,
   "metadata": {},
   "outputs": [
    {
     "name": "stdout",
     "output_type": "stream",
     "text": [
      "Key: preSD_102, SI ratio: 0.922\n",
      "Key: preSD_103, SI ratio: 0.881\n",
      "Key: preSD_106, SI ratio: 0.923\n",
      "Key: preSD_107, SI ratio: 0.658\n",
      "Key: preSD_108, SI ratio: 0.287\n",
      "Key: preSD_109, SI ratio: 1.345\n",
      "Key: preSD_111, SI ratio: 0.187\n",
      "Key: preSD_112, SI ratio: 1.55\n",
      "Key: preSD_113, SI ratio: 0.385\n",
      "Key: preSD_114, SI ratio: 0.307\n",
      "Key: preSD_115, SI ratio: 0.659\n",
      "Key: preSD_202, SI ratio: 0.912\n",
      "Key: preSD_203, SI ratio: 0.401\n",
      "Key: preSD_205, SI ratio: 1.072\n",
      "Key: preSD_212, SI ratio: 0.342\n",
      "Key: preSD_214, SI ratio: 0.243\n",
      "Key: preSD_215, SI ratio: 0.039\n",
      "Key: preSD_217, SI ratio: 1.188\n",
      "Key: preSD_218, SI ratio: 0.311\n",
      "Key: preSD_219, SI ratio: 0.303\n",
      "Key: preSD_301, SI ratio: 0.301\n",
      "Key: preSD_302, SI ratio: 0.829\n",
      "Key: preSD_303, SI ratio: 1.163\n",
      "Key: preSD_304, SI ratio: 1.0\n",
      "Key: preSD_305, SI ratio: 1.02\n",
      "Key: preSD_306, SI ratio: 1.064\n",
      "Key: preSD_307, SI ratio: 0.235\n",
      "Key: preSD_308, SI ratio: 1.109\n",
      "Key: preSD_309, SI ratio: 0.771\n",
      "Key: preSD_310, SI ratio: 0.163\n",
      "Key: preSD_311, SI ratio: 1.224\n",
      "Key: preSD_312, SI ratio: 0.887\n",
      "Key: preSD_313, SI ratio: 0.193\n",
      "Key: preSD_314, SI ratio: 0.861\n",
      "Key: preSD_315, SI ratio: 0.956\n",
      "Key: preSD_401, SI ratio: 1.154\n",
      "Key: preSD_402, SI ratio: 1.558\n",
      "Key: preSD_404, SI ratio: 1.28\n",
      "Key: preSD_407, SI ratio: 1.085\n",
      "Key: preSD_408, SI ratio: 0.514\n",
      "Key: preSD_409, SI ratio: 1.395\n",
      "Key: preSD_411, SI ratio: 1.451\n",
      "Key: preSD_413, SI ratio: 1.287\n",
      "Key: preSD_414, SI ratio: 0.625\n",
      "Key: preSD_415, SI ratio: 1.075\n",
      "Key: preSD_416, SI ratio: 0.43\n",
      "Key: preSD_417, SI ratio: 0.146\n",
      "Key: preSD_418, SI ratio: 0.887\n",
      "Key: preSD_420, SI ratio: 1.279\n",
      "Key: preSD_501, SI ratio: 0.873\n",
      "Key: preSD_503, SI ratio: 0.524\n",
      "Key: preSD_504, SI ratio: 0.926\n",
      "Key: preSD_507, SI ratio: 1.377\n",
      "Key: preSD_508, SI ratio: 0.494\n",
      "Key: preSD_510, SI ratio: 0.169\n",
      "Key: preSD_512, SI ratio: 1.61\n",
      "Key: preSD_514, SI ratio: 0.784\n",
      "Key: preSD_515, SI ratio: 0.225\n"
     ]
    }
   ],
   "source": [
    "# dictionary 확인\n",
    "for key, value in data_moseq.items():\n",
    "    si_ratio = value.get('SI ratio', 'Not found')  # 'SI ratio'가 없으면 'Not found' 반환\n",
    "    \n",
    "    print(f'Key: {key}, SI ratio: {si_ratio}')"
   ]
  },
  {
   "cell_type": "markdown",
   "metadata": {},
   "source": [
    "### 1.이진분류 알고리즘 (QDA, LDA,...)"
   ]
  },
  {
   "cell_type": "code",
   "execution_count": 10,
   "metadata": {},
   "outputs": [],
   "source": [
    "if class_two:\n",
    "    # Prepare data\n",
    "    X = []  # Features\n",
    "    y = []  # Response\n",
    "    for file_name, data in data_moseq.items():\n",
    "        relative_frequency_values = list(data['syllables relative frequency'].values())\n",
    "        X.append(relative_frequency_values)\n",
    "        response_value = data['class']\n",
    "        y.append(response_value)\n",
    "\n",
    "    # Convert to NumPy arrays\n",
    "    X = np.array(X)\n",
    "    y = np.array(y)"
   ]
  },
  {
   "cell_type": "markdown",
   "metadata": {},
   "source": [
    "1-1. QDA (Quadratic Discriminant Analysis) model training"
   ]
  },
  {
   "cell_type": "code",
   "execution_count": null,
   "metadata": {},
   "outputs": [],
   "source": [
    "from sklearn.model_selection import cross_val_score, RepeatedStratifiedKFold\n",
    "from sklearn.discriminant_analysis import QuadraticDiscriminantAnalysis\n",
    "from sklearn.model_selection import permutation_test_score\n",
    "from sklearn.metrics import accuracy_score\n",
    "from sklearn.decomposition import PCA\n",
    "\n",
    "# 분석기 초기화\n",
    "qda = QuadraticDiscriminantAnalysis()\n",
    "\n",
    "# Repeated Stratified K-Fold 객체 생성\n",
    "cv = RepeatedStratifiedKFold(n_splits=5, n_repeats=200, random_state=42)\n",
    "\n",
    "# 결과 저장을 위한 리스트\n",
    "scores = []\n",
    "\n",
    "# 교차 검증 수행\n",
    "for train_index, test_index in cv.split(X, y):\n",
    "    X_train, X_test = X[train_index], X[test_index]\n",
    "    y_train, y_test = y[train_index], y[test_index]\n",
    "\n",
    "    qda.fit(X_train, y_train) # 모델 훈련\n",
    "    predictions = qda.predict(X_test) # 예측\n",
    "    score = accuracy_score(y_test, predictions) # 정확도 계산\n",
    "    scores.append(score)\n",
    "\n",
    "# 평균 정확도 출력\n",
    "print(\"%0.2f accuracy with a standard deviation of %0.2f\" % (scores.mean(), scores.std()))\n"
   ]
  },
  {
   "cell_type": "markdown",
   "metadata": {},
   "source": [
    "syllable 절대값(syllables_reindexed)에 표준화(standardization) 적용 -> QDA    (syllable 상대빈도 말고)"
   ]
  },
  {
   "cell_type": "markdown",
   "metadata": {},
   "source": [
    "1-1-2. PCA -> QDA"
   ]
  },
  {
   "cell_type": "code",
   "execution_count": null,
   "metadata": {},
   "outputs": [],
   "source": [
    "# from sklearn.model_selection import cross_val_score, RepeatedStratifiedKFold\n",
    "# from sklearn.discriminant_analysis import QuadraticDiscriminantAnalysis\n",
    "# from sklearn.model_selection import permutation_test_score\n",
    "# from sklearn.metrics import accuracy_score\n",
    "# from sklearn.decomposition import PCA\n",
    "\n",
    "# # Prepare data\n",
    "# X = []  # Features\n",
    "# y = []  # Response\n",
    "# for file_name, data in data_moseq.items():\n",
    "#     relative_frequency_values = list(data['syllables relative frequency'].values())\n",
    "#     X.append(relative_frequency_values)\n",
    "#     response_value = data['class']\n",
    "#     y.append(response_value)\n",
    "\n",
    "# # Convert to NumPy arrays\n",
    "# X = np.array(X)\n",
    "# y = np.array(y)\n",
    "\n",
    "# # 주성분 분석으로 데이터 축소\n",
    "# pca = PCA(n_components=6)\n",
    "# X_pca = pca.fit_transform(X)\n",
    "\n",
    "# # 분석기 초기화\n",
    "# clf_qda = QuadraticDiscriminantAnalysis()\n",
    "\n",
    "# # Repeated Stratified K-Fold 객체 생성\n",
    "# cv_rskf = RepeatedStratifiedKFold(n_splits=5, n_repeats=200, random_state=42)\n",
    "\n",
    "# # Cross-validation scores\n",
    "# scores_cv = cross_val_score(clf_qda, X_pca, y, cv=cv_rskf)\n",
    "# print(\"%0.2f accuracy with a standard deviation of %0.2f\" % (scores_cv.mean(), scores_cv.std()))\n",
    "# clf_qda.fit(X_pca, y)\n",
    "\n",
    "# ## Visualize the QDA classifier\n",
    "# # Fit PCA with 2 components for visualization\n",
    "# pca2 = PCA(n_components=2)\n",
    "# X_pca2 = pca2.fit_transform(X)\n",
    "\n",
    "# # Decision boundary in the space of the first two principal components\n",
    "# x_min, x_max = X_pca2[:, 0].min() - 0.5, X_pca2[:, 0].max() + 0.5\n",
    "# y_min, y_max = X_pca2[:, 1].min() - 0.5, X_pca2[:, 1].max() + 0.5\n",
    "# xx, yy = np.meshgrid(np.arange(x_min, x_max, 0.1),\n",
    "#                      np.arange(y_min, y_max, 0.1))\n",
    "\n",
    "# # Transform grid using the same 2D PCA transformation\n",
    "# grid = np.c_[xx.ravel(), yy.ravel()]\n",
    "# grid_pca = pca.transform(pca2.inverse_transform(grid))\n",
    "\n",
    "# # Predict on the 10D transformed grid\n",
    "# Z = clf_qda.predict(grid_pca)\n",
    "# Z = Z.reshape(xx.shape)\n",
    "\n",
    "# # Plot\n",
    "# # plt.contourf(xx, yy, Z, alpha=0.8)\n",
    "# scatter = plt.scatter(X_pca2[:, 0], X_pca2[:, 1], c=y, edgecolors='k', marker='o', s=50)\n",
    "# plt.xlabel('Principal Component 1')\n",
    "# plt.ylabel('Principal Component 2')\n",
    "# plt.title('Quadratic Discriminant Analysis')\n",
    "# plt.legend(handles=scatter.legend_elements()[0], labels=['Class 0', 'Class 1'])\n",
    "# plt.show()"
   ]
  },
  {
   "cell_type": "markdown",
   "metadata": {},
   "source": [
    "1-2. Permutation test"
   ]
  },
  {
   "cell_type": "code",
   "execution_count": 124,
   "metadata": {},
   "outputs": [
    {
     "name": "stdout",
     "output_type": "stream",
     "text": [
      "Model score: 0.7090892857142856\n",
      "Permutation test p-value: 0.04395604395604396\n"
     ]
    },
    {
     "data": {
      "image/png": "[encoded data removed]",
      "text/plain": [
       "<Figure size 640x480 with 1 Axes>"
      ]
     },
     "metadata": {},
     "output_type": "display_data"
    }
   ],
   "source": [
    "import matplotlib.pyplot as plt\n",
    "# 분석기 초기화\n",
    "qda = QuadraticDiscriminantAnalysis()\n",
    "\n",
    "# 순열 테스트 수행\n",
    "score, permutation_scores, pvalue = permutation_test_score(qda, X, y, scoring=\"accuracy\", cv=cv, n_permutations=1000, n_jobs=2)\n",
    "\n",
    "# 결과 출력\n",
    "print(\"Model score: %s\" % score)\n",
    "print(\"Permutation test p-value: %s\" % pvalue)\n",
    "\n",
    "fig, ax = plt.subplots()\n",
    "\n",
    "ax.hist(permutation_scores, bins=20, density=True)\n",
    "ax.axvline(score, ls=\"--\", color=\"r\")\n",
    "score_label = f\"Score on original\\ndata: {score:.2f}\\n(p-value: {pvalue:.3f})\"\n",
    "ax.text(0.7, 10, score_label, fontsize=12)\n",
    "ax.set_xlabel(\"Accuracy score\")\n",
    "_ = ax.set_ylabel(\"Probability density\")"
   ]
  },
  {
   "cell_type": "markdown",
   "metadata": {},
   "source": [
    "1-3. Confusion matrix"
   ]
  },
  {
   "cell_type": "code",
   "execution_count": null,
   "metadata": {},
   "outputs": [],
   "source": [
    "from sklearn.metrics import ConfusionMatrixDisplay,precision_score,recall_score,confusion_matrix\n",
    "\n",
    "ConfusionMatrixDisplay.from_predictions(y_test, predictions)\n",
    "plt.show()\n",
    " \n",
    "tn, fp, fn, tp = confusion_matrix(list(y_test), list(predictions), labels=[0, 1]).ravel()\n",
    " \n",
    "print('True Positive :', tp)\n",
    "print('True Negative :', tn)\n",
    "print('False Positive :', fp)\n",
    "print('False Negative :', fn)\n",
    "print(\"Precision score\", precision_score(y_test,predictions))"
   ]
  },
  {
   "cell_type": "markdown",
   "metadata": {},
   "source": [
    "2-1. Linear discriminant analysis"
   ]
  },
  {
   "cell_type": "code",
   "execution_count": null,
   "metadata": {},
   "outputs": [],
   "source": [
    "from sklearn.model_selection import RepeatedStratifiedKFold\n",
    "from sklearn.discriminant_analysis import LinearDiscriminantAnalysis\n",
    "from sklearn.model_selection import permutation_test_score\n",
    "from sklearn.metrics import accuracy_score\n",
    "\n",
    "# Prepare data\n",
    "X = []  # Features\n",
    "y = []  # Response\n",
    "for file_name, data in data_moseq.items():\n",
    "    relative_frequency_values = list(data['syllables relative frequency'].values())\n",
    "    X.append(relative_frequency_values)\n",
    "    response_value = data['class']\n",
    "    y.append(response_value)\n",
    "\n",
    "# Convert to NumPy arrays\n",
    "X = np.array(X)\n",
    "y = np.array(y)\n",
    "\n",
    "# 분석기 초기화\n",
    "lda = LinearDiscriminantAnalysis()\n",
    "\n",
    "# Repeated Stratified K-Fold 객체 생성\n",
    "cv = RepeatedStratifiedKFold(n_splits=5, n_repeats=1000, random_state=42)\n",
    "\n",
    "# 결과 저장을 위한 리스트\n",
    "scores = []\n",
    "\n",
    "# 교차 검증 수행\n",
    "for train_index, test_index in cv.split(X, y):\n",
    "    X_train, X_test = X[train_index], X[test_index]\n",
    "    y_train, y_test = y[train_index], y[test_index]\n",
    "\n",
    "    lda.fit(X_train, y_train) # 모델 훈련\n",
    "    predictions = lda.predict(X_test) # 예측\n",
    "    score = accuracy_score(y_test, predictions) # 정확도 계산\n",
    "    scores.append(score)\n",
    "\n",
    "# 평균 정확도 출력\n",
    "print(\"Average accuracy: \", np.mean(scores))\n",
    "\n",
    "# 분석기 초기화\n",
    "lda = LinearDiscriminantAnalysis()\n",
    "\n",
    "# 순열 테스트 수행\n",
    "score, permutation_scores, pvalue = permutation_test_score(lda, X, y, scoring=\"accuracy\", cv=cv, n_permutations=1000, n_jobs=1)\n",
    "\n",
    "# 결과 출력\n",
    "print(\"Model score: %s\" % score)\n",
    "print(\"Permutation test p-value: %s\" % pvalue)\n"
   ]
  },
  {
   "cell_type": "markdown",
   "metadata": {},
   "source": [
    "### 3. 회귀 알고리즘 (Regression)"
   ]
  },
  {
   "cell_type": "code",
   "execution_count": 58,
   "metadata": {},
   "outputs": [],
   "source": [
    "# Prepare data\n",
    "X = []  # Features\n",
    "y = []  # Response\n",
    "for file_name, data in data_moseq.items():\n",
    "    predictors = list(data['syllables relative frequency'].values())\n",
    "    X.append(predictors)\n",
    "    response_value = data['SI ratio']\n",
    "    y.append(response_value)\n",
    "\n",
    "# Convert to NumPy arrays\n",
    "X = np.array(X)\n",
    "y = np.array(y)"
   ]
  },
  {
   "cell_type": "markdown",
   "metadata": {},
   "source": [
    "3-1. 라쏘 회귀 (정규화 선형회귀)"
   ]
  },
  {
   "cell_type": "code",
   "execution_count": null,
   "metadata": {},
   "outputs": [],
   "source": [
    "from sklearn.preprocessing import StandardScaler\n",
    "\n",
    "# 특성 스케일링\n",
    "scaler = StandardScaler()\n",
    "X_train_scaled = scaler.fit_transform(X_train)\n",
    "X_test_scaled = scaler.transform(X_test)\n",
    "\n",
    "# 라쏘 회귀 모델 정의 (alphas 매개변수를 조정하여 다양한 값 시도)\n",
    "lasso = LassoCV(cv=5, alphas=np.logspace(-8, 1, 13),  max_iter=100000)  # 알파 범위 조정\n",
    "\n",
    "# 모델 학습\n",
    "lasso.fit(X_train_scaled, y_train)\n",
    "\n",
    "# 특성 중요도\n",
    "feature_importance = lasso.coef_"
   ]
  },
  {
   "cell_type": "markdown",
   "metadata": {},
   "source": [
    "3-2. 랜덤 포레스트 회귀. (비선형. 특성중요도 추출 가능)"
   ]
  },
  {
   "cell_type": "code",
   "execution_count": 59,
   "metadata": {},
   "outputs": [
    {
     "data": {
      "image/png": "[encoded data removed]",
      "text/plain": [
       "<Figure size 640x480 with 1 Axes>"
      ]
     },
     "metadata": {},
     "output_type": "display_data"
    }
   ],
   "source": [
    "from sklearn.ensemble import RandomForestRegressor\n",
    "from sklearn.model_selection import train_test_split\n",
    "import matplotlib.pyplot as plt\n",
    "\n",
    "# 데이터를 훈련 및 테스트 세트로 분할 (예시로 X와 y를 사용합니다)\n",
    "X_train, X_test, y_train, y_test = train_test_split(X, y, test_size=0.2, random_state=42)\n",
    "\n",
    "# 랜덤 포레스트 회귀 모델 생성 및 훈련\n",
    "model = RandomForestRegressor(n_estimators=1000, random_state=42)\n",
    "model.fit(X_train, y_train)\n",
    "\n",
    "# 예측 수행\n",
    "predictions = model.predict(X_test)\n",
    "\n",
    "# 특성 중요도 추출\n",
    "feature_importances = model.feature_importances_\n",
    "\n",
    "# 특성 중요도 시각화\n",
    "plt.bar(range(len(feature_importances)), feature_importances)\n",
    "plt.xlabel('Features')\n",
    "plt.ylabel('Importance')\n",
    "plt.title('Feature Importance')\n",
    "plt.show()\n"
   ]
  },
  {
   "cell_type": "code",
   "execution_count": 60,
   "metadata": {},
   "outputs": [
    {
     "name": "stdout",
     "output_type": "stream",
     "text": [
      "Cross-Validation R^2 scores: [-20.67830117  -0.11698533  -0.35721482  -0.38699736  -4.96792097]\n",
      "Average R^2 score: -5.301483929436\n",
      "Mean Squared Error: 0.05255629572850005\n"
     ]
    }
   ],
   "source": [
    "from sklearn.model_selection import cross_val_score\n",
    "from sklearn.metrics import mean_squared_error\n",
    "\n",
    "# 교차 검증을 사용하여 R^2 점수 계산\n",
    "r2_scores = cross_val_score(model, X, y, cv=5, scoring='r2')  # cv는 분할 수\n",
    "print(\"Cross-Validation R^2 scores:\", r2_scores)\n",
    "print(\"Average R^2 score:\", np.mean(r2_scores))\n",
    "\n",
    "# 테스트 세트에서 MSE 계산\n",
    "mse_score = mean_squared_error(y_test, predictions)\n",
    "print(\"Mean Squared Error:\", mse_score)\n"
   ]
  }
 ],
 "metadata": {
  "kernelspec": {
   "display_name": "keypoint_moseq",
   "language": "python",
   "name": "python3"
  },
  "language_info": {
   "codemirror_mode": {
    "name": "ipython",
    "version": 3
   },
   "file_extension": ".py",
   "mimetype": "text/x-python",
   "name": "python",
   "nbconvert_exporter": "python",
   "pygments_lexer": "ipython3",
   "version": "3.9.16"
  },
  "orig_nbformat": 4
 },
 "nbformat": 4,
 "nbformat_minor": 2
}
