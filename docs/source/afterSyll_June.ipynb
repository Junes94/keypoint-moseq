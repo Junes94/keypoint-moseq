{
 "cells": [
  {
   "cell_type": "code",
   "execution_count": 1,
   "metadata": {},
   "outputs": [
    {
     "ename": "AttributeError",
     "evalue": "'DataFrame' object has no attribute 'append'",
     "output_type": "error",
     "traceback": [
      "\u001b[1;31m---------------------------------------------------------------------------\u001b[0m",
      "\u001b[1;31mAttributeError\u001b[0m                            Traceback (most recent call last)",
      "\u001b[1;32mC:\\Temp\\ipykernel_21368\\4088361055.py\u001b[0m in \u001b[0;36m?\u001b[1;34m()\u001b[0m\n\u001b[0;32m     41\u001b[0m \u001b[1;32mimport\u001b[0m \u001b[0mos\u001b[0m\u001b[1;33m\u001b[0m\u001b[1;33m\u001b[0m\u001b[0m\n\u001b[0;32m     42\u001b[0m \u001b[1;32mimport\u001b[0m \u001b[0mkeypoint_moseq\u001b[0m \u001b[1;32mas\u001b[0m \u001b[0mkpms\u001b[0m\u001b[1;33m\u001b[0m\u001b[1;33m\u001b[0m\u001b[0m\n\u001b[0;32m     43\u001b[0m \u001b[1;32mimport\u001b[0m \u001b[0mkeypoint_moseq\u001b[0m \u001b[1;33m.\u001b[0m\u001b[0manalysis\u001b[0m \u001b[1;32mas\u001b[0m \u001b[0mkpmsa\u001b[0m\u001b[1;33m\u001b[0m\u001b[1;33m\u001b[0m\u001b[0m\n\u001b[0;32m     44\u001b[0m \u001b[1;33m\u001b[0m\u001b[0m\n\u001b[1;32m---> 45\u001b[1;33m \u001b[0mfilelist_postSD_defeated\u001b[0m \u001b[1;33m=\u001b[0m \u001b[0macl\u001b[0m\u001b[1;33m.\u001b[0m\u001b[0mget_csv_paths\u001b[0m\u001b[1;33m(\u001b[0m\u001b[0mparams\u001b[0m\u001b[1;33m.\u001b[0m\u001b[0mpostSD_defeated\u001b[0m\u001b[1;33m)\u001b[0m    \u001b[1;31m#[]\u001b[0m\u001b[1;33m\u001b[0m\u001b[1;33m\u001b[0m\u001b[0m\n\u001b[0m\u001b[0;32m     46\u001b[0m \u001b[0mfilelist_postSD_control\u001b[0m \u001b[1;33m=\u001b[0m \u001b[0macl\u001b[0m\u001b[1;33m.\u001b[0m\u001b[0mget_csv_paths\u001b[0m\u001b[1;33m(\u001b[0m\u001b[0mparams\u001b[0m\u001b[1;33m.\u001b[0m\u001b[0mpostSD_control\u001b[0m\u001b[1;33m)\u001b[0m\u001b[1;33m\u001b[0m\u001b[1;33m\u001b[0m\u001b[0m\n\u001b[0;32m     47\u001b[0m \u001b[0mstart\u001b[0m \u001b[1;33m=\u001b[0m \u001b[0mparams\u001b[0m\u001b[1;33m.\u001b[0m\u001b[0mstart\u001b[0m\u001b[1;33m\u001b[0m\u001b[1;33m\u001b[0m\u001b[0m\n\u001b[0;32m     48\u001b[0m \u001b[0mend\u001b[0m \u001b[1;33m=\u001b[0m \u001b[0mparams\u001b[0m\u001b[1;33m.\u001b[0m\u001b[0mend\u001b[0m\u001b[1;33m\u001b[0m\u001b[1;33m\u001b[0m\u001b[0m\n",
      "\u001b[1;32mc:\\Users\\MyPC\\anaconda3\\envs\\keypoint_moseq\\lib\\site-packages\\pandas\\core\\generic.py\u001b[0m in \u001b[0;36m?\u001b[1;34m(self, name)\u001b[0m\n\u001b[0;32m   5985\u001b[0m             \u001b[1;32mand\u001b[0m \u001b[0mname\u001b[0m \u001b[1;32mnot\u001b[0m \u001b[1;32min\u001b[0m \u001b[0mself\u001b[0m\u001b[1;33m.\u001b[0m\u001b[0m_accessors\u001b[0m\u001b[1;33m\u001b[0m\u001b[1;33m\u001b[0m\u001b[0m\n\u001b[0;32m   5986\u001b[0m             \u001b[1;32mand\u001b[0m \u001b[0mself\u001b[0m\u001b[1;33m.\u001b[0m\u001b[0m_info_axis\u001b[0m\u001b[1;33m.\u001b[0m\u001b[0m_can_hold_identifiers_and_holds_name\u001b[0m\u001b[1;33m(\u001b[0m\u001b[0mname\u001b[0m\u001b[1;33m)\u001b[0m\u001b[1;33m\u001b[0m\u001b[1;33m\u001b[0m\u001b[0m\n\u001b[0;32m   5987\u001b[0m         ):\n\u001b[0;32m   5988\u001b[0m             \u001b[1;32mreturn\u001b[0m \u001b[0mself\u001b[0m\u001b[1;33m[\u001b[0m\u001b[0mname\u001b[0m\u001b[1;33m]\u001b[0m\u001b[1;33m\u001b[0m\u001b[1;33m\u001b[0m\u001b[0m\n\u001b[1;32m-> 5989\u001b[1;33m         \u001b[1;32mreturn\u001b[0m \u001b[0mobject\u001b[0m\u001b[1;33m.\u001b[0m\u001b[0m__getattribute__\u001b[0m\u001b[1;33m(\u001b[0m\u001b[0mself\u001b[0m\u001b[1;33m,\u001b[0m \u001b[0mname\u001b[0m\u001b[1;33m)\u001b[0m\u001b[1;33m\u001b[0m\u001b[1;33m\u001b[0m\u001b[0m\n\u001b[0m",
      "\u001b[1;31mAttributeError\u001b[0m: 'DataFrame' object has no attribute 'append'"
     ]
    }
   ],
   "source": [
    "import sys\n",
    "sys.path.insert(0, 'C:/Users/MyPC/Desktop/git/AVATAR_motionMap')\n",
    "import FileManager.csvload as acl\n",
    "sys.path.insert(0, 'C:/Users/MyPC/Desktop/git/kp_moseq/keypoint-moseq/project')\n",
    "import SDSBD_trainset2.params as params\n",
    "\n",
    "import copy\n",
    "import pandas as pd\n",
    "import numpy as np\n",
    "import seaborn as sns\n",
    "import matplotlib\n",
    "import time\n",
    "from datetime import date\n",
    "import os\n",
    "import keypoint_moseq as kpms\n",
    "import keypoint_moseq .analysis as kpmsa\n",
    "\n",
    "filelist_postSD_defeated = acl.get_csv_paths(params.postSD_defeated)    #[]\n",
    "filelist_postSD_control = acl.get_csv_paths(params.postSD_control)\n",
    "start = params.start\n",
    "end = params.end\n",
    "\n",
    "\n",
    "# read \"sylable reindexed\" column from each csv file and store it in a dictionary\n",
    "columns = ['file_name', 'syllables_reindexed', 'syllables_frequency']\n",
    "data_moseq = pd.DataFrame(columns=columns)\n",
    "\n",
    "for file in filelist_postSD_defeated:\n",
    "    file_name = os.path.splitext(os.path.basename(file))[0]\n",
    "    # Read the csv file\n",
    "    df = pd.read_csv(file)\n",
    "    df = df[start:end]\n",
    "\n",
    "    syllables_reindexed = df['syllables reindexed']\n",
    "    syllables_frequency = syllables_reindexed.value_counts(normalize=True)\n",
    "    \n",
    "    # Create a dictionary with the data for the current file\n",
    "    row_data = {\n",
    "        'file_name': file_name,\n",
    "        'syllables_reindexed': syllables_reindexed, \n",
    "        'syllables_frequency': syllables_frequency\n",
    "    }\n",
    "    \n",
    "    # Append the data for the current file to the DataFrame\n",
    "    data_moseq = data_moseq.append(row_data, ignore_index=True)"
   ]
  },
  {
   "cell_type": "code",
   "execution_count": 21,
   "metadata": {},
   "outputs": [],
   "source": [
    "import sys\n",
    "sys.path.insert(0, 'C:/Users/MyPC/Desktop/git/AVATAR_motionMap')\n",
    "import FileManager.csvload as acl\n",
    "sys.path.insert(0, 'C:/Users/MyPC/Desktop/git/kp_moseq/keypoint-moseq/project')\n",
    "import SDSBD_trainset2.params as params\n",
    "\n",
    "import copy\n",
    "import pandas as pd\n",
    "import numpy as np\n",
    "import seaborn as sns\n",
    "import matplotlib\n",
    "import time\n",
    "from datetime import date\n",
    "import os\n",
    "import keypoint_moseq as kpms\n",
    "import keypoint_moseq .analysis as kpmsa\n",
    "\n",
    "# parameters setting\n",
    "start = params.start    # analysis start frame of the video\n",
    "end = params.end        # analysis end frame of the video\n",
    "\n",
    "filelist_group1 = acl.get_csv_paths(params.postSD_defeated)    #[]\n",
    "filelist_group2 = acl.get_csv_paths(params.postSD_control)\n",
    "dataset = filelist_group1 + filelist_group2\n",
    "dataset_class = [0]*len(filelist_group1) + [1]*len(filelist_group2)\n",
    "if len(dataset) != len(dataset_class):\n",
    "    print('Error: dataset and dataset_class should have the same length')\n",
    "    sys.exit()\n",
    "\n",
    "\n",
    "# read \"sylable reindexed\" column from each csv file and store it in a dictionary\n",
    "data_moseq = {}  # Initialize an empty dictionary\n",
    "for file, group in zip(dataset, dataset_class):\n",
    "    file_name = os.path.splitext(os.path.basename(file))[0]\n",
    "    data_moseq[file_name] = {}  # Create a new dictionary for each file with the file as the key\n",
    "    data_moseq[file_name]['class'] = group  # Store the class of the file in the dictionary\n",
    "    \n",
    "    # Read the csv file\n",
    "    df = pd.read_csv(file)\n",
    "    df = df[start:end]\n",
    "    \n",
    "    # Convert the 'syllables reindexed' column to a numpy array, wrap it in a list, and store it in the dictionary\n",
    "    data_moseq[file_name]['syllables reindexed'] = [df['syllables reindexed'].to_numpy(dtype=int)]\n",
    "    frequencies, durations = kpmsa.get_syllable_statistics(data_moseq[file_name]['syllables reindexed'], max_syllable=100, count='frequency')\n",
    "\n",
    "    # Calculate the relative frequencies\n",
    "    total_frequency = sum(frequencies.values())\n",
    "    relative_frequencies = {k: v / total_frequency for k, v in frequencies.items()}\n",
    "\n",
    "    # Store relative frequencies in the dictionary\n",
    "    data_moseq[file_name]['syllables relative frequency'] = relative_frequencies\n",
    "    data_moseq[file_name]['syllables durations'] = durations"
   ]
  },
  {
   "cell_type": "markdown",
   "metadata": {},
   "source": [
    "QDA (Quadratic Discriminant Analysis) model training"
   ]
  },
  {
   "cell_type": "code",
   "execution_count": 24,
   "metadata": {},
   "outputs": [
    {
     "name": "stdout",
     "output_type": "stream",
     "text": [
      "Model accuracy: 0.7333333333333333\n"
     ]
    },
    {
     "name": "stderr",
     "output_type": "stream",
     "text": [
      "Variables are collinear"
     ]
    }
   ],
   "source": [
    "from sklearn.discriminant_analysis import QuadraticDiscriminantAnalysis\n",
    "from sklearn.model_selection import train_test_split\n",
    "# parameter setting\n",
    "test_size = 0.2 # train vs. test\n",
    "\n",
    "# Prepare data\n",
    "X = []  # Features\n",
    "y = []  # Response\n",
    "for file_name, data in data_moseq.items():\n",
    "    relative_frequency_values = list(data['syllables relative frequency'].values())\n",
    "    X.append(relative_frequency_values)\n",
    "    response_value = data['class']\n",
    "    y.append(response_value)\n",
    "\n",
    "# Convert to NumPy arrays\n",
    "X = np.array(X)\n",
    "y = np.array(y)\n",
    "\n",
    "# Repeated Stratified K-Fold 객체 생성\n",
    "rskf = RepeatedStratifiedKFold(n_splits=5, n_repeats=10, random_state=42)\n",
    "\n",
    "# 분석기 초기화\n",
    "qda = QuadraticDiscriminantAnalysis()\n",
    "\n",
    "# 결과 저장을 위한 리스트\n",
    "scores = []\n",
    "\n",
    "# 교차 검증 수행\n",
    "for train_index, test_index in rskf.split(X, y):\n",
    "    X_train, X_test = X[train_index], X[test_index]\n",
    "    y_train, y_test = y[train_index], y[test_index]\n",
    "\n",
    "    qda.fit(X_train, y_train) # 모델 훈련\n",
    "    predictions = qda.predict(X_test) # 예측\n",
    "    score = accuracy_score(y_test, predictions) # 정확도 계산\n",
    "    scores.append(score)\n",
    "\n",
    "# 평균 정확도 출력\n",
    "print(\"Average accuracy: \", np.mean(scores))"
   ]
  },
  {
   "cell_type": "code",
   "execution_count": null,
   "metadata": {},
   "outputs": [],
   "source": []
  }
 ],
 "metadata": {
  "kernelspec": {
   "display_name": "keypoint_moseq",
   "language": "python",
   "name": "python3"
  },
  "language_info": {
   "codemirror_mode": {
    "name": "ipython",
    "version": 3
   },
   "file_extension": ".py",
   "mimetype": "text/x-python",
   "name": "python",
   "nbconvert_exporter": "python",
   "pygments_lexer": "ipython3",
   "version": "3.9.16"
  },
  "orig_nbformat": 4
 },
 "nbformat": 4,
 "nbformat_minor": 2
}
