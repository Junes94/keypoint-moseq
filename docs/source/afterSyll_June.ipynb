{
 "cells": [
  {
   "cell_type": "code",
   "execution_count": 53,
   "metadata": {},
   "outputs": [],
   "source": [
    "import sys\n",
    "sys.path.insert(0, 'C:/Users/MyPC/Desktop/git/AVATAR_motionMap')\n",
    "import FileManager.csvload as acl\n",
    "sys.path.insert(0, 'C:/Users/MyPC/Desktop/git/kp_moseq/keypoint-moseq/project')\n",
    "import SDSBD_trainset2.params as params\n",
    "\n",
    "import copy\n",
    "import pandas as pd\n",
    "import numpy as np\n",
    "import seaborn as sns\n",
    "import matplotlib\n",
    "import time\n",
    "from datetime import date\n",
    "import os\n",
    "import keypoint_moseq as kpms\n",
    "import keypoint_moseq .analysis as kpmsa\n",
    "preSD_defeated = params.preSD_defeated\n",
    "preSD_extrR = params.preSD_extrR\n",
    "preSD_extrS = params.preSD_extrS\n",
    "postSD_extrR = params.postSD_extrR\n",
    "postSD_extrS = params.postSD_extrS\n",
    "postSD_defeated = params.postSD_defeated\n",
    "postSD_control = params.postSD_control\n",
    "\n",
    "# parameters setting\n",
    "start = params.start    # analysis start frame of the video\n",
    "end = params.end        # analysis end frame of the video\n",
    "syllable_analyzed = params.core_syllable_num\n",
    "filelist_group1 = acl.get_csv_paths(preSD_defeated)    #[]\n",
    "#filelist_group2 = acl.get_csv_paths()\n",
    "#dataset = filelist_group1 + filelist_group2\n",
    "dataset = filelist_group1\n",
    "class_two = False\n",
    "SIT_params = acl.import_SIT_params(r'C:\\Users\\MyPC\\Desktop\\실험실\\2.실험데이터\\AVATAR-SDSBD\\AVATAR_SDSBD총정리.xlsx')\n",
    "\n",
    "if class_two:\n",
    "    dataset_class = [0]*len(filelist_group1) + [1]*len(filelist_group2)\n",
    "    if len(dataset) != len(dataset_class):\n",
    "        print('Error: dataset and dataset_class should have the same length')\n",
    "        sys.exit()\n",
    "\n",
    "\n",
    "# read \"sylable reindexed\" column from each csv file and store it in a dictionary\n",
    "data_moseq = {}  # Initialize an empty dictionary\n",
    "for file, group in zip(dataset, dataset_class):\n",
    "    file_name = os.path.splitext(os.path.basename(file))[0]\n",
    "    data_moseq[file_name] = {}  # Create a new dictionary for each file with the file as the key\n",
    "    data_moseq[file_name]['class'] = group  # Store the class of the file in the dictionary\n",
    "    \n",
    "    # Read the csv file\n",
    "    df = pd.read_csv(file)\n",
    "    df = df[start:end]\n",
    "    \n",
    "    # Convert the 'syllables reindexed' column to a numpy array, wrap it in a list, and store it in the dictionary\n",
    "    data_moseq[file_name]['syllables reindexed'] = [df['syllables reindexed'].to_numpy(dtype=int)]\n",
    "    frequencies, durations = kpmsa.get_syllable_statistics(data_moseq[file_name]['syllables reindexed'], max_syllable=100, count='frequency')\n",
    "\n",
    "    # Calculate the relative frequencies\n",
    "    total_frequency = sum(frequencies.values())\n",
    "    relative_frequencies = {k: v / total_frequency for k, v in frequencies.items()}\n",
    "\n",
    "    # Remove syllables that are not in the range of syllables analyzed\n",
    "    #frequencies = {key: value for key, value in frequencies.items() if key in range(syllable_analyzed)}\n",
    "    #relative_frequencies = {key: value for key, value in relative_frequencies.items() if key in range(syllable_analyzed)}\n",
    "    #rations = {key: value for key, value in durations.items() if key in range(syllable_analyzed)}\n",
    "    \n",
    "    # Store relative frequencies in the dictionary\n",
    "    data_moseq[file_name]['syllables frequency'] = frequencies\n",
    "    data_moseq[file_name]['syllables relative frequency'] = relative_frequencies\n",
    "    data_moseq[file_name]['syllables durations'] = durations\n",
    "\n",
    "\n",
    "for key in data_moseq.keys():\n",
    "    last_three_digits_str = key[-3:]\n",
    "    \n",
    "    # 마지막 세 자리가 숫자인지 확인\n",
    "    if not last_three_digits_str.isdigit():\n",
    "        raise ValueError(f\"Key {key} does not end with three digits\")\n",
    "\n",
    "    # 마지막 세 자리를 정수로 변환\n",
    "    last_three_digits = int(last_three_digits_str)\n",
    "    if last_three_digits not in SIT_params:\n",
    "        raise KeyError(f\"No matching key in SIT_params for {last_three_digits}\")\n",
    "    data_moseq[key]['SI ratio'] = SIT_params[last_three_digits]\n"
   ]
  },
  {
   "cell_type": "markdown",
   "metadata": {},
   "source": [
    "0-2. Total recording time을 first, second half로 각각 나눠서 syllable 계산."
   ]
  },
  {
   "cell_type": "code",
   "execution_count": 4,
   "metadata": {},
   "outputs": [],
   "source": [
    "import sys\n",
    "sys.path.insert(0, 'C:/Users/MyPC/Desktop/git/AVATAR_motionMap')\n",
    "import FileManager.csvload as acl\n",
    "sys.path.insert(0, 'C:/Users/MyPC/Desktop/git/kp_moseq/keypoint-moseq/project')\n",
    "import SDSBD_trainset2.params as params\n",
    "from collections import OrderedDict\n",
    "import copy\n",
    "import pandas as pd\n",
    "import numpy as np\n",
    "import seaborn as sns\n",
    "import matplotlib\n",
    "import time\n",
    "from datetime import date\n",
    "import os\n",
    "import keypoint_moseq as kpms\n",
    "import keypoint_moseq .analysis as kpmsa\n",
    "preSD_defeated = params.preSD_defeated\n",
    "preSD_extrR = params.preSD_extrR\n",
    "preSD_extrS = params.preSD_extrS\n",
    "postSD_extrR = params.postSD_extrR\n",
    "postSD_extrS = params.postSD_extrS\n",
    "postSD_defeated = params.postSD_defeated\n",
    "postSD_control = params.postSD_control\n",
    "\n",
    "# parameters setting\n",
    "start = params.start    # analysis start frame of the video\n",
    "end = params.end        # analysis end frame of the video\n",
    "middle = round((end - start) / 2)  # middle frame of the video data\n",
    "syllable_analyzed = params.core_syllable_num\n",
    "filelist_group1 = acl.get_csv_paths(preSD_defeated)    #[]\n",
    "#filelist_group2 = acl.get_csv_paths()\n",
    "#dataset = filelist_group1 + filelist_group2\n",
    "dataset = filelist_group1\n",
    "class_two = False   # True if there are two classes in the dataset\n",
    "SIT_params = acl.import_SIT_params(r'C:\\Users\\MyPC\\Desktop\\실험실\\2.실험데이터\\AVATAR-SDSBD\\AVATAR_SDSBD총정리.xlsx')\n",
    "\n",
    "if class_two:\n",
    "    dataset_class = [0]*len(filelist_group1) + [1]*len(filelist_group2)\n",
    "    if len(dataset) != len(dataset_class):\n",
    "        print('Error: dataset and dataset_class should have the same length')\n",
    "        sys.exit()\n",
    "else:\n",
    "    dataset_class = [0]*len(filelist_group1)\n",
    "\n",
    "\n",
    "# read \"sylable reindexed\" column from each csv file and store it in a dictionary\n",
    "data_moseq = {}  # Initialize an empty dictionary\n",
    "for file, group in zip(dataset, dataset_class):\n",
    "    file_name = os.path.splitext(os.path.basename(file))[0]\n",
    "    data_moseq[file_name] = {}  # Create a new dictionary for each file with the file as the key\n",
    "    data_moseq[file_name]['class'] = group  # Store the class of the file in the dictionary\n",
    "    \n",
    "    # Read the csv file\n",
    "    df = pd.read_csv(file)\n",
    "    df = df[start:end]\n",
    "\n",
    "    data_moseq[file_name]['syllables reindexed'] = [df['syllables reindexed'].to_numpy(dtype=int)]\n",
    "    values_total = df['syllables reindexed'].to_numpy(dtype=int)\n",
    "    # 전반, 후반 나눠서 feature processing. (ie. 기존 12000frame*20syllables -> 6000frame*(20syllables*2))\n",
    "\n",
    "    # 앞의 6000개와 뒤의 6000개로 나누기\n",
    "    first_half = [values_total[:middle]]\n",
    "    second_half = [values_total[middle:]]\n",
    "\n",
    "    # kpmsa.get_syllable_statistics 모듈에 각 부분을 넣고 결과 가져오기\n",
    "    freq_first_half, dur_first_half = kpmsa.get_syllable_statistics(first_half, max_syllable=100, count='frequency')\n",
    "    freq_second_half, dur_second_half = kpmsa.get_syllable_statistics(second_half, max_syllable=100, count='frequency')\n",
    "\n",
    "    # Calculate the relative frequencies\n",
    "    total_frequency = sum(freq_first_half.values()) + sum(freq_second_half.values())\n",
    "    relative_freq_first_half = {k: v / total_frequency for k, v in freq_first_half.items()}\n",
    "    relative_freq_second_half = {k: v / total_frequency for k, v in freq_second_half.items()}\n",
    "\n",
    "    # Remove syllables that are not in the range of syllables analyzed\n",
    "    freq_first_half = {key: value for key, value in freq_first_half.items() if key in range(syllable_analyzed)}\n",
    "    freq_second_half = {key: value for key, value in freq_second_half.items() if key in range(syllable_analyzed)}\n",
    "    relative_freq_first_half = {key: value for key, value in relative_freq_first_half.items() if key in range(syllable_analyzed)}\n",
    "    relative_freq_second_half = {key: value for key, value in relative_freq_second_half.items() if key in range(syllable_analyzed)}\n",
    "    dur_first_half = {key: value for key, value in dur_first_half.items() if key in range(syllable_analyzed)}\n",
    "    dur_second_half = {key: value for key, value in dur_second_half.items() if key in range(syllable_analyzed)}\n",
    "\n",
    "    # 두 결과를 가로로 합치기\n",
    "    frequencies = {}\n",
    "    relative_frequencies = {}\n",
    "    durations = {}\n",
    "    for key in relative_freq_first_half.keys():\n",
    "        frequencies[str(key) + \"_first_half\"] = freq_first_half[key]\n",
    "        frequencies[str(key) + \"_second_half\"] = freq_second_half[key]\n",
    "        relative_frequencies[str(key) + \"_first_half\"] = relative_freq_first_half[key]\n",
    "        relative_frequencies[str(key) + \"_second_half\"] = relative_freq_second_half[key]\n",
    "        durations[str(key) + \"_first_half\"] = dur_first_half[key]\n",
    "        durations[str(key) + \"_second_half\"] = dur_second_half[key]\n",
    "\n",
    "    # Store relative frequencies in the dictionary\n",
    "    data_moseq[file_name]['syllables frequency'] = frequencies\n",
    "    data_moseq[file_name]['syllables relative frequency'] = relative_frequencies\n",
    "    data_moseq[file_name]['syllables durations'] = durations\n",
    "\n",
    "for key in data_moseq.keys():\n",
    "    last_three_digits_str = key[-3:]\n",
    "    \n",
    "    # 마지막 세 자리가 숫자인지 확인\n",
    "    if not last_three_digits_str.isdigit():\n",
    "        raise ValueError(f\"Key {key} does not end with three digits\")\n",
    "\n",
    "    # 마지막 세 자리를 정수로 변환\n",
    "    last_three_digits = int(last_three_digits_str)\n",
    "    if last_three_digits not in SIT_params:\n",
    "        raise KeyError(f\"No matching key in SIT_params for {last_three_digits}\")\n",
    "    data_moseq[key]['SI ratio'] = SIT_params[last_three_digits]\n",
    "\n"
   ]
  },
  {
   "cell_type": "code",
   "execution_count": null,
   "metadata": {},
   "outputs": [
    {
     "name": "stdout",
     "output_type": "stream",
     "text": [
      "Average accuracy:  0.7090892857142856\n"
     ]
    }
   ],
   "source": [
    "from sklearn.model_selection import cross_val_score, RepeatedStratifiedKFold\n",
    "from sklearn.discriminant_analysis import QuadraticDiscriminantAnalysis\n",
    "from sklearn.model_selection import permutation_test_score\n",
    "from sklearn.metrics import accuracy_score\n",
    "from sklearn.decomposition import PCA\n",
    "\n",
    "# 분석기 초기화\n",
    "qda = QuadraticDiscriminantAnalysis()\n",
    "\n",
    "# Repeated Stratified K-Fold 객체 생성\n",
    "cv = RepeatedStratifiedKFold(n_splits=5, n_repeats=200, random_state=42)\n",
    "\n",
    "# 결과 저장을 위한 리스트\n",
    "scores = []\n",
    "\n",
    "# 교차 검증 수행\n",
    "for train_index, test_index in cv.split(X, y):\n",
    "    X_train, X_test = X[train_index], X[test_index]\n",
    "    y_train, y_test = y[train_index], y[test_index]\n",
    "\n",
    "    qda.fit(X_train, y_train) # 모델 훈련\n",
    "    predictions = qda.predict(X_test) # 예측\n",
    "    score = accuracy_score(y_test, predictions) # 정확도 계산\n",
    "    scores.append(score)\n",
    "\n",
    "# 평균 정확도 출력\n",
    "print(\"%0.2f accuracy with a standard deviation of %0.2f\" % (scores.mean(), scores.std()))\n"
   ]
  },
  {
   "cell_type": "code",
   "execution_count": null,
   "metadata": {},
   "outputs": [],
   "source": [
    "# dictionary 확인\n",
    "for key, value in data_moseq.items():\n",
    "    si_ratio = value.get('SI ratio', 'Not found')  # 'SI ratio'가 없으면 'Not found' 반환\n",
    "    print(f'Key: {key}, SI ratio: {si_ratio}')\n"
   ]
  },
  {
   "cell_type": "markdown",
   "metadata": {},
   "source": [
    "이진분류기 데이터 준비"
   ]
  },
  {
   "cell_type": "code",
   "execution_count": 20,
   "metadata": {},
   "outputs": [],
   "source": [
    "if class_two:\n",
    "    # Prepare data\n",
    "    X = []  # Features\n",
    "    y = []  # Response\n",
    "    for file_name, data in data_moseq.items():\n",
    "        relative_frequency_values = list(data['syllables relative frequency'].values())\n",
    "        X.append(relative_frequency_values)\n",
    "        response_value = data['class']\n",
    "        y.append(response_value)\n",
    "\n",
    "    # Convert to NumPy arrays\n",
    "    X = np.array(X)\n",
    "    y = np.array(y)"
   ]
  },
  {
   "cell_type": "markdown",
   "metadata": {},
   "source": [
    "1-1. QDA (Quadratic Discriminant Analysis) model training"
   ]
  },
  {
   "cell_type": "code",
   "execution_count": 122,
   "metadata": {},
   "outputs": [
    {
     "name": "stdout",
     "output_type": "stream",
     "text": [
      "Average accuracy:  0.7090892857142856\n"
     ]
    }
   ],
   "source": [
    "from sklearn.model_selection import cross_val_score, RepeatedStratifiedKFold\n",
    "from sklearn.discriminant_analysis import QuadraticDiscriminantAnalysis\n",
    "from sklearn.model_selection import permutation_test_score\n",
    "from sklearn.metrics import accuracy_score\n",
    "from sklearn.decomposition import PCA\n",
    "\n",
    "# 분석기 초기화\n",
    "qda = QuadraticDiscriminantAnalysis()\n",
    "\n",
    "# Repeated Stratified K-Fold 객체 생성\n",
    "cv = RepeatedStratifiedKFold(n_splits=5, n_repeats=200, random_state=42)\n",
    "\n",
    "# 결과 저장을 위한 리스트\n",
    "scores = []\n",
    "\n",
    "# 교차 검증 수행\n",
    "for train_index, test_index in cv.split(X, y):\n",
    "    X_train, X_test = X[train_index], X[test_index]\n",
    "    y_train, y_test = y[train_index], y[test_index]\n",
    "\n",
    "    qda.fit(X_train, y_train) # 모델 훈련\n",
    "    predictions = qda.predict(X_test) # 예측\n",
    "    score = accuracy_score(y_test, predictions) # 정확도 계산\n",
    "    scores.append(score)\n",
    "\n",
    "# 평균 정확도 출력\n",
    "print(\"%0.2f accuracy with a standard deviation of %0.2f\" % (scores.mean(), scores.std()))\n"
   ]
  },
  {
   "cell_type": "markdown",
   "metadata": {},
   "source": [
    "syllable 절대값(syllables_reindexed)에 표준화(standardization) 적용 -> QDA    (syllable 상대빈도 말고)"
   ]
  },
  {
   "cell_type": "markdown",
   "metadata": {},
   "source": [
    "1-1-2. PCA -> QDA"
   ]
  },
  {
   "cell_type": "code",
   "execution_count": 120,
   "metadata": {},
   "outputs": [
    {
     "name": "stdout",
     "output_type": "stream",
     "text": [
      "0.68 accuracy with a standard deviation of 0.12\n"
     ]
    },
    {
     "data": {
      "image/png": "[encoded data removed]",
      "text/plain": [
       "<Figure size 640x480 with 1 Axes>"
      ]
     },
     "metadata": {},
     "output_type": "display_data"
    }
   ],
   "source": [
    "# from sklearn.model_selection import cross_val_score, RepeatedStratifiedKFold\n",
    "# from sklearn.discriminant_analysis import QuadraticDiscriminantAnalysis\n",
    "# from sklearn.model_selection import permutation_test_score\n",
    "# from sklearn.metrics import accuracy_score\n",
    "# from sklearn.decomposition import PCA\n",
    "\n",
    "# # Prepare data\n",
    "# X = []  # Features\n",
    "# y = []  # Response\n",
    "# for file_name, data in data_moseq.items():\n",
    "#     relative_frequency_values = list(data['syllables relative frequency'].values())\n",
    "#     X.append(relative_frequency_values)\n",
    "#     response_value = data['class']\n",
    "#     y.append(response_value)\n",
    "\n",
    "# # Convert to NumPy arrays\n",
    "# X = np.array(X)\n",
    "# y = np.array(y)\n",
    "\n",
    "# # 주성분 분석으로 데이터 축소\n",
    "# pca = PCA(n_components=6)\n",
    "# X_pca = pca.fit_transform(X)\n",
    "\n",
    "# # 분석기 초기화\n",
    "# clf_qda = QuadraticDiscriminantAnalysis()\n",
    "\n",
    "# # Repeated Stratified K-Fold 객체 생성\n",
    "# cv_rskf = RepeatedStratifiedKFold(n_splits=5, n_repeats=200, random_state=42)\n",
    "\n",
    "# # Cross-validation scores\n",
    "# scores_cv = cross_val_score(clf_qda, X_pca, y, cv=cv_rskf)\n",
    "# print(\"%0.2f accuracy with a standard deviation of %0.2f\" % (scores_cv.mean(), scores_cv.std()))\n",
    "# clf_qda.fit(X_pca, y)\n",
    "\n",
    "# ## Visualize the QDA classifier\n",
    "# # Fit PCA with 2 components for visualization\n",
    "# pca2 = PCA(n_components=2)\n",
    "# X_pca2 = pca2.fit_transform(X)\n",
    "\n",
    "# # Decision boundary in the space of the first two principal components\n",
    "# x_min, x_max = X_pca2[:, 0].min() - 0.5, X_pca2[:, 0].max() + 0.5\n",
    "# y_min, y_max = X_pca2[:, 1].min() - 0.5, X_pca2[:, 1].max() + 0.5\n",
    "# xx, yy = np.meshgrid(np.arange(x_min, x_max, 0.1),\n",
    "#                      np.arange(y_min, y_max, 0.1))\n",
    "\n",
    "# # Transform grid using the same 2D PCA transformation\n",
    "# grid = np.c_[xx.ravel(), yy.ravel()]\n",
    "# grid_pca = pca.transform(pca2.inverse_transform(grid))\n",
    "\n",
    "# # Predict on the 10D transformed grid\n",
    "# Z = clf_qda.predict(grid_pca)\n",
    "# Z = Z.reshape(xx.shape)\n",
    "\n",
    "# # Plot\n",
    "# # plt.contourf(xx, yy, Z, alpha=0.8)\n",
    "# scatter = plt.scatter(X_pca2[:, 0], X_pca2[:, 1], c=y, edgecolors='k', marker='o', s=50)\n",
    "# plt.xlabel('Principal Component 1')\n",
    "# plt.ylabel('Principal Component 2')\n",
    "# plt.title('Quadratic Discriminant Analysis')\n",
    "# plt.legend(handles=scatter.legend_elements()[0], labels=['Class 0', 'Class 1'])\n",
    "# plt.show()"
   ]
  },
  {
   "cell_type": "markdown",
   "metadata": {},
   "source": [
    "1-2. Permutation test"
   ]
  },
  {
   "cell_type": "code",
   "execution_count": 124,
   "metadata": {},
   "outputs": [
    {
     "name": "stdout",
     "output_type": "stream",
     "text": [
      "Model score: 0.7090892857142856\n",
      "Permutation test p-value: 0.04395604395604396\n"
     ]
    },
    {
     "data": {
      "image/png": "[encoded data removed]",
      "text/plain": [
       "<Figure size 640x480 with 1 Axes>"
      ]
     },
     "metadata": {},
     "output_type": "display_data"
    }
   ],
   "source": [
    "import matplotlib.pyplot as plt\n",
    "# 분석기 초기화\n",
    "qda = QuadraticDiscriminantAnalysis()\n",
    "\n",
    "# 순열 테스트 수행\n",
    "score, permutation_scores, pvalue = permutation_test_score(qda, X, y, scoring=\"accuracy\", cv=cv, n_permutations=1000, n_jobs=2)\n",
    "\n",
    "# 결과 출력\n",
    "print(\"Model score: %s\" % score)\n",
    "print(\"Permutation test p-value: %s\" % pvalue)\n",
    "\n",
    "fig, ax = plt.subplots()\n",
    "\n",
    "ax.hist(permutation_scores, bins=20, density=True)\n",
    "ax.axvline(score, ls=\"--\", color=\"r\")\n",
    "score_label = f\"Score on original\\ndata: {score:.2f}\\n(p-value: {pvalue:.3f})\"\n",
    "ax.text(0.7, 10, score_label, fontsize=12)\n",
    "ax.set_xlabel(\"Accuracy score\")\n",
    "_ = ax.set_ylabel(\"Probability density\")"
   ]
  },
  {
   "cell_type": "markdown",
   "metadata": {},
   "source": [
    "1-3. Confusion matrix"
   ]
  },
  {
   "cell_type": "code",
   "execution_count": 67,
   "metadata": {},
   "outputs": [
    {
     "data": {
      "image/png": "[encoded data removed]",
      "text/plain": [
       "<Figure size 640x480 with 2 Axes>"
      ]
     },
     "metadata": {},
     "output_type": "display_data"
    },
    {
     "name": "stdout",
     "output_type": "stream",
     "text": [
      "True Positive : 4\n",
      "True Negative : 1\n",
      "False Positive : 1\n",
      "False Negative : 1\n",
      "Precision score 0.8\n"
     ]
    }
   ],
   "source": [
    "from sklearn.metrics import ConfusionMatrixDisplay,precision_score,recall_score,confusion_matrix\n",
    "\n",
    "ConfusionMatrixDisplay.from_predictions(y_test, predictions)\n",
    "plt.show()\n",
    " \n",
    "tn, fp, fn, tp = confusion_matrix(list(y_test), list(predictions), labels=[0, 1]).ravel()\n",
    " \n",
    "print('True Positive :', tp)\n",
    "print('True Negative :', tn)\n",
    "print('False Positive :', fp)\n",
    "print('False Negative :', fn)\n",
    "print(\"Precision score\", precision_score(y_test,predictions))"
   ]
  },
  {
   "cell_type": "markdown",
   "metadata": {},
   "source": [
    "2-1. Linear discriminant analysis"
   ]
  },
  {
   "cell_type": "code",
   "execution_count": null,
   "metadata": {},
   "outputs": [],
   "source": [
    "from sklearn.model_selection import RepeatedStratifiedKFold\n",
    "from sklearn.discriminant_analysis import LinearDiscriminantAnalysis\n",
    "from sklearn.model_selection import permutation_test_score\n",
    "from sklearn.metrics import accuracy_score\n",
    "\n",
    "# Prepare data\n",
    "X = []  # Features\n",
    "y = []  # Response\n",
    "for file_name, data in data_moseq.items():\n",
    "    relative_frequency_values = list(data['syllables relative frequency'].values())\n",
    "    X.append(relative_frequency_values)\n",
    "    response_value = data['class']\n",
    "    y.append(response_value)\n",
    "\n",
    "# Convert to NumPy arrays\n",
    "X = np.array(X)\n",
    "y = np.array(y)\n",
    "\n",
    "# 분석기 초기화\n",
    "lda = LinearDiscriminantAnalysis()\n",
    "\n",
    "# Repeated Stratified K-Fold 객체 생성\n",
    "cv = RepeatedStratifiedKFold(n_splits=5, n_repeats=1000, random_state=42)\n",
    "\n",
    "# 결과 저장을 위한 리스트\n",
    "scores = []\n",
    "\n",
    "# 교차 검증 수행\n",
    "for train_index, test_index in cv.split(X, y):\n",
    "    X_train, X_test = X[train_index], X[test_index]\n",
    "    y_train, y_test = y[train_index], y[test_index]\n",
    "\n",
    "    lda.fit(X_train, y_train) # 모델 훈련\n",
    "    predictions = lda.predict(X_test) # 예측\n",
    "    score = accuracy_score(y_test, predictions) # 정확도 계산\n",
    "    scores.append(score)\n",
    "\n",
    "# 평균 정확도 출력\n",
    "print(\"Average accuracy: \", np.mean(scores))\n",
    "\n",
    "# 분석기 초기화\n",
    "lda = LinearDiscriminantAnalysis()\n",
    "\n",
    "# 순열 테스트 수행\n",
    "score, permutation_scores, pvalue = permutation_test_score(lda, X, y, scoring=\"accuracy\", cv=cv, n_permutations=1000, n_jobs=1)\n",
    "\n",
    "# 결과 출력\n",
    "print(\"Model score: %s\" % score)\n",
    "print(\"Permutation test p-value: %s\" % pvalue)\n"
   ]
  },
  {
   "cell_type": "markdown",
   "metadata": {},
   "source": [
    "3-1. 라쏘 회귀 (정규화 선형회귀)"
   ]
  },
  {
   "cell_type": "code",
   "execution_count": 28,
   "metadata": {},
   "outputs": [],
   "source": [
    "# Prepare data\n",
    "X = []  # Features\n",
    "y = []  # Response\n",
    "for file_name, data in data_moseq.items():\n",
    "    relative_frequency_values = list(data['syllables relative frequency'].values())\n",
    "    X.append(relative_frequency_values)\n",
    "    response_value = data['SI ratio']\n",
    "    y.append(response_value)\n",
    "\n",
    "# Convert to NumPy arrays\n",
    "X = np.array(X)\n",
    "y = np.array(y)"
   ]
  },
  {
   "cell_type": "code",
   "execution_count": 38,
   "metadata": {},
   "outputs": [],
   "source": [
    "from sklearn.preprocessing import StandardScaler\n",
    "\n",
    "# 특성 스케일링\n",
    "scaler = StandardScaler()\n",
    "X_train_scaled = scaler.fit_transform(X_train)\n",
    "X_test_scaled = scaler.transform(X_test)\n",
    "\n",
    "# 라쏘 회귀 모델 정의 (alphas 매개변수를 조정하여 다양한 값 시도)\n",
    "lasso = LassoCV(cv=5, alphas=np.logspace(-8, 1, 13),  max_iter=100000)  # 알파 범위 조정\n",
    "\n",
    "# 모델 학습\n",
    "lasso.fit(X_train_scaled, y_train)\n",
    "\n",
    "# 특성 중요도\n",
    "feature_importance = lasso.coef_"
   ]
  },
  {
   "cell_type": "code",
   "execution_count": 26,
   "metadata": {},
   "outputs": [],
   "source": [
    "dddd = np.logspace(-6, 6, 13)"
   ]
  },
  {
   "cell_type": "code",
   "execution_count": null,
   "metadata": {},
   "outputs": [],
   "source": []
  }
 ],
 "metadata": {
  "kernelspec": {
   "display_name": "keypoint_moseq",
   "language": "python",
   "name": "python3"
  },
  "language_info": {
   "codemirror_mode": {
    "name": "ipython",
    "version": 3
   },
   "file_extension": ".py",
   "mimetype": "text/x-python",
   "name": "python",
   "nbconvert_exporter": "python",
   "pygments_lexer": "ipython3",
   "version": "3.9.16"
  },
  "orig_nbformat": 4
 },
 "nbformat": 4,
 "nbformat_minor": 2
}
