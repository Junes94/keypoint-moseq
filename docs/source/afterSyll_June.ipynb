{
 "cells": [
  {
   "cell_type": "code",
   "execution_count": 1,
   "metadata": {},
   "outputs": [],
   "source": [
    "import copy\n",
    "import pandas as pd\n",
    "import numpy as np\n",
    "import seaborn as sns\n",
    "import matplotlib\n",
    "import time\n",
    "from datetime import date\n",
    "import os\n",
    "import sys\n",
    "import keypoint_moseq as kpms\n",
    "\n",
    "sys.path.insert(0, 'C:/Users/MyPC/Desktop/git/AVATAR_motionMap')\n",
    "import FileManager.csvload as acl\n",
    "sys.path.insert(0, 'C:/Users/MyPC/Desktop/git/kp_moseq/keypoint-moseq/project')\n",
    "import SDSBD_trainset2.params as params\n",
    "\n",
    "filelist_postSD_defeated = acl.get_csv_paths(params.postSD_defeated)    #[]\n",
    "filelist_postSD_control = acl.get_csv_paths(params.postSD_control)\n",
    "\n",
    "# read \"sylable reindexed\" column from each csv file and store it in a dictionary\n",
    "data_moseq = {}  # Initialize an empty dictionary\n",
    "for file in filelist_postSD_defeated:\n",
    "    file_name = os.path.splitext(os.path.basename(file))[0]\n",
    "    data_moseq[file_name] = {}  # Create a new dictionary for each file with the file as the key\n",
    "    # Read the csv file\n",
    "    df = pd.read_csv(file)\n",
    "    \n",
    "    # Convert the 'syllables reindexed' column to a numpy array, wrap it in a list, and store it in the dictionary\n",
    "    data_moseq[file_name]['syllables reindexed'] = [df['syllables reindexed'].to_numpy(dtype=int)]\n",
    "    data_moseq[file_name]['syllables usages'] = kpms.get_syllable_statistics(data_moseq[file_name]['syllables reindexed'][0], max_syllable = params.core_syllable_num, count = 'frequency')\n",
    "    \n",
    "\n"
   ]
  },
  {
   "cell_type": "code",
   "execution_count": 6,
   "metadata": {},
   "outputs": [],
   "source": [
    "dd = data_moseq['postSD_102']['syllables reindexed']"
   ]
  }
 ],
 "metadata": {
  "kernelspec": {
   "display_name": "keypoint_moseq",
   "language": "python",
   "name": "python3"
  },
  "language_info": {
   "codemirror_mode": {
    "name": "ipython",
    "version": 3
   },
   "file_extension": ".py",
   "mimetype": "text/x-python",
   "name": "python",
   "nbconvert_exporter": "python",
   "pygments_lexer": "ipython3",
   "version": "3.9.16"
  },
  "orig_nbformat": 4
 },
 "nbformat": 4,
 "nbformat_minor": 2
}
