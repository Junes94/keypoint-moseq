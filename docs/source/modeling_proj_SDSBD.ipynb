{
 "cells": [
  {
   "attachments": {},
   "cell_type": "markdown",
   "id": "preliminary-agency",
   "metadata": {},
   "source": [
    "This notebook shows how to setup a new project, train a keypoint-MoSeq model and visualize the resulting syllables. You can load keypoint tracking results from SLEAP, DeepLabCut, or using your own custom format. We provide an [example DeepLabCut dataset](https://drive.google.com/drive/folders/1UNHQ_XCQEKLPPSjGspRopWBj6-YNDV6G?usp=share_link) that can be used for the tutorial."
   ]
  },
  {
   "attachments": {},
   "cell_type": "markdown",
   "id": "f8a52043",
   "metadata": {},
   "source": [
    "# Project setup\n",
    "Create a new project directory with a keypoint-MoSeq `config.yml` file."
   ]
  },
  {
   "cell_type": "code",
   "execution_count": 1,
   "id": "0d804ac5",
   "metadata": {
    "mystnb": {
     "code_prompt_hide": "Custom setup",
     "code_prompt_show": "Custom setup"
    },
    "tags": [
     "hide-cell"
    ]
   },
   "outputs": [],
   "source": [
    "import keypoint_moseq as kpms\n",
    "\n",
    "bodyparts = ['nose','neck','anus','chest','rfoot','lfoot','rhand','lhand','tip']\n",
    "\n",
    "skeleton=[\n",
    "    ['neck', 'chest'],\n",
    "    ['chest', 'anus'],\n",
    "    ['nose', 'neck'],\n",
    "    ['lhand', 'chest'],\n",
    "    ['lfoot', 'anus'],\n",
    "    ['rhand', 'chest'],\n",
    "    ['rfoot', 'anus'],\n",
    "    ['anus', 'tip']]\n",
    "\n",
    "project_dir = 'C:/Users/MyPC/Desktop/git/kp_moseq/keypoint-moseq/project/SDSBD/dataset5/trainset1/'\n",
    "video_dir= []\n",
    "\n",
    "kpms.setup_project(\n",
    "    project_dir,\n",
    "    video_dir=video_dir,\n",
    "    bodyparts=bodyparts,\n",
    "    skeleton=skeleton, overwrite=True)"
   ]
  },
  {
   "cell_type": "code",
   "execution_count": 1,
   "id": "524da030",
   "metadata": {},
   "outputs": [],
   "source": [
    "# load existed project (run this code after creating a project)\n",
    "\n",
    "import keypoint_moseq as kpms\n",
    "\n",
    "project_dir = 'C:/Users/MyPC/Desktop/git/kp_moseq/keypoint-moseq/project/SDSBD/dataset5/trainset1/'\n",
    "video_dir= []\n",
    "config = lambda: kpms.load_config(project_dir)"
   ]
  },
  {
   "attachments": {},
   "cell_type": "markdown",
   "id": "gothic-viking",
   "metadata": {},
   "source": [
    "## Edit the config file\n",
    "\n",
    "The config can be edited in a text editor or using the function `kpms.update_config`, as shown below. In general, the following parameters should be specified for each project:\n",
    "\n",
    "- `bodyparts` (name of each keypoint; automatically imported from SLEAP/DeepLabCut)\n",
    "- `use_bodyparts` (subset of bodyparts to use for modeling, set to all bodyparts by default; for mice we recommend excluding the tail)\n",
    "- `anterior_bodyparts` and `posterior_bodyparts` (used for rotational alignment)\n",
    "- `video_dir` (directory with videos of each experiment)\n",
    "\n",
    "Edit the config as follows for the [example DeepLabCut dataset](https://drive.google.com/drive/folders/1UNHQ_XCQEKLPPSjGspRopWBj6-YNDV6G?usp=share_link):"
   ]
  },
  {
   "cell_type": "code",
   "execution_count": 6,
   "id": "theoretical-yahoo",
   "metadata": {},
   "outputs": [],
   "source": [
    "kpms.update_config(\n",
    "    project_dir,\n",
    "    video_dir=video_dir,\n",
    "    anterior_bodyparts=['nose'],\n",
    "    posterior_bodyparts=['anus'],\n",
    "    use_bodyparts=['nose','neck','anus','chest','rfoot','lfoot','rhand','lhand']\n",
    ")"
   ]
  },
  {
   "attachments": {},
   "cell_type": "markdown",
   "id": "8ed16e05",
   "metadata": {},
   "source": [
    "## Load data\n",
    "\n",
    "The code below shows how to load keypoint detections from DeepLabCut. To load other formats, replace `'deeplabcut'` in the example with one of `'sleap', 'anipose', 'sleap-anipose', 'nwb'`. For other formats, see the [FAQ](https://keypoint-moseq.readthedocs.io/en/latest/FAQs.html#loading-keypoint-tracking-data)."
   ]
  },
  {
   "cell_type": "code",
   "execution_count": 3,
   "id": "65252d16",
   "metadata": {},
   "outputs": [
    {
     "name": "stderr",
     "output_type": "stream",
     "text": [
      "Loading keypoints:   0%|          | 0/28 [00:00<?, ?it/s]"
     ]
    },
    {
     "name": "stderr",
     "output_type": "stream",
     "text": [
      "Loading keypoints: 100%|██████████| 28/28 [00:01<00:00, 15.80it/s]\n"
     ]
    }
   ],
   "source": [
    "import sys\n",
    "sys.path.insert(0, 'C:/Users/MyPC/Desktop/git/AVATAR_motionMap')\n",
    "import FileManager.csvload as acl\n",
    "\n",
    "# load data from AVATAR .csv file\n",
    "keypoint_data_path = acl.get_csv_paths(r'C:\\Users\\MyPC\\Desktop\\실험실\\2.실험데이터\\AVATAR-SDSBD\\dataset5\\trainset1.txt') # can be a file, a directory, or a list of files\n",
    "\n",
    "coordinates, bodyparts = kpms.load_keypoints_AVATAR(keypoint_data_path, path_in_name=False, remove_extension=True)\n",
    "\n",
    "# format data for modeling\n",
    "data, metadata = kpms.format_data(coordinates, confidences=None, **config())"
   ]
  },
  {
   "attachments": {},
   "cell_type": "markdown",
   "id": "processed-struggle",
   "metadata": {},
   "source": [
    "## Calibration\n",
    "\n",
    "The purpose of calibration is to learn the relationship between error and keypoint confidence scores. The resulting regression coefficients (`slope` and `intercept`) are used during modeling to set the noise prior on a per-frame, per-keypoint basis. One can also adjust the `confidence_threshold` parameter at this step, which is used to define outlier keypoints for PCA and model initialization. **This step can be skipped for the demo data** since the config already includes suitable regression coefficients.\n",
    "\n",
    "- Run the cell below. A widget should appear with a video frame on the left.\n",
    "    - *If the widget doesn't render, try using jupyter lab instead of jupyter notebook*\n",
    "    \n",
    "- Annotate each frame with the correct location of the labeled bodypart\n",
    "    - Left click to specify the correct location - an \"X\" should appear.\n",
    "    - Use the arrow buttons to annotate additional frames.\n",
    "    - Each annotation adds a point to the right-hand scatter plot. \n",
    "    - Continue until the regression line stabilizes.\n",
    "   \n",
    "- At any point, adjust the confidence threshold by clicking on the scatter plot.\n",
    "\n",
    "- Use the \"save\" button to update the config and store your annotations to disk."
   ]
  },
  {
   "cell_type": "code",
   "execution_count": null,
   "id": "chicken-diameter",
   "metadata": {},
   "outputs": [],
   "source": [
    "#kpms.noise_calibration(project_dir, coordinates, confidences, **config())"
   ]
  },
  {
   "attachments": {},
   "cell_type": "markdown",
   "id": "organizational-theorem",
   "metadata": {},
   "source": [
    "## Fit PCA\n",
    "\n",
    "Run the cell below to fit a PCA model to aligned and centered keypoint coordinates.\n",
    "\n",
    "- The model is saved to ``{project_dir}/pca.p`` and can be reloaded using ``kpms.load_pca``. \n",
    "- Two plots are generated: a cumulative [scree plot](https://en.wikipedia.org/wiki/Scree_plot) and a depiction of each PC, where translucent nodes/edges represent the mean pose and opaque nodes/edges represent a perturbation in the direction of the PC. \n",
    "- After fitting, edit `latent_dimension` in the config. This determines the dimension of the pose trajectory used to fit keypoint-MoSeq. A good heuristic is the number of dimensions needed to explain 90% of variance, or 10 dimensions - whichever is lower.  "
   ]
  },
  {
   "cell_type": "code",
   "execution_count": 5,
   "id": "respiratory-canvas",
   "metadata": {},
   "outputs": [
    {
     "name": "stdout",
     "output_type": "stream",
     "text": [
      ">=90.0% of variance exlained by 9 components.\n"
     ]
    },
    {
     "data": {
      "image/png": "[encoded data removed]",
      "text/plain": [
       "<Figure size 300x200 with 1 Axes>"
      ]
     },
     "metadata": {},
     "output_type": "display_data"
    },
    {
     "data": {
      "image/png": "[encoded data removed]",
      "text/plain": [
       "<Figure size 1000x300 with 10 Axes>"
      ]
     },
     "metadata": {},
     "output_type": "display_data"
    },
    {
     "data": {
      "image/png": "[encoded data removed]",
      "text/plain": [
       "<Figure size 1000x300 with 10 Axes>"
      ]
     },
     "metadata": {},
     "output_type": "display_data"
    },
    {
     "name": "stdout",
     "output_type": "stream",
     "text": [
      "Saved interactive plot to C:/Users/MyPC/Desktop/git/kp_moseq/keypoint-moseq/project/SDSBD/dataset5/trainset1/pcs.html\n"
     ]
    },
    {
     "data": {
      "application/vnd.plotly.v1+json": {
       "config": {
        "plotlyServerURL": "https://plot.ly"
       },
       "data": [
        {
         "marker": {
          "color": [
           0,
           0.14285714285714285,
           0.2857142857142857,
           0.42857142857142855,
           0.5714285714285714,
           0.7142857142857142,
           0.8571428571428571,
           1
          ],
          "colorscale": [
           [
            0,
            "rgb(255, 0, 0)"
           ],
           [
            0.003937007874015748,
            "rgb(255, 1, 0)"
           ],
           [
            0.007874015748031496,
            "rgb(255, 2, 0)"
           ],
           [
            0.011811023622047244,
            "rgb(255, 3, 0)"
           ],
           [
            0.015748031496062992,
            "rgb(255, 4, 0)"
           ],
           [
            0.01968503937007874,
            "rgb(255, 5, 0)"
           ],
           [
            0.023622047244094488,
            "rgb(255, 6, 0)"
           ],
           [
            0.027559055118110236,
            "rgb(255, 7, 0)"
           ],
           [
            0.031496062992125984,
            "rgb(255, 8, 0)"
           ],
           [
            0.03543307086614173,
            "rgb(255, 9, 0)"
           ],
           [
            0.03937007874015748,
            "rgb(255, 10, 0)"
           ],
           [
            0.04330708661417323,
            "rgb(255, 11, 0)"
           ],
           [
            0.047244094488188976,
            "rgb(255, 12, 0)"
           ],
           [
            0.051181102362204724,
            "rgb(255, 13, 0)"
           ],
           [
            0.05511811023622047,
            "rgb(255, 14, 0)"
           ],
           [
            0.05905511811023622,
            "rgb(255, 15, 0)"
           ],
           [
            0.06299212598425197,
            "rgb(255, 16, 0)"
           ],
           [
            0.06692913385826771,
            "rgb(255, 17, 0)"
           ],
           [
            0.07086614173228346,
            "rgb(255, 18, 0)"
           ],
           [
            0.07480314960629922,
            "rgb(255, 19, 0)"
           ],
           [
            0.07874015748031496,
            "rgb(255, 20, 0)"
           ],
           [
            0.0826771653543307,
            "rgb(255, 21, 0)"
           ],
           [
            0.08661417322834646,
            "rgb(255, 22, 0)"
           ],
           [
            0.09055118110236221,
            "rgb(255, 23, 0)"
           ],
           [
            0.09448818897637795,
            "rgb(255, 24, 0)"
           ],
           [
            0.09842519685039369,
            "rgb(255, 25, 0)"
           ],
           [
            0.10236220472440945,
            "rgb(255, 26, 0)"
           ],
           [
            0.1062992125984252,
            "rgb(255, 27, 0)"
           ],
           [
            0.11023622047244094,
            "rgb(255, 28, 0)"
           ],
           [
            0.11417322834645668,
            "rgb(255, 29, 0)"
           ],
           [
            0.11811023622047244,
            "rgb(255, 30, 0)"
           ],
           [
            0.1220472440944882,
            "rgb(255, 31, 0)"
           ],
           [
            0.12598425196850394,
            "rgb(255, 32, 0)"
           ],
           [
            0.12992125984251968,
            "rgb(255, 32, 0)"
           ],
           [
            0.13385826771653542,
            "rgb(255, 34, 0)"
           ],
           [
            0.1377952755905512,
            "rgb(255, 35, 0)"
           ],
           [
            0.14173228346456693,
            "rgb(255, 36, 0)"
           ],
           [
            0.14566929133858267,
            "rgb(255, 36, 0)"
           ],
           [
            0.14960629921259844,
            "rgb(255, 38, 0)"
           ],
           [
            0.15354330708661418,
            "rgb(255, 39, 0)"
           ],
           [
            0.15748031496062992,
            "rgb(255, 40, 0)"
           ],
           [
            0.16141732283464566,
            "rgb(255, 40, 0)"
           ],
           [
            0.1653543307086614,
            "rgb(255, 42, 0)"
           ],
           [
            0.16929133858267717,
            "rgb(255, 43, 0)"
           ],
           [
            0.1732283464566929,
            "rgb(255, 44, 0)"
           ],
           [
            0.17716535433070865,
            "rgb(255, 44, 0)"
           ],
           [
            0.18110236220472442,
            "rgb(255, 46, 0)"
           ],
           [
            0.18503937007874016,
            "rgb(255, 47, 0)"
           ],
           [
            0.1889763779527559,
            "rgb(255, 48, 0)"
           ],
           [
            0.19291338582677164,
            "rgb(255, 48, 0)"
           ],
           [
            0.19685039370078738,
            "rgb(255, 50, 0)"
           ],
           [
            0.20078740157480315,
            "rgb(255, 51, 0)"
           ],
           [
            0.2047244094488189,
            "rgb(255, 52, 0)"
           ],
           [
            0.20866141732283464,
            "rgb(255, 52, 0)"
           ],
           [
            0.2125984251968504,
            "rgb(255, 54, 0)"
           ],
           [
            0.21653543307086615,
            "rgb(255, 55, 0)"
           ],
           [
            0.2204724409448819,
            "rgb(255, 56, 0)"
           ],
           [
            0.22440944881889763,
            "rgb(255, 56, 0)"
           ],
           [
            0.22834645669291337,
            "rgb(255, 58, 0)"
           ],
           [
            0.23228346456692914,
            "rgb(255, 59, 0)"
           ],
           [
            0.23622047244094488,
            "rgb(255, 60, 0)"
           ],
           [
            0.24015748031496062,
            "rgb(255, 60, 0)"
           ],
           [
            0.2440944881889764,
            "rgb(255, 62, 0)"
           ],
           [
            0.24803149606299213,
            "rgb(255, 63, 0)"
           ],
           [
            0.25196850393700787,
            "rgb(255, 64, 0)"
           ],
           [
            0.2559055118110236,
            "rgb(255, 65, 0)"
           ],
           [
            0.25984251968503935,
            "rgb(255, 65, 0)"
           ],
           [
            0.2637795275590551,
            "rgb(255, 67, 0)"
           ],
           [
            0.26771653543307083,
            "rgb(255, 68, 0)"
           ],
           [
            0.27165354330708663,
            "rgb(255, 69, 0)"
           ],
           [
            0.2755905511811024,
            "rgb(255, 70, 0)"
           ],
           [
            0.2795275590551181,
            "rgb(255, 71, 0)"
           ],
           [
            0.28346456692913385,
            "rgb(255, 72, 0)"
           ],
           [
            0.2874015748031496,
            "rgb(255, 73, 0)"
           ],
           [
            0.29133858267716534,
            "rgb(255, 73, 0)"
           ],
           [
            0.2952755905511811,
            "rgb(255, 75, 0)"
           ],
           [
            0.2992125984251969,
            "rgb(255, 76, 0)"
           ],
           [
            0.3031496062992126,
            "rgb(255, 77, 0)"
           ],
           [
            0.30708661417322836,
            "rgb(255, 78, 0)"
           ],
           [
            0.3110236220472441,
            "rgb(255, 79, 0)"
           ],
           [
            0.31496062992125984,
            "rgb(255, 80, 0)"
           ],
           [
            0.3188976377952756,
            "rgb(255, 81, 0)"
           ],
           [
            0.3228346456692913,
            "rgb(255, 81, 0)"
           ],
           [
            0.32677165354330706,
            "rgb(255, 83, 0)"
           ],
           [
            0.3307086614173228,
            "rgb(255, 84, 0)"
           ],
           [
            0.3346456692913386,
            "rgb(255, 85, 0)"
           ],
           [
            0.33858267716535434,
            "rgb(255, 86, 0)"
           ],
           [
            0.3425196850393701,
            "rgb(255, 87, 0)"
           ],
           [
            0.3464566929133858,
            "rgb(255, 88, 0)"
           ],
           [
            0.35039370078740156,
            "rgb(255, 89, 0)"
           ],
           [
            0.3543307086614173,
            "rgb(255, 89, 0)"
           ],
           [
            0.35826771653543305,
            "rgb(255, 91, 0)"
           ],
           [
            0.36220472440944884,
            "rgb(255, 92, 0)"
           ],
           [
            0.3661417322834646,
            "rgb(255, 93, 0)"
           ],
           [
            0.3700787401574803,
            "rgb(255, 94, 0)"
           ],
           [
            0.37401574803149606,
            "rgb(255, 95, 0)"
           ],
           [
            0.3779527559055118,
            "rgb(255, 96, 0)"
           ],
           [
            0.38188976377952755,
            "rgb(255, 97, 0)"
           ],
           [
            0.3858267716535433,
            "rgb(255, 97, 0)"
           ],
           [
            0.38976377952755903,
            "rgb(255, 99, 0)"
           ],
           [
            0.39370078740157477,
            "rgb(255, 100, 0)"
           ],
           [
            0.39763779527559057,
            "rgb(255, 101, 0)"
           ],
           [
            0.4015748031496063,
            "rgb(255, 102, 0)"
           ],
           [
            0.40551181102362205,
            "rgb(255, 103, 0)"
           ],
           [
            0.4094488188976378,
            "rgb(255, 104, 0)"
           ],
           [
            0.41338582677165353,
            "rgb(255, 105, 0)"
           ],
           [
            0.41732283464566927,
            "rgb(255, 105, 0)"
           ],
           [
            0.421259842519685,
            "rgb(255, 107, 0)"
           ],
           [
            0.4251968503937008,
            "rgb(255, 108, 0)"
           ],
           [
            0.42913385826771655,
            "rgb(255, 109, 0)"
           ],
           [
            0.4330708661417323,
            "rgb(255, 110, 0)"
           ],
           [
            0.43700787401574803,
            "rgb(255, 111, 0)"
           ],
           [
            0.4409448818897638,
            "rgb(255, 112, 0)"
           ],
           [
            0.4448818897637795,
            "rgb(255, 113, 0)"
           ],
           [
            0.44881889763779526,
            "rgb(255, 113, 0)"
           ],
           [
            0.452755905511811,
            "rgb(255, 115, 0)"
           ],
           [
            0.45669291338582674,
            "rgb(255, 116, 0)"
           ],
           [
            0.46062992125984253,
            "rgb(255, 117, 0)"
           ],
           [
            0.4645669291338583,
            "rgb(255, 118, 0)"
           ],
           [
            0.468503937007874,
            "rgb(255, 119, 0)"
           ],
           [
            0.47244094488188976,
            "rgb(255, 120, 0)"
           ],
           [
            0.4763779527559055,
            "rgb(255, 121, 0)"
           ],
           [
            0.48031496062992124,
            "rgb(255, 121, 0)"
           ],
           [
            0.484251968503937,
            "rgb(255, 123, 0)"
           ],
           [
            0.4881889763779528,
            "rgb(255, 124, 0)"
           ],
           [
            0.4921259842519685,
            "rgb(255, 125, 0)"
           ],
           [
            0.49606299212598426,
            "rgb(255, 126, 0)"
           ],
           [
            0.5,
            "rgb(255, 128, 0)"
           ],
           [
            0.5039370078740157,
            "rgb(255, 129, 0)"
           ],
           [
            0.5078740157480315,
            "rgb(255, 130, 0)"
           ],
           [
            0.5118110236220472,
            "rgb(255, 131, 0)"
           ],
           [
            0.515748031496063,
            "rgb(255, 131, 0)"
           ],
           [
            0.5196850393700787,
            "rgb(255, 133, 0)"
           ],
           [
            0.5236220472440944,
            "rgb(255, 134, 0)"
           ],
           [
            0.5275590551181102,
            "rgb(255, 135, 0)"
           ],
           [
            0.5314960629921259,
            "rgb(255, 136, 0)"
           ],
           [
            0.5354330708661417,
            "rgb(255, 137, 0)"
           ],
           [
            0.5393700787401575,
            "rgb(255, 138, 0)"
           ],
           [
            0.5433070866141733,
            "rgb(255, 139, 0)"
           ],
           [
            0.547244094488189,
            "rgb(255, 140, 0)"
           ],
           [
            0.5511811023622047,
            "rgb(255, 141, 0)"
           ],
           [
            0.5551181102362205,
            "rgb(255, 142, 0)"
           ],
           [
            0.5590551181102362,
            "rgb(255, 143, 0)"
           ],
           [
            0.562992125984252,
            "rgb(255, 144, 0)"
           ],
           [
            0.5669291338582677,
            "rgb(255, 145, 0)"
           ],
           [
            0.5708661417322834,
            "rgb(255, 146, 0)"
           ],
           [
            0.5748031496062992,
            "rgb(255, 147, 0)"
           ],
           [
            0.5787401574803149,
            "rgb(255, 147, 0)"
           ],
           [
            0.5826771653543307,
            "rgb(255, 149, 0)"
           ],
           [
            0.5866141732283464,
            "rgb(255, 150, 0)"
           ],
           [
            0.5905511811023622,
            "rgb(255, 151, 0)"
           ],
           [
            0.5944881889763779,
            "rgb(255, 152, 0)"
           ],
           [
            0.5984251968503937,
            "rgb(255, 153, 0)"
           ],
           [
            0.6023622047244095,
            "rgb(255, 154, 0)"
           ],
           [
            0.6062992125984252,
            "rgb(255, 155, 0)"
           ],
           [
            0.610236220472441,
            "rgb(255, 156, 0)"
           ],
           [
            0.6141732283464567,
            "rgb(255, 157, 0)"
           ],
           [
            0.6181102362204725,
            "rgb(255, 158, 0)"
           ],
           [
            0.6220472440944882,
            "rgb(255, 159, 0)"
           ],
           [
            0.6259842519685039,
            "rgb(255, 160, 0)"
           ],
           [
            0.6299212598425197,
            "rgb(255, 161, 0)"
           ],
           [
            0.6338582677165354,
            "rgb(255, 162, 0)"
           ],
           [
            0.6377952755905512,
            "rgb(255, 163, 0)"
           ],
           [
            0.6417322834645669,
            "rgb(255, 163, 0)"
           ],
           [
            0.6456692913385826,
            "rgb(255, 165, 0)"
           ],
           [
            0.6496062992125984,
            "rgb(255, 166, 0)"
           ],
           [
            0.6535433070866141,
            "rgb(255, 167, 0)"
           ],
           [
            0.6574803149606299,
            "rgb(255, 168, 0)"
           ],
           [
            0.6614173228346456,
            "rgb(255, 169, 0)"
           ],
           [
            0.6653543307086615,
            "rgb(255, 170, 0)"
           ],
           [
            0.6692913385826772,
            "rgb(255, 171, 0)"
           ],
           [
            0.6732283464566929,
            "rgb(255, 172, 0)"
           ],
           [
            0.6771653543307087,
            "rgb(255, 173, 0)"
           ],
           [
            0.6811023622047244,
            "rgb(255, 174, 0)"
           ],
           [
            0.6850393700787402,
            "rgb(255, 175, 0)"
           ],
           [
            0.6889763779527559,
            "rgb(255, 176, 0)"
           ],
           [
            0.6929133858267716,
            "rgb(255, 177, 0)"
           ],
           [
            0.6968503937007874,
            "rgb(255, 178, 0)"
           ],
           [
            0.7007874015748031,
            "rgb(255, 179, 0)"
           ],
           [
            0.7047244094488189,
            "rgb(255, 179, 0)"
           ],
           [
            0.7086614173228346,
            "rgb(255, 181, 0)"
           ],
           [
            0.7125984251968503,
            "rgb(255, 182, 0)"
           ],
           [
            0.7165354330708661,
            "rgb(255, 183, 0)"
           ],
           [
            0.7204724409448818,
            "rgb(255, 184, 0)"
           ],
           [
            0.7244094488188977,
            "rgb(255, 185, 0)"
           ],
           [
            0.7283464566929134,
            "rgb(255, 186, 0)"
           ],
           [
            0.7322834645669292,
            "rgb(255, 187, 0)"
           ],
           [
            0.7362204724409449,
            "rgb(255, 188, 0)"
           ],
           [
            0.7401574803149606,
            "rgb(255, 189, 0)"
           ],
           [
            0.7440944881889764,
            "rgb(255, 190, 0)"
           ],
           [
            0.7480314960629921,
            "rgb(255, 191, 0)"
           ],
           [
            0.7519685039370079,
            "rgb(255, 192, 0)"
           ],
           [
            0.7559055118110236,
            "rgb(255, 193, 0)"
           ],
           [
            0.7598425196850394,
            "rgb(255, 194, 0)"
           ],
           [
            0.7637795275590551,
            "rgb(255, 195, 0)"
           ],
           [
            0.7677165354330708,
            "rgb(255, 195, 0)"
           ],
           [
            0.7716535433070866,
            "rgb(255, 197, 0)"
           ],
           [
            0.7755905511811023,
            "rgb(255, 198, 0)"
           ],
           [
            0.7795275590551181,
            "rgb(255, 199, 0)"
           ],
           [
            0.7834645669291338,
            "rgb(255, 200, 0)"
           ],
           [
            0.7874015748031495,
            "rgb(255, 201, 0)"
           ],
           [
            0.7913385826771654,
            "rgb(255, 202, 0)"
           ],
           [
            0.7952755905511811,
            "rgb(255, 203, 0)"
           ],
           [
            0.7992125984251969,
            "rgb(255, 204, 0)"
           ],
           [
            0.8031496062992126,
            "rgb(255, 205, 0)"
           ],
           [
            0.8070866141732284,
            "rgb(255, 206, 0)"
           ],
           [
            0.8110236220472441,
            "rgb(255, 207, 0)"
           ],
           [
            0.8149606299212598,
            "rgb(255, 208, 0)"
           ],
           [
            0.8188976377952756,
            "rgb(255, 209, 0)"
           ],
           [
            0.8228346456692913,
            "rgb(255, 210, 0)"
           ],
           [
            0.8267716535433071,
            "rgb(255, 211, 0)"
           ],
           [
            0.8307086614173228,
            "rgb(255, 211, 0)"
           ],
           [
            0.8346456692913385,
            "rgb(255, 213, 0)"
           ],
           [
            0.8385826771653543,
            "rgb(255, 214, 0)"
           ],
           [
            0.84251968503937,
            "rgb(255, 215, 0)"
           ],
           [
            0.8464566929133858,
            "rgb(255, 216, 0)"
           ],
           [
            0.8503937007874016,
            "rgb(255, 217, 0)"
           ],
           [
            0.8543307086614174,
            "rgb(255, 218, 0)"
           ],
           [
            0.8582677165354331,
            "rgb(255, 219, 0)"
           ],
           [
            0.8622047244094488,
            "rgb(255, 220, 0)"
           ],
           [
            0.8661417322834646,
            "rgb(255, 221, 0)"
           ],
           [
            0.8700787401574803,
            "rgb(255, 222, 0)"
           ],
           [
            0.8740157480314961,
            "rgb(255, 223, 0)"
           ],
           [
            0.8779527559055118,
            "rgb(255, 224, 0)"
           ],
           [
            0.8818897637795275,
            "rgb(255, 225, 0)"
           ],
           [
            0.8858267716535433,
            "rgb(255, 226, 0)"
           ],
           [
            0.889763779527559,
            "rgb(255, 227, 0)"
           ],
           [
            0.8937007874015748,
            "rgb(255, 227, 0)"
           ],
           [
            0.8976377952755905,
            "rgb(255, 229, 0)"
           ],
           [
            0.9015748031496063,
            "rgb(255, 230, 0)"
           ],
           [
            0.905511811023622,
            "rgb(255, 231, 0)"
           ],
           [
            0.9094488188976377,
            "rgb(255, 232, 0)"
           ],
           [
            0.9133858267716535,
            "rgb(255, 233, 0)"
           ],
           [
            0.9173228346456693,
            "rgb(255, 234, 0)"
           ],
           [
            0.9212598425196851,
            "rgb(255, 235, 0)"
           ],
           [
            0.9251968503937008,
            "rgb(255, 236, 0)"
           ],
           [
            0.9291338582677166,
            "rgb(255, 237, 0)"
           ],
           [
            0.9330708661417323,
            "rgb(255, 238, 0)"
           ],
           [
            0.937007874015748,
            "rgb(255, 239, 0)"
           ],
           [
            0.9409448818897638,
            "rgb(255, 240, 0)"
           ],
           [
            0.9448818897637795,
            "rgb(255, 241, 0)"
           ],
           [
            0.9488188976377953,
            "rgb(255, 242, 0)"
           ],
           [
            0.952755905511811,
            "rgb(255, 243, 0)"
           ],
           [
            0.9566929133858267,
            "rgb(255, 243, 0)"
           ],
           [
            0.9606299212598425,
            "rgb(255, 245, 0)"
           ],
           [
            0.9645669291338582,
            "rgb(255, 246, 0)"
           ],
           [
            0.968503937007874,
            "rgb(255, 247, 0)"
           ],
           [
            0.9724409448818897,
            "rgb(255, 248, 0)"
           ],
           [
            0.9763779527559056,
            "rgb(255, 249, 0)"
           ],
           [
            0.9803149606299213,
            "rgb(255, 250, 0)"
           ],
           [
            0.984251968503937,
            "rgb(255, 251, 0)"
           ],
           [
            0.9881889763779528,
            "rgb(255, 252, 0)"
           ],
           [
            0.9921259842519685,
            "rgb(255, 253, 0)"
           ],
           [
            0.9960629921259843,
            "rgb(255, 254, 0)"
           ],
           [
            1,
            "rgb(255, 255, 0)"
           ]
          ],
          "line": {
           "color": "black",
           "width": 0.5
          },
          "opacity": 1,
          "size": 10
         },
         "mode": "markers",
         "type": "scatter3d",
         "visible": true,
         "x": [
          2.4768948555525623,
          1.6445725571503016,
          -3.1854183621562617,
          -0.28967980102930824,
          -1.571887109462629,
          -1.5932357370378196,
          1.2816890528187805,
          1.2370645441643677
         ],
         "y": [
          -0.005098071067900415,
          0.03584867883214822,
          -0.005098071067888572,
          0.02293374136865914,
          -1.1823583006394738,
          1.0889716795980975,
          -0.6021804588515619,
          0.6469808018279195
         ],
         "z": [
          0.5021617198330706,
          1.280686543597128,
          0.06171505719907555,
          0.9562888695695672,
          -0.776746622103502,
          -0.7514463066964543,
          -0.6191497698031454,
          -0.6535094915957449
         ]
        },
        {
         "line": {
          "color": "rgba(0,0,0,1)",
          "width": 4
         },
         "mode": "lines",
         "type": "scatter3d",
         "visible": true,
         "x": [
          1.6445725571503016,
          -0.28967980102930824
         ],
         "y": [
          0.03584867883214822,
          0.02293374136865914
         ],
         "z": [
          1.280686543597128,
          0.9562888695695672
         ]
        },
        {
         "line": {
          "color": "rgba(0,0,0,1)",
          "width": 4
         },
         "mode": "lines",
         "type": "scatter3d",
         "visible": true,
         "x": [
          -0.28967980102930824,
          -3.1854183621562617
         ],
         "y": [
          0.02293374136865914,
          -0.005098071067888572
         ],
         "z": [
          0.9562888695695672,
          0.06171505719907555
         ]
        },
        {
         "line": {
          "color": "rgba(0,0,0,1)",
          "width": 4
         },
         "mode": "lines",
         "type": "scatter3d",
         "visible": true,
         "x": [
          2.4768948555525623,
          1.6445725571503016
         ],
         "y": [
          -0.005098071067900415,
          0.03584867883214822
         ],
         "z": [
          0.5021617198330706,
          1.280686543597128
         ]
        },
        {
         "line": {
          "color": "rgba(0,0,0,1)",
          "width": 4
         },
         "mode": "lines",
         "type": "scatter3d",
         "visible": true,
         "x": [
          1.2370645441643677,
          -0.28967980102930824
         ],
         "y": [
          0.6469808018279195,
          0.02293374136865914
         ],
         "z": [
          -0.6535094915957449,
          0.9562888695695672
         ]
        },
        {
         "line": {
          "color": "rgba(0,0,0,1)",
          "width": 4
         },
         "mode": "lines",
         "type": "scatter3d",
         "visible": true,
         "x": [
          -1.5932357370378196,
          -3.1854183621562617
         ],
         "y": [
          1.0889716795980975,
          -0.005098071067888572
         ],
         "z": [
          -0.7514463066964543,
          0.06171505719907555
         ]
        },
        {
         "line": {
          "color": "rgba(0,0,0,1)",
          "width": 4
         },
         "mode": "lines",
         "type": "scatter3d",
         "visible": true,
         "x": [
          1.2816890528187805,
          -0.28967980102930824
         ],
         "y": [
          -0.6021804588515619,
          0.02293374136865914
         ],
         "z": [
          -0.6191497698031454,
          0.9562888695695672
         ]
        },
        {
         "line": {
          "color": "rgba(0,0,0,1)",
          "width": 4
         },
         "mode": "lines",
         "type": "scatter3d",
         "visible": true,
         "x": [
          -1.571887109462629,
          -3.1854183621562617
         ],
         "y": [
          -1.1823583006394738,
          -0.005098071067888572
         ],
         "z": [
          -0.776746622103502,
          0.06171505719907555
         ]
        },
        {
         "marker": {
          "color": [
           0,
           0.14285714285714285,
           0.2857142857142857,
           0.42857142857142855,
           0.5714285714285714,
           0.7142857142857142,
           0.8571428571428571,
           1
          ],
          "colorscale": [
           [
            0,
            "rgb(255, 0, 0)"
           ],
           [
            0.003937007874015748,
            "rgb(255, 1, 0)"
           ],
           [
            0.007874015748031496,
            "rgb(255, 2, 0)"
           ],
           [
            0.011811023622047244,
            "rgb(255, 3, 0)"
           ],
           [
            0.015748031496062992,
            "rgb(255, 4, 0)"
           ],
           [
            0.01968503937007874,
            "rgb(255, 5, 0)"
           ],
           [
            0.023622047244094488,
            "rgb(255, 6, 0)"
           ],
           [
            0.027559055118110236,
            "rgb(255, 7, 0)"
           ],
           [
            0.031496062992125984,
            "rgb(255, 8, 0)"
           ],
           [
            0.03543307086614173,
            "rgb(255, 9, 0)"
           ],
           [
            0.03937007874015748,
            "rgb(255, 10, 0)"
           ],
           [
            0.04330708661417323,
            "rgb(255, 11, 0)"
           ],
           [
            0.047244094488188976,
            "rgb(255, 12, 0)"
           ],
           [
            0.051181102362204724,
            "rgb(255, 13, 0)"
           ],
           [
            0.05511811023622047,
            "rgb(255, 14, 0)"
           ],
           [
            0.05905511811023622,
            "rgb(255, 15, 0)"
           ],
           [
            0.06299212598425197,
            "rgb(255, 16, 0)"
           ],
           [
            0.06692913385826771,
            "rgb(255, 17, 0)"
           ],
           [
            0.07086614173228346,
            "rgb(255, 18, 0)"
           ],
           [
            0.07480314960629922,
            "rgb(255, 19, 0)"
           ],
           [
            0.07874015748031496,
            "rgb(255, 20, 0)"
           ],
           [
            0.0826771653543307,
            "rgb(255, 21, 0)"
           ],
           [
            0.08661417322834646,
            "rgb(255, 22, 0)"
           ],
           [
            0.09055118110236221,
            "rgb(255, 23, 0)"
           ],
           [
            0.09448818897637795,
            "rgb(255, 24, 0)"
           ],
           [
            0.09842519685039369,
            "rgb(255, 25, 0)"
           ],
           [
            0.10236220472440945,
            "rgb(255, 26, 0)"
           ],
           [
            0.1062992125984252,
            "rgb(255, 27, 0)"
           ],
           [
            0.11023622047244094,
            "rgb(255, 28, 0)"
           ],
           [
            0.11417322834645668,
            "rgb(255, 29, 0)"
           ],
           [
            0.11811023622047244,
            "rgb(255, 30, 0)"
           ],
           [
            0.1220472440944882,
            "rgb(255, 31, 0)"
           ],
           [
            0.12598425196850394,
            "rgb(255, 32, 0)"
           ],
           [
            0.12992125984251968,
            "rgb(255, 32, 0)"
           ],
           [
            0.13385826771653542,
            "rgb(255, 34, 0)"
           ],
           [
            0.1377952755905512,
            "rgb(255, 35, 0)"
           ],
           [
            0.14173228346456693,
            "rgb(255, 36, 0)"
           ],
           [
            0.14566929133858267,
            "rgb(255, 36, 0)"
           ],
           [
            0.14960629921259844,
            "rgb(255, 38, 0)"
           ],
           [
            0.15354330708661418,
            "rgb(255, 39, 0)"
           ],
           [
            0.15748031496062992,
            "rgb(255, 40, 0)"
           ],
           [
            0.16141732283464566,
            "rgb(255, 40, 0)"
           ],
           [
            0.1653543307086614,
            "rgb(255, 42, 0)"
           ],
           [
            0.16929133858267717,
            "rgb(255, 43, 0)"
           ],
           [
            0.1732283464566929,
            "rgb(255, 44, 0)"
           ],
           [
            0.17716535433070865,
            "rgb(255, 44, 0)"
           ],
           [
            0.18110236220472442,
            "rgb(255, 46, 0)"
           ],
           [
            0.18503937007874016,
            "rgb(255, 47, 0)"
           ],
           [
            0.1889763779527559,
            "rgb(255, 48, 0)"
           ],
           [
            0.19291338582677164,
            "rgb(255, 48, 0)"
           ],
           [
            0.19685039370078738,
            "rgb(255, 50, 0)"
           ],
           [
            0.20078740157480315,
            "rgb(255, 51, 0)"
           ],
           [
            0.2047244094488189,
            "rgb(255, 52, 0)"
           ],
           [
            0.20866141732283464,
            "rgb(255, 52, 0)"
           ],
           [
            0.2125984251968504,
            "rgb(255, 54, 0)"
           ],
           [
            0.21653543307086615,
            "rgb(255, 55, 0)"
           ],
           [
            0.2204724409448819,
            "rgb(255, 56, 0)"
           ],
           [
            0.22440944881889763,
            "rgb(255, 56, 0)"
           ],
           [
            0.22834645669291337,
            "rgb(255, 58, 0)"
           ],
           [
            0.23228346456692914,
            "rgb(255, 59, 0)"
           ],
           [
            0.23622047244094488,
            "rgb(255, 60, 0)"
           ],
           [
            0.24015748031496062,
            "rgb(255, 60, 0)"
           ],
           [
            0.2440944881889764,
            "rgb(255, 62, 0)"
           ],
           [
            0.24803149606299213,
            "rgb(255, 63, 0)"
           ],
           [
            0.25196850393700787,
            "rgb(255, 64, 0)"
           ],
           [
            0.2559055118110236,
            "rgb(255, 65, 0)"
           ],
           [
            0.25984251968503935,
            "rgb(255, 65, 0)"
           ],
           [
            0.2637795275590551,
            "rgb(255, 67, 0)"
           ],
           [
            0.26771653543307083,
            "rgb(255, 68, 0)"
           ],
           [
            0.27165354330708663,
            "rgb(255, 69, 0)"
           ],
           [
            0.2755905511811024,
            "rgb(255, 70, 0)"
           ],
           [
            0.2795275590551181,
            "rgb(255, 71, 0)"
           ],
           [
            0.28346456692913385,
            "rgb(255, 72, 0)"
           ],
           [
            0.2874015748031496,
            "rgb(255, 73, 0)"
           ],
           [
            0.29133858267716534,
            "rgb(255, 73, 0)"
           ],
           [
            0.2952755905511811,
            "rgb(255, 75, 0)"
           ],
           [
            0.2992125984251969,
            "rgb(255, 76, 0)"
           ],
           [
            0.3031496062992126,
            "rgb(255, 77, 0)"
           ],
           [
            0.30708661417322836,
            "rgb(255, 78, 0)"
           ],
           [
            0.3110236220472441,
            "rgb(255, 79, 0)"
           ],
           [
            0.31496062992125984,
            "rgb(255, 80, 0)"
           ],
           [
            0.3188976377952756,
            "rgb(255, 81, 0)"
           ],
           [
            0.3228346456692913,
            "rgb(255, 81, 0)"
           ],
           [
            0.32677165354330706,
            "rgb(255, 83, 0)"
           ],
           [
            0.3307086614173228,
            "rgb(255, 84, 0)"
           ],
           [
            0.3346456692913386,
            "rgb(255, 85, 0)"
           ],
           [
            0.33858267716535434,
            "rgb(255, 86, 0)"
           ],
           [
            0.3425196850393701,
            "rgb(255, 87, 0)"
           ],
           [
            0.3464566929133858,
            "rgb(255, 88, 0)"
           ],
           [
            0.35039370078740156,
            "rgb(255, 89, 0)"
           ],
           [
            0.3543307086614173,
            "rgb(255, 89, 0)"
           ],
           [
            0.35826771653543305,
            "rgb(255, 91, 0)"
           ],
           [
            0.36220472440944884,
            "rgb(255, 92, 0)"
           ],
           [
            0.3661417322834646,
            "rgb(255, 93, 0)"
           ],
           [
            0.3700787401574803,
            "rgb(255, 94, 0)"
           ],
           [
            0.37401574803149606,
            "rgb(255, 95, 0)"
           ],
           [
            0.3779527559055118,
            "rgb(255, 96, 0)"
           ],
           [
            0.38188976377952755,
            "rgb(255, 97, 0)"
           ],
           [
            0.3858267716535433,
            "rgb(255, 97, 0)"
           ],
           [
            0.38976377952755903,
            "rgb(255, 99, 0)"
           ],
           [
            0.39370078740157477,
            "rgb(255, 100, 0)"
           ],
           [
            0.39763779527559057,
            "rgb(255, 101, 0)"
           ],
           [
            0.4015748031496063,
            "rgb(255, 102, 0)"
           ],
           [
            0.40551181102362205,
            "rgb(255, 103, 0)"
           ],
           [
            0.4094488188976378,
            "rgb(255, 104, 0)"
           ],
           [
            0.41338582677165353,
            "rgb(255, 105, 0)"
           ],
           [
            0.41732283464566927,
            "rgb(255, 105, 0)"
           ],
           [
            0.421259842519685,
            "rgb(255, 107, 0)"
           ],
           [
            0.4251968503937008,
            "rgb(255, 108, 0)"
           ],
           [
            0.42913385826771655,
            "rgb(255, 109, 0)"
           ],
           [
            0.4330708661417323,
            "rgb(255, 110, 0)"
           ],
           [
            0.43700787401574803,
            "rgb(255, 111, 0)"
           ],
           [
            0.4409448818897638,
            "rgb(255, 112, 0)"
           ],
           [
            0.4448818897637795,
            "rgb(255, 113, 0)"
           ],
           [
            0.44881889763779526,
            "rgb(255, 113, 0)"
           ],
           [
            0.452755905511811,
            "rgb(255, 115, 0)"
           ],
           [
            0.45669291338582674,
            "rgb(255, 116, 0)"
           ],
           [
            0.46062992125984253,
            "rgb(255, 117, 0)"
           ],
           [
            0.4645669291338583,
            "rgb(255, 118, 0)"
           ],
           [
            0.468503937007874,
            "rgb(255, 119, 0)"
           ],
           [
            0.47244094488188976,
            "rgb(255, 120, 0)"
           ],
           [
            0.4763779527559055,
            "rgb(255, 121, 0)"
           ],
           [
            0.48031496062992124,
            "rgb(255, 121, 0)"
           ],
           [
            0.484251968503937,
            "rgb(255, 123, 0)"
           ],
           [
            0.4881889763779528,
            "rgb(255, 124, 0)"
           ],
           [
            0.4921259842519685,
            "rgb(255, 125, 0)"
           ],
           [
            0.49606299212598426,
            "rgb(255, 126, 0)"
           ],
           [
            0.5,
            "rgb(255, 128, 0)"
           ],
           [
            0.5039370078740157,
            "rgb(255, 129, 0)"
           ],
           [
            0.5078740157480315,
            "rgb(255, 130, 0)"
           ],
           [
            0.5118110236220472,
            "rgb(255, 131, 0)"
           ],
           [
            0.515748031496063,
            "rgb(255, 131, 0)"
           ],
           [
            0.5196850393700787,
            "rgb(255, 133, 0)"
           ],
           [
            0.5236220472440944,
            "rgb(255, 134, 0)"
           ],
           [
            0.5275590551181102,
            "rgb(255, 135, 0)"
           ],
           [
            0.5314960629921259,
            "rgb(255, 136, 0)"
           ],
           [
            0.5354330708661417,
            "rgb(255, 137, 0)"
           ],
           [
            0.5393700787401575,
            "rgb(255, 138, 0)"
           ],
           [
            0.5433070866141733,
            "rgb(255, 139, 0)"
           ],
           [
            0.547244094488189,
            "rgb(255, 140, 0)"
           ],
           [
            0.5511811023622047,
            "rgb(255, 141, 0)"
           ],
           [
            0.5551181102362205,
            "rgb(255, 142, 0)"
           ],
           [
            0.5590551181102362,
            "rgb(255, 143, 0)"
           ],
           [
            0.562992125984252,
            "rgb(255, 144, 0)"
           ],
           [
            0.5669291338582677,
            "rgb(255, 145, 0)"
           ],
           [
            0.5708661417322834,
            "rgb(255, 146, 0)"
           ],
           [
            0.5748031496062992,
            "rgb(255, 147, 0)"
           ],
           [
            0.5787401574803149,
            "rgb(255, 147, 0)"
           ],
           [
            0.5826771653543307,
            "rgb(255, 149, 0)"
           ],
           [
            0.5866141732283464,
            "rgb(255, 150, 0)"
           ],
           [
            0.5905511811023622,
            "rgb(255, 151, 0)"
           ],
           [
            0.5944881889763779,
            "rgb(255, 152, 0)"
           ],
           [
            0.5984251968503937,
            "rgb(255, 153, 0)"
           ],
           [
            0.6023622047244095,
            "rgb(255, 154, 0)"
           ],
           [
            0.6062992125984252,
            "rgb(255, 155, 0)"
           ],
           [
            0.610236220472441,
            "rgb(255, 156, 0)"
           ],
           [
            0.6141732283464567,
            "rgb(255, 157, 0)"
           ],
           [
            0.6181102362204725,
            "rgb(255, 158, 0)"
           ],
           [
            0.6220472440944882,
            "rgb(255, 159, 0)"
           ],
           [
            0.6259842519685039,
            "rgb(255, 160, 0)"
           ],
           [
            0.6299212598425197,
            "rgb(255, 161, 0)"
           ],
           [
            0.6338582677165354,
            "rgb(255, 162, 0)"
           ],
           [
            0.6377952755905512,
            "rgb(255, 163, 0)"
           ],
           [
            0.6417322834645669,
            "rgb(255, 163, 0)"
           ],
           [
            0.6456692913385826,
            "rgb(255, 165, 0)"
           ],
           [
            0.6496062992125984,
            "rgb(255, 166, 0)"
           ],
           [
            0.6535433070866141,
            "rgb(255, 167, 0)"
           ],
           [
            0.6574803149606299,
            "rgb(255, 168, 0)"
           ],
           [
            0.6614173228346456,
            "rgb(255, 169, 0)"
           ],
           [
            0.6653543307086615,
            "rgb(255, 170, 0)"
           ],
           [
            0.6692913385826772,
            "rgb(255, 171, 0)"
           ],
           [
            0.6732283464566929,
            "rgb(255, 172, 0)"
           ],
           [
            0.6771653543307087,
            "rgb(255, 173, 0)"
           ],
           [
            0.6811023622047244,
            "rgb(255, 174, 0)"
           ],
           [
            0.6850393700787402,
            "rgb(255, 175, 0)"
           ],
           [
            0.6889763779527559,
            "rgb(255, 176, 0)"
           ],
           [
            0.6929133858267716,
            "rgb(255, 177, 0)"
           ],
           [
            0.6968503937007874,
            "rgb(255, 178, 0)"
           ],
           [
            0.7007874015748031,
            "rgb(255, 179, 0)"
           ],
           [
            0.7047244094488189,
            "rgb(255, 179, 0)"
           ],
           [
            0.7086614173228346,
            "rgb(255, 181, 0)"
           ],
           [
            0.7125984251968503,
            "rgb(255, 182, 0)"
           ],
           [
            0.7165354330708661,
            "rgb(255, 183, 0)"
           ],
           [
            0.7204724409448818,
            "rgb(255, 184, 0)"
           ],
           [
            0.7244094488188977,
            "rgb(255, 185, 0)"
           ],
           [
            0.7283464566929134,
            "rgb(255, 186, 0)"
           ],
           [
            0.7322834645669292,
            "rgb(255, 187, 0)"
           ],
           [
            0.7362204724409449,
            "rgb(255, 188, 0)"
           ],
           [
            0.7401574803149606,
            "rgb(255, 189, 0)"
           ],
           [
            0.7440944881889764,
            "rgb(255, 190, 0)"
           ],
           [
            0.7480314960629921,
            "rgb(255, 191, 0)"
           ],
           [
            0.7519685039370079,
            "rgb(255, 192, 0)"
           ],
           [
            0.7559055118110236,
            "rgb(255, 193, 0)"
           ],
           [
            0.7598425196850394,
            "rgb(255, 194, 0)"
           ],
           [
            0.7637795275590551,
            "rgb(255, 195, 0)"
           ],
           [
            0.7677165354330708,
            "rgb(255, 195, 0)"
           ],
           [
            0.7716535433070866,
            "rgb(255, 197, 0)"
           ],
           [
            0.7755905511811023,
            "rgb(255, 198, 0)"
           ],
           [
            0.7795275590551181,
            "rgb(255, 199, 0)"
           ],
           [
            0.7834645669291338,
            "rgb(255, 200, 0)"
           ],
           [
            0.7874015748031495,
            "rgb(255, 201, 0)"
           ],
           [
            0.7913385826771654,
            "rgb(255, 202, 0)"
           ],
           [
            0.7952755905511811,
            "rgb(255, 203, 0)"
           ],
           [
            0.7992125984251969,
            "rgb(255, 204, 0)"
           ],
           [
            0.8031496062992126,
            "rgb(255, 205, 0)"
           ],
           [
            0.8070866141732284,
            "rgb(255, 206, 0)"
           ],
           [
            0.8110236220472441,
            "rgb(255, 207, 0)"
           ],
           [
            0.8149606299212598,
            "rgb(255, 208, 0)"
           ],
           [
            0.8188976377952756,
            "rgb(255, 209, 0)"
           ],
           [
            0.8228346456692913,
            "rgb(255, 210, 0)"
           ],
           [
            0.8267716535433071,
            "rgb(255, 211, 0)"
           ],
           [
            0.8307086614173228,
            "rgb(255, 211, 0)"
           ],
           [
            0.8346456692913385,
            "rgb(255, 213, 0)"
           ],
           [
            0.8385826771653543,
            "rgb(255, 214, 0)"
           ],
           [
            0.84251968503937,
            "rgb(255, 215, 0)"
           ],
           [
            0.8464566929133858,
            "rgb(255, 216, 0)"
           ],
           [
            0.8503937007874016,
            "rgb(255, 217, 0)"
           ],
           [
            0.8543307086614174,
            "rgb(255, 218, 0)"
           ],
           [
            0.8582677165354331,
            "rgb(255, 219, 0)"
           ],
           [
            0.8622047244094488,
            "rgb(255, 220, 0)"
           ],
           [
            0.8661417322834646,
            "rgb(255, 221, 0)"
           ],
           [
            0.8700787401574803,
            "rgb(255, 222, 0)"
           ],
           [
            0.8740157480314961,
            "rgb(255, 223, 0)"
           ],
           [
            0.8779527559055118,
            "rgb(255, 224, 0)"
           ],
           [
            0.8818897637795275,
            "rgb(255, 225, 0)"
           ],
           [
            0.8858267716535433,
            "rgb(255, 226, 0)"
           ],
           [
            0.889763779527559,
            "rgb(255, 227, 0)"
           ],
           [
            0.8937007874015748,
            "rgb(255, 227, 0)"
           ],
           [
            0.8976377952755905,
            "rgb(255, 229, 0)"
           ],
           [
            0.9015748031496063,
            "rgb(255, 230, 0)"
           ],
           [
            0.905511811023622,
            "rgb(255, 231, 0)"
           ],
           [
            0.9094488188976377,
            "rgb(255, 232, 0)"
           ],
           [
            0.9133858267716535,
            "rgb(255, 233, 0)"
           ],
           [
            0.9173228346456693,
            "rgb(255, 234, 0)"
           ],
           [
            0.9212598425196851,
            "rgb(255, 235, 0)"
           ],
           [
            0.9251968503937008,
            "rgb(255, 236, 0)"
           ],
           [
            0.9291338582677166,
            "rgb(255, 237, 0)"
           ],
           [
            0.9330708661417323,
            "rgb(255, 238, 0)"
           ],
           [
            0.937007874015748,
            "rgb(255, 239, 0)"
           ],
           [
            0.9409448818897638,
            "rgb(255, 240, 0)"
           ],
           [
            0.9448818897637795,
            "rgb(255, 241, 0)"
           ],
           [
            0.9488188976377953,
            "rgb(255, 242, 0)"
           ],
           [
            0.952755905511811,
            "rgb(255, 243, 0)"
           ],
           [
            0.9566929133858267,
            "rgb(255, 243, 0)"
           ],
           [
            0.9606299212598425,
            "rgb(255, 245, 0)"
           ],
           [
            0.9645669291338582,
            "rgb(255, 246, 0)"
           ],
           [
            0.968503937007874,
            "rgb(255, 247, 0)"
           ],
           [
            0.9724409448818897,
            "rgb(255, 248, 0)"
           ],
           [
            0.9763779527559056,
            "rgb(255, 249, 0)"
           ],
           [
            0.9803149606299213,
            "rgb(255, 250, 0)"
           ],
           [
            0.984251968503937,
            "rgb(255, 251, 0)"
           ],
           [
            0.9881889763779528,
            "rgb(255, 252, 0)"
           ],
           [
            0.9921259842519685,
            "rgb(255, 253, 0)"
           ],
           [
            0.9960629921259843,
            "rgb(255, 254, 0)"
           ],
           [
            1,
            "rgb(255, 255, 0)"
           ]
          ],
          "line": {
           "color": "black",
           "width": 0.5
          },
          "opacity": 1,
          "size": 10
         },
         "mode": "markers",
         "type": "scatter3d",
         "visible": false,
         "x": [
          2.2840307887481464,
          1.421774401153214,
          -2.9514494139028864,
          -0.2542219239404653,
          -1.9046120604799446,
          -0.9460016142729124,
          1.1623553170739849,
          1.1881245056208578
         ],
         "y": [
          0.44201924276691074,
          0.41326070026097983,
          0.4420192427669216,
          0.13174308334443838,
          -1.4356385689703357,
          0.7418603557698503,
          -0.9371090007171283,
          0.20184494477836096
         ],
         "z": [
          1.1262662393943523,
          1.6525965700297442,
          -0.41598979915660395,
          0.8717687424682878,
          -1.2985467924643384,
          -1.2063851149515943,
          -0.3635283865416161,
          -0.3661814587782391
         ]
        },
        {
         "line": {
          "color": "rgba(0,0,0,1)",
          "width": 4
         },
         "mode": "lines",
         "type": "scatter3d",
         "visible": false,
         "x": [
          1.421774401153214,
          -0.2542219239404653
         ],
         "y": [
          0.41326070026097983,
          0.13174308334443838
         ],
         "z": [
          1.6525965700297442,
          0.8717687424682878
         ]
        },
        {
         "line": {
          "color": "rgba(0,0,0,1)",
          "width": 4
         },
         "mode": "lines",
         "type": "scatter3d",
         "visible": false,
         "x": [
          -0.2542219239404653,
          -2.9514494139028864
         ],
         "y": [
          0.13174308334443838,
          0.4420192427669216
         ],
         "z": [
          0.8717687424682878,
          -0.41598979915660395
         ]
        },
        {
         "line": {
          "color": "rgba(0,0,0,1)",
          "width": 4
         },
         "mode": "lines",
         "type": "scatter3d",
         "visible": false,
         "x": [
          2.2840307887481464,
          1.421774401153214
         ],
         "y": [
          0.44201924276691074,
          0.41326070026097983
         ],
         "z": [
          1.1262662393943523,
          1.6525965700297442
         ]
        },
        {
         "line": {
          "color": "rgba(0,0,0,1)",
          "width": 4
         },
         "mode": "lines",
         "type": "scatter3d",
         "visible": false,
         "x": [
          1.1881245056208578,
          -0.2542219239404653
         ],
         "y": [
          0.20184494477836096,
          0.13174308334443838
         ],
         "z": [
          -0.3661814587782391,
          0.8717687424682878
         ]
        },
        {
         "line": {
          "color": "rgba(0,0,0,1)",
          "width": 4
         },
         "mode": "lines",
         "type": "scatter3d",
         "visible": false,
         "x": [
          -0.9460016142729124,
          -2.9514494139028864
         ],
         "y": [
          0.7418603557698503,
          0.4420192427669216
         ],
         "z": [
          -1.2063851149515943,
          -0.41598979915660395
         ]
        },
        {
         "line": {
          "color": "rgba(0,0,0,1)",
          "width": 4
         },
         "mode": "lines",
         "type": "scatter3d",
         "visible": false,
         "x": [
          1.1623553170739849,
          -0.2542219239404653
         ],
         "y": [
          -0.9371090007171283,
          0.13174308334443838
         ],
         "z": [
          -0.3635283865416161,
          0.8717687424682878
         ]
        },
        {
         "line": {
          "color": "rgba(0,0,0,1)",
          "width": 4
         },
         "mode": "lines",
         "type": "scatter3d",
         "visible": false,
         "x": [
          -1.9046120604799446,
          -2.9514494139028864
         ],
         "y": [
          -1.4356385689703357,
          0.4420192427669216
         ],
         "z": [
          -1.2985467924643384,
          -0.41598979915660395
         ]
        },
        {
         "marker": {
          "color": [
           0,
           0.14285714285714285,
           0.2857142857142857,
           0.42857142857142855,
           0.5714285714285714,
           0.7142857142857142,
           0.8571428571428571,
           1
          ],
          "colorscale": [
           [
            0,
            "rgb(255, 0, 0)"
           ],
           [
            0.003937007874015748,
            "rgb(255, 1, 0)"
           ],
           [
            0.007874015748031496,
            "rgb(255, 2, 0)"
           ],
           [
            0.011811023622047244,
            "rgb(255, 3, 0)"
           ],
           [
            0.015748031496062992,
            "rgb(255, 4, 0)"
           ],
           [
            0.01968503937007874,
            "rgb(255, 5, 0)"
           ],
           [
            0.023622047244094488,
            "rgb(255, 6, 0)"
           ],
           [
            0.027559055118110236,
            "rgb(255, 7, 0)"
           ],
           [
            0.031496062992125984,
            "rgb(255, 8, 0)"
           ],
           [
            0.03543307086614173,
            "rgb(255, 9, 0)"
           ],
           [
            0.03937007874015748,
            "rgb(255, 10, 0)"
           ],
           [
            0.04330708661417323,
            "rgb(255, 11, 0)"
           ],
           [
            0.047244094488188976,
            "rgb(255, 12, 0)"
           ],
           [
            0.051181102362204724,
            "rgb(255, 13, 0)"
           ],
           [
            0.05511811023622047,
            "rgb(255, 14, 0)"
           ],
           [
            0.05905511811023622,
            "rgb(255, 15, 0)"
           ],
           [
            0.06299212598425197,
            "rgb(255, 16, 0)"
           ],
           [
            0.06692913385826771,
            "rgb(255, 17, 0)"
           ],
           [
            0.07086614173228346,
            "rgb(255, 18, 0)"
           ],
           [
            0.07480314960629922,
            "rgb(255, 19, 0)"
           ],
           [
            0.07874015748031496,
            "rgb(255, 20, 0)"
           ],
           [
            0.0826771653543307,
            "rgb(255, 21, 0)"
           ],
           [
            0.08661417322834646,
            "rgb(255, 22, 0)"
           ],
           [
            0.09055118110236221,
            "rgb(255, 23, 0)"
           ],
           [
            0.09448818897637795,
            "rgb(255, 24, 0)"
           ],
           [
            0.09842519685039369,
            "rgb(255, 25, 0)"
           ],
           [
            0.10236220472440945,
            "rgb(255, 26, 0)"
           ],
           [
            0.1062992125984252,
            "rgb(255, 27, 0)"
           ],
           [
            0.11023622047244094,
            "rgb(255, 28, 0)"
           ],
           [
            0.11417322834645668,
            "rgb(255, 29, 0)"
           ],
           [
            0.11811023622047244,
            "rgb(255, 30, 0)"
           ],
           [
            0.1220472440944882,
            "rgb(255, 31, 0)"
           ],
           [
            0.12598425196850394,
            "rgb(255, 32, 0)"
           ],
           [
            0.12992125984251968,
            "rgb(255, 32, 0)"
           ],
           [
            0.13385826771653542,
            "rgb(255, 34, 0)"
           ],
           [
            0.1377952755905512,
            "rgb(255, 35, 0)"
           ],
           [
            0.14173228346456693,
            "rgb(255, 36, 0)"
           ],
           [
            0.14566929133858267,
            "rgb(255, 36, 0)"
           ],
           [
            0.14960629921259844,
            "rgb(255, 38, 0)"
           ],
           [
            0.15354330708661418,
            "rgb(255, 39, 0)"
           ],
           [
            0.15748031496062992,
            "rgb(255, 40, 0)"
           ],
           [
            0.16141732283464566,
            "rgb(255, 40, 0)"
           ],
           [
            0.1653543307086614,
            "rgb(255, 42, 0)"
           ],
           [
            0.16929133858267717,
            "rgb(255, 43, 0)"
           ],
           [
            0.1732283464566929,
            "rgb(255, 44, 0)"
           ],
           [
            0.17716535433070865,
            "rgb(255, 44, 0)"
           ],
           [
            0.18110236220472442,
            "rgb(255, 46, 0)"
           ],
           [
            0.18503937007874016,
            "rgb(255, 47, 0)"
           ],
           [
            0.1889763779527559,
            "rgb(255, 48, 0)"
           ],
           [
            0.19291338582677164,
            "rgb(255, 48, 0)"
           ],
           [
            0.19685039370078738,
            "rgb(255, 50, 0)"
           ],
           [
            0.20078740157480315,
            "rgb(255, 51, 0)"
           ],
           [
            0.2047244094488189,
            "rgb(255, 52, 0)"
           ],
           [
            0.20866141732283464,
            "rgb(255, 52, 0)"
           ],
           [
            0.2125984251968504,
            "rgb(255, 54, 0)"
           ],
           [
            0.21653543307086615,
            "rgb(255, 55, 0)"
           ],
           [
            0.2204724409448819,
            "rgb(255, 56, 0)"
           ],
           [
            0.22440944881889763,
            "rgb(255, 56, 0)"
           ],
           [
            0.22834645669291337,
            "rgb(255, 58, 0)"
           ],
           [
            0.23228346456692914,
            "rgb(255, 59, 0)"
           ],
           [
            0.23622047244094488,
            "rgb(255, 60, 0)"
           ],
           [
            0.24015748031496062,
            "rgb(255, 60, 0)"
           ],
           [
            0.2440944881889764,
            "rgb(255, 62, 0)"
           ],
           [
            0.24803149606299213,
            "rgb(255, 63, 0)"
           ],
           [
            0.25196850393700787,
            "rgb(255, 64, 0)"
           ],
           [
            0.2559055118110236,
            "rgb(255, 65, 0)"
           ],
           [
            0.25984251968503935,
            "rgb(255, 65, 0)"
           ],
           [
            0.2637795275590551,
            "rgb(255, 67, 0)"
           ],
           [
            0.26771653543307083,
            "rgb(255, 68, 0)"
           ],
           [
            0.27165354330708663,
            "rgb(255, 69, 0)"
           ],
           [
            0.2755905511811024,
            "rgb(255, 70, 0)"
           ],
           [
            0.2795275590551181,
            "rgb(255, 71, 0)"
           ],
           [
            0.28346456692913385,
            "rgb(255, 72, 0)"
           ],
           [
            0.2874015748031496,
            "rgb(255, 73, 0)"
           ],
           [
            0.29133858267716534,
            "rgb(255, 73, 0)"
           ],
           [
            0.2952755905511811,
            "rgb(255, 75, 0)"
           ],
           [
            0.2992125984251969,
            "rgb(255, 76, 0)"
           ],
           [
            0.3031496062992126,
            "rgb(255, 77, 0)"
           ],
           [
            0.30708661417322836,
            "rgb(255, 78, 0)"
           ],
           [
            0.3110236220472441,
            "rgb(255, 79, 0)"
           ],
           [
            0.31496062992125984,
            "rgb(255, 80, 0)"
           ],
           [
            0.3188976377952756,
            "rgb(255, 81, 0)"
           ],
           [
            0.3228346456692913,
            "rgb(255, 81, 0)"
           ],
           [
            0.32677165354330706,
            "rgb(255, 83, 0)"
           ],
           [
            0.3307086614173228,
            "rgb(255, 84, 0)"
           ],
           [
            0.3346456692913386,
            "rgb(255, 85, 0)"
           ],
           [
            0.33858267716535434,
            "rgb(255, 86, 0)"
           ],
           [
            0.3425196850393701,
            "rgb(255, 87, 0)"
           ],
           [
            0.3464566929133858,
            "rgb(255, 88, 0)"
           ],
           [
            0.35039370078740156,
            "rgb(255, 89, 0)"
           ],
           [
            0.3543307086614173,
            "rgb(255, 89, 0)"
           ],
           [
            0.35826771653543305,
            "rgb(255, 91, 0)"
           ],
           [
            0.36220472440944884,
            "rgb(255, 92, 0)"
           ],
           [
            0.3661417322834646,
            "rgb(255, 93, 0)"
           ],
           [
            0.3700787401574803,
            "rgb(255, 94, 0)"
           ],
           [
            0.37401574803149606,
            "rgb(255, 95, 0)"
           ],
           [
            0.3779527559055118,
            "rgb(255, 96, 0)"
           ],
           [
            0.38188976377952755,
            "rgb(255, 97, 0)"
           ],
           [
            0.3858267716535433,
            "rgb(255, 97, 0)"
           ],
           [
            0.38976377952755903,
            "rgb(255, 99, 0)"
           ],
           [
            0.39370078740157477,
            "rgb(255, 100, 0)"
           ],
           [
            0.39763779527559057,
            "rgb(255, 101, 0)"
           ],
           [
            0.4015748031496063,
            "rgb(255, 102, 0)"
           ],
           [
            0.40551181102362205,
            "rgb(255, 103, 0)"
           ],
           [
            0.4094488188976378,
            "rgb(255, 104, 0)"
           ],
           [
            0.41338582677165353,
            "rgb(255, 105, 0)"
           ],
           [
            0.41732283464566927,
            "rgb(255, 105, 0)"
           ],
           [
            0.421259842519685,
            "rgb(255, 107, 0)"
           ],
           [
            0.4251968503937008,
            "rgb(255, 108, 0)"
           ],
           [
            0.42913385826771655,
            "rgb(255, 109, 0)"
           ],
           [
            0.4330708661417323,
            "rgb(255, 110, 0)"
           ],
           [
            0.43700787401574803,
            "rgb(255, 111, 0)"
           ],
           [
            0.4409448818897638,
            "rgb(255, 112, 0)"
           ],
           [
            0.4448818897637795,
            "rgb(255, 113, 0)"
           ],
           [
            0.44881889763779526,
            "rgb(255, 113, 0)"
           ],
           [
            0.452755905511811,
            "rgb(255, 115, 0)"
           ],
           [
            0.45669291338582674,
            "rgb(255, 116, 0)"
           ],
           [
            0.46062992125984253,
            "rgb(255, 117, 0)"
           ],
           [
            0.4645669291338583,
            "rgb(255, 118, 0)"
           ],
           [
            0.468503937007874,
            "rgb(255, 119, 0)"
           ],
           [
            0.47244094488188976,
            "rgb(255, 120, 0)"
           ],
           [
            0.4763779527559055,
            "rgb(255, 121, 0)"
           ],
           [
            0.48031496062992124,
            "rgb(255, 121, 0)"
           ],
           [
            0.484251968503937,
            "rgb(255, 123, 0)"
           ],
           [
            0.4881889763779528,
            "rgb(255, 124, 0)"
           ],
           [
            0.4921259842519685,
            "rgb(255, 125, 0)"
           ],
           [
            0.49606299212598426,
            "rgb(255, 126, 0)"
           ],
           [
            0.5,
            "rgb(255, 128, 0)"
           ],
           [
            0.5039370078740157,
            "rgb(255, 129, 0)"
           ],
           [
            0.5078740157480315,
            "rgb(255, 130, 0)"
           ],
           [
            0.5118110236220472,
            "rgb(255, 131, 0)"
           ],
           [
            0.515748031496063,
            "rgb(255, 131, 0)"
           ],
           [
            0.5196850393700787,
            "rgb(255, 133, 0)"
           ],
           [
            0.5236220472440944,
            "rgb(255, 134, 0)"
           ],
           [
            0.5275590551181102,
            "rgb(255, 135, 0)"
           ],
           [
            0.5314960629921259,
            "rgb(255, 136, 0)"
           ],
           [
            0.5354330708661417,
            "rgb(255, 137, 0)"
           ],
           [
            0.5393700787401575,
            "rgb(255, 138, 0)"
           ],
           [
            0.5433070866141733,
            "rgb(255, 139, 0)"
           ],
           [
            0.547244094488189,
            "rgb(255, 140, 0)"
           ],
           [
            0.5511811023622047,
            "rgb(255, 141, 0)"
           ],
           [
            0.5551181102362205,
            "rgb(255, 142, 0)"
           ],
           [
            0.5590551181102362,
            "rgb(255, 143, 0)"
           ],
           [
            0.562992125984252,
            "rgb(255, 144, 0)"
           ],
           [
            0.5669291338582677,
            "rgb(255, 145, 0)"
           ],
           [
            0.5708661417322834,
            "rgb(255, 146, 0)"
           ],
           [
            0.5748031496062992,
            "rgb(255, 147, 0)"
           ],
           [
            0.5787401574803149,
            "rgb(255, 147, 0)"
           ],
           [
            0.5826771653543307,
            "rgb(255, 149, 0)"
           ],
           [
            0.5866141732283464,
            "rgb(255, 150, 0)"
           ],
           [
            0.5905511811023622,
            "rgb(255, 151, 0)"
           ],
           [
            0.5944881889763779,
            "rgb(255, 152, 0)"
           ],
           [
            0.5984251968503937,
            "rgb(255, 153, 0)"
           ],
           [
            0.6023622047244095,
            "rgb(255, 154, 0)"
           ],
           [
            0.6062992125984252,
            "rgb(255, 155, 0)"
           ],
           [
            0.610236220472441,
            "rgb(255, 156, 0)"
           ],
           [
            0.6141732283464567,
            "rgb(255, 157, 0)"
           ],
           [
            0.6181102362204725,
            "rgb(255, 158, 0)"
           ],
           [
            0.6220472440944882,
            "rgb(255, 159, 0)"
           ],
           [
            0.6259842519685039,
            "rgb(255, 160, 0)"
           ],
           [
            0.6299212598425197,
            "rgb(255, 161, 0)"
           ],
           [
            0.6338582677165354,
            "rgb(255, 162, 0)"
           ],
           [
            0.6377952755905512,
            "rgb(255, 163, 0)"
           ],
           [
            0.6417322834645669,
            "rgb(255, 163, 0)"
           ],
           [
            0.6456692913385826,
            "rgb(255, 165, 0)"
           ],
           [
            0.6496062992125984,
            "rgb(255, 166, 0)"
           ],
           [
            0.6535433070866141,
            "rgb(255, 167, 0)"
           ],
           [
            0.6574803149606299,
            "rgb(255, 168, 0)"
           ],
           [
            0.6614173228346456,
            "rgb(255, 169, 0)"
           ],
           [
            0.6653543307086615,
            "rgb(255, 170, 0)"
           ],
           [
            0.6692913385826772,
            "rgb(255, 171, 0)"
           ],
           [
            0.6732283464566929,
            "rgb(255, 172, 0)"
           ],
           [
            0.6771653543307087,
            "rgb(255, 173, 0)"
           ],
           [
            0.6811023622047244,
            "rgb(255, 174, 0)"
           ],
           [
            0.6850393700787402,
            "rgb(255, 175, 0)"
           ],
           [
            0.6889763779527559,
            "rgb(255, 176, 0)"
           ],
           [
            0.6929133858267716,
            "rgb(255, 177, 0)"
           ],
           [
            0.6968503937007874,
            "rgb(255, 178, 0)"
           ],
           [
            0.7007874015748031,
            "rgb(255, 179, 0)"
           ],
           [
            0.7047244094488189,
            "rgb(255, 179, 0)"
           ],
           [
            0.7086614173228346,
            "rgb(255, 181, 0)"
           ],
           [
            0.7125984251968503,
            "rgb(255, 182, 0)"
           ],
           [
            0.7165354330708661,
            "rgb(255, 183, 0)"
           ],
           [
            0.7204724409448818,
            "rgb(255, 184, 0)"
           ],
           [
            0.7244094488188977,
            "rgb(255, 185, 0)"
           ],
           [
            0.7283464566929134,
            "rgb(255, 186, 0)"
           ],
           [
            0.7322834645669292,
            "rgb(255, 187, 0)"
           ],
           [
            0.7362204724409449,
            "rgb(255, 188, 0)"
           ],
           [
            0.7401574803149606,
            "rgb(255, 189, 0)"
           ],
           [
            0.7440944881889764,
            "rgb(255, 190, 0)"
           ],
           [
            0.7480314960629921,
            "rgb(255, 191, 0)"
           ],
           [
            0.7519685039370079,
            "rgb(255, 192, 0)"
           ],
           [
            0.7559055118110236,
            "rgb(255, 193, 0)"
           ],
           [
            0.7598425196850394,
            "rgb(255, 194, 0)"
           ],
           [
            0.7637795275590551,
            "rgb(255, 195, 0)"
           ],
           [
            0.7677165354330708,
            "rgb(255, 195, 0)"
           ],
           [
            0.7716535433070866,
            "rgb(255, 197, 0)"
           ],
           [
            0.7755905511811023,
            "rgb(255, 198, 0)"
           ],
           [
            0.7795275590551181,
            "rgb(255, 199, 0)"
           ],
           [
            0.7834645669291338,
            "rgb(255, 200, 0)"
           ],
           [
            0.7874015748031495,
            "rgb(255, 201, 0)"
           ],
           [
            0.7913385826771654,
            "rgb(255, 202, 0)"
           ],
           [
            0.7952755905511811,
            "rgb(255, 203, 0)"
           ],
           [
            0.7992125984251969,
            "rgb(255, 204, 0)"
           ],
           [
            0.8031496062992126,
            "rgb(255, 205, 0)"
           ],
           [
            0.8070866141732284,
            "rgb(255, 206, 0)"
           ],
           [
            0.8110236220472441,
            "rgb(255, 207, 0)"
           ],
           [
            0.8149606299212598,
            "rgb(255, 208, 0)"
           ],
           [
            0.8188976377952756,
            "rgb(255, 209, 0)"
           ],
           [
            0.8228346456692913,
            "rgb(255, 210, 0)"
           ],
           [
            0.8267716535433071,
            "rgb(255, 211, 0)"
           ],
           [
            0.8307086614173228,
            "rgb(255, 211, 0)"
           ],
           [
            0.8346456692913385,
            "rgb(255, 213, 0)"
           ],
           [
            0.8385826771653543,
            "rgb(255, 214, 0)"
           ],
           [
            0.84251968503937,
            "rgb(255, 215, 0)"
           ],
           [
            0.8464566929133858,
            "rgb(255, 216, 0)"
           ],
           [
            0.8503937007874016,
            "rgb(255, 217, 0)"
           ],
           [
            0.8543307086614174,
            "rgb(255, 218, 0)"
           ],
           [
            0.8582677165354331,
            "rgb(255, 219, 0)"
           ],
           [
            0.8622047244094488,
            "rgb(255, 220, 0)"
           ],
           [
            0.8661417322834646,
            "rgb(255, 221, 0)"
           ],
           [
            0.8700787401574803,
            "rgb(255, 222, 0)"
           ],
           [
            0.8740157480314961,
            "rgb(255, 223, 0)"
           ],
           [
            0.8779527559055118,
            "rgb(255, 224, 0)"
           ],
           [
            0.8818897637795275,
            "rgb(255, 225, 0)"
           ],
           [
            0.8858267716535433,
            "rgb(255, 226, 0)"
           ],
           [
            0.889763779527559,
            "rgb(255, 227, 0)"
           ],
           [
            0.8937007874015748,
            "rgb(255, 227, 0)"
           ],
           [
            0.8976377952755905,
            "rgb(255, 229, 0)"
           ],
           [
            0.9015748031496063,
            "rgb(255, 230, 0)"
           ],
           [
            0.905511811023622,
            "rgb(255, 231, 0)"
           ],
           [
            0.9094488188976377,
            "rgb(255, 232, 0)"
           ],
           [
            0.9133858267716535,
            "rgb(255, 233, 0)"
           ],
           [
            0.9173228346456693,
            "rgb(255, 234, 0)"
           ],
           [
            0.9212598425196851,
            "rgb(255, 235, 0)"
           ],
           [
            0.9251968503937008,
            "rgb(255, 236, 0)"
           ],
           [
            0.9291338582677166,
            "rgb(255, 237, 0)"
           ],
           [
            0.9330708661417323,
            "rgb(255, 238, 0)"
           ],
           [
            0.937007874015748,
            "rgb(255, 239, 0)"
           ],
           [
            0.9409448818897638,
            "rgb(255, 240, 0)"
           ],
           [
            0.9448818897637795,
            "rgb(255, 241, 0)"
           ],
           [
            0.9488188976377953,
            "rgb(255, 242, 0)"
           ],
           [
            0.952755905511811,
            "rgb(255, 243, 0)"
           ],
           [
            0.9566929133858267,
            "rgb(255, 243, 0)"
           ],
           [
            0.9606299212598425,
            "rgb(255, 245, 0)"
           ],
           [
            0.9645669291338582,
            "rgb(255, 246, 0)"
           ],
           [
            0.968503937007874,
            "rgb(255, 247, 0)"
           ],
           [
            0.9724409448818897,
            "rgb(255, 248, 0)"
           ],
           [
            0.9763779527559056,
            "rgb(255, 249, 0)"
           ],
           [
            0.9803149606299213,
            "rgb(255, 250, 0)"
           ],
           [
            0.984251968503937,
            "rgb(255, 251, 0)"
           ],
           [
            0.9881889763779528,
            "rgb(255, 252, 0)"
           ],
           [
            0.9921259842519685,
            "rgb(255, 253, 0)"
           ],
           [
            0.9960629921259843,
            "rgb(255, 254, 0)"
           ],
           [
            1,
            "rgb(255, 255, 0)"
           ]
          ],
          "line": {
           "color": "black",
           "width": 0.5
          },
          "opacity": 1,
          "size": 10
         },
         "mode": "markers",
         "type": "scatter3d",
         "visible": false,
         "x": [
          1.696807636738814,
          0.8621408494216136,
          -2.909184570173419,
          -0.5085156473548281,
          -0.8608272621245493,
          -0.6361411770199532,
          1.1973545656133533,
          1.158365604898967
         ],
         "y": [
          0.09477269464431781,
          0.09018486384730807,
          0.09477269464432955,
          0.04005606217652727,
          -1.2690359593482305,
          1.0532909052322814,
          -0.5720556906737723,
          0.4680144294772376
         ],
         "z": [
          0.7547773798268635,
          1.5194212134946676,
          -0.27792503631970095,
          0.996711496856591,
          -0.9113978217933822,
          -0.9035901911964996,
          -0.5639734978877442,
          -0.6140235429808012
         ]
        },
        {
         "line": {
          "color": "rgba(0,0,0,1)",
          "width": 4
         },
         "mode": "lines",
         "type": "scatter3d",
         "visible": false,
         "x": [
          0.8621408494216136,
          -0.5085156473548281
         ],
         "y": [
          0.09018486384730807,
          0.04005606217652727
         ],
         "z": [
          1.5194212134946676,
          0.996711496856591
         ]
        },
        {
         "line": {
          "color": "rgba(0,0,0,1)",
          "width": 4
         },
         "mode": "lines",
         "type": "scatter3d",
         "visible": false,
         "x": [
          -0.5085156473548281,
          -2.909184570173419
         ],
         "y": [
          0.04005606217652727,
          0.09477269464432955
         ],
         "z": [
          0.996711496856591,
          -0.27792503631970095
         ]
        },
        {
         "line": {
          "color": "rgba(0,0,0,1)",
          "width": 4
         },
         "mode": "lines",
         "type": "scatter3d",
         "visible": false,
         "x": [
          1.696807636738814,
          0.8621408494216136
         ],
         "y": [
          0.09477269464431781,
          0.09018486384730807
         ],
         "z": [
          0.7547773798268635,
          1.5194212134946676
         ]
        },
        {
         "line": {
          "color": "rgba(0,0,0,1)",
          "width": 4
         },
         "mode": "lines",
         "type": "scatter3d",
         "visible": false,
         "x": [
          1.158365604898967,
          -0.5085156473548281
         ],
         "y": [
          0.4680144294772376,
          0.04005606217652727
         ],
         "z": [
          -0.6140235429808012,
          0.996711496856591
         ]
        },
        {
         "line": {
          "color": "rgba(0,0,0,1)",
          "width": 4
         },
         "mode": "lines",
         "type": "scatter3d",
         "visible": false,
         "x": [
          -0.6361411770199532,
          -2.909184570173419
         ],
         "y": [
          1.0532909052322814,
          0.09477269464432955
         ],
         "z": [
          -0.9035901911964996,
          -0.27792503631970095
         ]
        },
        {
         "line": {
          "color": "rgba(0,0,0,1)",
          "width": 4
         },
         "mode": "lines",
         "type": "scatter3d",
         "visible": false,
         "x": [
          1.1973545656133533,
          -0.5085156473548281
         ],
         "y": [
          -0.5720556906737723,
          0.04005606217652727
         ],
         "z": [
          -0.5639734978877442,
          0.996711496856591
         ]
        },
        {
         "line": {
          "color": "rgba(0,0,0,1)",
          "width": 4
         },
         "mode": "lines",
         "type": "scatter3d",
         "visible": false,
         "x": [
          -0.8608272621245493,
          -2.909184570173419
         ],
         "y": [
          -1.2690359593482305,
          0.09477269464432955
         ],
         "z": [
          -0.9113978217933822,
          -0.27792503631970095
         ]
        },
        {
         "marker": {
          "color": [
           0,
           0.14285714285714285,
           0.2857142857142857,
           0.42857142857142855,
           0.5714285714285714,
           0.7142857142857142,
           0.8571428571428571,
           1
          ],
          "colorscale": [
           [
            0,
            "rgb(255, 0, 0)"
           ],
           [
            0.003937007874015748,
            "rgb(255, 1, 0)"
           ],
           [
            0.007874015748031496,
            "rgb(255, 2, 0)"
           ],
           [
            0.011811023622047244,
            "rgb(255, 3, 0)"
           ],
           [
            0.015748031496062992,
            "rgb(255, 4, 0)"
           ],
           [
            0.01968503937007874,
            "rgb(255, 5, 0)"
           ],
           [
            0.023622047244094488,
            "rgb(255, 6, 0)"
           ],
           [
            0.027559055118110236,
            "rgb(255, 7, 0)"
           ],
           [
            0.031496062992125984,
            "rgb(255, 8, 0)"
           ],
           [
            0.03543307086614173,
            "rgb(255, 9, 0)"
           ],
           [
            0.03937007874015748,
            "rgb(255, 10, 0)"
           ],
           [
            0.04330708661417323,
            "rgb(255, 11, 0)"
           ],
           [
            0.047244094488188976,
            "rgb(255, 12, 0)"
           ],
           [
            0.051181102362204724,
            "rgb(255, 13, 0)"
           ],
           [
            0.05511811023622047,
            "rgb(255, 14, 0)"
           ],
           [
            0.05905511811023622,
            "rgb(255, 15, 0)"
           ],
           [
            0.06299212598425197,
            "rgb(255, 16, 0)"
           ],
           [
            0.06692913385826771,
            "rgb(255, 17, 0)"
           ],
           [
            0.07086614173228346,
            "rgb(255, 18, 0)"
           ],
           [
            0.07480314960629922,
            "rgb(255, 19, 0)"
           ],
           [
            0.07874015748031496,
            "rgb(255, 20, 0)"
           ],
           [
            0.0826771653543307,
            "rgb(255, 21, 0)"
           ],
           [
            0.08661417322834646,
            "rgb(255, 22, 0)"
           ],
           [
            0.09055118110236221,
            "rgb(255, 23, 0)"
           ],
           [
            0.09448818897637795,
            "rgb(255, 24, 0)"
           ],
           [
            0.09842519685039369,
            "rgb(255, 25, 0)"
           ],
           [
            0.10236220472440945,
            "rgb(255, 26, 0)"
           ],
           [
            0.1062992125984252,
            "rgb(255, 27, 0)"
           ],
           [
            0.11023622047244094,
            "rgb(255, 28, 0)"
           ],
           [
            0.11417322834645668,
            "rgb(255, 29, 0)"
           ],
           [
            0.11811023622047244,
            "rgb(255, 30, 0)"
           ],
           [
            0.1220472440944882,
            "rgb(255, 31, 0)"
           ],
           [
            0.12598425196850394,
            "rgb(255, 32, 0)"
           ],
           [
            0.12992125984251968,
            "rgb(255, 32, 0)"
           ],
           [
            0.13385826771653542,
            "rgb(255, 34, 0)"
           ],
           [
            0.1377952755905512,
            "rgb(255, 35, 0)"
           ],
           [
            0.14173228346456693,
            "rgb(255, 36, 0)"
           ],
           [
            0.14566929133858267,
            "rgb(255, 36, 0)"
           ],
           [
            0.14960629921259844,
            "rgb(255, 38, 0)"
           ],
           [
            0.15354330708661418,
            "rgb(255, 39, 0)"
           ],
           [
            0.15748031496062992,
            "rgb(255, 40, 0)"
           ],
           [
            0.16141732283464566,
            "rgb(255, 40, 0)"
           ],
           [
            0.1653543307086614,
            "rgb(255, 42, 0)"
           ],
           [
            0.16929133858267717,
            "rgb(255, 43, 0)"
           ],
           [
            0.1732283464566929,
            "rgb(255, 44, 0)"
           ],
           [
            0.17716535433070865,
            "rgb(255, 44, 0)"
           ],
           [
            0.18110236220472442,
            "rgb(255, 46, 0)"
           ],
           [
            0.18503937007874016,
            "rgb(255, 47, 0)"
           ],
           [
            0.1889763779527559,
            "rgb(255, 48, 0)"
           ],
           [
            0.19291338582677164,
            "rgb(255, 48, 0)"
           ],
           [
            0.19685039370078738,
            "rgb(255, 50, 0)"
           ],
           [
            0.20078740157480315,
            "rgb(255, 51, 0)"
           ],
           [
            0.2047244094488189,
            "rgb(255, 52, 0)"
           ],
           [
            0.20866141732283464,
            "rgb(255, 52, 0)"
           ],
           [
            0.2125984251968504,
            "rgb(255, 54, 0)"
           ],
           [
            0.21653543307086615,
            "rgb(255, 55, 0)"
           ],
           [
            0.2204724409448819,
            "rgb(255, 56, 0)"
           ],
           [
            0.22440944881889763,
            "rgb(255, 56, 0)"
           ],
           [
            0.22834645669291337,
            "rgb(255, 58, 0)"
           ],
           [
            0.23228346456692914,
            "rgb(255, 59, 0)"
           ],
           [
            0.23622047244094488,
            "rgb(255, 60, 0)"
           ],
           [
            0.24015748031496062,
            "rgb(255, 60, 0)"
           ],
           [
            0.2440944881889764,
            "rgb(255, 62, 0)"
           ],
           [
            0.24803149606299213,
            "rgb(255, 63, 0)"
           ],
           [
            0.25196850393700787,
            "rgb(255, 64, 0)"
           ],
           [
            0.2559055118110236,
            "rgb(255, 65, 0)"
           ],
           [
            0.25984251968503935,
            "rgb(255, 65, 0)"
           ],
           [
            0.2637795275590551,
            "rgb(255, 67, 0)"
           ],
           [
            0.26771653543307083,
            "rgb(255, 68, 0)"
           ],
           [
            0.27165354330708663,
            "rgb(255, 69, 0)"
           ],
           [
            0.2755905511811024,
            "rgb(255, 70, 0)"
           ],
           [
            0.2795275590551181,
            "rgb(255, 71, 0)"
           ],
           [
            0.28346456692913385,
            "rgb(255, 72, 0)"
           ],
           [
            0.2874015748031496,
            "rgb(255, 73, 0)"
           ],
           [
            0.29133858267716534,
            "rgb(255, 73, 0)"
           ],
           [
            0.2952755905511811,
            "rgb(255, 75, 0)"
           ],
           [
            0.2992125984251969,
            "rgb(255, 76, 0)"
           ],
           [
            0.3031496062992126,
            "rgb(255, 77, 0)"
           ],
           [
            0.30708661417322836,
            "rgb(255, 78, 0)"
           ],
           [
            0.3110236220472441,
            "rgb(255, 79, 0)"
           ],
           [
            0.31496062992125984,
            "rgb(255, 80, 0)"
           ],
           [
            0.3188976377952756,
            "rgb(255, 81, 0)"
           ],
           [
            0.3228346456692913,
            "rgb(255, 81, 0)"
           ],
           [
            0.32677165354330706,
            "rgb(255, 83, 0)"
           ],
           [
            0.3307086614173228,
            "rgb(255, 84, 0)"
           ],
           [
            0.3346456692913386,
            "rgb(255, 85, 0)"
           ],
           [
            0.33858267716535434,
            "rgb(255, 86, 0)"
           ],
           [
            0.3425196850393701,
            "rgb(255, 87, 0)"
           ],
           [
            0.3464566929133858,
            "rgb(255, 88, 0)"
           ],
           [
            0.35039370078740156,
            "rgb(255, 89, 0)"
           ],
           [
            0.3543307086614173,
            "rgb(255, 89, 0)"
           ],
           [
            0.35826771653543305,
            "rgb(255, 91, 0)"
           ],
           [
            0.36220472440944884,
            "rgb(255, 92, 0)"
           ],
           [
            0.3661417322834646,
            "rgb(255, 93, 0)"
           ],
           [
            0.3700787401574803,
            "rgb(255, 94, 0)"
           ],
           [
            0.37401574803149606,
            "rgb(255, 95, 0)"
           ],
           [
            0.3779527559055118,
            "rgb(255, 96, 0)"
           ],
           [
            0.38188976377952755,
            "rgb(255, 97, 0)"
           ],
           [
            0.3858267716535433,
            "rgb(255, 97, 0)"
           ],
           [
            0.38976377952755903,
            "rgb(255, 99, 0)"
           ],
           [
            0.39370078740157477,
            "rgb(255, 100, 0)"
           ],
           [
            0.39763779527559057,
            "rgb(255, 101, 0)"
           ],
           [
            0.4015748031496063,
            "rgb(255, 102, 0)"
           ],
           [
            0.40551181102362205,
            "rgb(255, 103, 0)"
           ],
           [
            0.4094488188976378,
            "rgb(255, 104, 0)"
           ],
           [
            0.41338582677165353,
            "rgb(255, 105, 0)"
           ],
           [
            0.41732283464566927,
            "rgb(255, 105, 0)"
           ],
           [
            0.421259842519685,
            "rgb(255, 107, 0)"
           ],
           [
            0.4251968503937008,
            "rgb(255, 108, 0)"
           ],
           [
            0.42913385826771655,
            "rgb(255, 109, 0)"
           ],
           [
            0.4330708661417323,
            "rgb(255, 110, 0)"
           ],
           [
            0.43700787401574803,
            "rgb(255, 111, 0)"
           ],
           [
            0.4409448818897638,
            "rgb(255, 112, 0)"
           ],
           [
            0.4448818897637795,
            "rgb(255, 113, 0)"
           ],
           [
            0.44881889763779526,
            "rgb(255, 113, 0)"
           ],
           [
            0.452755905511811,
            "rgb(255, 115, 0)"
           ],
           [
            0.45669291338582674,
            "rgb(255, 116, 0)"
           ],
           [
            0.46062992125984253,
            "rgb(255, 117, 0)"
           ],
           [
            0.4645669291338583,
            "rgb(255, 118, 0)"
           ],
           [
            0.468503937007874,
            "rgb(255, 119, 0)"
           ],
           [
            0.47244094488188976,
            "rgb(255, 120, 0)"
           ],
           [
            0.4763779527559055,
            "rgb(255, 121, 0)"
           ],
           [
            0.48031496062992124,
            "rgb(255, 121, 0)"
           ],
           [
            0.484251968503937,
            "rgb(255, 123, 0)"
           ],
           [
            0.4881889763779528,
            "rgb(255, 124, 0)"
           ],
           [
            0.4921259842519685,
            "rgb(255, 125, 0)"
           ],
           [
            0.49606299212598426,
            "rgb(255, 126, 0)"
           ],
           [
            0.5,
            "rgb(255, 128, 0)"
           ],
           [
            0.5039370078740157,
            "rgb(255, 129, 0)"
           ],
           [
            0.5078740157480315,
            "rgb(255, 130, 0)"
           ],
           [
            0.5118110236220472,
            "rgb(255, 131, 0)"
           ],
           [
            0.515748031496063,
            "rgb(255, 131, 0)"
           ],
           [
            0.5196850393700787,
            "rgb(255, 133, 0)"
           ],
           [
            0.5236220472440944,
            "rgb(255, 134, 0)"
           ],
           [
            0.5275590551181102,
            "rgb(255, 135, 0)"
           ],
           [
            0.5314960629921259,
            "rgb(255, 136, 0)"
           ],
           [
            0.5354330708661417,
            "rgb(255, 137, 0)"
           ],
           [
            0.5393700787401575,
            "rgb(255, 138, 0)"
           ],
           [
            0.5433070866141733,
            "rgb(255, 139, 0)"
           ],
           [
            0.547244094488189,
            "rgb(255, 140, 0)"
           ],
           [
            0.5511811023622047,
            "rgb(255, 141, 0)"
           ],
           [
            0.5551181102362205,
            "rgb(255, 142, 0)"
           ],
           [
            0.5590551181102362,
            "rgb(255, 143, 0)"
           ],
           [
            0.562992125984252,
            "rgb(255, 144, 0)"
           ],
           [
            0.5669291338582677,
            "rgb(255, 145, 0)"
           ],
           [
            0.5708661417322834,
            "rgb(255, 146, 0)"
           ],
           [
            0.5748031496062992,
            "rgb(255, 147, 0)"
           ],
           [
            0.5787401574803149,
            "rgb(255, 147, 0)"
           ],
           [
            0.5826771653543307,
            "rgb(255, 149, 0)"
           ],
           [
            0.5866141732283464,
            "rgb(255, 150, 0)"
           ],
           [
            0.5905511811023622,
            "rgb(255, 151, 0)"
           ],
           [
            0.5944881889763779,
            "rgb(255, 152, 0)"
           ],
           [
            0.5984251968503937,
            "rgb(255, 153, 0)"
           ],
           [
            0.6023622047244095,
            "rgb(255, 154, 0)"
           ],
           [
            0.6062992125984252,
            "rgb(255, 155, 0)"
           ],
           [
            0.610236220472441,
            "rgb(255, 156, 0)"
           ],
           [
            0.6141732283464567,
            "rgb(255, 157, 0)"
           ],
           [
            0.6181102362204725,
            "rgb(255, 158, 0)"
           ],
           [
            0.6220472440944882,
            "rgb(255, 159, 0)"
           ],
           [
            0.6259842519685039,
            "rgb(255, 160, 0)"
           ],
           [
            0.6299212598425197,
            "rgb(255, 161, 0)"
           ],
           [
            0.6338582677165354,
            "rgb(255, 162, 0)"
           ],
           [
            0.6377952755905512,
            "rgb(255, 163, 0)"
           ],
           [
            0.6417322834645669,
            "rgb(255, 163, 0)"
           ],
           [
            0.6456692913385826,
            "rgb(255, 165, 0)"
           ],
           [
            0.6496062992125984,
            "rgb(255, 166, 0)"
           ],
           [
            0.6535433070866141,
            "rgb(255, 167, 0)"
           ],
           [
            0.6574803149606299,
            "rgb(255, 168, 0)"
           ],
           [
            0.6614173228346456,
            "rgb(255, 169, 0)"
           ],
           [
            0.6653543307086615,
            "rgb(255, 170, 0)"
           ],
           [
            0.6692913385826772,
            "rgb(255, 171, 0)"
           ],
           [
            0.6732283464566929,
            "rgb(255, 172, 0)"
           ],
           [
            0.6771653543307087,
            "rgb(255, 173, 0)"
           ],
           [
            0.6811023622047244,
            "rgb(255, 174, 0)"
           ],
           [
            0.6850393700787402,
            "rgb(255, 175, 0)"
           ],
           [
            0.6889763779527559,
            "rgb(255, 176, 0)"
           ],
           [
            0.6929133858267716,
            "rgb(255, 177, 0)"
           ],
           [
            0.6968503937007874,
            "rgb(255, 178, 0)"
           ],
           [
            0.7007874015748031,
            "rgb(255, 179, 0)"
           ],
           [
            0.7047244094488189,
            "rgb(255, 179, 0)"
           ],
           [
            0.7086614173228346,
            "rgb(255, 181, 0)"
           ],
           [
            0.7125984251968503,
            "rgb(255, 182, 0)"
           ],
           [
            0.7165354330708661,
            "rgb(255, 183, 0)"
           ],
           [
            0.7204724409448818,
            "rgb(255, 184, 0)"
           ],
           [
            0.7244094488188977,
            "rgb(255, 185, 0)"
           ],
           [
            0.7283464566929134,
            "rgb(255, 186, 0)"
           ],
           [
            0.7322834645669292,
            "rgb(255, 187, 0)"
           ],
           [
            0.7362204724409449,
            "rgb(255, 188, 0)"
           ],
           [
            0.7401574803149606,
            "rgb(255, 189, 0)"
           ],
           [
            0.7440944881889764,
            "rgb(255, 190, 0)"
           ],
           [
            0.7480314960629921,
            "rgb(255, 191, 0)"
           ],
           [
            0.7519685039370079,
            "rgb(255, 192, 0)"
           ],
           [
            0.7559055118110236,
            "rgb(255, 193, 0)"
           ],
           [
            0.7598425196850394,
            "rgb(255, 194, 0)"
           ],
           [
            0.7637795275590551,
            "rgb(255, 195, 0)"
           ],
           [
            0.7677165354330708,
            "rgb(255, 195, 0)"
           ],
           [
            0.7716535433070866,
            "rgb(255, 197, 0)"
           ],
           [
            0.7755905511811023,
            "rgb(255, 198, 0)"
           ],
           [
            0.7795275590551181,
            "rgb(255, 199, 0)"
           ],
           [
            0.7834645669291338,
            "rgb(255, 200, 0)"
           ],
           [
            0.7874015748031495,
            "rgb(255, 201, 0)"
           ],
           [
            0.7913385826771654,
            "rgb(255, 202, 0)"
           ],
           [
            0.7952755905511811,
            "rgb(255, 203, 0)"
           ],
           [
            0.7992125984251969,
            "rgb(255, 204, 0)"
           ],
           [
            0.8031496062992126,
            "rgb(255, 205, 0)"
           ],
           [
            0.8070866141732284,
            "rgb(255, 206, 0)"
           ],
           [
            0.8110236220472441,
            "rgb(255, 207, 0)"
           ],
           [
            0.8149606299212598,
            "rgb(255, 208, 0)"
           ],
           [
            0.8188976377952756,
            "rgb(255, 209, 0)"
           ],
           [
            0.8228346456692913,
            "rgb(255, 210, 0)"
           ],
           [
            0.8267716535433071,
            "rgb(255, 211, 0)"
           ],
           [
            0.8307086614173228,
            "rgb(255, 211, 0)"
           ],
           [
            0.8346456692913385,
            "rgb(255, 213, 0)"
           ],
           [
            0.8385826771653543,
            "rgb(255, 214, 0)"
           ],
           [
            0.84251968503937,
            "rgb(255, 215, 0)"
           ],
           [
            0.8464566929133858,
            "rgb(255, 216, 0)"
           ],
           [
            0.8503937007874016,
            "rgb(255, 217, 0)"
           ],
           [
            0.8543307086614174,
            "rgb(255, 218, 0)"
           ],
           [
            0.8582677165354331,
            "rgb(255, 219, 0)"
           ],
           [
            0.8622047244094488,
            "rgb(255, 220, 0)"
           ],
           [
            0.8661417322834646,
            "rgb(255, 221, 0)"
           ],
           [
            0.8700787401574803,
            "rgb(255, 222, 0)"
           ],
           [
            0.8740157480314961,
            "rgb(255, 223, 0)"
           ],
           [
            0.8779527559055118,
            "rgb(255, 224, 0)"
           ],
           [
            0.8818897637795275,
            "rgb(255, 225, 0)"
           ],
           [
            0.8858267716535433,
            "rgb(255, 226, 0)"
           ],
           [
            0.889763779527559,
            "rgb(255, 227, 0)"
           ],
           [
            0.8937007874015748,
            "rgb(255, 227, 0)"
           ],
           [
            0.8976377952755905,
            "rgb(255, 229, 0)"
           ],
           [
            0.9015748031496063,
            "rgb(255, 230, 0)"
           ],
           [
            0.905511811023622,
            "rgb(255, 231, 0)"
           ],
           [
            0.9094488188976377,
            "rgb(255, 232, 0)"
           ],
           [
            0.9133858267716535,
            "rgb(255, 233, 0)"
           ],
           [
            0.9173228346456693,
            "rgb(255, 234, 0)"
           ],
           [
            0.9212598425196851,
            "rgb(255, 235, 0)"
           ],
           [
            0.9251968503937008,
            "rgb(255, 236, 0)"
           ],
           [
            0.9291338582677166,
            "rgb(255, 237, 0)"
           ],
           [
            0.9330708661417323,
            "rgb(255, 238, 0)"
           ],
           [
            0.937007874015748,
            "rgb(255, 239, 0)"
           ],
           [
            0.9409448818897638,
            "rgb(255, 240, 0)"
           ],
           [
            0.9448818897637795,
            "rgb(255, 241, 0)"
           ],
           [
            0.9488188976377953,
            "rgb(255, 242, 0)"
           ],
           [
            0.952755905511811,
            "rgb(255, 243, 0)"
           ],
           [
            0.9566929133858267,
            "rgb(255, 243, 0)"
           ],
           [
            0.9606299212598425,
            "rgb(255, 245, 0)"
           ],
           [
            0.9645669291338582,
            "rgb(255, 246, 0)"
           ],
           [
            0.968503937007874,
            "rgb(255, 247, 0)"
           ],
           [
            0.9724409448818897,
            "rgb(255, 248, 0)"
           ],
           [
            0.9763779527559056,
            "rgb(255, 249, 0)"
           ],
           [
            0.9803149606299213,
            "rgb(255, 250, 0)"
           ],
           [
            0.984251968503937,
            "rgb(255, 251, 0)"
           ],
           [
            0.9881889763779528,
            "rgb(255, 252, 0)"
           ],
           [
            0.9921259842519685,
            "rgb(255, 253, 0)"
           ],
           [
            0.9960629921259843,
            "rgb(255, 254, 0)"
           ],
           [
            1,
            "rgb(255, 255, 0)"
           ]
          ],
          "line": {
           "color": "black",
           "width": 0.5
          },
          "opacity": 1,
          "size": 10
         },
         "mode": "markers",
         "type": "scatter3d",
         "visible": false,
         "x": [
          2.224354553457622,
          1.5354583302667146,
          -2.649238758398416,
          -0.19055428457028722,
          -1.0837993788273264,
          -1.2760301000105216,
          0.6952182143891679,
          0.744591423693042
         ],
         "y": [
          -0.013416343962966083,
          0.06301311245069033,
          -0.013416343962953173,
          0.044554237743375955,
          -1.0304552073642885,
          0.9707569805705039,
          -0.591497251618431,
          0.5704608161440685
         ],
         "z": [
          0.549212527785114,
          1.3804149497599607,
          -0.43264472086998473,
          0.8754114649330538,
          -1.2889643440627483,
          -1.2401201247856872,
          0.09625411866028949,
          0.06043612857999495
         ]
        },
        {
         "line": {
          "color": "rgba(0,0,0,1)",
          "width": 4
         },
         "mode": "lines",
         "type": "scatter3d",
         "visible": false,
         "x": [
          1.5354583302667146,
          -0.19055428457028722
         ],
         "y": [
          0.06301311245069033,
          0.044554237743375955
         ],
         "z": [
          1.3804149497599607,
          0.8754114649330538
         ]
        },
        {
         "line": {
          "color": "rgba(0,0,0,1)",
          "width": 4
         },
         "mode": "lines",
         "type": "scatter3d",
         "visible": false,
         "x": [
          -0.19055428457028722,
          -2.649238758398416
         ],
         "y": [
          0.044554237743375955,
          -0.013416343962953173
         ],
         "z": [
          0.8754114649330538,
          -0.43264472086998473
         ]
        },
        {
         "line": {
          "color": "rgba(0,0,0,1)",
          "width": 4
         },
         "mode": "lines",
         "type": "scatter3d",
         "visible": false,
         "x": [
          2.224354553457622,
          1.5354583302667146
         ],
         "y": [
          -0.013416343962966083,
          0.06301311245069033
         ],
         "z": [
          0.549212527785114,
          1.3804149497599607
         ]
        },
        {
         "line": {
          "color": "rgba(0,0,0,1)",
          "width": 4
         },
         "mode": "lines",
         "type": "scatter3d",
         "visible": false,
         "x": [
          0.744591423693042,
          -0.19055428457028722
         ],
         "y": [
          0.5704608161440685,
          0.044554237743375955
         ],
         "z": [
          0.06043612857999495,
          0.8754114649330538
         ]
        },
        {
         "line": {
          "color": "rgba(0,0,0,1)",
          "width": 4
         },
         "mode": "lines",
         "type": "scatter3d",
         "visible": false,
         "x": [
          -1.2760301000105216,
          -2.649238758398416
         ],
         "y": [
          0.9707569805705039,
          -0.013416343962953173
         ],
         "z": [
          -1.2401201247856872,
          -0.43264472086998473
         ]
        },
        {
         "line": {
          "color": "rgba(0,0,0,1)",
          "width": 4
         },
         "mode": "lines",
         "type": "scatter3d",
         "visible": false,
         "x": [
          0.6952182143891679,
          -0.19055428457028722
         ],
         "y": [
          -0.591497251618431,
          0.044554237743375955
         ],
         "z": [
          0.09625411866028949,
          0.8754114649330538
         ]
        },
        {
         "line": {
          "color": "rgba(0,0,0,1)",
          "width": 4
         },
         "mode": "lines",
         "type": "scatter3d",
         "visible": false,
         "x": [
          -1.0837993788273264,
          -2.649238758398416
         ],
         "y": [
          -1.0304552073642885,
          -0.013416343962953173
         ],
         "z": [
          -1.2889643440627483,
          -0.43264472086998473
         ]
        },
        {
         "marker": {
          "color": [
           0,
           0.14285714285714285,
           0.2857142857142857,
           0.42857142857142855,
           0.5714285714285714,
           0.7142857142857142,
           0.8571428571428571,
           1
          ],
          "colorscale": [
           [
            0,
            "rgb(255, 0, 0)"
           ],
           [
            0.003937007874015748,
            "rgb(255, 1, 0)"
           ],
           [
            0.007874015748031496,
            "rgb(255, 2, 0)"
           ],
           [
            0.011811023622047244,
            "rgb(255, 3, 0)"
           ],
           [
            0.015748031496062992,
            "rgb(255, 4, 0)"
           ],
           [
            0.01968503937007874,
            "rgb(255, 5, 0)"
           ],
           [
            0.023622047244094488,
            "rgb(255, 6, 0)"
           ],
           [
            0.027559055118110236,
            "rgb(255, 7, 0)"
           ],
           [
            0.031496062992125984,
            "rgb(255, 8, 0)"
           ],
           [
            0.03543307086614173,
            "rgb(255, 9, 0)"
           ],
           [
            0.03937007874015748,
            "rgb(255, 10, 0)"
           ],
           [
            0.04330708661417323,
            "rgb(255, 11, 0)"
           ],
           [
            0.047244094488188976,
            "rgb(255, 12, 0)"
           ],
           [
            0.051181102362204724,
            "rgb(255, 13, 0)"
           ],
           [
            0.05511811023622047,
            "rgb(255, 14, 0)"
           ],
           [
            0.05905511811023622,
            "rgb(255, 15, 0)"
           ],
           [
            0.06299212598425197,
            "rgb(255, 16, 0)"
           ],
           [
            0.06692913385826771,
            "rgb(255, 17, 0)"
           ],
           [
            0.07086614173228346,
            "rgb(255, 18, 0)"
           ],
           [
            0.07480314960629922,
            "rgb(255, 19, 0)"
           ],
           [
            0.07874015748031496,
            "rgb(255, 20, 0)"
           ],
           [
            0.0826771653543307,
            "rgb(255, 21, 0)"
           ],
           [
            0.08661417322834646,
            "rgb(255, 22, 0)"
           ],
           [
            0.09055118110236221,
            "rgb(255, 23, 0)"
           ],
           [
            0.09448818897637795,
            "rgb(255, 24, 0)"
           ],
           [
            0.09842519685039369,
            "rgb(255, 25, 0)"
           ],
           [
            0.10236220472440945,
            "rgb(255, 26, 0)"
           ],
           [
            0.1062992125984252,
            "rgb(255, 27, 0)"
           ],
           [
            0.11023622047244094,
            "rgb(255, 28, 0)"
           ],
           [
            0.11417322834645668,
            "rgb(255, 29, 0)"
           ],
           [
            0.11811023622047244,
            "rgb(255, 30, 0)"
           ],
           [
            0.1220472440944882,
            "rgb(255, 31, 0)"
           ],
           [
            0.12598425196850394,
            "rgb(255, 32, 0)"
           ],
           [
            0.12992125984251968,
            "rgb(255, 32, 0)"
           ],
           [
            0.13385826771653542,
            "rgb(255, 34, 0)"
           ],
           [
            0.1377952755905512,
            "rgb(255, 35, 0)"
           ],
           [
            0.14173228346456693,
            "rgb(255, 36, 0)"
           ],
           [
            0.14566929133858267,
            "rgb(255, 36, 0)"
           ],
           [
            0.14960629921259844,
            "rgb(255, 38, 0)"
           ],
           [
            0.15354330708661418,
            "rgb(255, 39, 0)"
           ],
           [
            0.15748031496062992,
            "rgb(255, 40, 0)"
           ],
           [
            0.16141732283464566,
            "rgb(255, 40, 0)"
           ],
           [
            0.1653543307086614,
            "rgb(255, 42, 0)"
           ],
           [
            0.16929133858267717,
            "rgb(255, 43, 0)"
           ],
           [
            0.1732283464566929,
            "rgb(255, 44, 0)"
           ],
           [
            0.17716535433070865,
            "rgb(255, 44, 0)"
           ],
           [
            0.18110236220472442,
            "rgb(255, 46, 0)"
           ],
           [
            0.18503937007874016,
            "rgb(255, 47, 0)"
           ],
           [
            0.1889763779527559,
            "rgb(255, 48, 0)"
           ],
           [
            0.19291338582677164,
            "rgb(255, 48, 0)"
           ],
           [
            0.19685039370078738,
            "rgb(255, 50, 0)"
           ],
           [
            0.20078740157480315,
            "rgb(255, 51, 0)"
           ],
           [
            0.2047244094488189,
            "rgb(255, 52, 0)"
           ],
           [
            0.20866141732283464,
            "rgb(255, 52, 0)"
           ],
           [
            0.2125984251968504,
            "rgb(255, 54, 0)"
           ],
           [
            0.21653543307086615,
            "rgb(255, 55, 0)"
           ],
           [
            0.2204724409448819,
            "rgb(255, 56, 0)"
           ],
           [
            0.22440944881889763,
            "rgb(255, 56, 0)"
           ],
           [
            0.22834645669291337,
            "rgb(255, 58, 0)"
           ],
           [
            0.23228346456692914,
            "rgb(255, 59, 0)"
           ],
           [
            0.23622047244094488,
            "rgb(255, 60, 0)"
           ],
           [
            0.24015748031496062,
            "rgb(255, 60, 0)"
           ],
           [
            0.2440944881889764,
            "rgb(255, 62, 0)"
           ],
           [
            0.24803149606299213,
            "rgb(255, 63, 0)"
           ],
           [
            0.25196850393700787,
            "rgb(255, 64, 0)"
           ],
           [
            0.2559055118110236,
            "rgb(255, 65, 0)"
           ],
           [
            0.25984251968503935,
            "rgb(255, 65, 0)"
           ],
           [
            0.2637795275590551,
            "rgb(255, 67, 0)"
           ],
           [
            0.26771653543307083,
            "rgb(255, 68, 0)"
           ],
           [
            0.27165354330708663,
            "rgb(255, 69, 0)"
           ],
           [
            0.2755905511811024,
            "rgb(255, 70, 0)"
           ],
           [
            0.2795275590551181,
            "rgb(255, 71, 0)"
           ],
           [
            0.28346456692913385,
            "rgb(255, 72, 0)"
           ],
           [
            0.2874015748031496,
            "rgb(255, 73, 0)"
           ],
           [
            0.29133858267716534,
            "rgb(255, 73, 0)"
           ],
           [
            0.2952755905511811,
            "rgb(255, 75, 0)"
           ],
           [
            0.2992125984251969,
            "rgb(255, 76, 0)"
           ],
           [
            0.3031496062992126,
            "rgb(255, 77, 0)"
           ],
           [
            0.30708661417322836,
            "rgb(255, 78, 0)"
           ],
           [
            0.3110236220472441,
            "rgb(255, 79, 0)"
           ],
           [
            0.31496062992125984,
            "rgb(255, 80, 0)"
           ],
           [
            0.3188976377952756,
            "rgb(255, 81, 0)"
           ],
           [
            0.3228346456692913,
            "rgb(255, 81, 0)"
           ],
           [
            0.32677165354330706,
            "rgb(255, 83, 0)"
           ],
           [
            0.3307086614173228,
            "rgb(255, 84, 0)"
           ],
           [
            0.3346456692913386,
            "rgb(255, 85, 0)"
           ],
           [
            0.33858267716535434,
            "rgb(255, 86, 0)"
           ],
           [
            0.3425196850393701,
            "rgb(255, 87, 0)"
           ],
           [
            0.3464566929133858,
            "rgb(255, 88, 0)"
           ],
           [
            0.35039370078740156,
            "rgb(255, 89, 0)"
           ],
           [
            0.3543307086614173,
            "rgb(255, 89, 0)"
           ],
           [
            0.35826771653543305,
            "rgb(255, 91, 0)"
           ],
           [
            0.36220472440944884,
            "rgb(255, 92, 0)"
           ],
           [
            0.3661417322834646,
            "rgb(255, 93, 0)"
           ],
           [
            0.3700787401574803,
            "rgb(255, 94, 0)"
           ],
           [
            0.37401574803149606,
            "rgb(255, 95, 0)"
           ],
           [
            0.3779527559055118,
            "rgb(255, 96, 0)"
           ],
           [
            0.38188976377952755,
            "rgb(255, 97, 0)"
           ],
           [
            0.3858267716535433,
            "rgb(255, 97, 0)"
           ],
           [
            0.38976377952755903,
            "rgb(255, 99, 0)"
           ],
           [
            0.39370078740157477,
            "rgb(255, 100, 0)"
           ],
           [
            0.39763779527559057,
            "rgb(255, 101, 0)"
           ],
           [
            0.4015748031496063,
            "rgb(255, 102, 0)"
           ],
           [
            0.40551181102362205,
            "rgb(255, 103, 0)"
           ],
           [
            0.4094488188976378,
            "rgb(255, 104, 0)"
           ],
           [
            0.41338582677165353,
            "rgb(255, 105, 0)"
           ],
           [
            0.41732283464566927,
            "rgb(255, 105, 0)"
           ],
           [
            0.421259842519685,
            "rgb(255, 107, 0)"
           ],
           [
            0.4251968503937008,
            "rgb(255, 108, 0)"
           ],
           [
            0.42913385826771655,
            "rgb(255, 109, 0)"
           ],
           [
            0.4330708661417323,
            "rgb(255, 110, 0)"
           ],
           [
            0.43700787401574803,
            "rgb(255, 111, 0)"
           ],
           [
            0.4409448818897638,
            "rgb(255, 112, 0)"
           ],
           [
            0.4448818897637795,
            "rgb(255, 113, 0)"
           ],
           [
            0.44881889763779526,
            "rgb(255, 113, 0)"
           ],
           [
            0.452755905511811,
            "rgb(255, 115, 0)"
           ],
           [
            0.45669291338582674,
            "rgb(255, 116, 0)"
           ],
           [
            0.46062992125984253,
            "rgb(255, 117, 0)"
           ],
           [
            0.4645669291338583,
            "rgb(255, 118, 0)"
           ],
           [
            0.468503937007874,
            "rgb(255, 119, 0)"
           ],
           [
            0.47244094488188976,
            "rgb(255, 120, 0)"
           ],
           [
            0.4763779527559055,
            "rgb(255, 121, 0)"
           ],
           [
            0.48031496062992124,
            "rgb(255, 121, 0)"
           ],
           [
            0.484251968503937,
            "rgb(255, 123, 0)"
           ],
           [
            0.4881889763779528,
            "rgb(255, 124, 0)"
           ],
           [
            0.4921259842519685,
            "rgb(255, 125, 0)"
           ],
           [
            0.49606299212598426,
            "rgb(255, 126, 0)"
           ],
           [
            0.5,
            "rgb(255, 128, 0)"
           ],
           [
            0.5039370078740157,
            "rgb(255, 129, 0)"
           ],
           [
            0.5078740157480315,
            "rgb(255, 130, 0)"
           ],
           [
            0.5118110236220472,
            "rgb(255, 131, 0)"
           ],
           [
            0.515748031496063,
            "rgb(255, 131, 0)"
           ],
           [
            0.5196850393700787,
            "rgb(255, 133, 0)"
           ],
           [
            0.5236220472440944,
            "rgb(255, 134, 0)"
           ],
           [
            0.5275590551181102,
            "rgb(255, 135, 0)"
           ],
           [
            0.5314960629921259,
            "rgb(255, 136, 0)"
           ],
           [
            0.5354330708661417,
            "rgb(255, 137, 0)"
           ],
           [
            0.5393700787401575,
            "rgb(255, 138, 0)"
           ],
           [
            0.5433070866141733,
            "rgb(255, 139, 0)"
           ],
           [
            0.547244094488189,
            "rgb(255, 140, 0)"
           ],
           [
            0.5511811023622047,
            "rgb(255, 141, 0)"
           ],
           [
            0.5551181102362205,
            "rgb(255, 142, 0)"
           ],
           [
            0.5590551181102362,
            "rgb(255, 143, 0)"
           ],
           [
            0.562992125984252,
            "rgb(255, 144, 0)"
           ],
           [
            0.5669291338582677,
            "rgb(255, 145, 0)"
           ],
           [
            0.5708661417322834,
            "rgb(255, 146, 0)"
           ],
           [
            0.5748031496062992,
            "rgb(255, 147, 0)"
           ],
           [
            0.5787401574803149,
            "rgb(255, 147, 0)"
           ],
           [
            0.5826771653543307,
            "rgb(255, 149, 0)"
           ],
           [
            0.5866141732283464,
            "rgb(255, 150, 0)"
           ],
           [
            0.5905511811023622,
            "rgb(255, 151, 0)"
           ],
           [
            0.5944881889763779,
            "rgb(255, 152, 0)"
           ],
           [
            0.5984251968503937,
            "rgb(255, 153, 0)"
           ],
           [
            0.6023622047244095,
            "rgb(255, 154, 0)"
           ],
           [
            0.6062992125984252,
            "rgb(255, 155, 0)"
           ],
           [
            0.610236220472441,
            "rgb(255, 156, 0)"
           ],
           [
            0.6141732283464567,
            "rgb(255, 157, 0)"
           ],
           [
            0.6181102362204725,
            "rgb(255, 158, 0)"
           ],
           [
            0.6220472440944882,
            "rgb(255, 159, 0)"
           ],
           [
            0.6259842519685039,
            "rgb(255, 160, 0)"
           ],
           [
            0.6299212598425197,
            "rgb(255, 161, 0)"
           ],
           [
            0.6338582677165354,
            "rgb(255, 162, 0)"
           ],
           [
            0.6377952755905512,
            "rgb(255, 163, 0)"
           ],
           [
            0.6417322834645669,
            "rgb(255, 163, 0)"
           ],
           [
            0.6456692913385826,
            "rgb(255, 165, 0)"
           ],
           [
            0.6496062992125984,
            "rgb(255, 166, 0)"
           ],
           [
            0.6535433070866141,
            "rgb(255, 167, 0)"
           ],
           [
            0.6574803149606299,
            "rgb(255, 168, 0)"
           ],
           [
            0.6614173228346456,
            "rgb(255, 169, 0)"
           ],
           [
            0.6653543307086615,
            "rgb(255, 170, 0)"
           ],
           [
            0.6692913385826772,
            "rgb(255, 171, 0)"
           ],
           [
            0.6732283464566929,
            "rgb(255, 172, 0)"
           ],
           [
            0.6771653543307087,
            "rgb(255, 173, 0)"
           ],
           [
            0.6811023622047244,
            "rgb(255, 174, 0)"
           ],
           [
            0.6850393700787402,
            "rgb(255, 175, 0)"
           ],
           [
            0.6889763779527559,
            "rgb(255, 176, 0)"
           ],
           [
            0.6929133858267716,
            "rgb(255, 177, 0)"
           ],
           [
            0.6968503937007874,
            "rgb(255, 178, 0)"
           ],
           [
            0.7007874015748031,
            "rgb(255, 179, 0)"
           ],
           [
            0.7047244094488189,
            "rgb(255, 179, 0)"
           ],
           [
            0.7086614173228346,
            "rgb(255, 181, 0)"
           ],
           [
            0.7125984251968503,
            "rgb(255, 182, 0)"
           ],
           [
            0.7165354330708661,
            "rgb(255, 183, 0)"
           ],
           [
            0.7204724409448818,
            "rgb(255, 184, 0)"
           ],
           [
            0.7244094488188977,
            "rgb(255, 185, 0)"
           ],
           [
            0.7283464566929134,
            "rgb(255, 186, 0)"
           ],
           [
            0.7322834645669292,
            "rgb(255, 187, 0)"
           ],
           [
            0.7362204724409449,
            "rgb(255, 188, 0)"
           ],
           [
            0.7401574803149606,
            "rgb(255, 189, 0)"
           ],
           [
            0.7440944881889764,
            "rgb(255, 190, 0)"
           ],
           [
            0.7480314960629921,
            "rgb(255, 191, 0)"
           ],
           [
            0.7519685039370079,
            "rgb(255, 192, 0)"
           ],
           [
            0.7559055118110236,
            "rgb(255, 193, 0)"
           ],
           [
            0.7598425196850394,
            "rgb(255, 194, 0)"
           ],
           [
            0.7637795275590551,
            "rgb(255, 195, 0)"
           ],
           [
            0.7677165354330708,
            "rgb(255, 195, 0)"
           ],
           [
            0.7716535433070866,
            "rgb(255, 197, 0)"
           ],
           [
            0.7755905511811023,
            "rgb(255, 198, 0)"
           ],
           [
            0.7795275590551181,
            "rgb(255, 199, 0)"
           ],
           [
            0.7834645669291338,
            "rgb(255, 200, 0)"
           ],
           [
            0.7874015748031495,
            "rgb(255, 201, 0)"
           ],
           [
            0.7913385826771654,
            "rgb(255, 202, 0)"
           ],
           [
            0.7952755905511811,
            "rgb(255, 203, 0)"
           ],
           [
            0.7992125984251969,
            "rgb(255, 204, 0)"
           ],
           [
            0.8031496062992126,
            "rgb(255, 205, 0)"
           ],
           [
            0.8070866141732284,
            "rgb(255, 206, 0)"
           ],
           [
            0.8110236220472441,
            "rgb(255, 207, 0)"
           ],
           [
            0.8149606299212598,
            "rgb(255, 208, 0)"
           ],
           [
            0.8188976377952756,
            "rgb(255, 209, 0)"
           ],
           [
            0.8228346456692913,
            "rgb(255, 210, 0)"
           ],
           [
            0.8267716535433071,
            "rgb(255, 211, 0)"
           ],
           [
            0.8307086614173228,
            "rgb(255, 211, 0)"
           ],
           [
            0.8346456692913385,
            "rgb(255, 213, 0)"
           ],
           [
            0.8385826771653543,
            "rgb(255, 214, 0)"
           ],
           [
            0.84251968503937,
            "rgb(255, 215, 0)"
           ],
           [
            0.8464566929133858,
            "rgb(255, 216, 0)"
           ],
           [
            0.8503937007874016,
            "rgb(255, 217, 0)"
           ],
           [
            0.8543307086614174,
            "rgb(255, 218, 0)"
           ],
           [
            0.8582677165354331,
            "rgb(255, 219, 0)"
           ],
           [
            0.8622047244094488,
            "rgb(255, 220, 0)"
           ],
           [
            0.8661417322834646,
            "rgb(255, 221, 0)"
           ],
           [
            0.8700787401574803,
            "rgb(255, 222, 0)"
           ],
           [
            0.8740157480314961,
            "rgb(255, 223, 0)"
           ],
           [
            0.8779527559055118,
            "rgb(255, 224, 0)"
           ],
           [
            0.8818897637795275,
            "rgb(255, 225, 0)"
           ],
           [
            0.8858267716535433,
            "rgb(255, 226, 0)"
           ],
           [
            0.889763779527559,
            "rgb(255, 227, 0)"
           ],
           [
            0.8937007874015748,
            "rgb(255, 227, 0)"
           ],
           [
            0.8976377952755905,
            "rgb(255, 229, 0)"
           ],
           [
            0.9015748031496063,
            "rgb(255, 230, 0)"
           ],
           [
            0.905511811023622,
            "rgb(255, 231, 0)"
           ],
           [
            0.9094488188976377,
            "rgb(255, 232, 0)"
           ],
           [
            0.9133858267716535,
            "rgb(255, 233, 0)"
           ],
           [
            0.9173228346456693,
            "rgb(255, 234, 0)"
           ],
           [
            0.9212598425196851,
            "rgb(255, 235, 0)"
           ],
           [
            0.9251968503937008,
            "rgb(255, 236, 0)"
           ],
           [
            0.9291338582677166,
            "rgb(255, 237, 0)"
           ],
           [
            0.9330708661417323,
            "rgb(255, 238, 0)"
           ],
           [
            0.937007874015748,
            "rgb(255, 239, 0)"
           ],
           [
            0.9409448818897638,
            "rgb(255, 240, 0)"
           ],
           [
            0.9448818897637795,
            "rgb(255, 241, 0)"
           ],
           [
            0.9488188976377953,
            "rgb(255, 242, 0)"
           ],
           [
            0.952755905511811,
            "rgb(255, 243, 0)"
           ],
           [
            0.9566929133858267,
            "rgb(255, 243, 0)"
           ],
           [
            0.9606299212598425,
            "rgb(255, 245, 0)"
           ],
           [
            0.9645669291338582,
            "rgb(255, 246, 0)"
           ],
           [
            0.968503937007874,
            "rgb(255, 247, 0)"
           ],
           [
            0.9724409448818897,
            "rgb(255, 248, 0)"
           ],
           [
            0.9763779527559056,
            "rgb(255, 249, 0)"
           ],
           [
            0.9803149606299213,
            "rgb(255, 250, 0)"
           ],
           [
            0.984251968503937,
            "rgb(255, 251, 0)"
           ],
           [
            0.9881889763779528,
            "rgb(255, 252, 0)"
           ],
           [
            0.9921259842519685,
            "rgb(255, 253, 0)"
           ],
           [
            0.9960629921259843,
            "rgb(255, 254, 0)"
           ],
           [
            1,
            "rgb(255, 255, 0)"
           ]
          ],
          "line": {
           "color": "black",
           "width": 0.5
          },
          "opacity": 1,
          "size": 10
         },
         "mode": "markers",
         "type": "scatter3d",
         "visible": false,
         "x": [
          2.3926937106582717,
          1.5412233021918147,
          -2.6480750145045624,
          -0.18814894486064926,
          -1.2009225703421844,
          -1.2664341167805206,
          0.7034173272905986,
          0.6662463063472259
         ],
         "y": [
          -0.02124780885372012,
          0.06519058486601034,
          -0.02124780885370734,
          -0.024706388396660686,
          -1.0991221337937032,
          0.9557551393927436,
          -0.507402437693,
          0.652780853332037
         ],
         "z": [
          1.4661206301442862,
          1.8888443027933728,
          -0.4306036653218672,
          1.0077831428072148,
          -1.1037190344986232,
          -1.051961750890965,
          -0.8443099223444602,
          -0.932153702688965
         ]
        },
        {
         "line": {
          "color": "rgba(0,0,0,1)",
          "width": 4
         },
         "mode": "lines",
         "type": "scatter3d",
         "visible": false,
         "x": [
          1.5412233021918147,
          -0.18814894486064926
         ],
         "y": [
          0.06519058486601034,
          -0.024706388396660686
         ],
         "z": [
          1.8888443027933728,
          1.0077831428072148
         ]
        },
        {
         "line": {
          "color": "rgba(0,0,0,1)",
          "width": 4
         },
         "mode": "lines",
         "type": "scatter3d",
         "visible": false,
         "x": [
          -0.18814894486064926,
          -2.6480750145045624
         ],
         "y": [
          -0.024706388396660686,
          -0.02124780885370734
         ],
         "z": [
          1.0077831428072148,
          -0.4306036653218672
         ]
        },
        {
         "line": {
          "color": "rgba(0,0,0,1)",
          "width": 4
         },
         "mode": "lines",
         "type": "scatter3d",
         "visible": false,
         "x": [
          2.3926937106582717,
          1.5412233021918147
         ],
         "y": [
          -0.02124780885372012,
          0.06519058486601034
         ],
         "z": [
          1.4661206301442862,
          1.8888443027933728
         ]
        },
        {
         "line": {
          "color": "rgba(0,0,0,1)",
          "width": 4
         },
         "mode": "lines",
         "type": "scatter3d",
         "visible": false,
         "x": [
          0.6662463063472259,
          -0.18814894486064926
         ],
         "y": [
          0.652780853332037,
          -0.024706388396660686
         ],
         "z": [
          -0.932153702688965,
          1.0077831428072148
         ]
        },
        {
         "line": {
          "color": "rgba(0,0,0,1)",
          "width": 4
         },
         "mode": "lines",
         "type": "scatter3d",
         "visible": false,
         "x": [
          -1.2664341167805206,
          -2.6480750145045624
         ],
         "y": [
          0.9557551393927436,
          -0.02124780885370734
         ],
         "z": [
          -1.051961750890965,
          -0.4306036653218672
         ]
        },
        {
         "line": {
          "color": "rgba(0,0,0,1)",
          "width": 4
         },
         "mode": "lines",
         "type": "scatter3d",
         "visible": false,
         "x": [
          0.7034173272905986,
          -0.18814894486064926
         ],
         "y": [
          -0.507402437693,
          -0.024706388396660686
         ],
         "z": [
          -0.8443099223444602,
          1.0077831428072148
         ]
        },
        {
         "line": {
          "color": "rgba(0,0,0,1)",
          "width": 4
         },
         "mode": "lines",
         "type": "scatter3d",
         "visible": false,
         "x": [
          -1.2009225703421844,
          -2.6480750145045624
         ],
         "y": [
          -1.0991221337937032,
          -0.02124780885370734
         ],
         "z": [
          -1.1037190344986232,
          -0.4306036653218672
         ]
        },
        {
         "marker": {
          "color": [
           0,
           0.14285714285714285,
           0.2857142857142857,
           0.42857142857142855,
           0.5714285714285714,
           0.7142857142857142,
           0.8571428571428571,
           1
          ],
          "colorscale": [
           [
            0,
            "rgb(255, 0, 0)"
           ],
           [
            0.003937007874015748,
            "rgb(255, 1, 0)"
           ],
           [
            0.007874015748031496,
            "rgb(255, 2, 0)"
           ],
           [
            0.011811023622047244,
            "rgb(255, 3, 0)"
           ],
           [
            0.015748031496062992,
            "rgb(255, 4, 0)"
           ],
           [
            0.01968503937007874,
            "rgb(255, 5, 0)"
           ],
           [
            0.023622047244094488,
            "rgb(255, 6, 0)"
           ],
           [
            0.027559055118110236,
            "rgb(255, 7, 0)"
           ],
           [
            0.031496062992125984,
            "rgb(255, 8, 0)"
           ],
           [
            0.03543307086614173,
            "rgb(255, 9, 0)"
           ],
           [
            0.03937007874015748,
            "rgb(255, 10, 0)"
           ],
           [
            0.04330708661417323,
            "rgb(255, 11, 0)"
           ],
           [
            0.047244094488188976,
            "rgb(255, 12, 0)"
           ],
           [
            0.051181102362204724,
            "rgb(255, 13, 0)"
           ],
           [
            0.05511811023622047,
            "rgb(255, 14, 0)"
           ],
           [
            0.05905511811023622,
            "rgb(255, 15, 0)"
           ],
           [
            0.06299212598425197,
            "rgb(255, 16, 0)"
           ],
           [
            0.06692913385826771,
            "rgb(255, 17, 0)"
           ],
           [
            0.07086614173228346,
            "rgb(255, 18, 0)"
           ],
           [
            0.07480314960629922,
            "rgb(255, 19, 0)"
           ],
           [
            0.07874015748031496,
            "rgb(255, 20, 0)"
           ],
           [
            0.0826771653543307,
            "rgb(255, 21, 0)"
           ],
           [
            0.08661417322834646,
            "rgb(255, 22, 0)"
           ],
           [
            0.09055118110236221,
            "rgb(255, 23, 0)"
           ],
           [
            0.09448818897637795,
            "rgb(255, 24, 0)"
           ],
           [
            0.09842519685039369,
            "rgb(255, 25, 0)"
           ],
           [
            0.10236220472440945,
            "rgb(255, 26, 0)"
           ],
           [
            0.1062992125984252,
            "rgb(255, 27, 0)"
           ],
           [
            0.11023622047244094,
            "rgb(255, 28, 0)"
           ],
           [
            0.11417322834645668,
            "rgb(255, 29, 0)"
           ],
           [
            0.11811023622047244,
            "rgb(255, 30, 0)"
           ],
           [
            0.1220472440944882,
            "rgb(255, 31, 0)"
           ],
           [
            0.12598425196850394,
            "rgb(255, 32, 0)"
           ],
           [
            0.12992125984251968,
            "rgb(255, 32, 0)"
           ],
           [
            0.13385826771653542,
            "rgb(255, 34, 0)"
           ],
           [
            0.1377952755905512,
            "rgb(255, 35, 0)"
           ],
           [
            0.14173228346456693,
            "rgb(255, 36, 0)"
           ],
           [
            0.14566929133858267,
            "rgb(255, 36, 0)"
           ],
           [
            0.14960629921259844,
            "rgb(255, 38, 0)"
           ],
           [
            0.15354330708661418,
            "rgb(255, 39, 0)"
           ],
           [
            0.15748031496062992,
            "rgb(255, 40, 0)"
           ],
           [
            0.16141732283464566,
            "rgb(255, 40, 0)"
           ],
           [
            0.1653543307086614,
            "rgb(255, 42, 0)"
           ],
           [
            0.16929133858267717,
            "rgb(255, 43, 0)"
           ],
           [
            0.1732283464566929,
            "rgb(255, 44, 0)"
           ],
           [
            0.17716535433070865,
            "rgb(255, 44, 0)"
           ],
           [
            0.18110236220472442,
            "rgb(255, 46, 0)"
           ],
           [
            0.18503937007874016,
            "rgb(255, 47, 0)"
           ],
           [
            0.1889763779527559,
            "rgb(255, 48, 0)"
           ],
           [
            0.19291338582677164,
            "rgb(255, 48, 0)"
           ],
           [
            0.19685039370078738,
            "rgb(255, 50, 0)"
           ],
           [
            0.20078740157480315,
            "rgb(255, 51, 0)"
           ],
           [
            0.2047244094488189,
            "rgb(255, 52, 0)"
           ],
           [
            0.20866141732283464,
            "rgb(255, 52, 0)"
           ],
           [
            0.2125984251968504,
            "rgb(255, 54, 0)"
           ],
           [
            0.21653543307086615,
            "rgb(255, 55, 0)"
           ],
           [
            0.2204724409448819,
            "rgb(255, 56, 0)"
           ],
           [
            0.22440944881889763,
            "rgb(255, 56, 0)"
           ],
           [
            0.22834645669291337,
            "rgb(255, 58, 0)"
           ],
           [
            0.23228346456692914,
            "rgb(255, 59, 0)"
           ],
           [
            0.23622047244094488,
            "rgb(255, 60, 0)"
           ],
           [
            0.24015748031496062,
            "rgb(255, 60, 0)"
           ],
           [
            0.2440944881889764,
            "rgb(255, 62, 0)"
           ],
           [
            0.24803149606299213,
            "rgb(255, 63, 0)"
           ],
           [
            0.25196850393700787,
            "rgb(255, 64, 0)"
           ],
           [
            0.2559055118110236,
            "rgb(255, 65, 0)"
           ],
           [
            0.25984251968503935,
            "rgb(255, 65, 0)"
           ],
           [
            0.2637795275590551,
            "rgb(255, 67, 0)"
           ],
           [
            0.26771653543307083,
            "rgb(255, 68, 0)"
           ],
           [
            0.27165354330708663,
            "rgb(255, 69, 0)"
           ],
           [
            0.2755905511811024,
            "rgb(255, 70, 0)"
           ],
           [
            0.2795275590551181,
            "rgb(255, 71, 0)"
           ],
           [
            0.28346456692913385,
            "rgb(255, 72, 0)"
           ],
           [
            0.2874015748031496,
            "rgb(255, 73, 0)"
           ],
           [
            0.29133858267716534,
            "rgb(255, 73, 0)"
           ],
           [
            0.2952755905511811,
            "rgb(255, 75, 0)"
           ],
           [
            0.2992125984251969,
            "rgb(255, 76, 0)"
           ],
           [
            0.3031496062992126,
            "rgb(255, 77, 0)"
           ],
           [
            0.30708661417322836,
            "rgb(255, 78, 0)"
           ],
           [
            0.3110236220472441,
            "rgb(255, 79, 0)"
           ],
           [
            0.31496062992125984,
            "rgb(255, 80, 0)"
           ],
           [
            0.3188976377952756,
            "rgb(255, 81, 0)"
           ],
           [
            0.3228346456692913,
            "rgb(255, 81, 0)"
           ],
           [
            0.32677165354330706,
            "rgb(255, 83, 0)"
           ],
           [
            0.3307086614173228,
            "rgb(255, 84, 0)"
           ],
           [
            0.3346456692913386,
            "rgb(255, 85, 0)"
           ],
           [
            0.33858267716535434,
            "rgb(255, 86, 0)"
           ],
           [
            0.3425196850393701,
            "rgb(255, 87, 0)"
           ],
           [
            0.3464566929133858,
            "rgb(255, 88, 0)"
           ],
           [
            0.35039370078740156,
            "rgb(255, 89, 0)"
           ],
           [
            0.3543307086614173,
            "rgb(255, 89, 0)"
           ],
           [
            0.35826771653543305,
            "rgb(255, 91, 0)"
           ],
           [
            0.36220472440944884,
            "rgb(255, 92, 0)"
           ],
           [
            0.3661417322834646,
            "rgb(255, 93, 0)"
           ],
           [
            0.3700787401574803,
            "rgb(255, 94, 0)"
           ],
           [
            0.37401574803149606,
            "rgb(255, 95, 0)"
           ],
           [
            0.3779527559055118,
            "rgb(255, 96, 0)"
           ],
           [
            0.38188976377952755,
            "rgb(255, 97, 0)"
           ],
           [
            0.3858267716535433,
            "rgb(255, 97, 0)"
           ],
           [
            0.38976377952755903,
            "rgb(255, 99, 0)"
           ],
           [
            0.39370078740157477,
            "rgb(255, 100, 0)"
           ],
           [
            0.39763779527559057,
            "rgb(255, 101, 0)"
           ],
           [
            0.4015748031496063,
            "rgb(255, 102, 0)"
           ],
           [
            0.40551181102362205,
            "rgb(255, 103, 0)"
           ],
           [
            0.4094488188976378,
            "rgb(255, 104, 0)"
           ],
           [
            0.41338582677165353,
            "rgb(255, 105, 0)"
           ],
           [
            0.41732283464566927,
            "rgb(255, 105, 0)"
           ],
           [
            0.421259842519685,
            "rgb(255, 107, 0)"
           ],
           [
            0.4251968503937008,
            "rgb(255, 108, 0)"
           ],
           [
            0.42913385826771655,
            "rgb(255, 109, 0)"
           ],
           [
            0.4330708661417323,
            "rgb(255, 110, 0)"
           ],
           [
            0.43700787401574803,
            "rgb(255, 111, 0)"
           ],
           [
            0.4409448818897638,
            "rgb(255, 112, 0)"
           ],
           [
            0.4448818897637795,
            "rgb(255, 113, 0)"
           ],
           [
            0.44881889763779526,
            "rgb(255, 113, 0)"
           ],
           [
            0.452755905511811,
            "rgb(255, 115, 0)"
           ],
           [
            0.45669291338582674,
            "rgb(255, 116, 0)"
           ],
           [
            0.46062992125984253,
            "rgb(255, 117, 0)"
           ],
           [
            0.4645669291338583,
            "rgb(255, 118, 0)"
           ],
           [
            0.468503937007874,
            "rgb(255, 119, 0)"
           ],
           [
            0.47244094488188976,
            "rgb(255, 120, 0)"
           ],
           [
            0.4763779527559055,
            "rgb(255, 121, 0)"
           ],
           [
            0.48031496062992124,
            "rgb(255, 121, 0)"
           ],
           [
            0.484251968503937,
            "rgb(255, 123, 0)"
           ],
           [
            0.4881889763779528,
            "rgb(255, 124, 0)"
           ],
           [
            0.4921259842519685,
            "rgb(255, 125, 0)"
           ],
           [
            0.49606299212598426,
            "rgb(255, 126, 0)"
           ],
           [
            0.5,
            "rgb(255, 128, 0)"
           ],
           [
            0.5039370078740157,
            "rgb(255, 129, 0)"
           ],
           [
            0.5078740157480315,
            "rgb(255, 130, 0)"
           ],
           [
            0.5118110236220472,
            "rgb(255, 131, 0)"
           ],
           [
            0.515748031496063,
            "rgb(255, 131, 0)"
           ],
           [
            0.5196850393700787,
            "rgb(255, 133, 0)"
           ],
           [
            0.5236220472440944,
            "rgb(255, 134, 0)"
           ],
           [
            0.5275590551181102,
            "rgb(255, 135, 0)"
           ],
           [
            0.5314960629921259,
            "rgb(255, 136, 0)"
           ],
           [
            0.5354330708661417,
            "rgb(255, 137, 0)"
           ],
           [
            0.5393700787401575,
            "rgb(255, 138, 0)"
           ],
           [
            0.5433070866141733,
            "rgb(255, 139, 0)"
           ],
           [
            0.547244094488189,
            "rgb(255, 140, 0)"
           ],
           [
            0.5511811023622047,
            "rgb(255, 141, 0)"
           ],
           [
            0.5551181102362205,
            "rgb(255, 142, 0)"
           ],
           [
            0.5590551181102362,
            "rgb(255, 143, 0)"
           ],
           [
            0.562992125984252,
            "rgb(255, 144, 0)"
           ],
           [
            0.5669291338582677,
            "rgb(255, 145, 0)"
           ],
           [
            0.5708661417322834,
            "rgb(255, 146, 0)"
           ],
           [
            0.5748031496062992,
            "rgb(255, 147, 0)"
           ],
           [
            0.5787401574803149,
            "rgb(255, 147, 0)"
           ],
           [
            0.5826771653543307,
            "rgb(255, 149, 0)"
           ],
           [
            0.5866141732283464,
            "rgb(255, 150, 0)"
           ],
           [
            0.5905511811023622,
            "rgb(255, 151, 0)"
           ],
           [
            0.5944881889763779,
            "rgb(255, 152, 0)"
           ],
           [
            0.5984251968503937,
            "rgb(255, 153, 0)"
           ],
           [
            0.6023622047244095,
            "rgb(255, 154, 0)"
           ],
           [
            0.6062992125984252,
            "rgb(255, 155, 0)"
           ],
           [
            0.610236220472441,
            "rgb(255, 156, 0)"
           ],
           [
            0.6141732283464567,
            "rgb(255, 157, 0)"
           ],
           [
            0.6181102362204725,
            "rgb(255, 158, 0)"
           ],
           [
            0.6220472440944882,
            "rgb(255, 159, 0)"
           ],
           [
            0.6259842519685039,
            "rgb(255, 160, 0)"
           ],
           [
            0.6299212598425197,
            "rgb(255, 161, 0)"
           ],
           [
            0.6338582677165354,
            "rgb(255, 162, 0)"
           ],
           [
            0.6377952755905512,
            "rgb(255, 163, 0)"
           ],
           [
            0.6417322834645669,
            "rgb(255, 163, 0)"
           ],
           [
            0.6456692913385826,
            "rgb(255, 165, 0)"
           ],
           [
            0.6496062992125984,
            "rgb(255, 166, 0)"
           ],
           [
            0.6535433070866141,
            "rgb(255, 167, 0)"
           ],
           [
            0.6574803149606299,
            "rgb(255, 168, 0)"
           ],
           [
            0.6614173228346456,
            "rgb(255, 169, 0)"
           ],
           [
            0.6653543307086615,
            "rgb(255, 170, 0)"
           ],
           [
            0.6692913385826772,
            "rgb(255, 171, 0)"
           ],
           [
            0.6732283464566929,
            "rgb(255, 172, 0)"
           ],
           [
            0.6771653543307087,
            "rgb(255, 173, 0)"
           ],
           [
            0.6811023622047244,
            "rgb(255, 174, 0)"
           ],
           [
            0.6850393700787402,
            "rgb(255, 175, 0)"
           ],
           [
            0.6889763779527559,
            "rgb(255, 176, 0)"
           ],
           [
            0.6929133858267716,
            "rgb(255, 177, 0)"
           ],
           [
            0.6968503937007874,
            "rgb(255, 178, 0)"
           ],
           [
            0.7007874015748031,
            "rgb(255, 179, 0)"
           ],
           [
            0.7047244094488189,
            "rgb(255, 179, 0)"
           ],
           [
            0.7086614173228346,
            "rgb(255, 181, 0)"
           ],
           [
            0.7125984251968503,
            "rgb(255, 182, 0)"
           ],
           [
            0.7165354330708661,
            "rgb(255, 183, 0)"
           ],
           [
            0.7204724409448818,
            "rgb(255, 184, 0)"
           ],
           [
            0.7244094488188977,
            "rgb(255, 185, 0)"
           ],
           [
            0.7283464566929134,
            "rgb(255, 186, 0)"
           ],
           [
            0.7322834645669292,
            "rgb(255, 187, 0)"
           ],
           [
            0.7362204724409449,
            "rgb(255, 188, 0)"
           ],
           [
            0.7401574803149606,
            "rgb(255, 189, 0)"
           ],
           [
            0.7440944881889764,
            "rgb(255, 190, 0)"
           ],
           [
            0.7480314960629921,
            "rgb(255, 191, 0)"
           ],
           [
            0.7519685039370079,
            "rgb(255, 192, 0)"
           ],
           [
            0.7559055118110236,
            "rgb(255, 193, 0)"
           ],
           [
            0.7598425196850394,
            "rgb(255, 194, 0)"
           ],
           [
            0.7637795275590551,
            "rgb(255, 195, 0)"
           ],
           [
            0.7677165354330708,
            "rgb(255, 195, 0)"
           ],
           [
            0.7716535433070866,
            "rgb(255, 197, 0)"
           ],
           [
            0.7755905511811023,
            "rgb(255, 198, 0)"
           ],
           [
            0.7795275590551181,
            "rgb(255, 199, 0)"
           ],
           [
            0.7834645669291338,
            "rgb(255, 200, 0)"
           ],
           [
            0.7874015748031495,
            "rgb(255, 201, 0)"
           ],
           [
            0.7913385826771654,
            "rgb(255, 202, 0)"
           ],
           [
            0.7952755905511811,
            "rgb(255, 203, 0)"
           ],
           [
            0.7992125984251969,
            "rgb(255, 204, 0)"
           ],
           [
            0.8031496062992126,
            "rgb(255, 205, 0)"
           ],
           [
            0.8070866141732284,
            "rgb(255, 206, 0)"
           ],
           [
            0.8110236220472441,
            "rgb(255, 207, 0)"
           ],
           [
            0.8149606299212598,
            "rgb(255, 208, 0)"
           ],
           [
            0.8188976377952756,
            "rgb(255, 209, 0)"
           ],
           [
            0.8228346456692913,
            "rgb(255, 210, 0)"
           ],
           [
            0.8267716535433071,
            "rgb(255, 211, 0)"
           ],
           [
            0.8307086614173228,
            "rgb(255, 211, 0)"
           ],
           [
            0.8346456692913385,
            "rgb(255, 213, 0)"
           ],
           [
            0.8385826771653543,
            "rgb(255, 214, 0)"
           ],
           [
            0.84251968503937,
            "rgb(255, 215, 0)"
           ],
           [
            0.8464566929133858,
            "rgb(255, 216, 0)"
           ],
           [
            0.8503937007874016,
            "rgb(255, 217, 0)"
           ],
           [
            0.8543307086614174,
            "rgb(255, 218, 0)"
           ],
           [
            0.8582677165354331,
            "rgb(255, 219, 0)"
           ],
           [
            0.8622047244094488,
            "rgb(255, 220, 0)"
           ],
           [
            0.8661417322834646,
            "rgb(255, 221, 0)"
           ],
           [
            0.8700787401574803,
            "rgb(255, 222, 0)"
           ],
           [
            0.8740157480314961,
            "rgb(255, 223, 0)"
           ],
           [
            0.8779527559055118,
            "rgb(255, 224, 0)"
           ],
           [
            0.8818897637795275,
            "rgb(255, 225, 0)"
           ],
           [
            0.8858267716535433,
            "rgb(255, 226, 0)"
           ],
           [
            0.889763779527559,
            "rgb(255, 227, 0)"
           ],
           [
            0.8937007874015748,
            "rgb(255, 227, 0)"
           ],
           [
            0.8976377952755905,
            "rgb(255, 229, 0)"
           ],
           [
            0.9015748031496063,
            "rgb(255, 230, 0)"
           ],
           [
            0.905511811023622,
            "rgb(255, 231, 0)"
           ],
           [
            0.9094488188976377,
            "rgb(255, 232, 0)"
           ],
           [
            0.9133858267716535,
            "rgb(255, 233, 0)"
           ],
           [
            0.9173228346456693,
            "rgb(255, 234, 0)"
           ],
           [
            0.9212598425196851,
            "rgb(255, 235, 0)"
           ],
           [
            0.9251968503937008,
            "rgb(255, 236, 0)"
           ],
           [
            0.9291338582677166,
            "rgb(255, 237, 0)"
           ],
           [
            0.9330708661417323,
            "rgb(255, 238, 0)"
           ],
           [
            0.937007874015748,
            "rgb(255, 239, 0)"
           ],
           [
            0.9409448818897638,
            "rgb(255, 240, 0)"
           ],
           [
            0.9448818897637795,
            "rgb(255, 241, 0)"
           ],
           [
            0.9488188976377953,
            "rgb(255, 242, 0)"
           ],
           [
            0.952755905511811,
            "rgb(255, 243, 0)"
           ],
           [
            0.9566929133858267,
            "rgb(255, 243, 0)"
           ],
           [
            0.9606299212598425,
            "rgb(255, 245, 0)"
           ],
           [
            0.9645669291338582,
            "rgb(255, 246, 0)"
           ],
           [
            0.968503937007874,
            "rgb(255, 247, 0)"
           ],
           [
            0.9724409448818897,
            "rgb(255, 248, 0)"
           ],
           [
            0.9763779527559056,
            "rgb(255, 249, 0)"
           ],
           [
            0.9803149606299213,
            "rgb(255, 250, 0)"
           ],
           [
            0.984251968503937,
            "rgb(255, 251, 0)"
           ],
           [
            0.9881889763779528,
            "rgb(255, 252, 0)"
           ],
           [
            0.9921259842519685,
            "rgb(255, 253, 0)"
           ],
           [
            0.9960629921259843,
            "rgb(255, 254, 0)"
           ],
           [
            1,
            "rgb(255, 255, 0)"
           ]
          ],
          "line": {
           "color": "black",
           "width": 0.5
          },
          "opacity": 1,
          "size": 10
         },
         "mode": "markers",
         "type": "scatter3d",
         "visible": false,
         "x": [
          2.1670240504468423,
          1.2986983523615219,
          -3.0067710125689855,
          -0.30902771893879843,
          -1.0257017566270892,
          -1.5830672687249052,
          0.9348853388104239,
          1.523960015240987
         ],
         "y": [
          0.09238791840207808,
          0.0070486891061399826,
          0.09238791840209154,
          0.10785397324999321,
          -0.6587108992052568,
          1.5176016625969069,
          -1.1645993181012624,
          0.006030055549311481
         ],
         "z": [
          1.1368765585942338,
          1.6645075286942461,
          -0.3755212327132539,
          0.8988589775024179,
          -1.1870828933633872,
          -1.1944348558933529,
          -0.4104016068071309,
          -0.5328024760137798
         ]
        },
        {
         "line": {
          "color": "rgba(0,0,0,1)",
          "width": 4
         },
         "mode": "lines",
         "type": "scatter3d",
         "visible": false,
         "x": [
          1.2986983523615219,
          -0.30902771893879843
         ],
         "y": [
          0.0070486891061399826,
          0.10785397324999321
         ],
         "z": [
          1.6645075286942461,
          0.8988589775024179
         ]
        },
        {
         "line": {
          "color": "rgba(0,0,0,1)",
          "width": 4
         },
         "mode": "lines",
         "type": "scatter3d",
         "visible": false,
         "x": [
          -0.30902771893879843,
          -3.0067710125689855
         ],
         "y": [
          0.10785397324999321,
          0.09238791840209154
         ],
         "z": [
          0.8988589775024179,
          -0.3755212327132539
         ]
        },
        {
         "line": {
          "color": "rgba(0,0,0,1)",
          "width": 4
         },
         "mode": "lines",
         "type": "scatter3d",
         "visible": false,
         "x": [
          2.1670240504468423,
          1.2986983523615219
         ],
         "y": [
          0.09238791840207808,
          0.0070486891061399826
         ],
         "z": [
          1.1368765585942338,
          1.6645075286942461
         ]
        },
        {
         "line": {
          "color": "rgba(0,0,0,1)",
          "width": 4
         },
         "mode": "lines",
         "type": "scatter3d",
         "visible": false,
         "x": [
          1.523960015240987,
          -0.30902771893879843
         ],
         "y": [
          0.006030055549311481,
          0.10785397324999321
         ],
         "z": [
          -0.5328024760137798,
          0.8988589775024179
         ]
        },
        {
         "line": {
          "color": "rgba(0,0,0,1)",
          "width": 4
         },
         "mode": "lines",
         "type": "scatter3d",
         "visible": false,
         "x": [
          -1.5830672687249052,
          -3.0067710125689855
         ],
         "y": [
          1.5176016625969069,
          0.09238791840209154
         ],
         "z": [
          -1.1944348558933529,
          -0.3755212327132539
         ]
        },
        {
         "line": {
          "color": "rgba(0,0,0,1)",
          "width": 4
         },
         "mode": "lines",
         "type": "scatter3d",
         "visible": false,
         "x": [
          0.9348853388104239,
          -0.30902771893879843
         ],
         "y": [
          -1.1645993181012624,
          0.10785397324999321
         ],
         "z": [
          -0.4104016068071309,
          0.8988589775024179
         ]
        },
        {
         "line": {
          "color": "rgba(0,0,0,1)",
          "width": 4
         },
         "mode": "lines",
         "type": "scatter3d",
         "visible": false,
         "x": [
          -1.0257017566270892,
          -3.0067710125689855
         ],
         "y": [
          -0.6587108992052568,
          0.09238791840209154
         ],
         "z": [
          -1.1870828933633872,
          -0.3755212327132539
         ]
        },
        {
         "marker": {
          "color": [
           0,
           0.14285714285714285,
           0.2857142857142857,
           0.42857142857142855,
           0.5714285714285714,
           0.7142857142857142,
           0.8571428571428571,
           1
          ],
          "colorscale": [
           [
            0,
            "rgb(255, 0, 0)"
           ],
           [
            0.003937007874015748,
            "rgb(255, 1, 0)"
           ],
           [
            0.007874015748031496,
            "rgb(255, 2, 0)"
           ],
           [
            0.011811023622047244,
            "rgb(255, 3, 0)"
           ],
           [
            0.015748031496062992,
            "rgb(255, 4, 0)"
           ],
           [
            0.01968503937007874,
            "rgb(255, 5, 0)"
           ],
           [
            0.023622047244094488,
            "rgb(255, 6, 0)"
           ],
           [
            0.027559055118110236,
            "rgb(255, 7, 0)"
           ],
           [
            0.031496062992125984,
            "rgb(255, 8, 0)"
           ],
           [
            0.03543307086614173,
            "rgb(255, 9, 0)"
           ],
           [
            0.03937007874015748,
            "rgb(255, 10, 0)"
           ],
           [
            0.04330708661417323,
            "rgb(255, 11, 0)"
           ],
           [
            0.047244094488188976,
            "rgb(255, 12, 0)"
           ],
           [
            0.051181102362204724,
            "rgb(255, 13, 0)"
           ],
           [
            0.05511811023622047,
            "rgb(255, 14, 0)"
           ],
           [
            0.05905511811023622,
            "rgb(255, 15, 0)"
           ],
           [
            0.06299212598425197,
            "rgb(255, 16, 0)"
           ],
           [
            0.06692913385826771,
            "rgb(255, 17, 0)"
           ],
           [
            0.07086614173228346,
            "rgb(255, 18, 0)"
           ],
           [
            0.07480314960629922,
            "rgb(255, 19, 0)"
           ],
           [
            0.07874015748031496,
            "rgb(255, 20, 0)"
           ],
           [
            0.0826771653543307,
            "rgb(255, 21, 0)"
           ],
           [
            0.08661417322834646,
            "rgb(255, 22, 0)"
           ],
           [
            0.09055118110236221,
            "rgb(255, 23, 0)"
           ],
           [
            0.09448818897637795,
            "rgb(255, 24, 0)"
           ],
           [
            0.09842519685039369,
            "rgb(255, 25, 0)"
           ],
           [
            0.10236220472440945,
            "rgb(255, 26, 0)"
           ],
           [
            0.1062992125984252,
            "rgb(255, 27, 0)"
           ],
           [
            0.11023622047244094,
            "rgb(255, 28, 0)"
           ],
           [
            0.11417322834645668,
            "rgb(255, 29, 0)"
           ],
           [
            0.11811023622047244,
            "rgb(255, 30, 0)"
           ],
           [
            0.1220472440944882,
            "rgb(255, 31, 0)"
           ],
           [
            0.12598425196850394,
            "rgb(255, 32, 0)"
           ],
           [
            0.12992125984251968,
            "rgb(255, 32, 0)"
           ],
           [
            0.13385826771653542,
            "rgb(255, 34, 0)"
           ],
           [
            0.1377952755905512,
            "rgb(255, 35, 0)"
           ],
           [
            0.14173228346456693,
            "rgb(255, 36, 0)"
           ],
           [
            0.14566929133858267,
            "rgb(255, 36, 0)"
           ],
           [
            0.14960629921259844,
            "rgb(255, 38, 0)"
           ],
           [
            0.15354330708661418,
            "rgb(255, 39, 0)"
           ],
           [
            0.15748031496062992,
            "rgb(255, 40, 0)"
           ],
           [
            0.16141732283464566,
            "rgb(255, 40, 0)"
           ],
           [
            0.1653543307086614,
            "rgb(255, 42, 0)"
           ],
           [
            0.16929133858267717,
            "rgb(255, 43, 0)"
           ],
           [
            0.1732283464566929,
            "rgb(255, 44, 0)"
           ],
           [
            0.17716535433070865,
            "rgb(255, 44, 0)"
           ],
           [
            0.18110236220472442,
            "rgb(255, 46, 0)"
           ],
           [
            0.18503937007874016,
            "rgb(255, 47, 0)"
           ],
           [
            0.1889763779527559,
            "rgb(255, 48, 0)"
           ],
           [
            0.19291338582677164,
            "rgb(255, 48, 0)"
           ],
           [
            0.19685039370078738,
            "rgb(255, 50, 0)"
           ],
           [
            0.20078740157480315,
            "rgb(255, 51, 0)"
           ],
           [
            0.2047244094488189,
            "rgb(255, 52, 0)"
           ],
           [
            0.20866141732283464,
            "rgb(255, 52, 0)"
           ],
           [
            0.2125984251968504,
            "rgb(255, 54, 0)"
           ],
           [
            0.21653543307086615,
            "rgb(255, 55, 0)"
           ],
           [
            0.2204724409448819,
            "rgb(255, 56, 0)"
           ],
           [
            0.22440944881889763,
            "rgb(255, 56, 0)"
           ],
           [
            0.22834645669291337,
            "rgb(255, 58, 0)"
           ],
           [
            0.23228346456692914,
            "rgb(255, 59, 0)"
           ],
           [
            0.23622047244094488,
            "rgb(255, 60, 0)"
           ],
           [
            0.24015748031496062,
            "rgb(255, 60, 0)"
           ],
           [
            0.2440944881889764,
            "rgb(255, 62, 0)"
           ],
           [
            0.24803149606299213,
            "rgb(255, 63, 0)"
           ],
           [
            0.25196850393700787,
            "rgb(255, 64, 0)"
           ],
           [
            0.2559055118110236,
            "rgb(255, 65, 0)"
           ],
           [
            0.25984251968503935,
            "rgb(255, 65, 0)"
           ],
           [
            0.2637795275590551,
            "rgb(255, 67, 0)"
           ],
           [
            0.26771653543307083,
            "rgb(255, 68, 0)"
           ],
           [
            0.27165354330708663,
            "rgb(255, 69, 0)"
           ],
           [
            0.2755905511811024,
            "rgb(255, 70, 0)"
           ],
           [
            0.2795275590551181,
            "rgb(255, 71, 0)"
           ],
           [
            0.28346456692913385,
            "rgb(255, 72, 0)"
           ],
           [
            0.2874015748031496,
            "rgb(255, 73, 0)"
           ],
           [
            0.29133858267716534,
            "rgb(255, 73, 0)"
           ],
           [
            0.2952755905511811,
            "rgb(255, 75, 0)"
           ],
           [
            0.2992125984251969,
            "rgb(255, 76, 0)"
           ],
           [
            0.3031496062992126,
            "rgb(255, 77, 0)"
           ],
           [
            0.30708661417322836,
            "rgb(255, 78, 0)"
           ],
           [
            0.3110236220472441,
            "rgb(255, 79, 0)"
           ],
           [
            0.31496062992125984,
            "rgb(255, 80, 0)"
           ],
           [
            0.3188976377952756,
            "rgb(255, 81, 0)"
           ],
           [
            0.3228346456692913,
            "rgb(255, 81, 0)"
           ],
           [
            0.32677165354330706,
            "rgb(255, 83, 0)"
           ],
           [
            0.3307086614173228,
            "rgb(255, 84, 0)"
           ],
           [
            0.3346456692913386,
            "rgb(255, 85, 0)"
           ],
           [
            0.33858267716535434,
            "rgb(255, 86, 0)"
           ],
           [
            0.3425196850393701,
            "rgb(255, 87, 0)"
           ],
           [
            0.3464566929133858,
            "rgb(255, 88, 0)"
           ],
           [
            0.35039370078740156,
            "rgb(255, 89, 0)"
           ],
           [
            0.3543307086614173,
            "rgb(255, 89, 0)"
           ],
           [
            0.35826771653543305,
            "rgb(255, 91, 0)"
           ],
           [
            0.36220472440944884,
            "rgb(255, 92, 0)"
           ],
           [
            0.3661417322834646,
            "rgb(255, 93, 0)"
           ],
           [
            0.3700787401574803,
            "rgb(255, 94, 0)"
           ],
           [
            0.37401574803149606,
            "rgb(255, 95, 0)"
           ],
           [
            0.3779527559055118,
            "rgb(255, 96, 0)"
           ],
           [
            0.38188976377952755,
            "rgb(255, 97, 0)"
           ],
           [
            0.3858267716535433,
            "rgb(255, 97, 0)"
           ],
           [
            0.38976377952755903,
            "rgb(255, 99, 0)"
           ],
           [
            0.39370078740157477,
            "rgb(255, 100, 0)"
           ],
           [
            0.39763779527559057,
            "rgb(255, 101, 0)"
           ],
           [
            0.4015748031496063,
            "rgb(255, 102, 0)"
           ],
           [
            0.40551181102362205,
            "rgb(255, 103, 0)"
           ],
           [
            0.4094488188976378,
            "rgb(255, 104, 0)"
           ],
           [
            0.41338582677165353,
            "rgb(255, 105, 0)"
           ],
           [
            0.41732283464566927,
            "rgb(255, 105, 0)"
           ],
           [
            0.421259842519685,
            "rgb(255, 107, 0)"
           ],
           [
            0.4251968503937008,
            "rgb(255, 108, 0)"
           ],
           [
            0.42913385826771655,
            "rgb(255, 109, 0)"
           ],
           [
            0.4330708661417323,
            "rgb(255, 110, 0)"
           ],
           [
            0.43700787401574803,
            "rgb(255, 111, 0)"
           ],
           [
            0.4409448818897638,
            "rgb(255, 112, 0)"
           ],
           [
            0.4448818897637795,
            "rgb(255, 113, 0)"
           ],
           [
            0.44881889763779526,
            "rgb(255, 113, 0)"
           ],
           [
            0.452755905511811,
            "rgb(255, 115, 0)"
           ],
           [
            0.45669291338582674,
            "rgb(255, 116, 0)"
           ],
           [
            0.46062992125984253,
            "rgb(255, 117, 0)"
           ],
           [
            0.4645669291338583,
            "rgb(255, 118, 0)"
           ],
           [
            0.468503937007874,
            "rgb(255, 119, 0)"
           ],
           [
            0.47244094488188976,
            "rgb(255, 120, 0)"
           ],
           [
            0.4763779527559055,
            "rgb(255, 121, 0)"
           ],
           [
            0.48031496062992124,
            "rgb(255, 121, 0)"
           ],
           [
            0.484251968503937,
            "rgb(255, 123, 0)"
           ],
           [
            0.4881889763779528,
            "rgb(255, 124, 0)"
           ],
           [
            0.4921259842519685,
            "rgb(255, 125, 0)"
           ],
           [
            0.49606299212598426,
            "rgb(255, 126, 0)"
           ],
           [
            0.5,
            "rgb(255, 128, 0)"
           ],
           [
            0.5039370078740157,
            "rgb(255, 129, 0)"
           ],
           [
            0.5078740157480315,
            "rgb(255, 130, 0)"
           ],
           [
            0.5118110236220472,
            "rgb(255, 131, 0)"
           ],
           [
            0.515748031496063,
            "rgb(255, 131, 0)"
           ],
           [
            0.5196850393700787,
            "rgb(255, 133, 0)"
           ],
           [
            0.5236220472440944,
            "rgb(255, 134, 0)"
           ],
           [
            0.5275590551181102,
            "rgb(255, 135, 0)"
           ],
           [
            0.5314960629921259,
            "rgb(255, 136, 0)"
           ],
           [
            0.5354330708661417,
            "rgb(255, 137, 0)"
           ],
           [
            0.5393700787401575,
            "rgb(255, 138, 0)"
           ],
           [
            0.5433070866141733,
            "rgb(255, 139, 0)"
           ],
           [
            0.547244094488189,
            "rgb(255, 140, 0)"
           ],
           [
            0.5511811023622047,
            "rgb(255, 141, 0)"
           ],
           [
            0.5551181102362205,
            "rgb(255, 142, 0)"
           ],
           [
            0.5590551181102362,
            "rgb(255, 143, 0)"
           ],
           [
            0.562992125984252,
            "rgb(255, 144, 0)"
           ],
           [
            0.5669291338582677,
            "rgb(255, 145, 0)"
           ],
           [
            0.5708661417322834,
            "rgb(255, 146, 0)"
           ],
           [
            0.5748031496062992,
            "rgb(255, 147, 0)"
           ],
           [
            0.5787401574803149,
            "rgb(255, 147, 0)"
           ],
           [
            0.5826771653543307,
            "rgb(255, 149, 0)"
           ],
           [
            0.5866141732283464,
            "rgb(255, 150, 0)"
           ],
           [
            0.5905511811023622,
            "rgb(255, 151, 0)"
           ],
           [
            0.5944881889763779,
            "rgb(255, 152, 0)"
           ],
           [
            0.5984251968503937,
            "rgb(255, 153, 0)"
           ],
           [
            0.6023622047244095,
            "rgb(255, 154, 0)"
           ],
           [
            0.6062992125984252,
            "rgb(255, 155, 0)"
           ],
           [
            0.610236220472441,
            "rgb(255, 156, 0)"
           ],
           [
            0.6141732283464567,
            "rgb(255, 157, 0)"
           ],
           [
            0.6181102362204725,
            "rgb(255, 158, 0)"
           ],
           [
            0.6220472440944882,
            "rgb(255, 159, 0)"
           ],
           [
            0.6259842519685039,
            "rgb(255, 160, 0)"
           ],
           [
            0.6299212598425197,
            "rgb(255, 161, 0)"
           ],
           [
            0.6338582677165354,
            "rgb(255, 162, 0)"
           ],
           [
            0.6377952755905512,
            "rgb(255, 163, 0)"
           ],
           [
            0.6417322834645669,
            "rgb(255, 163, 0)"
           ],
           [
            0.6456692913385826,
            "rgb(255, 165, 0)"
           ],
           [
            0.6496062992125984,
            "rgb(255, 166, 0)"
           ],
           [
            0.6535433070866141,
            "rgb(255, 167, 0)"
           ],
           [
            0.6574803149606299,
            "rgb(255, 168, 0)"
           ],
           [
            0.6614173228346456,
            "rgb(255, 169, 0)"
           ],
           [
            0.6653543307086615,
            "rgb(255, 170, 0)"
           ],
           [
            0.6692913385826772,
            "rgb(255, 171, 0)"
           ],
           [
            0.6732283464566929,
            "rgb(255, 172, 0)"
           ],
           [
            0.6771653543307087,
            "rgb(255, 173, 0)"
           ],
           [
            0.6811023622047244,
            "rgb(255, 174, 0)"
           ],
           [
            0.6850393700787402,
            "rgb(255, 175, 0)"
           ],
           [
            0.6889763779527559,
            "rgb(255, 176, 0)"
           ],
           [
            0.6929133858267716,
            "rgb(255, 177, 0)"
           ],
           [
            0.6968503937007874,
            "rgb(255, 178, 0)"
           ],
           [
            0.7007874015748031,
            "rgb(255, 179, 0)"
           ],
           [
            0.7047244094488189,
            "rgb(255, 179, 0)"
           ],
           [
            0.7086614173228346,
            "rgb(255, 181, 0)"
           ],
           [
            0.7125984251968503,
            "rgb(255, 182, 0)"
           ],
           [
            0.7165354330708661,
            "rgb(255, 183, 0)"
           ],
           [
            0.7204724409448818,
            "rgb(255, 184, 0)"
           ],
           [
            0.7244094488188977,
            "rgb(255, 185, 0)"
           ],
           [
            0.7283464566929134,
            "rgb(255, 186, 0)"
           ],
           [
            0.7322834645669292,
            "rgb(255, 187, 0)"
           ],
           [
            0.7362204724409449,
            "rgb(255, 188, 0)"
           ],
           [
            0.7401574803149606,
            "rgb(255, 189, 0)"
           ],
           [
            0.7440944881889764,
            "rgb(255, 190, 0)"
           ],
           [
            0.7480314960629921,
            "rgb(255, 191, 0)"
           ],
           [
            0.7519685039370079,
            "rgb(255, 192, 0)"
           ],
           [
            0.7559055118110236,
            "rgb(255, 193, 0)"
           ],
           [
            0.7598425196850394,
            "rgb(255, 194, 0)"
           ],
           [
            0.7637795275590551,
            "rgb(255, 195, 0)"
           ],
           [
            0.7677165354330708,
            "rgb(255, 195, 0)"
           ],
           [
            0.7716535433070866,
            "rgb(255, 197, 0)"
           ],
           [
            0.7755905511811023,
            "rgb(255, 198, 0)"
           ],
           [
            0.7795275590551181,
            "rgb(255, 199, 0)"
           ],
           [
            0.7834645669291338,
            "rgb(255, 200, 0)"
           ],
           [
            0.7874015748031495,
            "rgb(255, 201, 0)"
           ],
           [
            0.7913385826771654,
            "rgb(255, 202, 0)"
           ],
           [
            0.7952755905511811,
            "rgb(255, 203, 0)"
           ],
           [
            0.7992125984251969,
            "rgb(255, 204, 0)"
           ],
           [
            0.8031496062992126,
            "rgb(255, 205, 0)"
           ],
           [
            0.8070866141732284,
            "rgb(255, 206, 0)"
           ],
           [
            0.8110236220472441,
            "rgb(255, 207, 0)"
           ],
           [
            0.8149606299212598,
            "rgb(255, 208, 0)"
           ],
           [
            0.8188976377952756,
            "rgb(255, 209, 0)"
           ],
           [
            0.8228346456692913,
            "rgb(255, 210, 0)"
           ],
           [
            0.8267716535433071,
            "rgb(255, 211, 0)"
           ],
           [
            0.8307086614173228,
            "rgb(255, 211, 0)"
           ],
           [
            0.8346456692913385,
            "rgb(255, 213, 0)"
           ],
           [
            0.8385826771653543,
            "rgb(255, 214, 0)"
           ],
           [
            0.84251968503937,
            "rgb(255, 215, 0)"
           ],
           [
            0.8464566929133858,
            "rgb(255, 216, 0)"
           ],
           [
            0.8503937007874016,
            "rgb(255, 217, 0)"
           ],
           [
            0.8543307086614174,
            "rgb(255, 218, 0)"
           ],
           [
            0.8582677165354331,
            "rgb(255, 219, 0)"
           ],
           [
            0.8622047244094488,
            "rgb(255, 220, 0)"
           ],
           [
            0.8661417322834646,
            "rgb(255, 221, 0)"
           ],
           [
            0.8700787401574803,
            "rgb(255, 222, 0)"
           ],
           [
            0.8740157480314961,
            "rgb(255, 223, 0)"
           ],
           [
            0.8779527559055118,
            "rgb(255, 224, 0)"
           ],
           [
            0.8818897637795275,
            "rgb(255, 225, 0)"
           ],
           [
            0.8858267716535433,
            "rgb(255, 226, 0)"
           ],
           [
            0.889763779527559,
            "rgb(255, 227, 0)"
           ],
           [
            0.8937007874015748,
            "rgb(255, 227, 0)"
           ],
           [
            0.8976377952755905,
            "rgb(255, 229, 0)"
           ],
           [
            0.9015748031496063,
            "rgb(255, 230, 0)"
           ],
           [
            0.905511811023622,
            "rgb(255, 231, 0)"
           ],
           [
            0.9094488188976377,
            "rgb(255, 232, 0)"
           ],
           [
            0.9133858267716535,
            "rgb(255, 233, 0)"
           ],
           [
            0.9173228346456693,
            "rgb(255, 234, 0)"
           ],
           [
            0.9212598425196851,
            "rgb(255, 235, 0)"
           ],
           [
            0.9251968503937008,
            "rgb(255, 236, 0)"
           ],
           [
            0.9291338582677166,
            "rgb(255, 237, 0)"
           ],
           [
            0.9330708661417323,
            "rgb(255, 238, 0)"
           ],
           [
            0.937007874015748,
            "rgb(255, 239, 0)"
           ],
           [
            0.9409448818897638,
            "rgb(255, 240, 0)"
           ],
           [
            0.9448818897637795,
            "rgb(255, 241, 0)"
           ],
           [
            0.9488188976377953,
            "rgb(255, 242, 0)"
           ],
           [
            0.952755905511811,
            "rgb(255, 243, 0)"
           ],
           [
            0.9566929133858267,
            "rgb(255, 243, 0)"
           ],
           [
            0.9606299212598425,
            "rgb(255, 245, 0)"
           ],
           [
            0.9645669291338582,
            "rgb(255, 246, 0)"
           ],
           [
            0.968503937007874,
            "rgb(255, 247, 0)"
           ],
           [
            0.9724409448818897,
            "rgb(255, 248, 0)"
           ],
           [
            0.9763779527559056,
            "rgb(255, 249, 0)"
           ],
           [
            0.9803149606299213,
            "rgb(255, 250, 0)"
           ],
           [
            0.984251968503937,
            "rgb(255, 251, 0)"
           ],
           [
            0.9881889763779528,
            "rgb(255, 252, 0)"
           ],
           [
            0.9921259842519685,
            "rgb(255, 253, 0)"
           ],
           [
            0.9960629921259843,
            "rgb(255, 254, 0)"
           ],
           [
            1,
            "rgb(255, 255, 0)"
           ]
          ],
          "line": {
           "color": "black",
           "width": 0.5
          },
          "opacity": 1,
          "size": 10
         },
         "mode": "markers",
         "type": "scatter3d",
         "visible": false,
         "x": [
          2.2170741920436923,
          1.3386582783491516,
          -2.958453967891794,
          -0.33157128522129287,
          -1.521376215040896,
          -1.0889238358008984,
          1.8914649585676604,
          0.4531278749943711
         ],
         "y": [
          0.03803613355834797,
          -0.27408149765934886,
          0.03803613355836098,
          -0.1284878102535313,
          -0.7585242925633808,
          1.3969413580916759,
          -0.6917727569550196,
          0.3798527322228974
         ],
         "z": [
          1.0659778196599543,
          1.6333530961681233,
          -0.41058952388619463,
          0.8921918374194906,
          -1.1667796922080709,
          -1.2437190242320444,
          -0.41418362094925,
          -0.3562508919720153
         ]
        },
        {
         "line": {
          "color": "rgba(0,0,0,1)",
          "width": 4
         },
         "mode": "lines",
         "type": "scatter3d",
         "visible": false,
         "x": [
          1.3386582783491516,
          -0.33157128522129287
         ],
         "y": [
          -0.27408149765934886,
          -0.1284878102535313
         ],
         "z": [
          1.6333530961681233,
          0.8921918374194906
         ]
        },
        {
         "line": {
          "color": "rgba(0,0,0,1)",
          "width": 4
         },
         "mode": "lines",
         "type": "scatter3d",
         "visible": false,
         "x": [
          -0.33157128522129287,
          -2.958453967891794
         ],
         "y": [
          -0.1284878102535313,
          0.03803613355836098
         ],
         "z": [
          0.8921918374194906,
          -0.41058952388619463
         ]
        },
        {
         "line": {
          "color": "rgba(0,0,0,1)",
          "width": 4
         },
         "mode": "lines",
         "type": "scatter3d",
         "visible": false,
         "x": [
          2.2170741920436923,
          1.3386582783491516
         ],
         "y": [
          0.03803613355834797,
          -0.27408149765934886
         ],
         "z": [
          1.0659778196599543,
          1.6333530961681233
         ]
        },
        {
         "line": {
          "color": "rgba(0,0,0,1)",
          "width": 4
         },
         "mode": "lines",
         "type": "scatter3d",
         "visible": false,
         "x": [
          0.4531278749943711,
          -0.33157128522129287
         ],
         "y": [
          0.3798527322228974,
          -0.1284878102535313
         ],
         "z": [
          -0.3562508919720153,
          0.8921918374194906
         ]
        },
        {
         "line": {
          "color": "rgba(0,0,0,1)",
          "width": 4
         },
         "mode": "lines",
         "type": "scatter3d",
         "visible": false,
         "x": [
          -1.0889238358008984,
          -2.958453967891794
         ],
         "y": [
          1.3969413580916759,
          0.03803613355836098
         ],
         "z": [
          -1.2437190242320444,
          -0.41058952388619463
         ]
        },
        {
         "line": {
          "color": "rgba(0,0,0,1)",
          "width": 4
         },
         "mode": "lines",
         "type": "scatter3d",
         "visible": false,
         "x": [
          1.8914649585676604,
          -0.33157128522129287
         ],
         "y": [
          -0.6917727569550196,
          -0.1284878102535313
         ],
         "z": [
          -0.41418362094925,
          0.8921918374194906
         ]
        },
        {
         "line": {
          "color": "rgba(0,0,0,1)",
          "width": 4
         },
         "mode": "lines",
         "type": "scatter3d",
         "visible": false,
         "x": [
          -1.521376215040896,
          -2.958453967891794
         ],
         "y": [
          -0.7585242925633808,
          0.03803613355836098
         ],
         "z": [
          -1.1667796922080709,
          -0.41058952388619463
         ]
        },
        {
         "marker": {
          "color": [
           0,
           0.14285714285714285,
           0.2857142857142857,
           0.42857142857142855,
           0.5714285714285714,
           0.7142857142857142,
           0.8571428571428571,
           1
          ],
          "colorscale": [
           [
            0,
            "rgb(255, 0, 0)"
           ],
           [
            0.003937007874015748,
            "rgb(255, 1, 0)"
           ],
           [
            0.007874015748031496,
            "rgb(255, 2, 0)"
           ],
           [
            0.011811023622047244,
            "rgb(255, 3, 0)"
           ],
           [
            0.015748031496062992,
            "rgb(255, 4, 0)"
           ],
           [
            0.01968503937007874,
            "rgb(255, 5, 0)"
           ],
           [
            0.023622047244094488,
            "rgb(255, 6, 0)"
           ],
           [
            0.027559055118110236,
            "rgb(255, 7, 0)"
           ],
           [
            0.031496062992125984,
            "rgb(255, 8, 0)"
           ],
           [
            0.03543307086614173,
            "rgb(255, 9, 0)"
           ],
           [
            0.03937007874015748,
            "rgb(255, 10, 0)"
           ],
           [
            0.04330708661417323,
            "rgb(255, 11, 0)"
           ],
           [
            0.047244094488188976,
            "rgb(255, 12, 0)"
           ],
           [
            0.051181102362204724,
            "rgb(255, 13, 0)"
           ],
           [
            0.05511811023622047,
            "rgb(255, 14, 0)"
           ],
           [
            0.05905511811023622,
            "rgb(255, 15, 0)"
           ],
           [
            0.06299212598425197,
            "rgb(255, 16, 0)"
           ],
           [
            0.06692913385826771,
            "rgb(255, 17, 0)"
           ],
           [
            0.07086614173228346,
            "rgb(255, 18, 0)"
           ],
           [
            0.07480314960629922,
            "rgb(255, 19, 0)"
           ],
           [
            0.07874015748031496,
            "rgb(255, 20, 0)"
           ],
           [
            0.0826771653543307,
            "rgb(255, 21, 0)"
           ],
           [
            0.08661417322834646,
            "rgb(255, 22, 0)"
           ],
           [
            0.09055118110236221,
            "rgb(255, 23, 0)"
           ],
           [
            0.09448818897637795,
            "rgb(255, 24, 0)"
           ],
           [
            0.09842519685039369,
            "rgb(255, 25, 0)"
           ],
           [
            0.10236220472440945,
            "rgb(255, 26, 0)"
           ],
           [
            0.1062992125984252,
            "rgb(255, 27, 0)"
           ],
           [
            0.11023622047244094,
            "rgb(255, 28, 0)"
           ],
           [
            0.11417322834645668,
            "rgb(255, 29, 0)"
           ],
           [
            0.11811023622047244,
            "rgb(255, 30, 0)"
           ],
           [
            0.1220472440944882,
            "rgb(255, 31, 0)"
           ],
           [
            0.12598425196850394,
            "rgb(255, 32, 0)"
           ],
           [
            0.12992125984251968,
            "rgb(255, 32, 0)"
           ],
           [
            0.13385826771653542,
            "rgb(255, 34, 0)"
           ],
           [
            0.1377952755905512,
            "rgb(255, 35, 0)"
           ],
           [
            0.14173228346456693,
            "rgb(255, 36, 0)"
           ],
           [
            0.14566929133858267,
            "rgb(255, 36, 0)"
           ],
           [
            0.14960629921259844,
            "rgb(255, 38, 0)"
           ],
           [
            0.15354330708661418,
            "rgb(255, 39, 0)"
           ],
           [
            0.15748031496062992,
            "rgb(255, 40, 0)"
           ],
           [
            0.16141732283464566,
            "rgb(255, 40, 0)"
           ],
           [
            0.1653543307086614,
            "rgb(255, 42, 0)"
           ],
           [
            0.16929133858267717,
            "rgb(255, 43, 0)"
           ],
           [
            0.1732283464566929,
            "rgb(255, 44, 0)"
           ],
           [
            0.17716535433070865,
            "rgb(255, 44, 0)"
           ],
           [
            0.18110236220472442,
            "rgb(255, 46, 0)"
           ],
           [
            0.18503937007874016,
            "rgb(255, 47, 0)"
           ],
           [
            0.1889763779527559,
            "rgb(255, 48, 0)"
           ],
           [
            0.19291338582677164,
            "rgb(255, 48, 0)"
           ],
           [
            0.19685039370078738,
            "rgb(255, 50, 0)"
           ],
           [
            0.20078740157480315,
            "rgb(255, 51, 0)"
           ],
           [
            0.2047244094488189,
            "rgb(255, 52, 0)"
           ],
           [
            0.20866141732283464,
            "rgb(255, 52, 0)"
           ],
           [
            0.2125984251968504,
            "rgb(255, 54, 0)"
           ],
           [
            0.21653543307086615,
            "rgb(255, 55, 0)"
           ],
           [
            0.2204724409448819,
            "rgb(255, 56, 0)"
           ],
           [
            0.22440944881889763,
            "rgb(255, 56, 0)"
           ],
           [
            0.22834645669291337,
            "rgb(255, 58, 0)"
           ],
           [
            0.23228346456692914,
            "rgb(255, 59, 0)"
           ],
           [
            0.23622047244094488,
            "rgb(255, 60, 0)"
           ],
           [
            0.24015748031496062,
            "rgb(255, 60, 0)"
           ],
           [
            0.2440944881889764,
            "rgb(255, 62, 0)"
           ],
           [
            0.24803149606299213,
            "rgb(255, 63, 0)"
           ],
           [
            0.25196850393700787,
            "rgb(255, 64, 0)"
           ],
           [
            0.2559055118110236,
            "rgb(255, 65, 0)"
           ],
           [
            0.25984251968503935,
            "rgb(255, 65, 0)"
           ],
           [
            0.2637795275590551,
            "rgb(255, 67, 0)"
           ],
           [
            0.26771653543307083,
            "rgb(255, 68, 0)"
           ],
           [
            0.27165354330708663,
            "rgb(255, 69, 0)"
           ],
           [
            0.2755905511811024,
            "rgb(255, 70, 0)"
           ],
           [
            0.2795275590551181,
            "rgb(255, 71, 0)"
           ],
           [
            0.28346456692913385,
            "rgb(255, 72, 0)"
           ],
           [
            0.2874015748031496,
            "rgb(255, 73, 0)"
           ],
           [
            0.29133858267716534,
            "rgb(255, 73, 0)"
           ],
           [
            0.2952755905511811,
            "rgb(255, 75, 0)"
           ],
           [
            0.2992125984251969,
            "rgb(255, 76, 0)"
           ],
           [
            0.3031496062992126,
            "rgb(255, 77, 0)"
           ],
           [
            0.30708661417322836,
            "rgb(255, 78, 0)"
           ],
           [
            0.3110236220472441,
            "rgb(255, 79, 0)"
           ],
           [
            0.31496062992125984,
            "rgb(255, 80, 0)"
           ],
           [
            0.3188976377952756,
            "rgb(255, 81, 0)"
           ],
           [
            0.3228346456692913,
            "rgb(255, 81, 0)"
           ],
           [
            0.32677165354330706,
            "rgb(255, 83, 0)"
           ],
           [
            0.3307086614173228,
            "rgb(255, 84, 0)"
           ],
           [
            0.3346456692913386,
            "rgb(255, 85, 0)"
           ],
           [
            0.33858267716535434,
            "rgb(255, 86, 0)"
           ],
           [
            0.3425196850393701,
            "rgb(255, 87, 0)"
           ],
           [
            0.3464566929133858,
            "rgb(255, 88, 0)"
           ],
           [
            0.35039370078740156,
            "rgb(255, 89, 0)"
           ],
           [
            0.3543307086614173,
            "rgb(255, 89, 0)"
           ],
           [
            0.35826771653543305,
            "rgb(255, 91, 0)"
           ],
           [
            0.36220472440944884,
            "rgb(255, 92, 0)"
           ],
           [
            0.3661417322834646,
            "rgb(255, 93, 0)"
           ],
           [
            0.3700787401574803,
            "rgb(255, 94, 0)"
           ],
           [
            0.37401574803149606,
            "rgb(255, 95, 0)"
           ],
           [
            0.3779527559055118,
            "rgb(255, 96, 0)"
           ],
           [
            0.38188976377952755,
            "rgb(255, 97, 0)"
           ],
           [
            0.3858267716535433,
            "rgb(255, 97, 0)"
           ],
           [
            0.38976377952755903,
            "rgb(255, 99, 0)"
           ],
           [
            0.39370078740157477,
            "rgb(255, 100, 0)"
           ],
           [
            0.39763779527559057,
            "rgb(255, 101, 0)"
           ],
           [
            0.4015748031496063,
            "rgb(255, 102, 0)"
           ],
           [
            0.40551181102362205,
            "rgb(255, 103, 0)"
           ],
           [
            0.4094488188976378,
            "rgb(255, 104, 0)"
           ],
           [
            0.41338582677165353,
            "rgb(255, 105, 0)"
           ],
           [
            0.41732283464566927,
            "rgb(255, 105, 0)"
           ],
           [
            0.421259842519685,
            "rgb(255, 107, 0)"
           ],
           [
            0.4251968503937008,
            "rgb(255, 108, 0)"
           ],
           [
            0.42913385826771655,
            "rgb(255, 109, 0)"
           ],
           [
            0.4330708661417323,
            "rgb(255, 110, 0)"
           ],
           [
            0.43700787401574803,
            "rgb(255, 111, 0)"
           ],
           [
            0.4409448818897638,
            "rgb(255, 112, 0)"
           ],
           [
            0.4448818897637795,
            "rgb(255, 113, 0)"
           ],
           [
            0.44881889763779526,
            "rgb(255, 113, 0)"
           ],
           [
            0.452755905511811,
            "rgb(255, 115, 0)"
           ],
           [
            0.45669291338582674,
            "rgb(255, 116, 0)"
           ],
           [
            0.46062992125984253,
            "rgb(255, 117, 0)"
           ],
           [
            0.4645669291338583,
            "rgb(255, 118, 0)"
           ],
           [
            0.468503937007874,
            "rgb(255, 119, 0)"
           ],
           [
            0.47244094488188976,
            "rgb(255, 120, 0)"
           ],
           [
            0.4763779527559055,
            "rgb(255, 121, 0)"
           ],
           [
            0.48031496062992124,
            "rgb(255, 121, 0)"
           ],
           [
            0.484251968503937,
            "rgb(255, 123, 0)"
           ],
           [
            0.4881889763779528,
            "rgb(255, 124, 0)"
           ],
           [
            0.4921259842519685,
            "rgb(255, 125, 0)"
           ],
           [
            0.49606299212598426,
            "rgb(255, 126, 0)"
           ],
           [
            0.5,
            "rgb(255, 128, 0)"
           ],
           [
            0.5039370078740157,
            "rgb(255, 129, 0)"
           ],
           [
            0.5078740157480315,
            "rgb(255, 130, 0)"
           ],
           [
            0.5118110236220472,
            "rgb(255, 131, 0)"
           ],
           [
            0.515748031496063,
            "rgb(255, 131, 0)"
           ],
           [
            0.5196850393700787,
            "rgb(255, 133, 0)"
           ],
           [
            0.5236220472440944,
            "rgb(255, 134, 0)"
           ],
           [
            0.5275590551181102,
            "rgb(255, 135, 0)"
           ],
           [
            0.5314960629921259,
            "rgb(255, 136, 0)"
           ],
           [
            0.5354330708661417,
            "rgb(255, 137, 0)"
           ],
           [
            0.5393700787401575,
            "rgb(255, 138, 0)"
           ],
           [
            0.5433070866141733,
            "rgb(255, 139, 0)"
           ],
           [
            0.547244094488189,
            "rgb(255, 140, 0)"
           ],
           [
            0.5511811023622047,
            "rgb(255, 141, 0)"
           ],
           [
            0.5551181102362205,
            "rgb(255, 142, 0)"
           ],
           [
            0.5590551181102362,
            "rgb(255, 143, 0)"
           ],
           [
            0.562992125984252,
            "rgb(255, 144, 0)"
           ],
           [
            0.5669291338582677,
            "rgb(255, 145, 0)"
           ],
           [
            0.5708661417322834,
            "rgb(255, 146, 0)"
           ],
           [
            0.5748031496062992,
            "rgb(255, 147, 0)"
           ],
           [
            0.5787401574803149,
            "rgb(255, 147, 0)"
           ],
           [
            0.5826771653543307,
            "rgb(255, 149, 0)"
           ],
           [
            0.5866141732283464,
            "rgb(255, 150, 0)"
           ],
           [
            0.5905511811023622,
            "rgb(255, 151, 0)"
           ],
           [
            0.5944881889763779,
            "rgb(255, 152, 0)"
           ],
           [
            0.5984251968503937,
            "rgb(255, 153, 0)"
           ],
           [
            0.6023622047244095,
            "rgb(255, 154, 0)"
           ],
           [
            0.6062992125984252,
            "rgb(255, 155, 0)"
           ],
           [
            0.610236220472441,
            "rgb(255, 156, 0)"
           ],
           [
            0.6141732283464567,
            "rgb(255, 157, 0)"
           ],
           [
            0.6181102362204725,
            "rgb(255, 158, 0)"
           ],
           [
            0.6220472440944882,
            "rgb(255, 159, 0)"
           ],
           [
            0.6259842519685039,
            "rgb(255, 160, 0)"
           ],
           [
            0.6299212598425197,
            "rgb(255, 161, 0)"
           ],
           [
            0.6338582677165354,
            "rgb(255, 162, 0)"
           ],
           [
            0.6377952755905512,
            "rgb(255, 163, 0)"
           ],
           [
            0.6417322834645669,
            "rgb(255, 163, 0)"
           ],
           [
            0.6456692913385826,
            "rgb(255, 165, 0)"
           ],
           [
            0.6496062992125984,
            "rgb(255, 166, 0)"
           ],
           [
            0.6535433070866141,
            "rgb(255, 167, 0)"
           ],
           [
            0.6574803149606299,
            "rgb(255, 168, 0)"
           ],
           [
            0.6614173228346456,
            "rgb(255, 169, 0)"
           ],
           [
            0.6653543307086615,
            "rgb(255, 170, 0)"
           ],
           [
            0.6692913385826772,
            "rgb(255, 171, 0)"
           ],
           [
            0.6732283464566929,
            "rgb(255, 172, 0)"
           ],
           [
            0.6771653543307087,
            "rgb(255, 173, 0)"
           ],
           [
            0.6811023622047244,
            "rgb(255, 174, 0)"
           ],
           [
            0.6850393700787402,
            "rgb(255, 175, 0)"
           ],
           [
            0.6889763779527559,
            "rgb(255, 176, 0)"
           ],
           [
            0.6929133858267716,
            "rgb(255, 177, 0)"
           ],
           [
            0.6968503937007874,
            "rgb(255, 178, 0)"
           ],
           [
            0.7007874015748031,
            "rgb(255, 179, 0)"
           ],
           [
            0.7047244094488189,
            "rgb(255, 179, 0)"
           ],
           [
            0.7086614173228346,
            "rgb(255, 181, 0)"
           ],
           [
            0.7125984251968503,
            "rgb(255, 182, 0)"
           ],
           [
            0.7165354330708661,
            "rgb(255, 183, 0)"
           ],
           [
            0.7204724409448818,
            "rgb(255, 184, 0)"
           ],
           [
            0.7244094488188977,
            "rgb(255, 185, 0)"
           ],
           [
            0.7283464566929134,
            "rgb(255, 186, 0)"
           ],
           [
            0.7322834645669292,
            "rgb(255, 187, 0)"
           ],
           [
            0.7362204724409449,
            "rgb(255, 188, 0)"
           ],
           [
            0.7401574803149606,
            "rgb(255, 189, 0)"
           ],
           [
            0.7440944881889764,
            "rgb(255, 190, 0)"
           ],
           [
            0.7480314960629921,
            "rgb(255, 191, 0)"
           ],
           [
            0.7519685039370079,
            "rgb(255, 192, 0)"
           ],
           [
            0.7559055118110236,
            "rgb(255, 193, 0)"
           ],
           [
            0.7598425196850394,
            "rgb(255, 194, 0)"
           ],
           [
            0.7637795275590551,
            "rgb(255, 195, 0)"
           ],
           [
            0.7677165354330708,
            "rgb(255, 195, 0)"
           ],
           [
            0.7716535433070866,
            "rgb(255, 197, 0)"
           ],
           [
            0.7755905511811023,
            "rgb(255, 198, 0)"
           ],
           [
            0.7795275590551181,
            "rgb(255, 199, 0)"
           ],
           [
            0.7834645669291338,
            "rgb(255, 200, 0)"
           ],
           [
            0.7874015748031495,
            "rgb(255, 201, 0)"
           ],
           [
            0.7913385826771654,
            "rgb(255, 202, 0)"
           ],
           [
            0.7952755905511811,
            "rgb(255, 203, 0)"
           ],
           [
            0.7992125984251969,
            "rgb(255, 204, 0)"
           ],
           [
            0.8031496062992126,
            "rgb(255, 205, 0)"
           ],
           [
            0.8070866141732284,
            "rgb(255, 206, 0)"
           ],
           [
            0.8110236220472441,
            "rgb(255, 207, 0)"
           ],
           [
            0.8149606299212598,
            "rgb(255, 208, 0)"
           ],
           [
            0.8188976377952756,
            "rgb(255, 209, 0)"
           ],
           [
            0.8228346456692913,
            "rgb(255, 210, 0)"
           ],
           [
            0.8267716535433071,
            "rgb(255, 211, 0)"
           ],
           [
            0.8307086614173228,
            "rgb(255, 211, 0)"
           ],
           [
            0.8346456692913385,
            "rgb(255, 213, 0)"
           ],
           [
            0.8385826771653543,
            "rgb(255, 214, 0)"
           ],
           [
            0.84251968503937,
            "rgb(255, 215, 0)"
           ],
           [
            0.8464566929133858,
            "rgb(255, 216, 0)"
           ],
           [
            0.8503937007874016,
            "rgb(255, 217, 0)"
           ],
           [
            0.8543307086614174,
            "rgb(255, 218, 0)"
           ],
           [
            0.8582677165354331,
            "rgb(255, 219, 0)"
           ],
           [
            0.8622047244094488,
            "rgb(255, 220, 0)"
           ],
           [
            0.8661417322834646,
            "rgb(255, 221, 0)"
           ],
           [
            0.8700787401574803,
            "rgb(255, 222, 0)"
           ],
           [
            0.8740157480314961,
            "rgb(255, 223, 0)"
           ],
           [
            0.8779527559055118,
            "rgb(255, 224, 0)"
           ],
           [
            0.8818897637795275,
            "rgb(255, 225, 0)"
           ],
           [
            0.8858267716535433,
            "rgb(255, 226, 0)"
           ],
           [
            0.889763779527559,
            "rgb(255, 227, 0)"
           ],
           [
            0.8937007874015748,
            "rgb(255, 227, 0)"
           ],
           [
            0.8976377952755905,
            "rgb(255, 229, 0)"
           ],
           [
            0.9015748031496063,
            "rgb(255, 230, 0)"
           ],
           [
            0.905511811023622,
            "rgb(255, 231, 0)"
           ],
           [
            0.9094488188976377,
            "rgb(255, 232, 0)"
           ],
           [
            0.9133858267716535,
            "rgb(255, 233, 0)"
           ],
           [
            0.9173228346456693,
            "rgb(255, 234, 0)"
           ],
           [
            0.9212598425196851,
            "rgb(255, 235, 0)"
           ],
           [
            0.9251968503937008,
            "rgb(255, 236, 0)"
           ],
           [
            0.9291338582677166,
            "rgb(255, 237, 0)"
           ],
           [
            0.9330708661417323,
            "rgb(255, 238, 0)"
           ],
           [
            0.937007874015748,
            "rgb(255, 239, 0)"
           ],
           [
            0.9409448818897638,
            "rgb(255, 240, 0)"
           ],
           [
            0.9448818897637795,
            "rgb(255, 241, 0)"
           ],
           [
            0.9488188976377953,
            "rgb(255, 242, 0)"
           ],
           [
            0.952755905511811,
            "rgb(255, 243, 0)"
           ],
           [
            0.9566929133858267,
            "rgb(255, 243, 0)"
           ],
           [
            0.9606299212598425,
            "rgb(255, 245, 0)"
           ],
           [
            0.9645669291338582,
            "rgb(255, 246, 0)"
           ],
           [
            0.968503937007874,
            "rgb(255, 247, 0)"
           ],
           [
            0.9724409448818897,
            "rgb(255, 248, 0)"
           ],
           [
            0.9763779527559056,
            "rgb(255, 249, 0)"
           ],
           [
            0.9803149606299213,
            "rgb(255, 250, 0)"
           ],
           [
            0.984251968503937,
            "rgb(255, 251, 0)"
           ],
           [
            0.9881889763779528,
            "rgb(255, 252, 0)"
           ],
           [
            0.9921259842519685,
            "rgb(255, 253, 0)"
           ],
           [
            0.9960629921259843,
            "rgb(255, 254, 0)"
           ],
           [
            1,
            "rgb(255, 255, 0)"
           ]
          ],
          "line": {
           "color": "black",
           "width": 0.5
          },
          "opacity": 1,
          "size": 10
         },
         "mode": "markers",
         "type": "scatter3d",
         "visible": false,
         "x": [
          2.2354384005660703,
          1.3586988028736555,
          -2.9026129064583563,
          -0.3743490453739773,
          -1.6191740881284176,
          -1.1332642741719767,
          0.9945634733087346,
          1.4406996373842615
         ],
         "y": [
          0.004951881657006552,
          -0.22933195111710197,
          0.004951881657017303,
          -0.1480358267692365,
          -0.9069895468359309,
          1.0723317166581416,
          0.2826377734734157,
          -0.08051592872331172
         ],
         "z": [
          1.01237579586477,
          1.6346966295648002,
          -0.46422716517700197,
          0.901253002050334,
          -1.1117061805550632,
          -1.1733121541059734,
          -0.31922681640849015,
          -0.479853111233382
         ]
        },
        {
         "line": {
          "color": "rgba(0,0,0,1)",
          "width": 4
         },
         "mode": "lines",
         "type": "scatter3d",
         "visible": false,
         "x": [
          1.3586988028736555,
          -0.3743490453739773
         ],
         "y": [
          -0.22933195111710197,
          -0.1480358267692365
         ],
         "z": [
          1.6346966295648002,
          0.901253002050334
         ]
        },
        {
         "line": {
          "color": "rgba(0,0,0,1)",
          "width": 4
         },
         "mode": "lines",
         "type": "scatter3d",
         "visible": false,
         "x": [
          -0.3743490453739773,
          -2.9026129064583563
         ],
         "y": [
          -0.1480358267692365,
          0.004951881657017303
         ],
         "z": [
          0.901253002050334,
          -0.46422716517700197
         ]
        },
        {
         "line": {
          "color": "rgba(0,0,0,1)",
          "width": 4
         },
         "mode": "lines",
         "type": "scatter3d",
         "visible": false,
         "x": [
          2.2354384005660703,
          1.3586988028736555
         ],
         "y": [
          0.004951881657006552,
          -0.22933195111710197
         ],
         "z": [
          1.01237579586477,
          1.6346966295648002
         ]
        },
        {
         "line": {
          "color": "rgba(0,0,0,1)",
          "width": 4
         },
         "mode": "lines",
         "type": "scatter3d",
         "visible": false,
         "x": [
          1.4406996373842615,
          -0.3743490453739773
         ],
         "y": [
          -0.08051592872331172,
          -0.1480358267692365
         ],
         "z": [
          -0.479853111233382,
          0.901253002050334
         ]
        },
        {
         "line": {
          "color": "rgba(0,0,0,1)",
          "width": 4
         },
         "mode": "lines",
         "type": "scatter3d",
         "visible": false,
         "x": [
          -1.1332642741719767,
          -2.9026129064583563
         ],
         "y": [
          1.0723317166581416,
          0.004951881657017303
         ],
         "z": [
          -1.1733121541059734,
          -0.46422716517700197
         ]
        },
        {
         "line": {
          "color": "rgba(0,0,0,1)",
          "width": 4
         },
         "mode": "lines",
         "type": "scatter3d",
         "visible": false,
         "x": [
          0.9945634733087346,
          -0.3743490453739773
         ],
         "y": [
          0.2826377734734157,
          -0.1480358267692365
         ],
         "z": [
          -0.31922681640849015,
          0.901253002050334
         ]
        },
        {
         "line": {
          "color": "rgba(0,0,0,1)",
          "width": 4
         },
         "mode": "lines",
         "type": "scatter3d",
         "visible": false,
         "x": [
          -1.6191740881284176,
          -2.9026129064583563
         ],
         "y": [
          -0.9069895468359309,
          0.004951881657017303
         ],
         "z": [
          -1.1117061805550632,
          -0.46422716517700197
         ]
        },
        {
         "marker": {
          "color": [
           0,
           0.14285714285714285,
           0.2857142857142857,
           0.42857142857142855,
           0.5714285714285714,
           0.7142857142857142,
           0.8571428571428571,
           1
          ],
          "colorscale": [
           [
            0,
            "rgb(255, 0, 0)"
           ],
           [
            0.003937007874015748,
            "rgb(255, 1, 0)"
           ],
           [
            0.007874015748031496,
            "rgb(255, 2, 0)"
           ],
           [
            0.011811023622047244,
            "rgb(255, 3, 0)"
           ],
           [
            0.015748031496062992,
            "rgb(255, 4, 0)"
           ],
           [
            0.01968503937007874,
            "rgb(255, 5, 0)"
           ],
           [
            0.023622047244094488,
            "rgb(255, 6, 0)"
           ],
           [
            0.027559055118110236,
            "rgb(255, 7, 0)"
           ],
           [
            0.031496062992125984,
            "rgb(255, 8, 0)"
           ],
           [
            0.03543307086614173,
            "rgb(255, 9, 0)"
           ],
           [
            0.03937007874015748,
            "rgb(255, 10, 0)"
           ],
           [
            0.04330708661417323,
            "rgb(255, 11, 0)"
           ],
           [
            0.047244094488188976,
            "rgb(255, 12, 0)"
           ],
           [
            0.051181102362204724,
            "rgb(255, 13, 0)"
           ],
           [
            0.05511811023622047,
            "rgb(255, 14, 0)"
           ],
           [
            0.05905511811023622,
            "rgb(255, 15, 0)"
           ],
           [
            0.06299212598425197,
            "rgb(255, 16, 0)"
           ],
           [
            0.06692913385826771,
            "rgb(255, 17, 0)"
           ],
           [
            0.07086614173228346,
            "rgb(255, 18, 0)"
           ],
           [
            0.07480314960629922,
            "rgb(255, 19, 0)"
           ],
           [
            0.07874015748031496,
            "rgb(255, 20, 0)"
           ],
           [
            0.0826771653543307,
            "rgb(255, 21, 0)"
           ],
           [
            0.08661417322834646,
            "rgb(255, 22, 0)"
           ],
           [
            0.09055118110236221,
            "rgb(255, 23, 0)"
           ],
           [
            0.09448818897637795,
            "rgb(255, 24, 0)"
           ],
           [
            0.09842519685039369,
            "rgb(255, 25, 0)"
           ],
           [
            0.10236220472440945,
            "rgb(255, 26, 0)"
           ],
           [
            0.1062992125984252,
            "rgb(255, 27, 0)"
           ],
           [
            0.11023622047244094,
            "rgb(255, 28, 0)"
           ],
           [
            0.11417322834645668,
            "rgb(255, 29, 0)"
           ],
           [
            0.11811023622047244,
            "rgb(255, 30, 0)"
           ],
           [
            0.1220472440944882,
            "rgb(255, 31, 0)"
           ],
           [
            0.12598425196850394,
            "rgb(255, 32, 0)"
           ],
           [
            0.12992125984251968,
            "rgb(255, 32, 0)"
           ],
           [
            0.13385826771653542,
            "rgb(255, 34, 0)"
           ],
           [
            0.1377952755905512,
            "rgb(255, 35, 0)"
           ],
           [
            0.14173228346456693,
            "rgb(255, 36, 0)"
           ],
           [
            0.14566929133858267,
            "rgb(255, 36, 0)"
           ],
           [
            0.14960629921259844,
            "rgb(255, 38, 0)"
           ],
           [
            0.15354330708661418,
            "rgb(255, 39, 0)"
           ],
           [
            0.15748031496062992,
            "rgb(255, 40, 0)"
           ],
           [
            0.16141732283464566,
            "rgb(255, 40, 0)"
           ],
           [
            0.1653543307086614,
            "rgb(255, 42, 0)"
           ],
           [
            0.16929133858267717,
            "rgb(255, 43, 0)"
           ],
           [
            0.1732283464566929,
            "rgb(255, 44, 0)"
           ],
           [
            0.17716535433070865,
            "rgb(255, 44, 0)"
           ],
           [
            0.18110236220472442,
            "rgb(255, 46, 0)"
           ],
           [
            0.18503937007874016,
            "rgb(255, 47, 0)"
           ],
           [
            0.1889763779527559,
            "rgb(255, 48, 0)"
           ],
           [
            0.19291338582677164,
            "rgb(255, 48, 0)"
           ],
           [
            0.19685039370078738,
            "rgb(255, 50, 0)"
           ],
           [
            0.20078740157480315,
            "rgb(255, 51, 0)"
           ],
           [
            0.2047244094488189,
            "rgb(255, 52, 0)"
           ],
           [
            0.20866141732283464,
            "rgb(255, 52, 0)"
           ],
           [
            0.2125984251968504,
            "rgb(255, 54, 0)"
           ],
           [
            0.21653543307086615,
            "rgb(255, 55, 0)"
           ],
           [
            0.2204724409448819,
            "rgb(255, 56, 0)"
           ],
           [
            0.22440944881889763,
            "rgb(255, 56, 0)"
           ],
           [
            0.22834645669291337,
            "rgb(255, 58, 0)"
           ],
           [
            0.23228346456692914,
            "rgb(255, 59, 0)"
           ],
           [
            0.23622047244094488,
            "rgb(255, 60, 0)"
           ],
           [
            0.24015748031496062,
            "rgb(255, 60, 0)"
           ],
           [
            0.2440944881889764,
            "rgb(255, 62, 0)"
           ],
           [
            0.24803149606299213,
            "rgb(255, 63, 0)"
           ],
           [
            0.25196850393700787,
            "rgb(255, 64, 0)"
           ],
           [
            0.2559055118110236,
            "rgb(255, 65, 0)"
           ],
           [
            0.25984251968503935,
            "rgb(255, 65, 0)"
           ],
           [
            0.2637795275590551,
            "rgb(255, 67, 0)"
           ],
           [
            0.26771653543307083,
            "rgb(255, 68, 0)"
           ],
           [
            0.27165354330708663,
            "rgb(255, 69, 0)"
           ],
           [
            0.2755905511811024,
            "rgb(255, 70, 0)"
           ],
           [
            0.2795275590551181,
            "rgb(255, 71, 0)"
           ],
           [
            0.28346456692913385,
            "rgb(255, 72, 0)"
           ],
           [
            0.2874015748031496,
            "rgb(255, 73, 0)"
           ],
           [
            0.29133858267716534,
            "rgb(255, 73, 0)"
           ],
           [
            0.2952755905511811,
            "rgb(255, 75, 0)"
           ],
           [
            0.2992125984251969,
            "rgb(255, 76, 0)"
           ],
           [
            0.3031496062992126,
            "rgb(255, 77, 0)"
           ],
           [
            0.30708661417322836,
            "rgb(255, 78, 0)"
           ],
           [
            0.3110236220472441,
            "rgb(255, 79, 0)"
           ],
           [
            0.31496062992125984,
            "rgb(255, 80, 0)"
           ],
           [
            0.3188976377952756,
            "rgb(255, 81, 0)"
           ],
           [
            0.3228346456692913,
            "rgb(255, 81, 0)"
           ],
           [
            0.32677165354330706,
            "rgb(255, 83, 0)"
           ],
           [
            0.3307086614173228,
            "rgb(255, 84, 0)"
           ],
           [
            0.3346456692913386,
            "rgb(255, 85, 0)"
           ],
           [
            0.33858267716535434,
            "rgb(255, 86, 0)"
           ],
           [
            0.3425196850393701,
            "rgb(255, 87, 0)"
           ],
           [
            0.3464566929133858,
            "rgb(255, 88, 0)"
           ],
           [
            0.35039370078740156,
            "rgb(255, 89, 0)"
           ],
           [
            0.3543307086614173,
            "rgb(255, 89, 0)"
           ],
           [
            0.35826771653543305,
            "rgb(255, 91, 0)"
           ],
           [
            0.36220472440944884,
            "rgb(255, 92, 0)"
           ],
           [
            0.3661417322834646,
            "rgb(255, 93, 0)"
           ],
           [
            0.3700787401574803,
            "rgb(255, 94, 0)"
           ],
           [
            0.37401574803149606,
            "rgb(255, 95, 0)"
           ],
           [
            0.3779527559055118,
            "rgb(255, 96, 0)"
           ],
           [
            0.38188976377952755,
            "rgb(255, 97, 0)"
           ],
           [
            0.3858267716535433,
            "rgb(255, 97, 0)"
           ],
           [
            0.38976377952755903,
            "rgb(255, 99, 0)"
           ],
           [
            0.39370078740157477,
            "rgb(255, 100, 0)"
           ],
           [
            0.39763779527559057,
            "rgb(255, 101, 0)"
           ],
           [
            0.4015748031496063,
            "rgb(255, 102, 0)"
           ],
           [
            0.40551181102362205,
            "rgb(255, 103, 0)"
           ],
           [
            0.4094488188976378,
            "rgb(255, 104, 0)"
           ],
           [
            0.41338582677165353,
            "rgb(255, 105, 0)"
           ],
           [
            0.41732283464566927,
            "rgb(255, 105, 0)"
           ],
           [
            0.421259842519685,
            "rgb(255, 107, 0)"
           ],
           [
            0.4251968503937008,
            "rgb(255, 108, 0)"
           ],
           [
            0.42913385826771655,
            "rgb(255, 109, 0)"
           ],
           [
            0.4330708661417323,
            "rgb(255, 110, 0)"
           ],
           [
            0.43700787401574803,
            "rgb(255, 111, 0)"
           ],
           [
            0.4409448818897638,
            "rgb(255, 112, 0)"
           ],
           [
            0.4448818897637795,
            "rgb(255, 113, 0)"
           ],
           [
            0.44881889763779526,
            "rgb(255, 113, 0)"
           ],
           [
            0.452755905511811,
            "rgb(255, 115, 0)"
           ],
           [
            0.45669291338582674,
            "rgb(255, 116, 0)"
           ],
           [
            0.46062992125984253,
            "rgb(255, 117, 0)"
           ],
           [
            0.4645669291338583,
            "rgb(255, 118, 0)"
           ],
           [
            0.468503937007874,
            "rgb(255, 119, 0)"
           ],
           [
            0.47244094488188976,
            "rgb(255, 120, 0)"
           ],
           [
            0.4763779527559055,
            "rgb(255, 121, 0)"
           ],
           [
            0.48031496062992124,
            "rgb(255, 121, 0)"
           ],
           [
            0.484251968503937,
            "rgb(255, 123, 0)"
           ],
           [
            0.4881889763779528,
            "rgb(255, 124, 0)"
           ],
           [
            0.4921259842519685,
            "rgb(255, 125, 0)"
           ],
           [
            0.49606299212598426,
            "rgb(255, 126, 0)"
           ],
           [
            0.5,
            "rgb(255, 128, 0)"
           ],
           [
            0.5039370078740157,
            "rgb(255, 129, 0)"
           ],
           [
            0.5078740157480315,
            "rgb(255, 130, 0)"
           ],
           [
            0.5118110236220472,
            "rgb(255, 131, 0)"
           ],
           [
            0.515748031496063,
            "rgb(255, 131, 0)"
           ],
           [
            0.5196850393700787,
            "rgb(255, 133, 0)"
           ],
           [
            0.5236220472440944,
            "rgb(255, 134, 0)"
           ],
           [
            0.5275590551181102,
            "rgb(255, 135, 0)"
           ],
           [
            0.5314960629921259,
            "rgb(255, 136, 0)"
           ],
           [
            0.5354330708661417,
            "rgb(255, 137, 0)"
           ],
           [
            0.5393700787401575,
            "rgb(255, 138, 0)"
           ],
           [
            0.5433070866141733,
            "rgb(255, 139, 0)"
           ],
           [
            0.547244094488189,
            "rgb(255, 140, 0)"
           ],
           [
            0.5511811023622047,
            "rgb(255, 141, 0)"
           ],
           [
            0.5551181102362205,
            "rgb(255, 142, 0)"
           ],
           [
            0.5590551181102362,
            "rgb(255, 143, 0)"
           ],
           [
            0.562992125984252,
            "rgb(255, 144, 0)"
           ],
           [
            0.5669291338582677,
            "rgb(255, 145, 0)"
           ],
           [
            0.5708661417322834,
            "rgb(255, 146, 0)"
           ],
           [
            0.5748031496062992,
            "rgb(255, 147, 0)"
           ],
           [
            0.5787401574803149,
            "rgb(255, 147, 0)"
           ],
           [
            0.5826771653543307,
            "rgb(255, 149, 0)"
           ],
           [
            0.5866141732283464,
            "rgb(255, 150, 0)"
           ],
           [
            0.5905511811023622,
            "rgb(255, 151, 0)"
           ],
           [
            0.5944881889763779,
            "rgb(255, 152, 0)"
           ],
           [
            0.5984251968503937,
            "rgb(255, 153, 0)"
           ],
           [
            0.6023622047244095,
            "rgb(255, 154, 0)"
           ],
           [
            0.6062992125984252,
            "rgb(255, 155, 0)"
           ],
           [
            0.610236220472441,
            "rgb(255, 156, 0)"
           ],
           [
            0.6141732283464567,
            "rgb(255, 157, 0)"
           ],
           [
            0.6181102362204725,
            "rgb(255, 158, 0)"
           ],
           [
            0.6220472440944882,
            "rgb(255, 159, 0)"
           ],
           [
            0.6259842519685039,
            "rgb(255, 160, 0)"
           ],
           [
            0.6299212598425197,
            "rgb(255, 161, 0)"
           ],
           [
            0.6338582677165354,
            "rgb(255, 162, 0)"
           ],
           [
            0.6377952755905512,
            "rgb(255, 163, 0)"
           ],
           [
            0.6417322834645669,
            "rgb(255, 163, 0)"
           ],
           [
            0.6456692913385826,
            "rgb(255, 165, 0)"
           ],
           [
            0.6496062992125984,
            "rgb(255, 166, 0)"
           ],
           [
            0.6535433070866141,
            "rgb(255, 167, 0)"
           ],
           [
            0.6574803149606299,
            "rgb(255, 168, 0)"
           ],
           [
            0.6614173228346456,
            "rgb(255, 169, 0)"
           ],
           [
            0.6653543307086615,
            "rgb(255, 170, 0)"
           ],
           [
            0.6692913385826772,
            "rgb(255, 171, 0)"
           ],
           [
            0.6732283464566929,
            "rgb(255, 172, 0)"
           ],
           [
            0.6771653543307087,
            "rgb(255, 173, 0)"
           ],
           [
            0.6811023622047244,
            "rgb(255, 174, 0)"
           ],
           [
            0.6850393700787402,
            "rgb(255, 175, 0)"
           ],
           [
            0.6889763779527559,
            "rgb(255, 176, 0)"
           ],
           [
            0.6929133858267716,
            "rgb(255, 177, 0)"
           ],
           [
            0.6968503937007874,
            "rgb(255, 178, 0)"
           ],
           [
            0.7007874015748031,
            "rgb(255, 179, 0)"
           ],
           [
            0.7047244094488189,
            "rgb(255, 179, 0)"
           ],
           [
            0.7086614173228346,
            "rgb(255, 181, 0)"
           ],
           [
            0.7125984251968503,
            "rgb(255, 182, 0)"
           ],
           [
            0.7165354330708661,
            "rgb(255, 183, 0)"
           ],
           [
            0.7204724409448818,
            "rgb(255, 184, 0)"
           ],
           [
            0.7244094488188977,
            "rgb(255, 185, 0)"
           ],
           [
            0.7283464566929134,
            "rgb(255, 186, 0)"
           ],
           [
            0.7322834645669292,
            "rgb(255, 187, 0)"
           ],
           [
            0.7362204724409449,
            "rgb(255, 188, 0)"
           ],
           [
            0.7401574803149606,
            "rgb(255, 189, 0)"
           ],
           [
            0.7440944881889764,
            "rgb(255, 190, 0)"
           ],
           [
            0.7480314960629921,
            "rgb(255, 191, 0)"
           ],
           [
            0.7519685039370079,
            "rgb(255, 192, 0)"
           ],
           [
            0.7559055118110236,
            "rgb(255, 193, 0)"
           ],
           [
            0.7598425196850394,
            "rgb(255, 194, 0)"
           ],
           [
            0.7637795275590551,
            "rgb(255, 195, 0)"
           ],
           [
            0.7677165354330708,
            "rgb(255, 195, 0)"
           ],
           [
            0.7716535433070866,
            "rgb(255, 197, 0)"
           ],
           [
            0.7755905511811023,
            "rgb(255, 198, 0)"
           ],
           [
            0.7795275590551181,
            "rgb(255, 199, 0)"
           ],
           [
            0.7834645669291338,
            "rgb(255, 200, 0)"
           ],
           [
            0.7874015748031495,
            "rgb(255, 201, 0)"
           ],
           [
            0.7913385826771654,
            "rgb(255, 202, 0)"
           ],
           [
            0.7952755905511811,
            "rgb(255, 203, 0)"
           ],
           [
            0.7992125984251969,
            "rgb(255, 204, 0)"
           ],
           [
            0.8031496062992126,
            "rgb(255, 205, 0)"
           ],
           [
            0.8070866141732284,
            "rgb(255, 206, 0)"
           ],
           [
            0.8110236220472441,
            "rgb(255, 207, 0)"
           ],
           [
            0.8149606299212598,
            "rgb(255, 208, 0)"
           ],
           [
            0.8188976377952756,
            "rgb(255, 209, 0)"
           ],
           [
            0.8228346456692913,
            "rgb(255, 210, 0)"
           ],
           [
            0.8267716535433071,
            "rgb(255, 211, 0)"
           ],
           [
            0.8307086614173228,
            "rgb(255, 211, 0)"
           ],
           [
            0.8346456692913385,
            "rgb(255, 213, 0)"
           ],
           [
            0.8385826771653543,
            "rgb(255, 214, 0)"
           ],
           [
            0.84251968503937,
            "rgb(255, 215, 0)"
           ],
           [
            0.8464566929133858,
            "rgb(255, 216, 0)"
           ],
           [
            0.8503937007874016,
            "rgb(255, 217, 0)"
           ],
           [
            0.8543307086614174,
            "rgb(255, 218, 0)"
           ],
           [
            0.8582677165354331,
            "rgb(255, 219, 0)"
           ],
           [
            0.8622047244094488,
            "rgb(255, 220, 0)"
           ],
           [
            0.8661417322834646,
            "rgb(255, 221, 0)"
           ],
           [
            0.8700787401574803,
            "rgb(255, 222, 0)"
           ],
           [
            0.8740157480314961,
            "rgb(255, 223, 0)"
           ],
           [
            0.8779527559055118,
            "rgb(255, 224, 0)"
           ],
           [
            0.8818897637795275,
            "rgb(255, 225, 0)"
           ],
           [
            0.8858267716535433,
            "rgb(255, 226, 0)"
           ],
           [
            0.889763779527559,
            "rgb(255, 227, 0)"
           ],
           [
            0.8937007874015748,
            "rgb(255, 227, 0)"
           ],
           [
            0.8976377952755905,
            "rgb(255, 229, 0)"
           ],
           [
            0.9015748031496063,
            "rgb(255, 230, 0)"
           ],
           [
            0.905511811023622,
            "rgb(255, 231, 0)"
           ],
           [
            0.9094488188976377,
            "rgb(255, 232, 0)"
           ],
           [
            0.9133858267716535,
            "rgb(255, 233, 0)"
           ],
           [
            0.9173228346456693,
            "rgb(255, 234, 0)"
           ],
           [
            0.9212598425196851,
            "rgb(255, 235, 0)"
           ],
           [
            0.9251968503937008,
            "rgb(255, 236, 0)"
           ],
           [
            0.9291338582677166,
            "rgb(255, 237, 0)"
           ],
           [
            0.9330708661417323,
            "rgb(255, 238, 0)"
           ],
           [
            0.937007874015748,
            "rgb(255, 239, 0)"
           ],
           [
            0.9409448818897638,
            "rgb(255, 240, 0)"
           ],
           [
            0.9448818897637795,
            "rgb(255, 241, 0)"
           ],
           [
            0.9488188976377953,
            "rgb(255, 242, 0)"
           ],
           [
            0.952755905511811,
            "rgb(255, 243, 0)"
           ],
           [
            0.9566929133858267,
            "rgb(255, 243, 0)"
           ],
           [
            0.9606299212598425,
            "rgb(255, 245, 0)"
           ],
           [
            0.9645669291338582,
            "rgb(255, 246, 0)"
           ],
           [
            0.968503937007874,
            "rgb(255, 247, 0)"
           ],
           [
            0.9724409448818897,
            "rgb(255, 248, 0)"
           ],
           [
            0.9763779527559056,
            "rgb(255, 249, 0)"
           ],
           [
            0.9803149606299213,
            "rgb(255, 250, 0)"
           ],
           [
            0.984251968503937,
            "rgb(255, 251, 0)"
           ],
           [
            0.9881889763779528,
            "rgb(255, 252, 0)"
           ],
           [
            0.9921259842519685,
            "rgb(255, 253, 0)"
           ],
           [
            0.9960629921259843,
            "rgb(255, 254, 0)"
           ],
           [
            1,
            "rgb(255, 255, 0)"
           ]
          ],
          "line": {
           "color": "black",
           "width": 0.5
          },
          "opacity": 1,
          "size": 10
         },
         "mode": "markers",
         "type": "scatter3d",
         "visible": false,
         "x": [
          2.1634878167495564,
          1.304031356139086,
          -2.92906505636774,
          -0.29917463989128934,
          -0.9226849637372154,
          -1.7616157822567142,
          1.5576098131570328,
          0.887411456207278
         ],
         "y": [
          -0.022284375526860738,
          0.5665572524164387,
          -0.022284375526848865,
          0.2754927211931604,
          -1.2594999847287691,
          0.8040351985209969,
          -0.2779259953671452,
          -0.06409044098097429
         ],
         "z": [
          1.0376810391925324,
          1.6328352084021307,
          -0.39551254807761493,
          0.8968529093884865,
          -1.203595939232517,
          -1.0741339685067663,
          -0.7256728716150247,
          -0.16845382955123306
         ]
        },
        {
         "line": {
          "color": "rgba(0,0,0,1)",
          "width": 4
         },
         "mode": "lines",
         "type": "scatter3d",
         "visible": false,
         "x": [
          1.304031356139086,
          -0.29917463989128934
         ],
         "y": [
          0.5665572524164387,
          0.2754927211931604
         ],
         "z": [
          1.6328352084021307,
          0.8968529093884865
         ]
        },
        {
         "line": {
          "color": "rgba(0,0,0,1)",
          "width": 4
         },
         "mode": "lines",
         "type": "scatter3d",
         "visible": false,
         "x": [
          -0.29917463989128934,
          -2.92906505636774
         ],
         "y": [
          0.2754927211931604,
          -0.022284375526848865
         ],
         "z": [
          0.8968529093884865,
          -0.39551254807761493
         ]
        },
        {
         "line": {
          "color": "rgba(0,0,0,1)",
          "width": 4
         },
         "mode": "lines",
         "type": "scatter3d",
         "visible": false,
         "x": [
          2.1634878167495564,
          1.304031356139086
         ],
         "y": [
          -0.022284375526860738,
          0.5665572524164387
         ],
         "z": [
          1.0376810391925324,
          1.6328352084021307
         ]
        },
        {
         "line": {
          "color": "rgba(0,0,0,1)",
          "width": 4
         },
         "mode": "lines",
         "type": "scatter3d",
         "visible": false,
         "x": [
          0.887411456207278,
          -0.29917463989128934
         ],
         "y": [
          -0.06409044098097429,
          0.2754927211931604
         ],
         "z": [
          -0.16845382955123306,
          0.8968529093884865
         ]
        },
        {
         "line": {
          "color": "rgba(0,0,0,1)",
          "width": 4
         },
         "mode": "lines",
         "type": "scatter3d",
         "visible": false,
         "x": [
          -1.7616157822567142,
          -2.92906505636774
         ],
         "y": [
          0.8040351985209969,
          -0.022284375526848865
         ],
         "z": [
          -1.0741339685067663,
          -0.39551254807761493
         ]
        },
        {
         "line": {
          "color": "rgba(0,0,0,1)",
          "width": 4
         },
         "mode": "lines",
         "type": "scatter3d",
         "visible": false,
         "x": [
          1.5576098131570328,
          -0.29917463989128934
         ],
         "y": [
          -0.2779259953671452,
          0.2754927211931604
         ],
         "z": [
          -0.7256728716150247,
          0.8968529093884865
         ]
        },
        {
         "line": {
          "color": "rgba(0,0,0,1)",
          "width": 4
         },
         "mode": "lines",
         "type": "scatter3d",
         "visible": false,
         "x": [
          -0.9226849637372154,
          -2.92906505636774
         ],
         "y": [
          -1.2594999847287691,
          -0.022284375526848865
         ],
         "z": [
          -1.203595939232517,
          -0.39551254807761493
         ]
        },
        {
         "marker": {
          "color": [
           0,
           0.14285714285714285,
           0.2857142857142857,
           0.42857142857142855,
           0.5714285714285714,
           0.7142857142857142,
           0.8571428571428571,
           1
          ],
          "colorscale": [
           [
            0,
            "rgb(255, 0, 0)"
           ],
           [
            0.003937007874015748,
            "rgb(255, 1, 0)"
           ],
           [
            0.007874015748031496,
            "rgb(255, 2, 0)"
           ],
           [
            0.011811023622047244,
            "rgb(255, 3, 0)"
           ],
           [
            0.015748031496062992,
            "rgb(255, 4, 0)"
           ],
           [
            0.01968503937007874,
            "rgb(255, 5, 0)"
           ],
           [
            0.023622047244094488,
            "rgb(255, 6, 0)"
           ],
           [
            0.027559055118110236,
            "rgb(255, 7, 0)"
           ],
           [
            0.031496062992125984,
            "rgb(255, 8, 0)"
           ],
           [
            0.03543307086614173,
            "rgb(255, 9, 0)"
           ],
           [
            0.03937007874015748,
            "rgb(255, 10, 0)"
           ],
           [
            0.04330708661417323,
            "rgb(255, 11, 0)"
           ],
           [
            0.047244094488188976,
            "rgb(255, 12, 0)"
           ],
           [
            0.051181102362204724,
            "rgb(255, 13, 0)"
           ],
           [
            0.05511811023622047,
            "rgb(255, 14, 0)"
           ],
           [
            0.05905511811023622,
            "rgb(255, 15, 0)"
           ],
           [
            0.06299212598425197,
            "rgb(255, 16, 0)"
           ],
           [
            0.06692913385826771,
            "rgb(255, 17, 0)"
           ],
           [
            0.07086614173228346,
            "rgb(255, 18, 0)"
           ],
           [
            0.07480314960629922,
            "rgb(255, 19, 0)"
           ],
           [
            0.07874015748031496,
            "rgb(255, 20, 0)"
           ],
           [
            0.0826771653543307,
            "rgb(255, 21, 0)"
           ],
           [
            0.08661417322834646,
            "rgb(255, 22, 0)"
           ],
           [
            0.09055118110236221,
            "rgb(255, 23, 0)"
           ],
           [
            0.09448818897637795,
            "rgb(255, 24, 0)"
           ],
           [
            0.09842519685039369,
            "rgb(255, 25, 0)"
           ],
           [
            0.10236220472440945,
            "rgb(255, 26, 0)"
           ],
           [
            0.1062992125984252,
            "rgb(255, 27, 0)"
           ],
           [
            0.11023622047244094,
            "rgb(255, 28, 0)"
           ],
           [
            0.11417322834645668,
            "rgb(255, 29, 0)"
           ],
           [
            0.11811023622047244,
            "rgb(255, 30, 0)"
           ],
           [
            0.1220472440944882,
            "rgb(255, 31, 0)"
           ],
           [
            0.12598425196850394,
            "rgb(255, 32, 0)"
           ],
           [
            0.12992125984251968,
            "rgb(255, 32, 0)"
           ],
           [
            0.13385826771653542,
            "rgb(255, 34, 0)"
           ],
           [
            0.1377952755905512,
            "rgb(255, 35, 0)"
           ],
           [
            0.14173228346456693,
            "rgb(255, 36, 0)"
           ],
           [
            0.14566929133858267,
            "rgb(255, 36, 0)"
           ],
           [
            0.14960629921259844,
            "rgb(255, 38, 0)"
           ],
           [
            0.15354330708661418,
            "rgb(255, 39, 0)"
           ],
           [
            0.15748031496062992,
            "rgb(255, 40, 0)"
           ],
           [
            0.16141732283464566,
            "rgb(255, 40, 0)"
           ],
           [
            0.1653543307086614,
            "rgb(255, 42, 0)"
           ],
           [
            0.16929133858267717,
            "rgb(255, 43, 0)"
           ],
           [
            0.1732283464566929,
            "rgb(255, 44, 0)"
           ],
           [
            0.17716535433070865,
            "rgb(255, 44, 0)"
           ],
           [
            0.18110236220472442,
            "rgb(255, 46, 0)"
           ],
           [
            0.18503937007874016,
            "rgb(255, 47, 0)"
           ],
           [
            0.1889763779527559,
            "rgb(255, 48, 0)"
           ],
           [
            0.19291338582677164,
            "rgb(255, 48, 0)"
           ],
           [
            0.19685039370078738,
            "rgb(255, 50, 0)"
           ],
           [
            0.20078740157480315,
            "rgb(255, 51, 0)"
           ],
           [
            0.2047244094488189,
            "rgb(255, 52, 0)"
           ],
           [
            0.20866141732283464,
            "rgb(255, 52, 0)"
           ],
           [
            0.2125984251968504,
            "rgb(255, 54, 0)"
           ],
           [
            0.21653543307086615,
            "rgb(255, 55, 0)"
           ],
           [
            0.2204724409448819,
            "rgb(255, 56, 0)"
           ],
           [
            0.22440944881889763,
            "rgb(255, 56, 0)"
           ],
           [
            0.22834645669291337,
            "rgb(255, 58, 0)"
           ],
           [
            0.23228346456692914,
            "rgb(255, 59, 0)"
           ],
           [
            0.23622047244094488,
            "rgb(255, 60, 0)"
           ],
           [
            0.24015748031496062,
            "rgb(255, 60, 0)"
           ],
           [
            0.2440944881889764,
            "rgb(255, 62, 0)"
           ],
           [
            0.24803149606299213,
            "rgb(255, 63, 0)"
           ],
           [
            0.25196850393700787,
            "rgb(255, 64, 0)"
           ],
           [
            0.2559055118110236,
            "rgb(255, 65, 0)"
           ],
           [
            0.25984251968503935,
            "rgb(255, 65, 0)"
           ],
           [
            0.2637795275590551,
            "rgb(255, 67, 0)"
           ],
           [
            0.26771653543307083,
            "rgb(255, 68, 0)"
           ],
           [
            0.27165354330708663,
            "rgb(255, 69, 0)"
           ],
           [
            0.2755905511811024,
            "rgb(255, 70, 0)"
           ],
           [
            0.2795275590551181,
            "rgb(255, 71, 0)"
           ],
           [
            0.28346456692913385,
            "rgb(255, 72, 0)"
           ],
           [
            0.2874015748031496,
            "rgb(255, 73, 0)"
           ],
           [
            0.29133858267716534,
            "rgb(255, 73, 0)"
           ],
           [
            0.2952755905511811,
            "rgb(255, 75, 0)"
           ],
           [
            0.2992125984251969,
            "rgb(255, 76, 0)"
           ],
           [
            0.3031496062992126,
            "rgb(255, 77, 0)"
           ],
           [
            0.30708661417322836,
            "rgb(255, 78, 0)"
           ],
           [
            0.3110236220472441,
            "rgb(255, 79, 0)"
           ],
           [
            0.31496062992125984,
            "rgb(255, 80, 0)"
           ],
           [
            0.3188976377952756,
            "rgb(255, 81, 0)"
           ],
           [
            0.3228346456692913,
            "rgb(255, 81, 0)"
           ],
           [
            0.32677165354330706,
            "rgb(255, 83, 0)"
           ],
           [
            0.3307086614173228,
            "rgb(255, 84, 0)"
           ],
           [
            0.3346456692913386,
            "rgb(255, 85, 0)"
           ],
           [
            0.33858267716535434,
            "rgb(255, 86, 0)"
           ],
           [
            0.3425196850393701,
            "rgb(255, 87, 0)"
           ],
           [
            0.3464566929133858,
            "rgb(255, 88, 0)"
           ],
           [
            0.35039370078740156,
            "rgb(255, 89, 0)"
           ],
           [
            0.3543307086614173,
            "rgb(255, 89, 0)"
           ],
           [
            0.35826771653543305,
            "rgb(255, 91, 0)"
           ],
           [
            0.36220472440944884,
            "rgb(255, 92, 0)"
           ],
           [
            0.3661417322834646,
            "rgb(255, 93, 0)"
           ],
           [
            0.3700787401574803,
            "rgb(255, 94, 0)"
           ],
           [
            0.37401574803149606,
            "rgb(255, 95, 0)"
           ],
           [
            0.3779527559055118,
            "rgb(255, 96, 0)"
           ],
           [
            0.38188976377952755,
            "rgb(255, 97, 0)"
           ],
           [
            0.3858267716535433,
            "rgb(255, 97, 0)"
           ],
           [
            0.38976377952755903,
            "rgb(255, 99, 0)"
           ],
           [
            0.39370078740157477,
            "rgb(255, 100, 0)"
           ],
           [
            0.39763779527559057,
            "rgb(255, 101, 0)"
           ],
           [
            0.4015748031496063,
            "rgb(255, 102, 0)"
           ],
           [
            0.40551181102362205,
            "rgb(255, 103, 0)"
           ],
           [
            0.4094488188976378,
            "rgb(255, 104, 0)"
           ],
           [
            0.41338582677165353,
            "rgb(255, 105, 0)"
           ],
           [
            0.41732283464566927,
            "rgb(255, 105, 0)"
           ],
           [
            0.421259842519685,
            "rgb(255, 107, 0)"
           ],
           [
            0.4251968503937008,
            "rgb(255, 108, 0)"
           ],
           [
            0.42913385826771655,
            "rgb(255, 109, 0)"
           ],
           [
            0.4330708661417323,
            "rgb(255, 110, 0)"
           ],
           [
            0.43700787401574803,
            "rgb(255, 111, 0)"
           ],
           [
            0.4409448818897638,
            "rgb(255, 112, 0)"
           ],
           [
            0.4448818897637795,
            "rgb(255, 113, 0)"
           ],
           [
            0.44881889763779526,
            "rgb(255, 113, 0)"
           ],
           [
            0.452755905511811,
            "rgb(255, 115, 0)"
           ],
           [
            0.45669291338582674,
            "rgb(255, 116, 0)"
           ],
           [
            0.46062992125984253,
            "rgb(255, 117, 0)"
           ],
           [
            0.4645669291338583,
            "rgb(255, 118, 0)"
           ],
           [
            0.468503937007874,
            "rgb(255, 119, 0)"
           ],
           [
            0.47244094488188976,
            "rgb(255, 120, 0)"
           ],
           [
            0.4763779527559055,
            "rgb(255, 121, 0)"
           ],
           [
            0.48031496062992124,
            "rgb(255, 121, 0)"
           ],
           [
            0.484251968503937,
            "rgb(255, 123, 0)"
           ],
           [
            0.4881889763779528,
            "rgb(255, 124, 0)"
           ],
           [
            0.4921259842519685,
            "rgb(255, 125, 0)"
           ],
           [
            0.49606299212598426,
            "rgb(255, 126, 0)"
           ],
           [
            0.5,
            "rgb(255, 128, 0)"
           ],
           [
            0.5039370078740157,
            "rgb(255, 129, 0)"
           ],
           [
            0.5078740157480315,
            "rgb(255, 130, 0)"
           ],
           [
            0.5118110236220472,
            "rgb(255, 131, 0)"
           ],
           [
            0.515748031496063,
            "rgb(255, 131, 0)"
           ],
           [
            0.5196850393700787,
            "rgb(255, 133, 0)"
           ],
           [
            0.5236220472440944,
            "rgb(255, 134, 0)"
           ],
           [
            0.5275590551181102,
            "rgb(255, 135, 0)"
           ],
           [
            0.5314960629921259,
            "rgb(255, 136, 0)"
           ],
           [
            0.5354330708661417,
            "rgb(255, 137, 0)"
           ],
           [
            0.5393700787401575,
            "rgb(255, 138, 0)"
           ],
           [
            0.5433070866141733,
            "rgb(255, 139, 0)"
           ],
           [
            0.547244094488189,
            "rgb(255, 140, 0)"
           ],
           [
            0.5511811023622047,
            "rgb(255, 141, 0)"
           ],
           [
            0.5551181102362205,
            "rgb(255, 142, 0)"
           ],
           [
            0.5590551181102362,
            "rgb(255, 143, 0)"
           ],
           [
            0.562992125984252,
            "rgb(255, 144, 0)"
           ],
           [
            0.5669291338582677,
            "rgb(255, 145, 0)"
           ],
           [
            0.5708661417322834,
            "rgb(255, 146, 0)"
           ],
           [
            0.5748031496062992,
            "rgb(255, 147, 0)"
           ],
           [
            0.5787401574803149,
            "rgb(255, 147, 0)"
           ],
           [
            0.5826771653543307,
            "rgb(255, 149, 0)"
           ],
           [
            0.5866141732283464,
            "rgb(255, 150, 0)"
           ],
           [
            0.5905511811023622,
            "rgb(255, 151, 0)"
           ],
           [
            0.5944881889763779,
            "rgb(255, 152, 0)"
           ],
           [
            0.5984251968503937,
            "rgb(255, 153, 0)"
           ],
           [
            0.6023622047244095,
            "rgb(255, 154, 0)"
           ],
           [
            0.6062992125984252,
            "rgb(255, 155, 0)"
           ],
           [
            0.610236220472441,
            "rgb(255, 156, 0)"
           ],
           [
            0.6141732283464567,
            "rgb(255, 157, 0)"
           ],
           [
            0.6181102362204725,
            "rgb(255, 158, 0)"
           ],
           [
            0.6220472440944882,
            "rgb(255, 159, 0)"
           ],
           [
            0.6259842519685039,
            "rgb(255, 160, 0)"
           ],
           [
            0.6299212598425197,
            "rgb(255, 161, 0)"
           ],
           [
            0.6338582677165354,
            "rgb(255, 162, 0)"
           ],
           [
            0.6377952755905512,
            "rgb(255, 163, 0)"
           ],
           [
            0.6417322834645669,
            "rgb(255, 163, 0)"
           ],
           [
            0.6456692913385826,
            "rgb(255, 165, 0)"
           ],
           [
            0.6496062992125984,
            "rgb(255, 166, 0)"
           ],
           [
            0.6535433070866141,
            "rgb(255, 167, 0)"
           ],
           [
            0.6574803149606299,
            "rgb(255, 168, 0)"
           ],
           [
            0.6614173228346456,
            "rgb(255, 169, 0)"
           ],
           [
            0.6653543307086615,
            "rgb(255, 170, 0)"
           ],
           [
            0.6692913385826772,
            "rgb(255, 171, 0)"
           ],
           [
            0.6732283464566929,
            "rgb(255, 172, 0)"
           ],
           [
            0.6771653543307087,
            "rgb(255, 173, 0)"
           ],
           [
            0.6811023622047244,
            "rgb(255, 174, 0)"
           ],
           [
            0.6850393700787402,
            "rgb(255, 175, 0)"
           ],
           [
            0.6889763779527559,
            "rgb(255, 176, 0)"
           ],
           [
            0.6929133858267716,
            "rgb(255, 177, 0)"
           ],
           [
            0.6968503937007874,
            "rgb(255, 178, 0)"
           ],
           [
            0.7007874015748031,
            "rgb(255, 179, 0)"
           ],
           [
            0.7047244094488189,
            "rgb(255, 179, 0)"
           ],
           [
            0.7086614173228346,
            "rgb(255, 181, 0)"
           ],
           [
            0.7125984251968503,
            "rgb(255, 182, 0)"
           ],
           [
            0.7165354330708661,
            "rgb(255, 183, 0)"
           ],
           [
            0.7204724409448818,
            "rgb(255, 184, 0)"
           ],
           [
            0.7244094488188977,
            "rgb(255, 185, 0)"
           ],
           [
            0.7283464566929134,
            "rgb(255, 186, 0)"
           ],
           [
            0.7322834645669292,
            "rgb(255, 187, 0)"
           ],
           [
            0.7362204724409449,
            "rgb(255, 188, 0)"
           ],
           [
            0.7401574803149606,
            "rgb(255, 189, 0)"
           ],
           [
            0.7440944881889764,
            "rgb(255, 190, 0)"
           ],
           [
            0.7480314960629921,
            "rgb(255, 191, 0)"
           ],
           [
            0.7519685039370079,
            "rgb(255, 192, 0)"
           ],
           [
            0.7559055118110236,
            "rgb(255, 193, 0)"
           ],
           [
            0.7598425196850394,
            "rgb(255, 194, 0)"
           ],
           [
            0.7637795275590551,
            "rgb(255, 195, 0)"
           ],
           [
            0.7677165354330708,
            "rgb(255, 195, 0)"
           ],
           [
            0.7716535433070866,
            "rgb(255, 197, 0)"
           ],
           [
            0.7755905511811023,
            "rgb(255, 198, 0)"
           ],
           [
            0.7795275590551181,
            "rgb(255, 199, 0)"
           ],
           [
            0.7834645669291338,
            "rgb(255, 200, 0)"
           ],
           [
            0.7874015748031495,
            "rgb(255, 201, 0)"
           ],
           [
            0.7913385826771654,
            "rgb(255, 202, 0)"
           ],
           [
            0.7952755905511811,
            "rgb(255, 203, 0)"
           ],
           [
            0.7992125984251969,
            "rgb(255, 204, 0)"
           ],
           [
            0.8031496062992126,
            "rgb(255, 205, 0)"
           ],
           [
            0.8070866141732284,
            "rgb(255, 206, 0)"
           ],
           [
            0.8110236220472441,
            "rgb(255, 207, 0)"
           ],
           [
            0.8149606299212598,
            "rgb(255, 208, 0)"
           ],
           [
            0.8188976377952756,
            "rgb(255, 209, 0)"
           ],
           [
            0.8228346456692913,
            "rgb(255, 210, 0)"
           ],
           [
            0.8267716535433071,
            "rgb(255, 211, 0)"
           ],
           [
            0.8307086614173228,
            "rgb(255, 211, 0)"
           ],
           [
            0.8346456692913385,
            "rgb(255, 213, 0)"
           ],
           [
            0.8385826771653543,
            "rgb(255, 214, 0)"
           ],
           [
            0.84251968503937,
            "rgb(255, 215, 0)"
           ],
           [
            0.8464566929133858,
            "rgb(255, 216, 0)"
           ],
           [
            0.8503937007874016,
            "rgb(255, 217, 0)"
           ],
           [
            0.8543307086614174,
            "rgb(255, 218, 0)"
           ],
           [
            0.8582677165354331,
            "rgb(255, 219, 0)"
           ],
           [
            0.8622047244094488,
            "rgb(255, 220, 0)"
           ],
           [
            0.8661417322834646,
            "rgb(255, 221, 0)"
           ],
           [
            0.8700787401574803,
            "rgb(255, 222, 0)"
           ],
           [
            0.8740157480314961,
            "rgb(255, 223, 0)"
           ],
           [
            0.8779527559055118,
            "rgb(255, 224, 0)"
           ],
           [
            0.8818897637795275,
            "rgb(255, 225, 0)"
           ],
           [
            0.8858267716535433,
            "rgb(255, 226, 0)"
           ],
           [
            0.889763779527559,
            "rgb(255, 227, 0)"
           ],
           [
            0.8937007874015748,
            "rgb(255, 227, 0)"
           ],
           [
            0.8976377952755905,
            "rgb(255, 229, 0)"
           ],
           [
            0.9015748031496063,
            "rgb(255, 230, 0)"
           ],
           [
            0.905511811023622,
            "rgb(255, 231, 0)"
           ],
           [
            0.9094488188976377,
            "rgb(255, 232, 0)"
           ],
           [
            0.9133858267716535,
            "rgb(255, 233, 0)"
           ],
           [
            0.9173228346456693,
            "rgb(255, 234, 0)"
           ],
           [
            0.9212598425196851,
            "rgb(255, 235, 0)"
           ],
           [
            0.9251968503937008,
            "rgb(255, 236, 0)"
           ],
           [
            0.9291338582677166,
            "rgb(255, 237, 0)"
           ],
           [
            0.9330708661417323,
            "rgb(255, 238, 0)"
           ],
           [
            0.937007874015748,
            "rgb(255, 239, 0)"
           ],
           [
            0.9409448818897638,
            "rgb(255, 240, 0)"
           ],
           [
            0.9448818897637795,
            "rgb(255, 241, 0)"
           ],
           [
            0.9488188976377953,
            "rgb(255, 242, 0)"
           ],
           [
            0.952755905511811,
            "rgb(255, 243, 0)"
           ],
           [
            0.9566929133858267,
            "rgb(255, 243, 0)"
           ],
           [
            0.9606299212598425,
            "rgb(255, 245, 0)"
           ],
           [
            0.9645669291338582,
            "rgb(255, 246, 0)"
           ],
           [
            0.968503937007874,
            "rgb(255, 247, 0)"
           ],
           [
            0.9724409448818897,
            "rgb(255, 248, 0)"
           ],
           [
            0.9763779527559056,
            "rgb(255, 249, 0)"
           ],
           [
            0.9803149606299213,
            "rgb(255, 250, 0)"
           ],
           [
            0.984251968503937,
            "rgb(255, 251, 0)"
           ],
           [
            0.9881889763779528,
            "rgb(255, 252, 0)"
           ],
           [
            0.9921259842519685,
            "rgb(255, 253, 0)"
           ],
           [
            0.9960629921259843,
            "rgb(255, 254, 0)"
           ],
           [
            1,
            "rgb(255, 255, 0)"
           ]
          ],
          "line": {
           "color": "black",
           "width": 0.5
          },
          "opacity": 1,
          "size": 10
         },
         "mode": "markers",
         "type": "scatter3d",
         "visible": false,
         "x": [
          2.1613822713843525,
          1.2834241644209694,
          -2.9394253683299176,
          -0.2953390644934819,
          -1.2182081117313106,
          -1.4686377418895353,
          1.4445678683435585,
          1.03223598229536
         ],
         "y": [
          -0.03654273366937913,
          0.29776409296531736,
          -0.03654273366936679,
          0.10710196410742254,
          -1.2154018404867353,
          0.9754573130950996,
          -0.49423764701708056,
          0.40240158467472076
         ],
         "z": [
          1.0455725428311264,
          1.6298337446678404,
          -0.3949987236139535,
          0.8912826086845074,
          -1.2218581330389862,
          -1.1543917880696544,
          0.44449603917994807,
          -1.2399362906408355
         ]
        },
        {
         "line": {
          "color": "rgba(0,0,0,1)",
          "width": 4
         },
         "mode": "lines",
         "type": "scatter3d",
         "visible": false,
         "x": [
          1.2834241644209694,
          -0.2953390644934819
         ],
         "y": [
          0.29776409296531736,
          0.10710196410742254
         ],
         "z": [
          1.6298337446678404,
          0.8912826086845074
         ]
        },
        {
         "line": {
          "color": "rgba(0,0,0,1)",
          "width": 4
         },
         "mode": "lines",
         "type": "scatter3d",
         "visible": false,
         "x": [
          -0.2953390644934819,
          -2.9394253683299176
         ],
         "y": [
          0.10710196410742254,
          -0.03654273366936679
         ],
         "z": [
          0.8912826086845074,
          -0.3949987236139535
         ]
        },
        {
         "line": {
          "color": "rgba(0,0,0,1)",
          "width": 4
         },
         "mode": "lines",
         "type": "scatter3d",
         "visible": false,
         "x": [
          2.1613822713843525,
          1.2834241644209694
         ],
         "y": [
          -0.03654273366937913,
          0.29776409296531736
         ],
         "z": [
          1.0455725428311264,
          1.6298337446678404
         ]
        },
        {
         "line": {
          "color": "rgba(0,0,0,1)",
          "width": 4
         },
         "mode": "lines",
         "type": "scatter3d",
         "visible": false,
         "x": [
          1.03223598229536,
          -0.2953390644934819
         ],
         "y": [
          0.40240158467472076,
          0.10710196410742254
         ],
         "z": [
          -1.2399362906408355,
          0.8912826086845074
         ]
        },
        {
         "line": {
          "color": "rgba(0,0,0,1)",
          "width": 4
         },
         "mode": "lines",
         "type": "scatter3d",
         "visible": false,
         "x": [
          -1.4686377418895353,
          -2.9394253683299176
         ],
         "y": [
          0.9754573130950996,
          -0.03654273366936679
         ],
         "z": [
          -1.1543917880696544,
          -0.3949987236139535
         ]
        },
        {
         "line": {
          "color": "rgba(0,0,0,1)",
          "width": 4
         },
         "mode": "lines",
         "type": "scatter3d",
         "visible": false,
         "x": [
          1.4445678683435585,
          -0.2953390644934819
         ],
         "y": [
          -0.49423764701708056,
          0.10710196410742254
         ],
         "z": [
          0.44449603917994807,
          0.8912826086845074
         ]
        },
        {
         "line": {
          "color": "rgba(0,0,0,1)",
          "width": 4
         },
         "mode": "lines",
         "type": "scatter3d",
         "visible": false,
         "x": [
          -1.2182081117313106,
          -2.9394253683299176
         ],
         "y": [
          -1.2154018404867353,
          -0.03654273366936679
         ],
         "z": [
          -1.2218581330389862,
          -0.3949987236139535
         ]
        },
        {
         "marker": {
          "color": [
           0,
           0.14285714285714285,
           0.2857142857142857,
           0.42857142857142855,
           0.5714285714285714,
           0.7142857142857142,
           0.8571428571428571,
           1
          ],
          "colorscale": [
           [
            0,
            "rgb(255, 0, 0)"
           ],
           [
            0.003937007874015748,
            "rgb(255, 1, 0)"
           ],
           [
            0.007874015748031496,
            "rgb(255, 2, 0)"
           ],
           [
            0.011811023622047244,
            "rgb(255, 3, 0)"
           ],
           [
            0.015748031496062992,
            "rgb(255, 4, 0)"
           ],
           [
            0.01968503937007874,
            "rgb(255, 5, 0)"
           ],
           [
            0.023622047244094488,
            "rgb(255, 6, 0)"
           ],
           [
            0.027559055118110236,
            "rgb(255, 7, 0)"
           ],
           [
            0.031496062992125984,
            "rgb(255, 8, 0)"
           ],
           [
            0.03543307086614173,
            "rgb(255, 9, 0)"
           ],
           [
            0.03937007874015748,
            "rgb(255, 10, 0)"
           ],
           [
            0.04330708661417323,
            "rgb(255, 11, 0)"
           ],
           [
            0.047244094488188976,
            "rgb(255, 12, 0)"
           ],
           [
            0.051181102362204724,
            "rgb(255, 13, 0)"
           ],
           [
            0.05511811023622047,
            "rgb(255, 14, 0)"
           ],
           [
            0.05905511811023622,
            "rgb(255, 15, 0)"
           ],
           [
            0.06299212598425197,
            "rgb(255, 16, 0)"
           ],
           [
            0.06692913385826771,
            "rgb(255, 17, 0)"
           ],
           [
            0.07086614173228346,
            "rgb(255, 18, 0)"
           ],
           [
            0.07480314960629922,
            "rgb(255, 19, 0)"
           ],
           [
            0.07874015748031496,
            "rgb(255, 20, 0)"
           ],
           [
            0.0826771653543307,
            "rgb(255, 21, 0)"
           ],
           [
            0.08661417322834646,
            "rgb(255, 22, 0)"
           ],
           [
            0.09055118110236221,
            "rgb(255, 23, 0)"
           ],
           [
            0.09448818897637795,
            "rgb(255, 24, 0)"
           ],
           [
            0.09842519685039369,
            "rgb(255, 25, 0)"
           ],
           [
            0.10236220472440945,
            "rgb(255, 26, 0)"
           ],
           [
            0.1062992125984252,
            "rgb(255, 27, 0)"
           ],
           [
            0.11023622047244094,
            "rgb(255, 28, 0)"
           ],
           [
            0.11417322834645668,
            "rgb(255, 29, 0)"
           ],
           [
            0.11811023622047244,
            "rgb(255, 30, 0)"
           ],
           [
            0.1220472440944882,
            "rgb(255, 31, 0)"
           ],
           [
            0.12598425196850394,
            "rgb(255, 32, 0)"
           ],
           [
            0.12992125984251968,
            "rgb(255, 32, 0)"
           ],
           [
            0.13385826771653542,
            "rgb(255, 34, 0)"
           ],
           [
            0.1377952755905512,
            "rgb(255, 35, 0)"
           ],
           [
            0.14173228346456693,
            "rgb(255, 36, 0)"
           ],
           [
            0.14566929133858267,
            "rgb(255, 36, 0)"
           ],
           [
            0.14960629921259844,
            "rgb(255, 38, 0)"
           ],
           [
            0.15354330708661418,
            "rgb(255, 39, 0)"
           ],
           [
            0.15748031496062992,
            "rgb(255, 40, 0)"
           ],
           [
            0.16141732283464566,
            "rgb(255, 40, 0)"
           ],
           [
            0.1653543307086614,
            "rgb(255, 42, 0)"
           ],
           [
            0.16929133858267717,
            "rgb(255, 43, 0)"
           ],
           [
            0.1732283464566929,
            "rgb(255, 44, 0)"
           ],
           [
            0.17716535433070865,
            "rgb(255, 44, 0)"
           ],
           [
            0.18110236220472442,
            "rgb(255, 46, 0)"
           ],
           [
            0.18503937007874016,
            "rgb(255, 47, 0)"
           ],
           [
            0.1889763779527559,
            "rgb(255, 48, 0)"
           ],
           [
            0.19291338582677164,
            "rgb(255, 48, 0)"
           ],
           [
            0.19685039370078738,
            "rgb(255, 50, 0)"
           ],
           [
            0.20078740157480315,
            "rgb(255, 51, 0)"
           ],
           [
            0.2047244094488189,
            "rgb(255, 52, 0)"
           ],
           [
            0.20866141732283464,
            "rgb(255, 52, 0)"
           ],
           [
            0.2125984251968504,
            "rgb(255, 54, 0)"
           ],
           [
            0.21653543307086615,
            "rgb(255, 55, 0)"
           ],
           [
            0.2204724409448819,
            "rgb(255, 56, 0)"
           ],
           [
            0.22440944881889763,
            "rgb(255, 56, 0)"
           ],
           [
            0.22834645669291337,
            "rgb(255, 58, 0)"
           ],
           [
            0.23228346456692914,
            "rgb(255, 59, 0)"
           ],
           [
            0.23622047244094488,
            "rgb(255, 60, 0)"
           ],
           [
            0.24015748031496062,
            "rgb(255, 60, 0)"
           ],
           [
            0.2440944881889764,
            "rgb(255, 62, 0)"
           ],
           [
            0.24803149606299213,
            "rgb(255, 63, 0)"
           ],
           [
            0.25196850393700787,
            "rgb(255, 64, 0)"
           ],
           [
            0.2559055118110236,
            "rgb(255, 65, 0)"
           ],
           [
            0.25984251968503935,
            "rgb(255, 65, 0)"
           ],
           [
            0.2637795275590551,
            "rgb(255, 67, 0)"
           ],
           [
            0.26771653543307083,
            "rgb(255, 68, 0)"
           ],
           [
            0.27165354330708663,
            "rgb(255, 69, 0)"
           ],
           [
            0.2755905511811024,
            "rgb(255, 70, 0)"
           ],
           [
            0.2795275590551181,
            "rgb(255, 71, 0)"
           ],
           [
            0.28346456692913385,
            "rgb(255, 72, 0)"
           ],
           [
            0.2874015748031496,
            "rgb(255, 73, 0)"
           ],
           [
            0.29133858267716534,
            "rgb(255, 73, 0)"
           ],
           [
            0.2952755905511811,
            "rgb(255, 75, 0)"
           ],
           [
            0.2992125984251969,
            "rgb(255, 76, 0)"
           ],
           [
            0.3031496062992126,
            "rgb(255, 77, 0)"
           ],
           [
            0.30708661417322836,
            "rgb(255, 78, 0)"
           ],
           [
            0.3110236220472441,
            "rgb(255, 79, 0)"
           ],
           [
            0.31496062992125984,
            "rgb(255, 80, 0)"
           ],
           [
            0.3188976377952756,
            "rgb(255, 81, 0)"
           ],
           [
            0.3228346456692913,
            "rgb(255, 81, 0)"
           ],
           [
            0.32677165354330706,
            "rgb(255, 83, 0)"
           ],
           [
            0.3307086614173228,
            "rgb(255, 84, 0)"
           ],
           [
            0.3346456692913386,
            "rgb(255, 85, 0)"
           ],
           [
            0.33858267716535434,
            "rgb(255, 86, 0)"
           ],
           [
            0.3425196850393701,
            "rgb(255, 87, 0)"
           ],
           [
            0.3464566929133858,
            "rgb(255, 88, 0)"
           ],
           [
            0.35039370078740156,
            "rgb(255, 89, 0)"
           ],
           [
            0.3543307086614173,
            "rgb(255, 89, 0)"
           ],
           [
            0.35826771653543305,
            "rgb(255, 91, 0)"
           ],
           [
            0.36220472440944884,
            "rgb(255, 92, 0)"
           ],
           [
            0.3661417322834646,
            "rgb(255, 93, 0)"
           ],
           [
            0.3700787401574803,
            "rgb(255, 94, 0)"
           ],
           [
            0.37401574803149606,
            "rgb(255, 95, 0)"
           ],
           [
            0.3779527559055118,
            "rgb(255, 96, 0)"
           ],
           [
            0.38188976377952755,
            "rgb(255, 97, 0)"
           ],
           [
            0.3858267716535433,
            "rgb(255, 97, 0)"
           ],
           [
            0.38976377952755903,
            "rgb(255, 99, 0)"
           ],
           [
            0.39370078740157477,
            "rgb(255, 100, 0)"
           ],
           [
            0.39763779527559057,
            "rgb(255, 101, 0)"
           ],
           [
            0.4015748031496063,
            "rgb(255, 102, 0)"
           ],
           [
            0.40551181102362205,
            "rgb(255, 103, 0)"
           ],
           [
            0.4094488188976378,
            "rgb(255, 104, 0)"
           ],
           [
            0.41338582677165353,
            "rgb(255, 105, 0)"
           ],
           [
            0.41732283464566927,
            "rgb(255, 105, 0)"
           ],
           [
            0.421259842519685,
            "rgb(255, 107, 0)"
           ],
           [
            0.4251968503937008,
            "rgb(255, 108, 0)"
           ],
           [
            0.42913385826771655,
            "rgb(255, 109, 0)"
           ],
           [
            0.4330708661417323,
            "rgb(255, 110, 0)"
           ],
           [
            0.43700787401574803,
            "rgb(255, 111, 0)"
           ],
           [
            0.4409448818897638,
            "rgb(255, 112, 0)"
           ],
           [
            0.4448818897637795,
            "rgb(255, 113, 0)"
           ],
           [
            0.44881889763779526,
            "rgb(255, 113, 0)"
           ],
           [
            0.452755905511811,
            "rgb(255, 115, 0)"
           ],
           [
            0.45669291338582674,
            "rgb(255, 116, 0)"
           ],
           [
            0.46062992125984253,
            "rgb(255, 117, 0)"
           ],
           [
            0.4645669291338583,
            "rgb(255, 118, 0)"
           ],
           [
            0.468503937007874,
            "rgb(255, 119, 0)"
           ],
           [
            0.47244094488188976,
            "rgb(255, 120, 0)"
           ],
           [
            0.4763779527559055,
            "rgb(255, 121, 0)"
           ],
           [
            0.48031496062992124,
            "rgb(255, 121, 0)"
           ],
           [
            0.484251968503937,
            "rgb(255, 123, 0)"
           ],
           [
            0.4881889763779528,
            "rgb(255, 124, 0)"
           ],
           [
            0.4921259842519685,
            "rgb(255, 125, 0)"
           ],
           [
            0.49606299212598426,
            "rgb(255, 126, 0)"
           ],
           [
            0.5,
            "rgb(255, 128, 0)"
           ],
           [
            0.5039370078740157,
            "rgb(255, 129, 0)"
           ],
           [
            0.5078740157480315,
            "rgb(255, 130, 0)"
           ],
           [
            0.5118110236220472,
            "rgb(255, 131, 0)"
           ],
           [
            0.515748031496063,
            "rgb(255, 131, 0)"
           ],
           [
            0.5196850393700787,
            "rgb(255, 133, 0)"
           ],
           [
            0.5236220472440944,
            "rgb(255, 134, 0)"
           ],
           [
            0.5275590551181102,
            "rgb(255, 135, 0)"
           ],
           [
            0.5314960629921259,
            "rgb(255, 136, 0)"
           ],
           [
            0.5354330708661417,
            "rgb(255, 137, 0)"
           ],
           [
            0.5393700787401575,
            "rgb(255, 138, 0)"
           ],
           [
            0.5433070866141733,
            "rgb(255, 139, 0)"
           ],
           [
            0.547244094488189,
            "rgb(255, 140, 0)"
           ],
           [
            0.5511811023622047,
            "rgb(255, 141, 0)"
           ],
           [
            0.5551181102362205,
            "rgb(255, 142, 0)"
           ],
           [
            0.5590551181102362,
            "rgb(255, 143, 0)"
           ],
           [
            0.562992125984252,
            "rgb(255, 144, 0)"
           ],
           [
            0.5669291338582677,
            "rgb(255, 145, 0)"
           ],
           [
            0.5708661417322834,
            "rgb(255, 146, 0)"
           ],
           [
            0.5748031496062992,
            "rgb(255, 147, 0)"
           ],
           [
            0.5787401574803149,
            "rgb(255, 147, 0)"
           ],
           [
            0.5826771653543307,
            "rgb(255, 149, 0)"
           ],
           [
            0.5866141732283464,
            "rgb(255, 150, 0)"
           ],
           [
            0.5905511811023622,
            "rgb(255, 151, 0)"
           ],
           [
            0.5944881889763779,
            "rgb(255, 152, 0)"
           ],
           [
            0.5984251968503937,
            "rgb(255, 153, 0)"
           ],
           [
            0.6023622047244095,
            "rgb(255, 154, 0)"
           ],
           [
            0.6062992125984252,
            "rgb(255, 155, 0)"
           ],
           [
            0.610236220472441,
            "rgb(255, 156, 0)"
           ],
           [
            0.6141732283464567,
            "rgb(255, 157, 0)"
           ],
           [
            0.6181102362204725,
            "rgb(255, 158, 0)"
           ],
           [
            0.6220472440944882,
            "rgb(255, 159, 0)"
           ],
           [
            0.6259842519685039,
            "rgb(255, 160, 0)"
           ],
           [
            0.6299212598425197,
            "rgb(255, 161, 0)"
           ],
           [
            0.6338582677165354,
            "rgb(255, 162, 0)"
           ],
           [
            0.6377952755905512,
            "rgb(255, 163, 0)"
           ],
           [
            0.6417322834645669,
            "rgb(255, 163, 0)"
           ],
           [
            0.6456692913385826,
            "rgb(255, 165, 0)"
           ],
           [
            0.6496062992125984,
            "rgb(255, 166, 0)"
           ],
           [
            0.6535433070866141,
            "rgb(255, 167, 0)"
           ],
           [
            0.6574803149606299,
            "rgb(255, 168, 0)"
           ],
           [
            0.6614173228346456,
            "rgb(255, 169, 0)"
           ],
           [
            0.6653543307086615,
            "rgb(255, 170, 0)"
           ],
           [
            0.6692913385826772,
            "rgb(255, 171, 0)"
           ],
           [
            0.6732283464566929,
            "rgb(255, 172, 0)"
           ],
           [
            0.6771653543307087,
            "rgb(255, 173, 0)"
           ],
           [
            0.6811023622047244,
            "rgb(255, 174, 0)"
           ],
           [
            0.6850393700787402,
            "rgb(255, 175, 0)"
           ],
           [
            0.6889763779527559,
            "rgb(255, 176, 0)"
           ],
           [
            0.6929133858267716,
            "rgb(255, 177, 0)"
           ],
           [
            0.6968503937007874,
            "rgb(255, 178, 0)"
           ],
           [
            0.7007874015748031,
            "rgb(255, 179, 0)"
           ],
           [
            0.7047244094488189,
            "rgb(255, 179, 0)"
           ],
           [
            0.7086614173228346,
            "rgb(255, 181, 0)"
           ],
           [
            0.7125984251968503,
            "rgb(255, 182, 0)"
           ],
           [
            0.7165354330708661,
            "rgb(255, 183, 0)"
           ],
           [
            0.7204724409448818,
            "rgb(255, 184, 0)"
           ],
           [
            0.7244094488188977,
            "rgb(255, 185, 0)"
           ],
           [
            0.7283464566929134,
            "rgb(255, 186, 0)"
           ],
           [
            0.7322834645669292,
            "rgb(255, 187, 0)"
           ],
           [
            0.7362204724409449,
            "rgb(255, 188, 0)"
           ],
           [
            0.7401574803149606,
            "rgb(255, 189, 0)"
           ],
           [
            0.7440944881889764,
            "rgb(255, 190, 0)"
           ],
           [
            0.7480314960629921,
            "rgb(255, 191, 0)"
           ],
           [
            0.7519685039370079,
            "rgb(255, 192, 0)"
           ],
           [
            0.7559055118110236,
            "rgb(255, 193, 0)"
           ],
           [
            0.7598425196850394,
            "rgb(255, 194, 0)"
           ],
           [
            0.7637795275590551,
            "rgb(255, 195, 0)"
           ],
           [
            0.7677165354330708,
            "rgb(255, 195, 0)"
           ],
           [
            0.7716535433070866,
            "rgb(255, 197, 0)"
           ],
           [
            0.7755905511811023,
            "rgb(255, 198, 0)"
           ],
           [
            0.7795275590551181,
            "rgb(255, 199, 0)"
           ],
           [
            0.7834645669291338,
            "rgb(255, 200, 0)"
           ],
           [
            0.7874015748031495,
            "rgb(255, 201, 0)"
           ],
           [
            0.7913385826771654,
            "rgb(255, 202, 0)"
           ],
           [
            0.7952755905511811,
            "rgb(255, 203, 0)"
           ],
           [
            0.7992125984251969,
            "rgb(255, 204, 0)"
           ],
           [
            0.8031496062992126,
            "rgb(255, 205, 0)"
           ],
           [
            0.8070866141732284,
            "rgb(255, 206, 0)"
           ],
           [
            0.8110236220472441,
            "rgb(255, 207, 0)"
           ],
           [
            0.8149606299212598,
            "rgb(255, 208, 0)"
           ],
           [
            0.8188976377952756,
            "rgb(255, 209, 0)"
           ],
           [
            0.8228346456692913,
            "rgb(255, 210, 0)"
           ],
           [
            0.8267716535433071,
            "rgb(255, 211, 0)"
           ],
           [
            0.8307086614173228,
            "rgb(255, 211, 0)"
           ],
           [
            0.8346456692913385,
            "rgb(255, 213, 0)"
           ],
           [
            0.8385826771653543,
            "rgb(255, 214, 0)"
           ],
           [
            0.84251968503937,
            "rgb(255, 215, 0)"
           ],
           [
            0.8464566929133858,
            "rgb(255, 216, 0)"
           ],
           [
            0.8503937007874016,
            "rgb(255, 217, 0)"
           ],
           [
            0.8543307086614174,
            "rgb(255, 218, 0)"
           ],
           [
            0.8582677165354331,
            "rgb(255, 219, 0)"
           ],
           [
            0.8622047244094488,
            "rgb(255, 220, 0)"
           ],
           [
            0.8661417322834646,
            "rgb(255, 221, 0)"
           ],
           [
            0.8700787401574803,
            "rgb(255, 222, 0)"
           ],
           [
            0.8740157480314961,
            "rgb(255, 223, 0)"
           ],
           [
            0.8779527559055118,
            "rgb(255, 224, 0)"
           ],
           [
            0.8818897637795275,
            "rgb(255, 225, 0)"
           ],
           [
            0.8858267716535433,
            "rgb(255, 226, 0)"
           ],
           [
            0.889763779527559,
            "rgb(255, 227, 0)"
           ],
           [
            0.8937007874015748,
            "rgb(255, 227, 0)"
           ],
           [
            0.8976377952755905,
            "rgb(255, 229, 0)"
           ],
           [
            0.9015748031496063,
            "rgb(255, 230, 0)"
           ],
           [
            0.905511811023622,
            "rgb(255, 231, 0)"
           ],
           [
            0.9094488188976377,
            "rgb(255, 232, 0)"
           ],
           [
            0.9133858267716535,
            "rgb(255, 233, 0)"
           ],
           [
            0.9173228346456693,
            "rgb(255, 234, 0)"
           ],
           [
            0.9212598425196851,
            "rgb(255, 235, 0)"
           ],
           [
            0.9251968503937008,
            "rgb(255, 236, 0)"
           ],
           [
            0.9291338582677166,
            "rgb(255, 237, 0)"
           ],
           [
            0.9330708661417323,
            "rgb(255, 238, 0)"
           ],
           [
            0.937007874015748,
            "rgb(255, 239, 0)"
           ],
           [
            0.9409448818897638,
            "rgb(255, 240, 0)"
           ],
           [
            0.9448818897637795,
            "rgb(255, 241, 0)"
           ],
           [
            0.9488188976377953,
            "rgb(255, 242, 0)"
           ],
           [
            0.952755905511811,
            "rgb(255, 243, 0)"
           ],
           [
            0.9566929133858267,
            "rgb(255, 243, 0)"
           ],
           [
            0.9606299212598425,
            "rgb(255, 245, 0)"
           ],
           [
            0.9645669291338582,
            "rgb(255, 246, 0)"
           ],
           [
            0.968503937007874,
            "rgb(255, 247, 0)"
           ],
           [
            0.9724409448818897,
            "rgb(255, 248, 0)"
           ],
           [
            0.9763779527559056,
            "rgb(255, 249, 0)"
           ],
           [
            0.9803149606299213,
            "rgb(255, 250, 0)"
           ],
           [
            0.984251968503937,
            "rgb(255, 251, 0)"
           ],
           [
            0.9881889763779528,
            "rgb(255, 252, 0)"
           ],
           [
            0.9921259842519685,
            "rgb(255, 253, 0)"
           ],
           [
            0.9960629921259843,
            "rgb(255, 254, 0)"
           ],
           [
            1,
            "rgb(255, 255, 0)"
           ]
          ],
          "line": {
           "color": "black",
           "width": 0.5
          },
          "opacity": 0.2,
          "size": 10
         },
         "mode": "markers",
         "type": "scatter3d",
         "visible": true,
         "x": [
          2.1782484651230325,
          1.3068160964798536,
          -2.9836287049722454,
          -0.31440228352491056,
          -1.2929427836482248,
          -1.3272474443146918,
          1.2417174201390488,
          1.1914392347181335
         ],
         "y": [
          -0.0008665747516813948,
          0.058628749851240225,
          -0.0008665747516695275,
          0.023305591648547456,
          -1.1495986102873756,
          1.0407690553612143,
          -0.5343639073229156,
          0.5629922702526399
         ],
         "z": [
          1.0728546953352907,
          1.6357961086786859,
          -0.3921448755049793,
          0.8929840958245086,
          -1.2094806841862666,
          -1.1925230945542649,
          -0.38729809603281756,
          -0.4201881495601635
         ]
        },
        {
         "line": {
          "color": "rgba(0,0,0,0.2)",
          "width": 4
         },
         "mode": "lines",
         "type": "scatter3d",
         "visible": true,
         "x": [
          1.3068160964798536,
          -0.31440228352491056
         ],
         "y": [
          0.058628749851240225,
          0.023305591648547456
         ],
         "z": [
          1.6357961086786859,
          0.8929840958245086
         ]
        },
        {
         "line": {
          "color": "rgba(0,0,0,0.2)",
          "width": 4
         },
         "mode": "lines",
         "type": "scatter3d",
         "visible": true,
         "x": [
          -0.31440228352491056,
          -2.9836287049722454
         ],
         "y": [
          0.023305591648547456,
          -0.0008665747516695275
         ],
         "z": [
          0.8929840958245086,
          -0.3921448755049793
         ]
        },
        {
         "line": {
          "color": "rgba(0,0,0,0.2)",
          "width": 4
         },
         "mode": "lines",
         "type": "scatter3d",
         "visible": true,
         "x": [
          2.1782484651230325,
          1.3068160964798536
         ],
         "y": [
          -0.0008665747516813948,
          0.058628749851240225
         ],
         "z": [
          1.0728546953352907,
          1.6357961086786859
         ]
        },
        {
         "line": {
          "color": "rgba(0,0,0,0.2)",
          "width": 4
         },
         "mode": "lines",
         "type": "scatter3d",
         "visible": true,
         "x": [
          1.1914392347181335,
          -0.31440228352491056
         ],
         "y": [
          0.5629922702526399,
          0.023305591648547456
         ],
         "z": [
          -0.4201881495601635,
          0.8929840958245086
         ]
        },
        {
         "line": {
          "color": "rgba(0,0,0,0.2)",
          "width": 4
         },
         "mode": "lines",
         "type": "scatter3d",
         "visible": true,
         "x": [
          -1.3272474443146918,
          -2.9836287049722454
         ],
         "y": [
          1.0407690553612143,
          -0.0008665747516695275
         ],
         "z": [
          -1.1925230945542649,
          -0.3921448755049793
         ]
        },
        {
         "line": {
          "color": "rgba(0,0,0,0.2)",
          "width": 4
         },
         "mode": "lines",
         "type": "scatter3d",
         "visible": true,
         "x": [
          1.2417174201390488,
          -0.31440228352491056
         ],
         "y": [
          -0.5343639073229156,
          0.023305591648547456
         ],
         "z": [
          -0.38729809603281756,
          0.8929840958245086
         ]
        },
        {
         "line": {
          "color": "rgba(0,0,0,0.2)",
          "width": 4
         },
         "mode": "lines",
         "type": "scatter3d",
         "visible": true,
         "x": [
          -1.2929427836482248,
          -2.9836287049722454
         ],
         "y": [
          -1.1495986102873756,
          -0.0008665747516695275
         ],
         "z": [
          -1.2094806841862666,
          -0.3921448755049793
         ]
        }
       ],
       "layout": {
        "height": 400,
        "margin": {
         "b": 0,
         "l": 20,
         "pad": 10,
         "r": 20,
         "t": 0
        },
        "scene": {
         "aspectmode": "data",
         "bgcolor": "white",
         "domain": {
          "x": [
           0,
           1
          ],
          "y": [
           0,
           1
          ]
         },
         "xaxis": {
          "showbackground": false,
          "showgrid": false
         },
         "yaxis": {
          "showbackground": false,
          "showgrid": false
         },
         "zaxis": {
          "linecolor": "black",
          "showgrid": false,
          "showline": true
         }
        },
        "showlegend": false,
        "sliders": [
         {
          "steps": [
           {
            "args": [
             {
              "visible": [
               true,
               true,
               true,
               true,
               true,
               true,
               true,
               true,
               false,
               false,
               false,
               false,
               false,
               false,
               false,
               false,
               false,
               false,
               false,
               false,
               false,
               false,
               false,
               false,
               false,
               false,
               false,
               false,
               false,
               false,
               false,
               false,
               false,
               false,
               false,
               false,
               false,
               false,
               false,
               false,
               false,
               false,
               false,
               false,
               false,
               false,
               false,
               false,
               false,
               false,
               false,
               false,
               false,
               false,
               false,
               false,
               false,
               false,
               false,
               false,
               false,
               false,
               false,
               false,
               false,
               false,
               false,
               false,
               false,
               false,
               false,
               false,
               false,
               false,
               false,
               false,
               false,
               false,
               false,
               false,
               true,
               true,
               true,
               true,
               true,
               true,
               true,
               true
              ]
             }
            ],
            "label": "PC 1",
            "method": "update"
           },
           {
            "args": [
             {
              "visible": [
               false,
               false,
               false,
               false,
               false,
               false,
               false,
               false,
               true,
               true,
               true,
               true,
               true,
               true,
               true,
               true,
               false,
               false,
               false,
               false,
               false,
               false,
               false,
               false,
               false,
               false,
               false,
               false,
               false,
               false,
               false,
               false,
               false,
               false,
               false,
               false,
               false,
               false,
               false,
               false,
               false,
               false,
               false,
               false,
               false,
               false,
               false,
               false,
               false,
               false,
               false,
               false,
               false,
               false,
               false,
               false,
               false,
               false,
               false,
               false,
               false,
               false,
               false,
               false,
               false,
               false,
               false,
               false,
               false,
               false,
               false,
               false,
               false,
               false,
               false,
               false,
               false,
               false,
               false,
               false,
               true,
               true,
               true,
               true,
               true,
               true,
               true,
               true
              ]
             }
            ],
            "label": "PC 2",
            "method": "update"
           },
           {
            "args": [
             {
              "visible": [
               false,
               false,
               false,
               false,
               false,
               false,
               false,
               false,
               false,
               false,
               false,
               false,
               false,
               false,
               false,
               false,
               true,
               true,
               true,
               true,
               true,
               true,
               true,
               true,
               false,
               false,
               false,
               false,
               false,
               false,
               false,
               false,
               false,
               false,
               false,
               false,
               false,
               false,
               false,
               false,
               false,
               false,
               false,
               false,
               false,
               false,
               false,
               false,
               false,
               false,
               false,
               false,
               false,
               false,
               false,
               false,
               false,
               false,
               false,
               false,
               false,
               false,
               false,
               false,
               false,
               false,
               false,
               false,
               false,
               false,
               false,
               false,
               false,
               false,
               false,
               false,
               false,
               false,
               false,
               false,
               true,
               true,
               true,
               true,
               true,
               true,
               true,
               true
              ]
             }
            ],
            "label": "PC 3",
            "method": "update"
           },
           {
            "args": [
             {
              "visible": [
               false,
               false,
               false,
               false,
               false,
               false,
               false,
               false,
               false,
               false,
               false,
               false,
               false,
               false,
               false,
               false,
               false,
               false,
               false,
               false,
               false,
               false,
               false,
               false,
               true,
               true,
               true,
               true,
               true,
               true,
               true,
               true,
               false,
               false,
               false,
               false,
               false,
               false,
               false,
               false,
               false,
               false,
               false,
               false,
               false,
               false,
               false,
               false,
               false,
               false,
               false,
               false,
               false,
               false,
               false,
               false,
               false,
               false,
               false,
               false,
               false,
               false,
               false,
               false,
               false,
               false,
               false,
               false,
               false,
               false,
               false,
               false,
               false,
               false,
               false,
               false,
               false,
               false,
               false,
               false,
               true,
               true,
               true,
               true,
               true,
               true,
               true,
               true
              ]
             }
            ],
            "label": "PC 4",
            "method": "update"
           },
           {
            "args": [
             {
              "visible": [
               false,
               false,
               false,
               false,
               false,
               false,
               false,
               false,
               false,
               false,
               false,
               false,
               false,
               false,
               false,
               false,
               false,
               false,
               false,
               false,
               false,
               false,
               false,
               false,
               false,
               false,
               false,
               false,
               false,
               false,
               false,
               false,
               true,
               true,
               true,
               true,
               true,
               true,
               true,
               true,
               false,
               false,
               false,
               false,
               false,
               false,
               false,
               false,
               false,
               false,
               false,
               false,
               false,
               false,
               false,
               false,
               false,
               false,
               false,
               false,
               false,
               false,
               false,
               false,
               false,
               false,
               false,
               false,
               false,
               false,
               false,
               false,
               false,
               false,
               false,
               false,
               false,
               false,
               false,
               false,
               true,
               true,
               true,
               true,
               true,
               true,
               true,
               true
              ]
             }
            ],
            "label": "PC 5",
            "method": "update"
           },
           {
            "args": [
             {
              "visible": [
               false,
               false,
               false,
               false,
               false,
               false,
               false,
               false,
               false,
               false,
               false,
               false,
               false,
               false,
               false,
               false,
               false,
               false,
               false,
               false,
               false,
               false,
               false,
               false,
               false,
               false,
               false,
               false,
               false,
               false,
               false,
               false,
               false,
               false,
               false,
               false,
               false,
               false,
               false,
               false,
               true,
               true,
               true,
               true,
               true,
               true,
               true,
               true,
               false,
               false,
               false,
               false,
               false,
               false,
               false,
               false,
               false,
               false,
               false,
               false,
               false,
               false,
               false,
               false,
               false,
               false,
               false,
               false,
               false,
               false,
               false,
               false,
               false,
               false,
               false,
               false,
               false,
               false,
               false,
               false,
               true,
               true,
               true,
               true,
               true,
               true,
               true,
               true
              ]
             }
            ],
            "label": "PC 6",
            "method": "update"
           },
           {
            "args": [
             {
              "visible": [
               false,
               false,
               false,
               false,
               false,
               false,
               false,
               false,
               false,
               false,
               false,
               false,
               false,
               false,
               false,
               false,
               false,
               false,
               false,
               false,
               false,
               false,
               false,
               false,
               false,
               false,
               false,
               false,
               false,
               false,
               false,
               false,
               false,
               false,
               false,
               false,
               false,
               false,
               false,
               false,
               false,
               false,
               false,
               false,
               false,
               false,
               false,
               false,
               true,
               true,
               true,
               true,
               true,
               true,
               true,
               true,
               false,
               false,
               false,
               false,
               false,
               false,
               false,
               false,
               false,
               false,
               false,
               false,
               false,
               false,
               false,
               false,
               false,
               false,
               false,
               false,
               false,
               false,
               false,
               false,
               true,
               true,
               true,
               true,
               true,
               true,
               true,
               true
              ]
             }
            ],
            "label": "PC 7",
            "method": "update"
           },
           {
            "args": [
             {
              "visible": [
               false,
               false,
               false,
               false,
               false,
               false,
               false,
               false,
               false,
               false,
               false,
               false,
               false,
               false,
               false,
               false,
               false,
               false,
               false,
               false,
               false,
               false,
               false,
               false,
               false,
               false,
               false,
               false,
               false,
               false,
               false,
               false,
               false,
               false,
               false,
               false,
               false,
               false,
               false,
               false,
               false,
               false,
               false,
               false,
               false,
               false,
               false,
               false,
               false,
               false,
               false,
               false,
               false,
               false,
               false,
               false,
               true,
               true,
               true,
               true,
               true,
               true,
               true,
               true,
               false,
               false,
               false,
               false,
               false,
               false,
               false,
               false,
               false,
               false,
               false,
               false,
               false,
               false,
               false,
               false,
               true,
               true,
               true,
               true,
               true,
               true,
               true,
               true
              ]
             }
            ],
            "label": "PC 8",
            "method": "update"
           },
           {
            "args": [
             {
              "visible": [
               false,
               false,
               false,
               false,
               false,
               false,
               false,
               false,
               false,
               false,
               false,
               false,
               false,
               false,
               false,
               false,
               false,
               false,
               false,
               false,
               false,
               false,
               false,
               false,
               false,
               false,
               false,
               false,
               false,
               false,
               false,
               false,
               false,
               false,
               false,
               false,
               false,
               false,
               false,
               false,
               false,
               false,
               false,
               false,
               false,
               false,
               false,
               false,
               false,
               false,
               false,
               false,
               false,
               false,
               false,
               false,
               false,
               false,
               false,
               false,
               false,
               false,
               false,
               false,
               true,
               true,
               true,
               true,
               true,
               true,
               true,
               true,
               false,
               false,
               false,
               false,
               false,
               false,
               false,
               false,
               true,
               true,
               true,
               true,
               true,
               true,
               true,
               true
              ]
             }
            ],
            "label": "PC 9",
            "method": "update"
           },
           {
            "args": [
             {
              "visible": [
               false,
               false,
               false,
               false,
               false,
               false,
               false,
               false,
               false,
               false,
               false,
               false,
               false,
               false,
               false,
               false,
               false,
               false,
               false,
               false,
               false,
               false,
               false,
               false,
               false,
               false,
               false,
               false,
               false,
               false,
               false,
               false,
               false,
               false,
               false,
               false,
               false,
               false,
               false,
               false,
               false,
               false,
               false,
               false,
               false,
               false,
               false,
               false,
               false,
               false,
               false,
               false,
               false,
               false,
               false,
               false,
               false,
               false,
               false,
               false,
               false,
               false,
               false,
               false,
               false,
               false,
               false,
               false,
               false,
               false,
               false,
               false,
               true,
               true,
               true,
               true,
               true,
               true,
               true,
               true,
               true,
               true,
               true,
               true,
               true,
               true,
               true,
               true
              ]
             }
            ],
            "label": "PC 10",
            "method": "update"
           }
          ]
         }
        ],
        "template": {
         "data": {
          "bar": [
           {
            "error_x": {
             "color": "#2a3f5f"
            },
            "error_y": {
             "color": "#2a3f5f"
            },
            "marker": {
             "line": {
              "color": "#E5ECF6",
              "width": 0.5
             },
             "pattern": {
              "fillmode": "overlay",
              "size": 10,
              "solidity": 0.2
             }
            },
            "type": "bar"
           }
          ],
          "barpolar": [
           {
            "marker": {
             "line": {
              "color": "#E5ECF6",
              "width": 0.5
             },
             "pattern": {
              "fillmode": "overlay",
              "size": 10,
              "solidity": 0.2
             }
            },
            "type": "barpolar"
           }
          ],
          "carpet": [
           {
            "aaxis": {
             "endlinecolor": "#2a3f5f",
             "gridcolor": "white",
             "linecolor": "white",
             "minorgridcolor": "white",
             "startlinecolor": "#2a3f5f"
            },
            "baxis": {
             "endlinecolor": "#2a3f5f",
             "gridcolor": "white",
             "linecolor": "white",
             "minorgridcolor": "white",
             "startlinecolor": "#2a3f5f"
            },
            "type": "carpet"
           }
          ],
          "choropleth": [
           {
            "colorbar": {
             "outlinewidth": 0,
             "ticks": ""
            },
            "type": "choropleth"
           }
          ],
          "contour": [
           {
            "colorbar": {
             "outlinewidth": 0,
             "ticks": ""
            },
            "colorscale": [
             [
              0,
              "#0d0887"
             ],
             [
              0.1111111111111111,
              "#46039f"
             ],
             [
              0.2222222222222222,
              "#7201a8"
             ],
             [
              0.3333333333333333,
              "#9c179e"
             ],
             [
              0.4444444444444444,
              "#bd3786"
             ],
             [
              0.5555555555555556,
              "#d8576b"
             ],
             [
              0.6666666666666666,
              "#ed7953"
             ],
             [
              0.7777777777777778,
              "#fb9f3a"
             ],
             [
              0.8888888888888888,
              "#fdca26"
             ],
             [
              1,
              "#f0f921"
             ]
            ],
            "type": "contour"
           }
          ],
          "contourcarpet": [
           {
            "colorbar": {
             "outlinewidth": 0,
             "ticks": ""
            },
            "type": "contourcarpet"
           }
          ],
          "heatmap": [
           {
            "colorbar": {
             "outlinewidth": 0,
             "ticks": ""
            },
            "colorscale": [
             [
              0,
              "#0d0887"
             ],
             [
              0.1111111111111111,
              "#46039f"
             ],
             [
              0.2222222222222222,
              "#7201a8"
             ],
             [
              0.3333333333333333,
              "#9c179e"
             ],
             [
              0.4444444444444444,
              "#bd3786"
             ],
             [
              0.5555555555555556,
              "#d8576b"
             ],
             [
              0.6666666666666666,
              "#ed7953"
             ],
             [
              0.7777777777777778,
              "#fb9f3a"
             ],
             [
              0.8888888888888888,
              "#fdca26"
             ],
             [
              1,
              "#f0f921"
             ]
            ],
            "type": "heatmap"
           }
          ],
          "heatmapgl": [
           {
            "colorbar": {
             "outlinewidth": 0,
             "ticks": ""
            },
            "colorscale": [
             [
              0,
              "#0d0887"
             ],
             [
              0.1111111111111111,
              "#46039f"
             ],
             [
              0.2222222222222222,
              "#7201a8"
             ],
             [
              0.3333333333333333,
              "#9c179e"
             ],
             [
              0.4444444444444444,
              "#bd3786"
             ],
             [
              0.5555555555555556,
              "#d8576b"
             ],
             [
              0.6666666666666666,
              "#ed7953"
             ],
             [
              0.7777777777777778,
              "#fb9f3a"
             ],
             [
              0.8888888888888888,
              "#fdca26"
             ],
             [
              1,
              "#f0f921"
             ]
            ],
            "type": "heatmapgl"
           }
          ],
          "histogram": [
           {
            "marker": {
             "pattern": {
              "fillmode": "overlay",
              "size": 10,
              "solidity": 0.2
             }
            },
            "type": "histogram"
           }
          ],
          "histogram2d": [
           {
            "colorbar": {
             "outlinewidth": 0,
             "ticks": ""
            },
            "colorscale": [
             [
              0,
              "#0d0887"
             ],
             [
              0.1111111111111111,
              "#46039f"
             ],
             [
              0.2222222222222222,
              "#7201a8"
             ],
             [
              0.3333333333333333,
              "#9c179e"
             ],
             [
              0.4444444444444444,
              "#bd3786"
             ],
             [
              0.5555555555555556,
              "#d8576b"
             ],
             [
              0.6666666666666666,
              "#ed7953"
             ],
             [
              0.7777777777777778,
              "#fb9f3a"
             ],
             [
              0.8888888888888888,
              "#fdca26"
             ],
             [
              1,
              "#f0f921"
             ]
            ],
            "type": "histogram2d"
           }
          ],
          "histogram2dcontour": [
           {
            "colorbar": {
             "outlinewidth": 0,
             "ticks": ""
            },
            "colorscale": [
             [
              0,
              "#0d0887"
             ],
             [
              0.1111111111111111,
              "#46039f"
             ],
             [
              0.2222222222222222,
              "#7201a8"
             ],
             [
              0.3333333333333333,
              "#9c179e"
             ],
             [
              0.4444444444444444,
              "#bd3786"
             ],
             [
              0.5555555555555556,
              "#d8576b"
             ],
             [
              0.6666666666666666,
              "#ed7953"
             ],
             [
              0.7777777777777778,
              "#fb9f3a"
             ],
             [
              0.8888888888888888,
              "#fdca26"
             ],
             [
              1,
              "#f0f921"
             ]
            ],
            "type": "histogram2dcontour"
           }
          ],
          "mesh3d": [
           {
            "colorbar": {
             "outlinewidth": 0,
             "ticks": ""
            },
            "type": "mesh3d"
           }
          ],
          "parcoords": [
           {
            "line": {
             "colorbar": {
              "outlinewidth": 0,
              "ticks": ""
             }
            },
            "type": "parcoords"
           }
          ],
          "pie": [
           {
            "automargin": true,
            "type": "pie"
           }
          ],
          "scatter": [
           {
            "fillpattern": {
             "fillmode": "overlay",
             "size": 10,
             "solidity": 0.2
            },
            "type": "scatter"
           }
          ],
          "scatter3d": [
           {
            "line": {
             "colorbar": {
              "outlinewidth": 0,
              "ticks": ""
             }
            },
            "marker": {
             "colorbar": {
              "outlinewidth": 0,
              "ticks": ""
             }
            },
            "type": "scatter3d"
           }
          ],
          "scattercarpet": [
           {
            "marker": {
             "colorbar": {
              "outlinewidth": 0,
              "ticks": ""
             }
            },
            "type": "scattercarpet"
           }
          ],
          "scattergeo": [
           {
            "marker": {
             "colorbar": {
              "outlinewidth": 0,
              "ticks": ""
             }
            },
            "type": "scattergeo"
           }
          ],
          "scattergl": [
           {
            "marker": {
             "colorbar": {
              "outlinewidth": 0,
              "ticks": ""
             }
            },
            "type": "scattergl"
           }
          ],
          "scattermapbox": [
           {
            "marker": {
             "colorbar": {
              "outlinewidth": 0,
              "ticks": ""
             }
            },
            "type": "scattermapbox"
           }
          ],
          "scatterpolar": [
           {
            "marker": {
             "colorbar": {
              "outlinewidth": 0,
              "ticks": ""
             }
            },
            "type": "scatterpolar"
           }
          ],
          "scatterpolargl": [
           {
            "marker": {
             "colorbar": {
              "outlinewidth": 0,
              "ticks": ""
             }
            },
            "type": "scatterpolargl"
           }
          ],
          "scatterternary": [
           {
            "marker": {
             "colorbar": {
              "outlinewidth": 0,
              "ticks": ""
             }
            },
            "type": "scatterternary"
           }
          ],
          "surface": [
           {
            "colorbar": {
             "outlinewidth": 0,
             "ticks": ""
            },
            "colorscale": [
             [
              0,
              "#0d0887"
             ],
             [
              0.1111111111111111,
              "#46039f"
             ],
             [
              0.2222222222222222,
              "#7201a8"
             ],
             [
              0.3333333333333333,
              "#9c179e"
             ],
             [
              0.4444444444444444,
              "#bd3786"
             ],
             [
              0.5555555555555556,
              "#d8576b"
             ],
             [
              0.6666666666666666,
              "#ed7953"
             ],
             [
              0.7777777777777778,
              "#fb9f3a"
             ],
             [
              0.8888888888888888,
              "#fdca26"
             ],
             [
              1,
              "#f0f921"
             ]
            ],
            "type": "surface"
           }
          ],
          "table": [
           {
            "cells": {
             "fill": {
              "color": "#EBF0F8"
             },
             "line": {
              "color": "white"
             }
            },
            "header": {
             "fill": {
              "color": "#C8D4E3"
             },
             "line": {
              "color": "white"
             }
            },
            "type": "table"
           }
          ]
         },
         "layout": {
          "annotationdefaults": {
           "arrowcolor": "#2a3f5f",
           "arrowhead": 0,
           "arrowwidth": 1
          },
          "autotypenumbers": "strict",
          "coloraxis": {
           "colorbar": {
            "outlinewidth": 0,
            "ticks": ""
           }
          },
          "colorscale": {
           "diverging": [
            [
             0,
             "#8e0152"
            ],
            [
             0.1,
             "#c51b7d"
            ],
            [
             0.2,
             "#de77ae"
            ],
            [
             0.3,
             "#f1b6da"
            ],
            [
             0.4,
             "#fde0ef"
            ],
            [
             0.5,
             "#f7f7f7"
            ],
            [
             0.6,
             "#e6f5d0"
            ],
            [
             0.7,
             "#b8e186"
            ],
            [
             0.8,
             "#7fbc41"
            ],
            [
             0.9,
             "#4d9221"
            ],
            [
             1,
             "#276419"
            ]
           ],
           "sequential": [
            [
             0,
             "#0d0887"
            ],
            [
             0.1111111111111111,
             "#46039f"
            ],
            [
             0.2222222222222222,
             "#7201a8"
            ],
            [
             0.3333333333333333,
             "#9c179e"
            ],
            [
             0.4444444444444444,
             "#bd3786"
            ],
            [
             0.5555555555555556,
             "#d8576b"
            ],
            [
             0.6666666666666666,
             "#ed7953"
            ],
            [
             0.7777777777777778,
             "#fb9f3a"
            ],
            [
             0.8888888888888888,
             "#fdca26"
            ],
            [
             1,
             "#f0f921"
            ]
           ],
           "sequentialminus": [
            [
             0,
             "#0d0887"
            ],
            [
             0.1111111111111111,
             "#46039f"
            ],
            [
             0.2222222222222222,
             "#7201a8"
            ],
            [
             0.3333333333333333,
             "#9c179e"
            ],
            [
             0.4444444444444444,
             "#bd3786"
            ],
            [
             0.5555555555555556,
             "#d8576b"
            ],
            [
             0.6666666666666666,
             "#ed7953"
            ],
            [
             0.7777777777777778,
             "#fb9f3a"
            ],
            [
             0.8888888888888888,
             "#fdca26"
            ],
            [
             1,
             "#f0f921"
            ]
           ]
          },
          "colorway": [
           "#636efa",
           "#EF553B",
           "#00cc96",
           "#ab63fa",
           "#FFA15A",
           "#19d3f3",
           "#FF6692",
           "#B6E880",
           "#FF97FF",
           "#FECB52"
          ],
          "font": {
           "color": "#2a3f5f"
          },
          "geo": {
           "bgcolor": "white",
           "lakecolor": "white",
           "landcolor": "#E5ECF6",
           "showlakes": true,
           "showland": true,
           "subunitcolor": "white"
          },
          "hoverlabel": {
           "align": "left"
          },
          "hovermode": "closest",
          "mapbox": {
           "style": "light"
          },
          "paper_bgcolor": "white",
          "plot_bgcolor": "#E5ECF6",
          "polar": {
           "angularaxis": {
            "gridcolor": "white",
            "linecolor": "white",
            "ticks": ""
           },
           "bgcolor": "#E5ECF6",
           "radialaxis": {
            "gridcolor": "white",
            "linecolor": "white",
            "ticks": ""
           }
          },
          "scene": {
           "xaxis": {
            "backgroundcolor": "#E5ECF6",
            "gridcolor": "white",
            "gridwidth": 2,
            "linecolor": "white",
            "showbackground": true,
            "ticks": "",
            "zerolinecolor": "white"
           },
           "yaxis": {
            "backgroundcolor": "#E5ECF6",
            "gridcolor": "white",
            "gridwidth": 2,
            "linecolor": "white",
            "showbackground": true,
            "ticks": "",
            "zerolinecolor": "white"
           },
           "zaxis": {
            "backgroundcolor": "#E5ECF6",
            "gridcolor": "white",
            "gridwidth": 2,
            "linecolor": "white",
            "showbackground": true,
            "ticks": "",
            "zerolinecolor": "white"
           }
          },
          "shapedefaults": {
           "line": {
            "color": "#2a3f5f"
           }
          },
          "ternary": {
           "aaxis": {
            "gridcolor": "white",
            "linecolor": "white",
            "ticks": ""
           },
           "baxis": {
            "gridcolor": "white",
            "linecolor": "white",
            "ticks": ""
           },
           "bgcolor": "#E5ECF6",
           "caxis": {
            "gridcolor": "white",
            "linecolor": "white",
            "ticks": ""
           }
          },
          "title": {
           "x": 0.05
          },
          "xaxis": {
           "automargin": true,
           "gridcolor": "white",
           "linecolor": "white",
           "ticks": "",
           "title": {
            "standoff": 15
           },
           "zerolinecolor": "white",
           "zerolinewidth": 2
          },
          "yaxis": {
           "automargin": true,
           "gridcolor": "white",
           "linecolor": "white",
           "ticks": "",
           "title": {
            "standoff": 15
           },
           "zerolinecolor": "white",
           "zerolinewidth": 2
          }
         }
        }
       }
      }
     },
     "metadata": {},
     "output_type": "display_data"
    }
   ],
   "source": [
    "pca = kpms.fit_pca(**data, **config())\n",
    "kpms.save_pca(pca, project_dir)\n",
    "\n",
    "kpms.print_dims_to_explain_variance(pca, 0.9)\n",
    "kpms.plot_scree(pca, project_dir=project_dir)\n",
    "kpms.plot_pcs(pca, project_dir=project_dir, **config())"
   ]
  },
  {
   "cell_type": "code",
   "execution_count": null,
   "id": "5b2bf3ae",
   "metadata": {},
   "outputs": [],
   "source": [
    "pca_3d = kpms.plot_pcs_3D(pca, project_dir=project_dir, **config())"
   ]
  },
  {
   "cell_type": "code",
   "execution_count": 8,
   "id": "46adf522",
   "metadata": {},
   "outputs": [
    {
     "name": "stderr",
     "output_type": "stream",
     "text": [
      "Trying to unpickle estimator PCA from version 1.3.0 when using version 1.3.2. This might lead to breaking code or invalid results. Use at your own risk. For more info please refer to:\n",
      "https://scikit-learn.org/stable/model_persistence.html#security-maintainability-limitations"
     ]
    }
   ],
   "source": [
    "# use the following to load an already existing PCA model\n",
    "pca = kpms.load_pca(project_dir)"
   ]
  },
  {
   "cell_type": "code",
   "execution_count": 9,
   "id": "a1a3a9b6",
   "metadata": {},
   "outputs": [],
   "source": [
    "kpms.update_config(project_dir, latent_dim=9)"
   ]
  },
  {
   "attachments": {},
   "cell_type": "markdown",
   "id": "accomplished-pantyhose",
   "metadata": {},
   "source": [
    "# Model fitting\n",
    "\n",
    "Fitting a keypoint-MoSeq model involves:\n",
    "1. **Initialization:** Auto-regressive (AR) parameters and syllable sequences are randomly initialized using pose trajectories from PCA.\n",
    "2. **Fitting an AR-HMM:** The AR parameters, transition probabilities and syllable sequences are iteratively updated through Gibbs sampling. \n",
    "3. **Fitting the full model:** All parameters, including both the AR-HMM as well as centroid, heading, noise-estimates and continuous latent states (i.e. pose trajectories) are iteratively updated through Gibbs sampling. This step is especially useful for noisy data.\n",
    "4. **Extracting model results:** The learned states of the model are parsed and saved to disk for vizualization and downstream analysis.\n",
    "4. **[Optional] Applying the trained model:** The learned model parameters can be used to infer a syllable sequences for additional data.\n",
    "\n",
    "## Setting kappa\n",
    "\n",
    "Most users will need to adjust the **kappa** hyperparameter to achieve the desired distribution of syllable durations. For this tutorial we chose kappa values that yielded a median syllable duration of 400ms (12 frames). Most users will need to tune kappa to their particular dataset. Higher values of kappa lead to longer syllables. **You will need to pick two kappas: one for AR-HMM fitting and one for the full model.**\n",
    "- We recommend iteratively updating kappa and refitting the model until the target syllable time-scale is attained.  \n",
    "- Model fitting can be stopped at any time by interrupting the kernel, and then restarted with a new kappa value.\n",
    "- The full model will generally require a lower value of kappa to yield the same target syllable durations. \n",
    "- To adjust the value of kappa in the model, use `kpms.update_hypparams` as shown below. Note that this command only changes kappa in the model dictionary, not the kappa value in the config file. The value in the config is only used during model initialization."
   ]
  },
  {
   "attachments": {},
   "cell_type": "markdown",
   "id": "utility-penetration",
   "metadata": {},
   "source": [
    "## Initialization"
   ]
  },
  {
   "cell_type": "code",
   "execution_count": 10,
   "id": "found-administrator",
   "metadata": {},
   "outputs": [],
   "source": [
    "# initialize the model\n",
    "model = kpms.init_model(data, pca=pca, **config())"
   ]
  },
  {
   "cell_type": "code",
   "execution_count": 11,
   "id": "02e77fa1",
   "metadata": {},
   "outputs": [],
   "source": [
    "# optionally modify kappa\n",
    "model = kpms.update_hypparams(model, kappa=1e8)"
   ]
  },
  {
   "attachments": {},
   "cell_type": "markdown",
   "id": "partial-remove",
   "metadata": {},
   "source": [
    "## Fitting an AR-HMM\n",
    "\n",
    "In addition to fitting an AR-HMM, the function below:\n",
    "- generates a name for the model and a corresponding directory in `project_dir`\n",
    "- saves a checkpoint every 25 iterations from which fitting can be restarted\n",
    "- plots the progress of fitting every 25 iterations, including\n",
    "    - the distributions of syllable frequencies and durations for the most recent iteration\n",
    "    - the change in median syllable duration across fitting iterations\n",
    "    - a sample of the syllable sequence across iterations in a random window"
   ]
  },
  {
   "cell_type": "code",
   "execution_count": 12,
   "id": "888e6ff7",
   "metadata": {
    "scrolled": false
   },
   "outputs": [
    {
     "name": "stdout",
     "output_type": "stream",
     "text": [
      "Outputs will be saved to C:/Users/MyPC/Desktop/git/kp_moseq/keypoint-\n",
      "moseq/project/SDSBD/dataset5/trainset1/2024_01_04-13_41_21\n"
     ]
    },
    {
     "name": "stderr",
     "output_type": "stream",
     "text": [
      " 33%|███████████▍                       | 20/61 [07:02<14:08, 20.70s/it]"
     ]
    },
    {
     "data": {
      "image/png": "[encoded data removed]",
      "text/plain": [
       "<Figure size 1200x250 with 4 Axes>"
      ]
     },
     "metadata": {},
     "output_type": "display_data"
    },
    {
     "name": "stderr",
     "output_type": "stream",
     "text": [
      " 66%|██████████████████████▉            | 40/61 [13:58<07:10, 20.51s/it]"
     ]
    },
    {
     "data": {
      "image/png": "[encoded data removed]",
      "text/plain": [
       "<Figure size 1200x250 with 4 Axes>"
      ]
     },
     "metadata": {},
     "output_type": "display_data"
    },
    {
     "name": "stderr",
     "output_type": "stream",
     "text": [
      " 98%|██████████████████████████████████▍| 60/61 [20:43<00:20, 20.07s/it]"
     ]
    },
    {
     "data": {
      "image/png": "[encoded data removed]",
      "text/plain": [
       "<Figure size 1200x250 with 4 Axes>"
      ]
     },
     "metadata": {},
     "output_type": "display_data"
    },
    {
     "name": "stderr",
     "output_type": "stream",
     "text": [
      "100%|███████████████████████████████████| 61/61 [21:03<00:00, 20.71s/it]\n"
     ]
    }
   ],
   "source": [
    "num_ar_iters = 60\n",
    "\n",
    "model, model_name = kpms.fit_model(\n",
    "    model=model, data=data, metadata=metadata, project_dir=project_dir,\n",
    "    ar_only=True, num_iters=num_ar_iters, save_every_n_iters = 20)"
   ]
  },
  {
   "attachments": {},
   "cell_type": "markdown",
   "id": "thorough-identity",
   "metadata": {},
   "source": [
    "## Fitting the full model\n",
    "\n",
    "The following code fits a full keypoint-MoSeq model using the results of AR-HMM fitting for initialization. If using your own data, you may need to try a few values of kappa at this step. "
   ]
  },
  {
   "cell_type": "code",
   "execution_count": 13,
   "id": "aa9cd574",
   "metadata": {},
   "outputs": [],
   "source": [
    "model_name = '2024_01_04-13_41_21'\n",
    "\n",
    "num_ar_iters = 60"
   ]
  },
  {
   "cell_type": "code",
   "execution_count": 16,
   "id": "2d316756",
   "metadata": {},
   "outputs": [
    {
     "name": "stdout",
     "output_type": "stream",
     "text": [
      "Outputs will be saved to C:/Users/MyPC/Desktop/git/kp_moseq/keypoint-\n",
      "moseq/project/SDSBD/dataset5/trainset1/2024_01_04-13_41_21\n"
     ]
    },
    {
     "name": "stderr",
     "output_type": "stream",
     "text": [
      " 49%|█████████████████                  | 20/41 [18:31<19:17, 55.11s/it]"
     ]
    },
    {
     "data": {
      "image/png": "[encoded data removed]",
      "text/plain": [
       "<Figure size 1200x250 with 4 Axes>"
      ]
     },
     "metadata": {},
     "output_type": "display_data"
    },
    {
     "name": "stderr",
     "output_type": "stream",
     "text": [
      " 98%|██████████████████████████████████▏| 40/41 [37:13<00:55, 55.77s/it]"
     ]
    },
    {
     "data": {
      "image/png": "[encoded data removed]",
      "text/plain": [
       "<Figure size 1200x250 with 4 Axes>"
      ]
     },
     "metadata": {},
     "output_type": "display_data"
    },
    {
     "name": "stderr",
     "output_type": "stream",
     "text": [
      "100%|███████████████████████████████████| 41/41 [38:07<00:00, 55.79s/it]\n"
     ]
    }
   ],
   "source": [
    "# load model checkpoint generated during step 2 (AR-HMM fitting)\n",
    "# model, data, metadata, current_iter = kpms.load_checkpoint(\n",
    "#    project_dir, model_name, iteration=num_ar_iters)\n",
    "model, data, metadata, current_iter = kpms.load_checkpoint(\n",
    " project_dir, model_name)\n",
    "\n",
    "# modify kappa to maintain the desired syllable time-scale\n",
    "model = kpms.update_hypparams(model, kappa=5e3)\n",
    "\n",
    "# run fitting for an additional 200 iters\n",
    "model = kpms.fit_model(\n",
    "    model, data, metadata, project_dir, model_name, ar_only=False, \n",
    "    start_iter=current_iter, num_iters=current_iter+40, save_every_n_iters =20, parallel_message_passing=False)[0]"
   ]
  },
  {
   "cell_type": "markdown",
   "id": "d7fb0ce7",
   "metadata": {},
   "source": [
    "## Sort syllables by frequency\n",
    "\n",
    "Permute the states and parameters of a saved checkpoint so that syllables are labeled in order of frequency (i.e. so that `0` is the most frequent, `1` is the second most, and so on). "
   ]
  },
  {
   "cell_type": "code",
   "execution_count": 8,
   "id": "a88b914c",
   "metadata": {},
   "outputs": [
    {
     "name": "stderr",
     "output_type": "stream",
     "text": [
      "Reindexing:   0%|                    | 0/12 [00:00<?, ?model snapshot/s]"
     ]
    },
    {
     "name": "stderr",
     "output_type": "stream",
     "text": [
      "Reindexing: 100%|███████████| 12/12 [00:03<00:00,  3.40model snapshot/s]\n"
     ]
    },
    {
     "data": {
      "text/plain": [
       "array([ 0,  1,  2,  3,  4,  5,  6,  7,  8,  9, 10, 11, 12, 13, 14, 15, 16,\n",
       "       17, 18, 19, 20, 21, 22, 23, 24, 25, 26, 27, 28, 29, 30, 31, 32, 33,\n",
       "       34, 35, 36, 37, 38, 39, 40, 41, 42, 43, 44, 46, 45, 47, 48, 49, 50,\n",
       "       51, 52, 53, 54, 55, 56, 60, 57, 58, 59, 65, 69, 68, 67, 66, 63, 64,\n",
       "       62, 61, 79, 81, 80, 74, 82, 83, 77, 78, 73, 76, 75, 72, 71, 70, 91,\n",
       "       90, 89, 88, 87, 86, 85, 84, 92, 93, 94, 95, 96, 97, 98, 99],\n",
       "      dtype=int64)"
      ]
     },
     "execution_count": 8,
     "metadata": {},
     "output_type": "execute_result"
    }
   ],
   "source": [
    "# modify a saved checkpoint so syllables are ordered by frequency\n",
    "kpms.reindex_syllables_in_checkpoint(project_dir, model_name)"
   ]
  },
  {
   "cell_type": "markdown",
   "id": "44a88bea",
   "metadata": {},
   "source": [
    "```{warning}\n",
    "Reindexing is only applied to the checkpoint file. Therefore, if you perform this step after extracting the modeling results or generating vizualizations, then those steps must be repeated.\n",
    "```"
   ]
  },
  {
   "attachments": {},
   "cell_type": "markdown",
   "id": "79951b99",
   "metadata": {},
   "source": [
    "## Extract model results\n",
    "\n",
    "Parse the modeling results and save them to `{project_dir}/{model_name}/results.h5`. The results are stored as follows, and can be reloaded at a later time using `kpms.load_results`. Check the docs for an [in-depth explanation of the modeling results](https://keypoint-moseq.readthedocs.io/en/latest/FAQs.html#interpreting-model-outputs).\n",
    "```\n",
    "    results.h5\n",
    "    ├──recording_name1\n",
    "    │  ├──syllable      # syllable labels (z)\n",
    "    │  ├──latent_state  # inferred low-dim pose state (x)\n",
    "    │  ├──centroid      # inferred centroid (v)\n",
    "    │  └──heading       # inferred heading (h)\n",
    "    ⋮\n",
    "```"
   ]
  },
  {
   "cell_type": "code",
   "execution_count": 10,
   "id": "d8abffb5",
   "metadata": {},
   "outputs": [
    {
     "name": "stdout",
     "output_type": "stream",
     "text": [
      "Saved results to C:/Users/MyPC/Desktop/git/kp_moseq/keypoint-\n",
      "moseq/project/SDSBD/dataset5/trainset1/2024_01_04-13_41_21\\results.h5\n"
     ]
    }
   ],
   "source": [
    "# load the most recent model checkpoint\n",
    "model_name = '2024_01_04-13_41_21'\n",
    "#model = kpms.load_checkpoint(project_dir, model_name)[0]\n",
    "pca = kpms.load_pca(project_dir)\n",
    "model, data, metadata, current_iter = kpms.load_checkpoint(project_dir, model_name)\n",
    "\n",
    "# extract results\n",
    "results = kpms.extract_results(model, metadata, project_dir, model_name)"
   ]
  },
  {
   "cell_type": "code",
   "execution_count": 11,
   "id": "59bd60db",
   "metadata": {},
   "outputs": [],
   "source": [
    "# from keypoint_moseq.io import save_hdf5\n",
    "# save_hdf5(r'C:\\Users\\MyPC\\Desktop\\git\\kp_moseq\\keypoint-moseq\\project\\SDSBD\\dataset3\\trainset1\\2023_08_23-15_27_30\\results.h5', results)"
   ]
  },
  {
   "attachments": {},
   "cell_type": "markdown",
   "id": "a37f9d42",
   "metadata": {},
   "source": [
    "### [Optional] Save results to csv\n",
    "\n",
    "After extracting to an h5 file, the results can also be saved as csv files. A separate file will be created for each recording and saved to `{project_dir}/{model_name}/results/`. "
   ]
  },
  {
   "cell_type": "code",
   "execution_count": 10,
   "id": "0ceea1e2",
   "metadata": {},
   "outputs": [
    {
     "name": "stderr",
     "output_type": "stream",
     "text": [
      "Saving to csv: 100%|████████████████████| 28/28 [00:02<00:00, 10.34it/s]\n"
     ]
    }
   ],
   "source": [
    "# optionally save results as csv\n",
    "kpms.save_results_as_csv(results, project_dir, model_name)"
   ]
  },
  {
   "attachments": {},
   "cell_type": "markdown",
   "id": "empty-houston",
   "metadata": {},
   "source": [
    "## Apply to new data\n",
    "\n",
    "The code below shows how to apply a trained model to new data. This is useful if you have performed new experiments and would like to maintain an existing set of syllables. The results for the new experiments will be added to the existing `results.h5` file. **This step is optional and can be skipped if you do not have new data to add**."
   ]
  },
  {
   "cell_type": "code",
   "execution_count": 1,
   "id": "5ce68bef",
   "metadata": {},
   "outputs": [],
   "source": [
    "# run this code after creating a project\n",
    "\n",
    "import keypoint_moseq as kpms\n",
    "\n",
    "project_dir = 'C:/Users/MyPC/Desktop/git/kp_moseq/keypoint-moseq/project/SDSBD/dataset5/trainset1/'\n",
    "video_dir= []\n",
    "config = lambda: kpms.load_config(project_dir)"
   ]
  },
  {
   "cell_type": "code",
   "execution_count": 20,
   "id": "96cd62f1",
   "metadata": {},
   "outputs": [
    {
     "name": "stderr",
     "output_type": "stream",
     "text": [
      "Loading keypoints: 100%|██████████| 5/5 [00:00<00:00, 16.09it/s]\n",
      "Applying model: 100%|███████████████████| 30/30 [10:59<00:00, 22.00s/it]\n"
     ]
    },
    {
     "name": "stdout",
     "output_type": "stream",
     "text": [
      "Saved results to C:/Users/MyPC/Desktop/git/kp_moseq/keypoint-\n",
      "moseq/project/SDSBD/dataset5/trainset1/2024_01_04-13_41_21\\results.h5\n"
     ]
    },
    {
     "name": "stderr",
     "output_type": "stream",
     "text": [
      "Saving to csv: 100%|██████████████████████| 5/5 [00:00<00:00, 10.35it/s]\n",
      "Loading keypoints: 100%|██████████| 5/5 [00:00<00:00, 14.22it/s]\n",
      "Applying model: 100%|███████████████████| 30/30 [09:49<00:00, 19.64s/it]\n"
     ]
    },
    {
     "name": "stdout",
     "output_type": "stream",
     "text": [
      "Saved results to C:/Users/MyPC/Desktop/git/kp_moseq/keypoint-\n",
      "moseq/project/SDSBD/dataset5/trainset1/2024_01_04-13_41_21\\results.h5\n"
     ]
    },
    {
     "name": "stderr",
     "output_type": "stream",
     "text": [
      "Saving to csv: 100%|██████████████████████| 5/5 [00:00<00:00, 10.63it/s]\n",
      "Loading keypoints: 100%|██████████| 5/5 [00:00<00:00, 15.86it/s]\n",
      "Applying model: 100%|███████████████████| 30/30 [09:45<00:00, 19.51s/it]\n"
     ]
    },
    {
     "name": "stdout",
     "output_type": "stream",
     "text": [
      "Saved results to C:/Users/MyPC/Desktop/git/kp_moseq/keypoint-\n",
      "moseq/project/SDSBD/dataset5/trainset1/2024_01_04-13_41_21\\results.h5\n"
     ]
    },
    {
     "name": "stderr",
     "output_type": "stream",
     "text": [
      "Saving to csv: 100%|██████████████████████| 5/5 [00:00<00:00, 10.70it/s]\n",
      "Loading keypoints: 100%|██████████| 5/5 [00:00<00:00, 16.06it/s]\n",
      "Applying model: 100%|███████████████████| 30/30 [09:42<00:00, 19.42s/it]\n"
     ]
    },
    {
     "name": "stdout",
     "output_type": "stream",
     "text": [
      "Saved results to C:/Users/MyPC/Desktop/git/kp_moseq/keypoint-\n",
      "moseq/project/SDSBD/dataset5/trainset1/2024_01_04-13_41_21\\results.h5\n"
     ]
    },
    {
     "name": "stderr",
     "output_type": "stream",
     "text": [
      "Saving to csv: 100%|██████████████████████| 5/5 [00:00<00:00, 10.47it/s]\n",
      "Loading keypoints: 100%|██████████| 5/5 [00:00<00:00, 16.92it/s]\n",
      "Applying model: 100%|███████████████████| 30/30 [09:29<00:00, 18.99s/it]\n"
     ]
    },
    {
     "name": "stdout",
     "output_type": "stream",
     "text": [
      "Saved results to C:/Users/MyPC/Desktop/git/kp_moseq/keypoint-\n",
      "moseq/project/SDSBD/dataset5/trainset1/2024_01_04-13_41_21\\results.h5\n"
     ]
    },
    {
     "name": "stderr",
     "output_type": "stream",
     "text": [
      "Saving to csv: 100%|██████████████████████| 5/5 [00:00<00:00, 11.04it/s]\n",
      "Loading keypoints: 100%|██████████| 5/5 [00:00<00:00, 17.09it/s]\n",
      "Applying model: 100%|███████████████████| 30/30 [09:13<00:00, 18.45s/it]\n"
     ]
    },
    {
     "name": "stdout",
     "output_type": "stream",
     "text": [
      "Saved results to C:/Users/MyPC/Desktop/git/kp_moseq/keypoint-\n",
      "moseq/project/SDSBD/dataset5/trainset1/2024_01_04-13_41_21\\results.h5\n"
     ]
    },
    {
     "name": "stderr",
     "output_type": "stream",
     "text": [
      "Saving to csv: 100%|██████████████████████| 5/5 [00:00<00:00, 10.10it/s]\n",
      "Loading keypoints: 100%|██████████| 5/5 [00:00<00:00, 14.85it/s]\n",
      "Applying model: 100%|███████████████████| 30/30 [09:12<00:00, 18.41s/it]\n"
     ]
    },
    {
     "name": "stdout",
     "output_type": "stream",
     "text": [
      "Saved results to C:/Users/MyPC/Desktop/git/kp_moseq/keypoint-\n",
      "moseq/project/SDSBD/dataset5/trainset1/2024_01_04-13_41_21\\results.h5\n"
     ]
    },
    {
     "name": "stderr",
     "output_type": "stream",
     "text": [
      "Saving to csv: 100%|██████████████████████| 5/5 [00:00<00:00, 10.43it/s]\n",
      "Loading keypoints: 100%|██████████| 5/5 [00:00<00:00, 16.87it/s]\n",
      "Applying model: 100%|███████████████████| 30/30 [09:07<00:00, 18.27s/it]\n"
     ]
    },
    {
     "name": "stdout",
     "output_type": "stream",
     "text": [
      "Saved results to C:/Users/MyPC/Desktop/git/kp_moseq/keypoint-\n",
      "moseq/project/SDSBD/dataset5/trainset1/2024_01_04-13_41_21\\results.h5\n"
     ]
    },
    {
     "name": "stderr",
     "output_type": "stream",
     "text": [
      "Saving to csv: 100%|██████████████████████| 5/5 [00:00<00:00, 10.68it/s]\n",
      "Loading keypoints: 100%|██████████| 5/5 [00:00<00:00, 15.41it/s]\n",
      "Applying model: 100%|███████████████████| 30/30 [09:44<00:00, 19.49s/it]\n"
     ]
    },
    {
     "name": "stdout",
     "output_type": "stream",
     "text": [
      "Saved results to C:/Users/MyPC/Desktop/git/kp_moseq/keypoint-\n",
      "moseq/project/SDSBD/dataset5/trainset1/2024_01_04-13_41_21\\results.h5\n"
     ]
    },
    {
     "name": "stderr",
     "output_type": "stream",
     "text": [
      "Saving to csv: 100%|██████████████████████| 5/5 [00:00<00:00, 10.74it/s]\n",
      "Loading keypoints: 100%|██████████| 4/4 [00:00<00:00, 16.77it/s]\n",
      "Applying model: 100%|███████████████████| 30/30 [10:34<00:00, 21.16s/it]\n"
     ]
    },
    {
     "name": "stdout",
     "output_type": "stream",
     "text": [
      "Saved results to C:/Users/MyPC/Desktop/git/kp_moseq/keypoint-\n",
      "moseq/project/SDSBD/dataset5/trainset1/2024_01_04-13_41_21\\results.h5\n"
     ]
    },
    {
     "name": "stderr",
     "output_type": "stream",
     "text": [
      "Saving to csv: 100%|██████████████████████| 4/4 [00:00<00:00, 10.60it/s]\n"
     ]
    }
   ],
   "source": [
    "## Junesu - For many folders, batch analysis\n",
    "import sys\n",
    "sys.path.insert(0, 'C:/Users/MyPC/Desktop/git/AVATAR_motionMap')\n",
    "import FileManager.csvload as acl\n",
    "\n",
    "# load saved model checkpoint\n",
    "model_name = '2024_01_04-13_41_21'\n",
    "model = kpms.load_checkpoint(project_dir, model_name)[0]\n",
    "pca = kpms.load_pca(project_dir)\n",
    "\n",
    "# load new data (e.g. from deeplabcut)\n",
    "new_data = acl.get_csv_paths(r'C:\\Users\\MyPC\\Desktop\\실험실\\2.실험데이터\\AVATAR-SDSBD\\dataset5\\testset1.txt')\n",
    "\n",
    "chunk_size = 5  # The size of the small list you want to divide\n",
    "for i in range(0, len(new_data), chunk_size):\n",
    "    batch = new_data[i:i + chunk_size]\n",
    "    coordinates, bodyparts = kpms.load_keypoints_AVATAR(batch, path_in_name=False, remove_extension=True)\n",
    "    data, metadata = kpms.format_data(coordinates, confidences=None, **config())\n",
    "    results = kpms.apply_model(model, pca, data, metadata, project_dir, model_name, num_iters=30,**config())\n",
    "\n",
    "    # optionally rerun `save_results_as_csv` to export the new results\n",
    "    kpms.save_results_as_csv(results, project_dir, model_name)"
   ]
  },
  {
   "attachments": {},
   "cell_type": "markdown",
   "id": "breeding-fashion",
   "metadata": {},
   "source": [
    "# Visualization"
   ]
  },
  {
   "attachments": {},
   "cell_type": "markdown",
   "id": "a2491a0d",
   "metadata": {},
   "source": [
    "## Trajectory plots\n",
    "Generate plots showing the median trajectory of poses associated with each given syllable. "
   ]
  },
  {
   "cell_type": "code",
   "execution_count": 3,
   "metadata": {},
   "outputs": [],
   "source": [
    "import keypoint_moseq as kpms\n",
    "\n",
    "project_dir = r'C:\\Users\\MyPC\\Desktop\\git\\kp_moseq\\keypoint-moseq\\project\\SDSBD\\dataset5\\trainset1'\n",
    "model_name = '2024_01_04-13_41_21'\n",
    "\n",
    "results = kpms.load_results(project_dir, model_name)\n",
    "min_frequency = 0.005\n",
    "fps = 20"
   ]
  },
  {
   "cell_type": "code",
   "execution_count": 24,
   "id": "5ebf6d1b",
   "metadata": {},
   "outputs": [
    {
     "name": "stderr",
     "output_type": "stream",
     "text": [
      "Loading keypoints:   0%|          | 0/77 [00:00<?, ?it/s]"
     ]
    },
    {
     "name": "stderr",
     "output_type": "stream",
     "text": [
      "Loading keypoints: 100%|██████████| 77/77 [00:05<00:00, 12.86it/s]\n"
     ]
    }
   ],
   "source": [
    "import sys\n",
    "sys.path.insert(0, 'C:/Users/MyPC/Desktop/git/AVATAR_motionMap')\n",
    "import FileManager.csvload as acl\n",
    "\n",
    "keypoint_data_path = acl.get_csv_paths(r'C:\\Users\\MyPC\\Desktop\\실험실\\2.실험데이터\\AVATAR-SDSBD\\dataset5\\trainset1.txt')\n",
    "new_data = acl.get_csv_paths(r'C:\\Users\\MyPC\\Desktop\\실험실\\2.실험데이터\\AVATAR-SDSBD\\dataset5\\testset1.txt')\n",
    "\n",
    "dataset = [keypoint_data_path, new_data] #acl.get_csv_paths(r'C:\\Users\\MyPC\\Desktop\\실험실\\2.실험데이터\\AVATAR-SDSBD\\dataset3\\kp-moseq\\totaldata.txt')\n",
    "coordinates, bodyparts = kpms.load_keypoints_AVATAR(dataset, path_in_name=False, remove_extension=True)"
   ]
  },
  {
   "cell_type": "code",
   "execution_count": null,
   "id": "5438dbe2",
   "metadata": {},
   "outputs": [
    {
     "name": "stderr",
     "output_type": "stream",
     "text": [
      "Loading keypoints:   0%|          | 0/28 [00:00<?, ?it/s]"
     ]
    },
    {
     "name": "stderr",
     "output_type": "stream",
     "text": [
      "Loading keypoints: 100%|██████████| 28/28 [00:02<00:00, 12.17it/s]\n"
     ]
    }
   ],
   "source": [
    "import sys\n",
    "sys.path.insert(0, 'C:/Users/MyPC/Desktop/git/AVATAR_motionMap')\n",
    "import FileManager.csvload as acl\n",
    "\n",
    "keypoint_data_path = acl.get_csv_paths(r'C:\\Users\\MyPC\\Desktop\\실험실\\2.실험데이터\\AVATAR-SDSBD\\dataset5\\trainset1.txt')\n",
    "\n",
    "coordinates, bodyparts = kpms.load_keypoints_AVATAR(keypoint_data_path, path_in_name=False, remove_extension=True)"
   ]
  },
  {
   "cell_type": "code",
   "execution_count": 11,
   "id": "subject-disney",
   "metadata": {},
   "outputs": [
    {
     "name": "stdout",
     "output_type": "stream",
     "text": [
      "Saving trajectory plots to C:/Users/MyPC/Desktop/git/kp_moseq/keypoint-moseq/project/SDSBD/dataset5/trainset1/2024_01_04-13_41_21\\trajectory_plots\n"
     ]
    },
    {
     "ename": "TypeError",
     "evalue": "sample_instances() missing 1 required positional argument: 'num_samples'",
     "output_type": "error",
     "traceback": [
      "\u001b[1;31m---------------------------------------------------------------------------\u001b[0m",
      "\u001b[1;31mTypeError\u001b[0m                                 Traceback (most recent call last)",
      "Cell \u001b[1;32mIn[11], line 11\u001b[0m\n\u001b[0;32m      1\u001b[0m \u001b[38;5;66;03m# Users occasionally find that the trajectory plot and grid movie for a given syllable don’t match up. \u001b[39;00m\n\u001b[0;32m      2\u001b[0m \n\u001b[0;32m      3\u001b[0m \u001b[38;5;66;03m## Why do my trajectory plots and grid movies disagree?\u001b[39;00m\n\u001b[1;32m   (...)\u001b[0m\n\u001b[0;32m      7\u001b[0m \u001b[38;5;66;03m# Turning this feature off may result in more stable trajectory plots.\u001b[39;00m\n\u001b[0;32m      8\u001b[0m \u001b[38;5;66;03m# kpms.generate_trajectory_plots(..., density_sample=False)\u001b[39;00m\n\u001b[1;32m---> 11\u001b[0m kpms\u001b[38;5;241m.\u001b[39mgenerate_trajectory_plots(coordinates, results, project_dir, model_name, min_frequency \u001b[38;5;241m=\u001b[39m min_frequency, min_duration\u001b[38;5;241m=\u001b[39m\u001b[38;5;241m2\u001b[39m, fps\u001b[38;5;241m=\u001b[39mfps, \u001b[38;5;241m*\u001b[39m\u001b[38;5;241m*\u001b[39mconfig())\n",
      "File \u001b[1;32mc:\\Users\\MyPC\\anaconda3\\envs\\keypoint_moseq\\lib\\site-packages\\keypoint_moseq\\viz.py:1612\u001b[0m, in \u001b[0;36mgenerate_trajectory_plots\u001b[1;34m(coordinates, results, project_dir, model_name, output_dir, pre, post, min_frequency, min_duration, skeleton, bodyparts, use_bodyparts, keypoint_colormap, plot_options, padding, save_individually, save_gifs, save_mp4s, fps, projection_planes, interactive, density_sample, sampling_options, **kwargs)\u001b[0m\n\u001b[0;32m   1609\u001b[0m     os\u001b[38;5;241m.\u001b[39mmakedirs(output_dir)\n\u001b[0;32m   1610\u001b[0m \u001b[38;5;28mprint\u001b[39m(\u001b[38;5;124mf\u001b[39m\u001b[38;5;124m\"\u001b[39m\u001b[38;5;124mSaving trajectory plots to \u001b[39m\u001b[38;5;132;01m{\u001b[39;00moutput_dir\u001b[38;5;132;01m}\u001b[39;00m\u001b[38;5;124m\"\u001b[39m)\n\u001b[1;32m-> 1612\u001b[0m typical_trajectories \u001b[38;5;241m=\u001b[39m \u001b[43mget_typical_trajectories\u001b[49m\u001b[43m(\u001b[49m\n\u001b[0;32m   1613\u001b[0m \u001b[43m    \u001b[49m\u001b[43mcoordinates\u001b[49m\u001b[43m,\u001b[49m\n\u001b[0;32m   1614\u001b[0m \u001b[43m    \u001b[49m\u001b[43mresults\u001b[49m\u001b[43m,\u001b[49m\n\u001b[0;32m   1615\u001b[0m \u001b[43m    \u001b[49m\u001b[43mpre\u001b[49m\u001b[43m,\u001b[49m\n\u001b[0;32m   1616\u001b[0m \u001b[43m    \u001b[49m\u001b[43mpost\u001b[49m\u001b[43m,\u001b[49m\n\u001b[0;32m   1617\u001b[0m \u001b[43m    \u001b[49m\u001b[43mmin_frequency\u001b[49m\u001b[43m,\u001b[49m\n\u001b[0;32m   1618\u001b[0m \u001b[43m    \u001b[49m\u001b[43mmin_duration\u001b[49m\u001b[43m,\u001b[49m\n\u001b[0;32m   1619\u001b[0m \u001b[43m    \u001b[49m\u001b[43mbodyparts\u001b[49m\u001b[43m,\u001b[49m\n\u001b[0;32m   1620\u001b[0m \u001b[43m    \u001b[49m\u001b[43muse_bodyparts\u001b[49m\u001b[43m,\u001b[49m\n\u001b[0;32m   1621\u001b[0m \u001b[43m    \u001b[49m\u001b[43mdensity_sample\u001b[49m\u001b[43m,\u001b[49m\n\u001b[0;32m   1622\u001b[0m \u001b[43m    \u001b[49m\u001b[43msampling_options\u001b[49m\u001b[43m,\u001b[49m\n\u001b[0;32m   1623\u001b[0m \u001b[43m\u001b[49m\u001b[43m)\u001b[49m\n\u001b[0;32m   1625\u001b[0m syllable_ixs \u001b[38;5;241m=\u001b[39m \u001b[38;5;28msorted\u001b[39m(typical_trajectories\u001b[38;5;241m.\u001b[39mkeys())\n\u001b[0;32m   1626\u001b[0m titles \u001b[38;5;241m=\u001b[39m [\u001b[38;5;124mf\u001b[39m\u001b[38;5;124m\"\u001b[39m\u001b[38;5;124mSyllable\u001b[39m\u001b[38;5;132;01m{\u001b[39;00ms\u001b[38;5;132;01m}\u001b[39;00m\u001b[38;5;124m\"\u001b[39m \u001b[38;5;28;01mfor\u001b[39;00m s \u001b[38;5;129;01min\u001b[39;00m syllable_ixs]\n",
      "File \u001b[1;32mc:\\Users\\MyPC\\anaconda3\\envs\\keypoint_moseq\\lib\\site-packages\\keypoint_moseq\\util.py:1115\u001b[0m, in \u001b[0;36mget_typical_trajectories\u001b[1;34m(coordinates, results, pre, post, min_frequency, min_duration, bodyparts, use_bodyparts, density_sample, sampling_options)\u001b[0m\n\u001b[0;32m   1113\u001b[0m \u001b[38;5;28;01mif\u001b[39;00m density_sample:\n\u001b[0;32m   1114\u001b[0m     sampling_options[\u001b[38;5;124m'\u001b[39m\u001b[38;5;124mmode\u001b[39m\u001b[38;5;124m'\u001b[39m] \u001b[38;5;241m=\u001b[39m \u001b[38;5;124m'\u001b[39m\u001b[38;5;124mdensity\u001b[39m\u001b[38;5;124m'\u001b[39m\n\u001b[1;32m-> 1115\u001b[0m     sampled_instances \u001b[38;5;241m=\u001b[39m sample_instances(\n\u001b[0;32m   1116\u001b[0m         syllable_instances,\n\u001b[0;32m   1117\u001b[0m         coordinates\u001b[38;5;241m=\u001b[39mcoordinates,\n\u001b[0;32m   1118\u001b[0m         centroids\u001b[38;5;241m=\u001b[39mcentroids,\n\u001b[0;32m   1119\u001b[0m         headings\u001b[38;5;241m=\u001b[39mheadings,\n\u001b[0;32m   1120\u001b[0m         \u001b[38;5;241m*\u001b[39m\u001b[38;5;241m*\u001b[39msampling_options,\n\u001b[0;32m   1121\u001b[0m     )\n\u001b[0;32m   1122\u001b[0m \u001b[38;5;28;01melse\u001b[39;00m:\n\u001b[0;32m   1123\u001b[0m     sampled_instances \u001b[38;5;241m=\u001b[39m syllable_instances\n",
      "\u001b[1;31mTypeError\u001b[0m: sample_instances() missing 1 required positional argument: 'num_samples'"
     ]
    }
   ],
   "source": [
    "# Users occasionally find that the trajectory plot and grid movie for a given syllable don’t match up. \n",
    "\n",
    "## Why do my trajectory plots and grid movies disagree?\n",
    "# For example the animal might turn left in the trajectory plot but not consistently do so in the grid movie. \n",
    "# Similarly, trajectory plots can occasionally change dramatically when a trained keypoint-MoSeq model is applied to new data. \n",
    "# In most cases, these inconsistencies are caused by density sampling of syllable instances. \n",
    "# Turning this feature off may result in more stable trajectory plots.\n",
    "# kpms.generate_trajectory_plots(..., density_sample=False)\n",
    "\n",
    "\n",
    "kpms.generate_trajectory_plots(coordinates, results, project_dir, model_name, min_frequency = min_frequency, min_duration=2, fps=fps, **config())"
   ]
  },
  {
   "cell_type": "code",
   "execution_count": 15,
   "id": "d8083d2b",
   "metadata": {},
   "outputs": [],
   "source": [
    "syllable_viz = 28  # syllable number to be visualized"
   ]
  },
  {
   "cell_type": "code",
   "execution_count": 16,
   "id": "ed7c0784",
   "metadata": {},
   "outputs": [
    {
     "data": {
      "text/plain": [
       "(<Figure size 640x480 with 1 Axes>,\n",
       " <Axes: title={'center': 'Frequency distribution'}, xlabel='syllable rank', ylabel='probability'>)"
      ]
     },
     "execution_count": 16,
     "metadata": {},
     "output_type": "execute_result"
    },
    {
     "data": {
      "image/png": "[encoded data removed]",
      "text/plain": [
       "<Figure size 640x480 with 1 Axes>"
      ]
     },
     "metadata": {},
     "output_type": "display_data"
    },
    {
     "data": {
      "image/png": "[encoded data removed]",
      "text/plain": [
       "<Figure size 640x480 with 1 Axes>"
      ]
     },
     "metadata": {},
     "output_type": "display_data"
    }
   ],
   "source": [
    "kpms.plot_duration_distribution(model_name=model_name, project_dir=project_dir, fps=fps, num_bins=1000)\n",
    "kpms.plot_syllable_frequencies(model_name=model_name, project_dir=project_dir, min_frequency = 0, syllable_viz = syllable_viz)"
   ]
  },
  {
   "cell_type": "code",
   "execution_count": 39,
   "id": "5ed1fb45",
   "metadata": {},
   "outputs": [
    {
     "data": {
      "image/png": "[encoded data removed]",
      "text/plain": [
       "<Figure size 640x480 with 1 Axes>"
      ]
     },
     "metadata": {},
     "output_type": "display_data"
    }
   ],
   "source": [
    "import numpy as np\n",
    "import matplotlib.pyplot as plt\n",
    "\n",
    "def plot_duration_distribution(\n",
    "    project_dir=None,\n",
    "    model_name=None,\n",
    "    results=None,\n",
    "    path=None,\n",
    "    lim=None,\n",
    "    num_bins=30,\n",
    "    fps=None,\n",
    "    show_median=True,\n",
    "):\n",
    "    \"\"\"Plot a histogram showing the frequency of each syllable.\n",
    "\n",
    "    Caller must provide a results dictionary, a path to a results .h5, or a\n",
    "    project directory and model name, in which case the results are loaded from\n",
    "    `{project_dir}/{model_name}/results.h5`.\n",
    "\n",
    "    Parameters\n",
    "    ----------\n",
    "    results : dict, default=None\n",
    "        Dictionary containing modeling results for a dataset (see\n",
    "        :py:func:`keypoint_moseq.fitting.extract_results`)\n",
    "\n",
    "    model_name: str, default=None\n",
    "        Name of the model. Required to load results if `results` is None and\n",
    "        `path` is None.\n",
    "\n",
    "    project_dir: str, default=None\n",
    "        Project directory. Required to load results if `results` is None and\n",
    "        `path` is None.\n",
    "\n",
    "    path: str, default=None\n",
    "        Path to a results file. If None, results will be loaded from\n",
    "        `{project_dir}/{model_name}/results.h5`.\n",
    "\n",
    "    lim: tuple, default=None\n",
    "        x-axis limits as a pair of ints (in units of frames). If None, the\n",
    "        limits are set to (0, 95th-percentile).\n",
    "\n",
    "    num_bins: int, default=30\n",
    "        Number of bins in the histogram.\n",
    "\n",
    "    fps: int, default=None\n",
    "        Frames per second. Used to convert x-axis from frames to seconds.\n",
    "\n",
    "    show_median: bool, default=True\n",
    "        Whether to show the median duration as a vertical line.\n",
    "\n",
    "    Returns\n",
    "    -------\n",
    "    fig : matplotlib.figure.Figure\n",
    "        Figure containing the histogram.\n",
    "\n",
    "    ax : matplotlib.axes.Axes\n",
    "        Axes containing the histogram.\n",
    "    \"\"\"\n",
    "    if results is None:\n",
    "        results = kpms.load_results(project_dir, model_name, path)\n",
    "\n",
    "    syllables = {k: res[\"syllable\"] for k, res in results.items()}\n",
    "    durations = kpms.get_durations(syllables)\n",
    "\n",
    "    if lim is None:\n",
    "        lim = int(np.percentile(durations, 95))\n",
    "    binsize = max(int(np.floor(lim / num_bins)), 1)\n",
    "\n",
    "    if fps is not None:\n",
    "        durations = durations / fps\n",
    "        binsize = binsize / fps\n",
    "        lim = lim / fps\n",
    "        xlabel = \"syllable duration (s)\"\n",
    "    else:\n",
    "        xlabel = \"syllable duration (frames)\"\n",
    "\n",
    "    fig, ax = plt.subplots()\n",
    "    ax.hist(durations, range=(0, lim), bins=(int(lim / binsize)), density=True)\n",
    "    ax.set_xlim([0, lim])\n",
    "    ax.set_xlabel(xlabel)\n",
    "    ax.set_ylabel(\"probability\")\n",
    "    ax.set_title(\"Duration distribution\")\n",
    "    ax.set_yticks([])\n",
    "    if show_median:\n",
    "        ax.axvline(np.median(durations), color=\"k\", linestyle=\"--\")\n",
    "    return fig, ax, np.median(durations)\n",
    "\n",
    "\n",
    "\n",
    "_, _, median_valussss = plot_duration_distribution(model_name=model_name, project_dir=project_dir, fps=fps, num_bins=1000)"
   ]
  },
  {
   "attachments": {},
   "cell_type": "markdown",
   "id": "617a66ed",
   "metadata": {},
   "source": [
    "## Grid movies\n",
    "Generate video clips showing examples of each syllable."
   ]
  },
  {
   "cell_type": "code",
   "execution_count": 9,
   "id": "dominant-packet",
   "metadata": {},
   "outputs": [
    {
     "name": "stderr",
     "output_type": "stream",
     "text": [
      "Loading keypoints: 100%|██████████| 77/77 [00:04<00:00, 15.92it/s]\n"
     ]
    }
   ],
   "source": [
    "#kpms.generate_grid_movies(results, project_dir, model_name, coordinates=coordinates, **config())\n",
    "\n",
    "# for 3D data, include the flag `keypoints_only=True`\n",
    "keypoint_data_path = acl.get_csv_paths(r'C:\\Users\\MyPC\\Desktop\\실험실\\2.실험데이터\\AVATAR-SDSBD\\dataset5\\trainset1.txt')\n",
    "new_data = acl.get_csv_paths(r'C:\\Users\\MyPC\\Desktop\\실험실\\2.실험데이터\\AVATAR-SDSBD\\dataset5\\testset1.txt')\n",
    "\n",
    "dataset = [keypoint_data_path, new_data] #acl.get_csv_paths(r'C:\\Users\\MyPC\\Desktop\\실험실\\2.실험데이터\\AVATAR-SDSBD\\dataset3\\kp-moseq\\totaldata.txt')\n",
    "coordinates, bodyparts = kpms.load_keypoints_AVATAR(dataset, path_in_name=False, remove_extension=True)"
   ]
  },
  {
   "cell_type": "code",
   "execution_count": null,
   "id": "ce9f05d6",
   "metadata": {},
   "outputs": [],
   "source": [
    "keypoint_data_path = acl.get_csv_paths(r'C:\\Users\\MyPC\\Desktop\\실험실\\2.실험데이터\\AVATAR-SDSBD\\dataset5\\trainset1.txt')\n",
    "coordinates, bodyparts = kpms.load_keypoints_AVATAR(keypoint_data_path, path_in_name=False, remove_extension=True)"
   ]
  },
  {
   "cell_type": "code",
   "execution_count": 10,
   "id": "8a884c0a",
   "metadata": {},
   "outputs": [],
   "source": [
    "SCALE_FACTOR = 10\n",
    "\n",
    "results_rescaled = {}\n",
    "for k,v in results.items():\n",
    "    v_rescaled = dict(v)\n",
    "    v_rescaled['centroid'] = v['centroid'] * SCALE_FACTOR\n",
    "    results_rescaled[k] = v_rescaled\n",
    "\n",
    "coordinates_rescaled = {}\n",
    "for k,v in coordinates.items():\n",
    "    v_rescaled = v * SCALE_FACTOR\n",
    "    coordinates_rescaled[k] = v_rescaled"
   ]
  },
  {
   "cell_type": "code",
   "execution_count": 17,
   "id": "407bec12",
   "metadata": {},
   "outputs": [
    {
     "name": "stdout",
     "output_type": "stream",
     "text": [
      "Writing grid movies to C:/Users/MyPC/Desktop/git/kp_moseq/keypoint-moseq/project/SDSBD/dataset5/trainset1/2024_01_04-13_41_21\\grid_movies\n"
     ]
    },
    {
     "name": "stderr",
     "output_type": "stream",
     "text": [
      "Generating grid movies:  27%|███▏        | 7/26 [00:50<02:17,  7.22s/it]\n"
     ]
    },
    {
     "ename": "KeyboardInterrupt",
     "evalue": "",
     "output_type": "error",
     "traceback": [
      "\u001b[1;31m---------------------------------------------------------------------------\u001b[0m",
      "\u001b[1;31mKeyboardInterrupt\u001b[0m                         Traceback (most recent call last)",
      "Cell \u001b[1;32mIn[17], line 1\u001b[0m\n\u001b[1;32m----> 1\u001b[0m kpms\u001b[38;5;241m.\u001b[39mgenerate_grid_movies(results_rescaled, project_dir, model_name, coordinates\u001b[38;5;241m=\u001b[39mcoordinates_rescaled, min_frequency\u001b[38;5;241m=\u001b[39m\u001b[38;5;241m0.005\u001b[39m,filter_size \u001b[38;5;241m=\u001b[39m \u001b[38;5;241m6\u001b[39m,\n\u001b[0;32m      2\u001b[0m                         keypoints_only\u001b[38;5;241m=\u001b[39m\u001b[38;5;28;01mTrue\u001b[39;00m, fps\u001b[38;5;241m=\u001b[39mfps, use_dims\u001b[38;5;241m=\u001b[39m[\u001b[38;5;241m0\u001b[39m,\u001b[38;5;241m2\u001b[39m], pre\u001b[38;5;241m=\u001b[39m\u001b[38;5;241m40\u001b[39m, post\u001b[38;5;241m=\u001b[39m\u001b[38;5;241m40\u001b[39m, rows\u001b[38;5;241m=\u001b[39m\u001b[38;5;241m3\u001b[39m, cols\u001b[38;5;241m=\u001b[39m\u001b[38;5;241m4\u001b[39m, window_size\u001b[38;5;241m=\u001b[39m\u001b[38;5;241m16\u001b[39m\u001b[38;5;241m*\u001b[39m\u001b[38;5;241m14\u001b[39m, \u001b[38;5;241m*\u001b[39m\u001b[38;5;241m*\u001b[39mconfig())\n",
      "File \u001b[1;32mc:\\Users\\MyPC\\anaconda3\\envs\\keypoint_moseq\\lib\\site-packages\\keypoint_moseq\\viz.py:1211\u001b[0m, in \u001b[0;36mgenerate_grid_movies\u001b[1;34m(results, project_dir, model_name, output_dir, video_dir, video_paths, rows, cols, filter_size, pre, post, min_frequency, min_duration, dot_radius, dot_color, quality, window_size, coordinates, bodyparts, use_bodyparts, sampling_options, video_extension, max_video_size, skeleton, overlay_keypoints, keypoints_only, keypoints_scale, fps, plot_options, use_dims, keypoint_colormap, **kwargs)\u001b[0m\n\u001b[0;32m   1191\u001b[0m frames \u001b[38;5;241m=\u001b[39m grid_movie(\n\u001b[0;32m   1192\u001b[0m     instances,\n\u001b[0;32m   1193\u001b[0m     rows,\n\u001b[1;32m   (...)\u001b[0m\n\u001b[0;32m   1207\u001b[0m     plot_options\u001b[38;5;241m=\u001b[39mplot_options,\n\u001b[0;32m   1208\u001b[0m )\n\u001b[0;32m   1210\u001b[0m path \u001b[38;5;241m=\u001b[39m os\u001b[38;5;241m.\u001b[39mpath\u001b[38;5;241m.\u001b[39mjoin(output_dir, \u001b[38;5;124mf\u001b[39m\u001b[38;5;124m\"\u001b[39m\u001b[38;5;124msyllable\u001b[39m\u001b[38;5;132;01m{\u001b[39;00msyllable\u001b[38;5;132;01m}\u001b[39;00m\u001b[38;5;124m.mp4\u001b[39m\u001b[38;5;124m\"\u001b[39m)\n\u001b[1;32m-> 1211\u001b[0m \u001b[43mwrite_video_clip\u001b[49m\u001b[43m(\u001b[49m\u001b[43mframes\u001b[49m\u001b[43m,\u001b[49m\u001b[43m \u001b[49m\u001b[43mpath\u001b[49m\u001b[43m,\u001b[49m\u001b[43m \u001b[49m\u001b[43mfps\u001b[49m\u001b[38;5;241;43m=\u001b[39;49m\u001b[43mfps\u001b[49m\u001b[43m,\u001b[49m\u001b[43m \u001b[49m\u001b[43mquality\u001b[49m\u001b[38;5;241;43m=\u001b[39;49m\u001b[43mquality\u001b[49m\u001b[43m)\u001b[49m\n",
      "File \u001b[1;32mc:\\Users\\MyPC\\anaconda3\\envs\\keypoint_moseq\\lib\\site-packages\\keypoint_moseq\\viz.py:617\u001b[0m, in \u001b[0;36mwrite_video_clip\u001b[1;34m(frames, path, fps, quality)\u001b[0m\n\u001b[0;32m    613\u001b[0m \u001b[38;5;28;01mwith\u001b[39;00m imageio\u001b[38;5;241m.\u001b[39mget_writer(\n\u001b[0;32m    614\u001b[0m     path, pixelformat\u001b[38;5;241m=\u001b[39m\u001b[38;5;124m\"\u001b[39m\u001b[38;5;124myuv420p\u001b[39m\u001b[38;5;124m\"\u001b[39m, fps\u001b[38;5;241m=\u001b[39mfps, quality\u001b[38;5;241m=\u001b[39mquality\n\u001b[0;32m    615\u001b[0m ) \u001b[38;5;28;01mas\u001b[39;00m writer:\n\u001b[0;32m    616\u001b[0m     \u001b[38;5;28;01mfor\u001b[39;00m frame \u001b[38;5;129;01min\u001b[39;00m frames:\n\u001b[1;32m--> 617\u001b[0m         \u001b[43mwriter\u001b[49m\u001b[38;5;241;43m.\u001b[39;49m\u001b[43mappend_data\u001b[49m\u001b[43m(\u001b[49m\u001b[43mframe\u001b[49m\u001b[43m)\u001b[49m\n",
      "File \u001b[1;32mc:\\Users\\MyPC\\anaconda3\\envs\\keypoint_moseq\\lib\\site-packages\\imageio\\core\\format.py:590\u001b[0m, in \u001b[0;36mFormat.Writer.append_data\u001b[1;34m(self, im, meta)\u001b[0m\n\u001b[0;32m    588\u001b[0m im \u001b[38;5;241m=\u001b[39m asarray(im)\n\u001b[0;32m    589\u001b[0m \u001b[38;5;66;03m# Call\u001b[39;00m\n\u001b[1;32m--> 590\u001b[0m \u001b[38;5;28;01mreturn\u001b[39;00m \u001b[38;5;28;43mself\u001b[39;49m\u001b[38;5;241;43m.\u001b[39;49m\u001b[43m_append_data\u001b[49m\u001b[43m(\u001b[49m\u001b[43mim\u001b[49m\u001b[43m,\u001b[49m\u001b[43m \u001b[49m\u001b[43mtotal_meta\u001b[49m\u001b[43m)\u001b[49m\n",
      "File \u001b[1;32mc:\\Users\\MyPC\\anaconda3\\envs\\keypoint_moseq\\lib\\site-packages\\imageio\\plugins\\ffmpeg.py:570\u001b[0m, in \u001b[0;36mFfmpegFormat.Writer._append_data\u001b[1;34m(self, im, meta)\u001b[0m\n\u001b[0;32m    567\u001b[0m depth \u001b[38;5;241m=\u001b[39m \u001b[38;5;241m1\u001b[39m \u001b[38;5;28;01mif\u001b[39;00m im\u001b[38;5;241m.\u001b[39mndim \u001b[38;5;241m==\u001b[39m \u001b[38;5;241m2\u001b[39m \u001b[38;5;28;01melse\u001b[39;00m im\u001b[38;5;241m.\u001b[39mshape[\u001b[38;5;241m2\u001b[39m]\n\u001b[0;32m    569\u001b[0m \u001b[38;5;66;03m# Ensure that image is in uint8\u001b[39;00m\n\u001b[1;32m--> 570\u001b[0m im \u001b[38;5;241m=\u001b[39m \u001b[43mimage_as_uint\u001b[49m\u001b[43m(\u001b[49m\u001b[43mim\u001b[49m\u001b[43m,\u001b[49m\u001b[43m \u001b[49m\u001b[43mbitdepth\u001b[49m\u001b[38;5;241;43m=\u001b[39;49m\u001b[38;5;241;43m8\u001b[39;49m\u001b[43m)\u001b[49m\n\u001b[0;32m    571\u001b[0m \u001b[38;5;66;03m# To be written efficiently, ie. without creating an immutable\u001b[39;00m\n\u001b[0;32m    572\u001b[0m \u001b[38;5;66;03m# buffer, by calling im.tobytes() the array must be contiguous.\u001b[39;00m\n\u001b[0;32m    573\u001b[0m \u001b[38;5;28;01mif\u001b[39;00m \u001b[38;5;129;01mnot\u001b[39;00m im\u001b[38;5;241m.\u001b[39mflags\u001b[38;5;241m.\u001b[39mc_contiguous:\n\u001b[0;32m    574\u001b[0m     \u001b[38;5;66;03m# checkign the flag is a micro optimization.\u001b[39;00m\n\u001b[0;32m    575\u001b[0m     \u001b[38;5;66;03m# the image will be a numpy subclass. See discussion\u001b[39;00m\n\u001b[0;32m    576\u001b[0m     \u001b[38;5;66;03m# https://github.com/numpy/numpy/issues/11804\u001b[39;00m\n",
      "File \u001b[1;32mc:\\Users\\MyPC\\anaconda3\\envs\\keypoint_moseq\\lib\\site-packages\\imageio\\core\\util.py:105\u001b[0m, in \u001b[0;36mimage_as_uint\u001b[1;34m(im, bitdepth)\u001b[0m\n\u001b[0;32m    103\u001b[0m     im \u001b[38;5;241m=\u001b[39m im\u001b[38;5;241m.\u001b[39mastype(\u001b[38;5;124m\"\u001b[39m\u001b[38;5;124mfloat64\u001b[39m\u001b[38;5;124m\"\u001b[39m)\n\u001b[0;32m    104\u001b[0m     \u001b[38;5;66;03m# Scale the values between 0 and 1 then multiply by the max value\u001b[39;00m\n\u001b[1;32m--> 105\u001b[0m     im \u001b[38;5;241m=\u001b[39m \u001b[43m(\u001b[49m\u001b[43mim\u001b[49m\u001b[43m \u001b[49m\u001b[38;5;241;43m-\u001b[39;49m\u001b[43m \u001b[49m\u001b[43mmi\u001b[49m\u001b[43m)\u001b[49m\u001b[43m \u001b[49m\u001b[38;5;241;43m/\u001b[39;49m\u001b[43m \u001b[49m\u001b[43m(\u001b[49m\u001b[43mma\u001b[49m\u001b[43m \u001b[49m\u001b[38;5;241;43m-\u001b[39;49m\u001b[43m \u001b[49m\u001b[43mmi\u001b[49m\u001b[43m)\u001b[49m\u001b[43m \u001b[49m\u001b[38;5;241;43m*\u001b[39;49m\u001b[43m \u001b[49m\u001b[43m(\u001b[49m\u001b[43mnp\u001b[49m\u001b[38;5;241;43m.\u001b[39;49m\u001b[43mpower\u001b[49m\u001b[43m(\u001b[49m\u001b[38;5;241;43m2.0\u001b[39;49m\u001b[43m,\u001b[49m\u001b[43m \u001b[49m\u001b[43mbitdepth\u001b[49m\u001b[43m)\u001b[49m\u001b[43m \u001b[49m\u001b[38;5;241;43m-\u001b[39;49m\u001b[43m \u001b[49m\u001b[38;5;241;43m1\u001b[39;49m\u001b[43m)\u001b[49m \u001b[38;5;241m+\u001b[39m \u001b[38;5;241m0.499999999\u001b[39m\n\u001b[0;32m    106\u001b[0m \u001b[38;5;28;01massert\u001b[39;00m np\u001b[38;5;241m.\u001b[39mnanmin(im) \u001b[38;5;241m>\u001b[39m\u001b[38;5;241m=\u001b[39m \u001b[38;5;241m0\u001b[39m\n\u001b[0;32m    107\u001b[0m \u001b[38;5;28;01massert\u001b[39;00m np\u001b[38;5;241m.\u001b[39mnanmax(im) \u001b[38;5;241m<\u001b[39m np\u001b[38;5;241m.\u001b[39mpower(\u001b[38;5;241m2.0\u001b[39m, bitdepth)\n",
      "\u001b[1;31mKeyboardInterrupt\u001b[0m: "
     ]
    }
   ],
   "source": [
    "kpms.generate_grid_movies(results_rescaled, coordinates=coordinates_rescaled, min_frequency=0.005,filter_size = 6,\n",
    "                        keypoints_only=True, fps=fps, use_dims=[0,1], pre=40, post=40, rows=3, cols=4, window_size=16*14, **config())"
   ]
  },
  {
   "cell_type": "markdown",
   "id": "05480ffa",
   "metadata": {},
   "source": [
    "## Syllable Dendrogram\n",
    "Plot a dendrogram representing distances between each syllable's median trajectory."
   ]
  },
  {
   "cell_type": "code",
   "execution_count": 13,
   "id": "87084b6d",
   "metadata": {},
   "outputs": [
    {
     "name": "stdout",
     "output_type": "stream",
     "text": [
      "Saving dendrogram plot to C:/Users/MyPC/Desktop/git/kp_moseq/keypoint-moseq/project/SDSBD/dataset5/trainset1/2024_01_04-13_41_21\\similarity_dendrogram\n"
     ]
    },
    {
     "data": {
      "image/png": "[encoded data removed]",
      "text/plain": [
       "<Figure size 600x300 with 1 Axes>"
      ]
     },
     "metadata": {},
     "output_type": "display_data"
    }
   ],
   "source": [
    "kpms.plot_similarity_dendrogram(coordinates, results, project_dir, model_name, min_frequency=0.005, **config())"
   ]
  }
 ],
 "metadata": {
  "kernelspec": {
   "display_name": "keypoint_moseq",
   "language": "python",
   "name": "keypoint_moseq"
  },
  "language_info": {
   "codemirror_mode": {
    "name": "ipython",
    "version": 3
   },
   "file_extension": ".py",
   "mimetype": "text/x-python",
   "name": "python",
   "nbconvert_exporter": "python",
   "pygments_lexer": "ipython3",
   "version": "3.9.18"
  },
  "varInspector": {
   "cols": {
    "lenName": 16,
    "lenType": 16,
    "lenVar": 40
   },
   "kernels_config": {
    "python": {
     "delete_cmd_postfix": "",
     "delete_cmd_prefix": "del ",
     "library": "var_list.py",
     "varRefreshCmd": "print(var_dic_list())"
    },
    "r": {
     "delete_cmd_postfix": ") ",
     "delete_cmd_prefix": "rm(",
     "library": "var_list.r",
     "varRefreshCmd": "cat(var_dic_list()) "
    }
   },
   "types_to_exclude": [
    "module",
    "function",
    "builtin_function_or_method",
    "instance",
    "_Feature"
   ],
   "window_display": false
  }
 },
 "nbformat": 4,
 "nbformat_minor": 5
}
